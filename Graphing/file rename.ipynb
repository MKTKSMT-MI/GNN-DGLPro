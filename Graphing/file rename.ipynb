{
 "cells": [
  {
   "cell_type": "code",
   "execution_count": 1,
   "metadata": {},
   "outputs": [],
   "source": [
    "import os"
   ]
  },
  {
   "cell_type": "code",
   "execution_count": 13,
   "metadata": {},
   "outputs": [
    {
     "name": "stdout",
     "output_type": "stream",
     "text": [
      "2007_005600.jpg のファイル名を 4_001.jpg に変更しました\n",
      "2008_007690.jpg のファイル名を 4_002.jpg に変更しました\n",
      "2008_001448.jpg のファイル名を 4_003.jpg に変更しました\n",
      "2009_003309.jpg のファイル名を 4_004.jpg に変更しました\n",
      "2008_005750.jpg のファイル名を 4_005.jpg に変更しました\n",
      "2009_002808.jpg のファイル名を 4_006.jpg に変更しました\n",
      "2010_004608.jpg のファイル名を 4_007.jpg に変更しました\n",
      "2011_000698.jpg のファイル名を 4_008.jpg に変更しました\n",
      "2010_004966.jpg のファイル名を 4_009.jpg に変更しました\n"
     ]
    }
   ],
   "source": [
    "\n",
    "folder_path = '../data/airplane/back/'  # 対象のフォルダパスを指定してください\n",
    "num = 1\n",
    "for filename in os.listdir(folder_path):\n",
    "    if filename.endswith('.jpg'):  # 拡張子に合わせて変更してください\n",
    "        original_path = os.path.join(folder_path, filename)\n",
    "        new_filename = f'4_{str(num).zfill(3)}.jpg'   # 先頭一文字を 'X' に変更する例\n",
    "        new_path = os.path.join(folder_path, new_filename)\n",
    "\n",
    "        os.rename(original_path, new_path)\n",
    "        print(f\"{filename} のファイル名を {new_filename} に変更しました\")\n",
    "        num+=1\n"
   ]
  },
  {
   "cell_type": "code",
   "execution_count": 2,
   "metadata": {},
   "outputs": [
    {
     "name": "stdout",
     "output_type": "stream",
     "text": [
      "001\n"
     ]
    }
   ],
   "source": [
    "a = 1\n",
    "print(str(a).zfill(3))"
   ]
  }
 ],
 "metadata": {
  "kernelspec": {
   "display_name": "DGL",
   "language": "python",
   "name": "python3"
  },
  "language_info": {
   "codemirror_mode": {
    "name": "ipython",
    "version": 3
   },
   "file_extension": ".py",
   "mimetype": "text/x-python",
   "name": "python",
   "nbconvert_exporter": "python",
   "pygments_lexer": "ipython3",
   "version": "3.10.13"
  }
 },
 "nbformat": 4,
 "nbformat_minor": 2
}
