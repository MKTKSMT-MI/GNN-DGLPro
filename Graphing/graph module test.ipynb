{
 "cells": [
  {
   "cell_type": "code",
   "execution_count": 35,
   "metadata": {},
   "outputs": [],
   "source": [
    "import dgl\n",
    "import torch\n",
    "import torch.nn as nn\n",
    "from dgl.nn import GINEConv,GATConv\n",
    "import numpy as np"
   ]
  },
  {
   "cell_type": "code",
   "execution_count": 66,
   "metadata": {},
   "outputs": [
    {
     "name": "stdout",
     "output_type": "stream",
     "text": [
      "torch.Size([3, 2])\n",
      "torch.Size([4])\n"
     ]
    }
   ],
   "source": [
    "g=dgl.graph(([0,1,2,1],\n",
    "             [1,2,1,0]))\n",
    "in_feat=2\n",
    "out_feat=2\n",
    "n_feat=torch.randn(g.num_nodes(),in_feat)\n",
    "e_feat=torch.randn(g.num_edges(),in_feat)\n",
    "print(n_feat.shape)\n",
    "print(e_feat.shape)"
   ]
  },
  {
   "cell_type": "code",
   "execution_count": 32,
   "metadata": {},
   "outputs": [
    {
     "name": "stdout",
     "output_type": "stream",
     "text": [
      "tensor([[ 0.5888, -0.8675,  0.4436],\n",
      "        [ 2.4353, -2.4259, -0.3092],\n",
      "        [ 0.2220, -2.3916,  1.8348]])\n",
      "tensor([[-0.4855,  0.0899, -1.2415],\n",
      "        [ 1.0146, -0.0956,  0.1709],\n",
      "        [ 0.9142,  0.9067, -0.5644],\n",
      "        [-0.8427,  1.1041,  1.7460]])\n",
      "tensor([[ 1.0899, -1.3193],\n",
      "        [ 0.1359, -1.3522],\n",
      "        [ 0.6151, -1.8083]], grad_fn=<AddmmBackward0>)\n"
     ]
    }
   ],
   "source": [
    "print(n_feat)\n",
    "print(e_feat)\n",
    "conv=GINEConv(nn.Linear(in_feat,out_feat))\n",
    "res=conv(g,n_feat,e_feat)\n",
    "print(res)"
   ]
  },
  {
   "cell_type": "code",
   "execution_count": 79,
   "metadata": {},
   "outputs": [],
   "source": [
    "a=torch.randn((10,10,3))\n",
    "b=torch.randn((10,10,3))\n",
    "c=a.detach()"
   ]
  },
  {
   "cell_type": "code",
   "execution_count": 81,
   "metadata": {},
   "outputs": [
    {
     "name": "stdout",
     "output_type": "stream",
     "text": [
      "-0.09277930855751038\n"
     ]
    }
   ],
   "source": [
    "cos=nn.CosineSimilarity(0)\n",
    "output=torch.cosine_similarity(a.flatten(),b.flatten(),dim=0)\n",
    "print(output.item())"
   ]
  },
  {
   "cell_type": "code",
   "execution_count": null,
   "metadata": {},
   "outputs": [],
   "source": [
    "g=dgl.graph(([0,1,2,1],\n",
    "             [1,2,1,0]))\n",
    "in_feat=2\n",
    "out_feat=2\n",
    "n_feat=torch.randn(g.num_nodes(),in_feat)\n",
    "e_feat=torch.randn(g.num_edges(),in_feat)"
   ]
  },
  {
   "cell_type": "code",
   "execution_count": 67,
   "metadata": {},
   "outputs": [],
   "source": [
    "gat1=GATConv(in_feat,10,2)\n",
    "pred=gat1(g,n_feat,e_feat,get_attention=True)"
   ]
  }
 ],
 "metadata": {
  "kernelspec": {
   "display_name": "Python 3.9.16 ('DGL3')",
   "language": "python",
   "name": "python3"
  },
  "language_info": {
   "codemirror_mode": {
    "name": "ipython",
    "version": 3
   },
   "file_extension": ".py",
   "mimetype": "text/x-python",
   "name": "python",
   "nbconvert_exporter": "python",
   "pygments_lexer": "ipython3",
   "version": "3.9.16"
  },
  "orig_nbformat": 4,
  "vscode": {
   "interpreter": {
    "hash": "5147baa6738c8601c86f10f91ce21f0cfb5115546dfcd9c150f74f2ab136cb30"
   }
  }
 },
 "nbformat": 4,
 "nbformat_minor": 2
}
