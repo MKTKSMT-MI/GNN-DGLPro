{
 "cells": [
  {
   "cell_type": "code",
   "execution_count": 23,
   "metadata": {},
   "outputs": [],
   "source": [
    "import dgl\n",
    "import torch\n",
    "import torch.nn as nn\n",
    "from dgl.nn import GINEConv\n",
    "import numpy as np"
   ]
  },
  {
   "cell_type": "code",
   "execution_count": 15,
   "metadata": {},
   "outputs": [],
   "source": [
    "g=dgl.graph(([0,1,2,1],\n",
    "             [1,2,1,0]))\n",
    "in_feat=3\n",
    "out_feat=2\n",
    "n_feat=torch.randn(g.num_nodes(),in_feat)\n",
    "e_feat=torch.randn(g.num_edges(),in_feat)"
   ]
  },
  {
   "cell_type": "code",
   "execution_count": 17,
   "metadata": {},
   "outputs": [
    {
     "name": "stdout",
     "output_type": "stream",
     "text": [
      "tensor([[ 0.7645, -1.0923,  0.3626],\n",
      "        [-0.2123,  1.4085, -1.1527],\n",
      "        [ 0.6988, -0.6517,  1.3276]])\n",
      "tensor([[-0.8593, -0.3838, -0.2183],\n",
      "        [-1.6036,  1.3587,  0.1783],\n",
      "        [-0.6317,  1.0664,  0.4102],\n",
      "        [ 0.4911, -0.0301,  1.0445]])\n",
      "tensor([[0.1455, 0.6236],\n",
      "        [0.3387, 0.3294],\n",
      "        [0.0392, 1.0487]], grad_fn=<AddmmBackward0>)\n"
     ]
    }
   ],
   "source": [
    "print(n_feat)\n",
    "print(e_feat)\n",
    "conv=GINEConv(nn.Linear(in_feat,out_feat))\n",
    "res=conv(g,n_feat,e_feat)\n",
    "print(res)"
   ]
  },
  {
   "cell_type": "code",
   "execution_count": 38,
   "metadata": {},
   "outputs": [],
   "source": [
    "a=torch.randn(10,10)\n",
    "b=torch.randn(10,10)\n",
    "c=a.detach()"
   ]
  },
  {
   "cell_type": "code",
   "execution_count": 39,
   "metadata": {},
   "outputs": [
    {
     "name": "stdout",
     "output_type": "stream",
     "text": [
      "tensor([ 0.1330,  0.3394, -0.2787, -0.3231, -0.2621,  0.3862, -0.1411,  0.5284,\n",
      "         0.2717, -0.1268])\n"
     ]
    }
   ],
   "source": [
    "cos=nn.CosineSimilarity()\n",
    "output=cos(a,b)\n",
    "print(output)"
   ]
  },
  {
   "cell_type": "code",
   "execution_count": 44,
   "metadata": {},
   "outputs": [
    {
     "data": {
      "text/plain": [
       "True"
      ]
     },
     "execution_count": 44,
     "metadata": {},
     "output_type": "execute_result"
    }
   ],
   "source": [
    "torch.backends.cudnn.enabled"
   ]
  }
 ],
 "metadata": {
  "kernelspec": {
   "display_name": "Python 3.9.16 ('DGL3')",
   "language": "python",
   "name": "python3"
  },
  "language_info": {
   "codemirror_mode": {
    "name": "ipython",
    "version": 3
   },
   "file_extension": ".py",
   "mimetype": "text/x-python",
   "name": "python",
   "nbconvert_exporter": "python",
   "pygments_lexer": "ipython3",
   "version": "3.9.16"
  },
  "orig_nbformat": 4,
  "vscode": {
   "interpreter": {
    "hash": "5147baa6738c8601c86f10f91ce21f0cfb5115546dfcd9c150f74f2ab136cb30"
   }
  }
 },
 "nbformat": 4,
 "nbformat_minor": 2
}
