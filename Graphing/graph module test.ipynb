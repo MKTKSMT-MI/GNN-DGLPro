{
 "cells": [
  {
   "cell_type": "code",
   "execution_count": 1,
   "metadata": {},
   "outputs": [],
   "source": [
    "import dgl\n",
    "import torch\n",
    "import torch.nn as nn\n",
    "from dgl.nn import GINEConv,GATConv\n",
    "import numpy as np\n",
    "import time\n",
    "from tqdm import tqdm"
   ]
  },
  {
   "cell_type": "code",
   "execution_count": 2,
   "metadata": {},
   "outputs": [
    {
     "name": "stdout",
     "output_type": "stream",
     "text": [
      "Files already downloaded and verified\n",
      "Files already downloaded and verified\n"
     ]
    }
   ],
   "source": [
    "from torchvision.datasets import STL10\n",
    "from torchvision import transforms\n",
    "\n",
    "target_size=(224,224)\n",
    "transform=transforms.Compose([\n",
    "    transforms.Resize(target_size),\n",
    "    transforms.ToTensor()\n",
    "])\n",
    "\n",
    "STL10_train = STL10(\"STL10\", split='train', download=True, transform=transform)\n",
    " \n",
    "STL10_test = STL10(\"STL10\", split='test', download=True, transform=transform)\n"
   ]
  },
  {
   "cell_type": "code",
   "execution_count": 10,
   "metadata": {},
   "outputs": [
    {
     "name": "stdout",
     "output_type": "stream",
     "text": [
      "cuda:0\n"
     ]
    }
   ],
   "source": [
    "device = torch.device('cuda:0' if torch.cuda.is_available() else 'cpu')\n",
    "print(device)"
   ]
  },
  {
   "cell_type": "code",
   "execution_count": 25,
   "metadata": {},
   "outputs": [
    {
     "name": "stdout",
     "output_type": "stream",
     "text": [
      "torch.Size([3, 1])\n",
      "torch.Size([4, 2])\n"
     ]
    }
   ],
   "source": [
    "g=dgl.graph(([0,1,2,1],\n",
    "             [1,2,1,0]))\n",
    "in_feat=2\n",
    "out_feat=2\n",
    "graphs=[]\n",
    "n_feat=torch.tensor([[1],[2],[3]])\n",
    "e_feat=torch.randn(g.num_edges(),in_feat)\n",
    "print(n_feat.shape)\n",
    "print(e_feat.shape)"
   ]
  },
  {
   "cell_type": "code",
   "execution_count": 30,
   "metadata": {},
   "outputs": [],
   "source": [
    "def get_nearest_neighbors(image, row, col):\n",
    "    # 画像の形状を取得\n",
    "    height, width = image.shape[:2]\n",
    "\n",
    "    # 注目画素の周囲8画素の座標を計算\n",
    "    neighbors_coords = [(row-1, col-1), (row-1, col), (row-1, col+1),\n",
    "                        (row, col-1), (row, col+1),\n",
    "                        (row+1, col-1), (row+1, col), (row+1, col+1)]\n",
    "\n",
    "    # 注目画素の最近傍画素の値を抜き出す\n",
    "    nearest_neighbors = []\n",
    "    for r, c in neighbors_coords:\n",
    "        # 座標が画像範囲内かチェック\n",
    "        if 0 <= r < height and 0 <= c < width:\n",
    "            pixel_value = image[r, c]\n",
    "            nearest_neighbors.append(pixel_value)\n",
    "        else:\n",
    "            # 画像範囲外の場合は0を追加するなど適切な処理を行う\n",
    "            #nearest_neighbors.append(0)\n",
    "            pass\n",
    "\n",
    "    return nearest_neighbors"
   ]
  },
  {
   "cell_type": "code",
   "execution_count": 21,
   "metadata": {},
   "outputs": [],
   "source": [
    "def image_patch(image,num_patch):\n",
    "    #画像サイズ\n",
    "    size=image.shape[1]\n",
    "    #1パッチ当たりの画素数\n",
    "    patch_width=int(size/num_patch)\n",
    "    #パッチ保存用配列\n",
    "    data=[]\n",
    "\n",
    "    for i in range(0,size,patch_width):\n",
    "        for j in range(0,size,patch_width):\n",
    "            data.append(image[:, i : i + patch_width, j : j + patch_width])\n",
    "    \n",
    "    return data"
   ]
  },
  {
   "cell_type": "code",
   "execution_count": 33,
   "metadata": {},
   "outputs": [],
   "source": [
    "def make_graph(side_length):\n",
    "    g=dgl.DGLGraph()\n",
    "    g.add_nodes(side_length**2)\n",
    "    square_list = np.arange(side_length**2).reshape((side_length, side_length))\n",
    "    #ノード番号に対応したインデックスを取得\n",
    "    inds=np.ndindex(square_list.shape)\n",
    "    inds=[idx for idx in inds]\n",
    "    #各ノードと最近傍ノード間にエッジを張る\n",
    "    for i in range(side_length**2):\n",
    "        x,y=inds[i]\n",
    "        flatt_nh=get_nearest_neighbors(square_list,x,y)\n",
    "        for j in flatt_nh:\n",
    "            if i == j:\n",
    "                continue\n",
    "            else:\n",
    "                g.add_edges(j,i)\n",
    "    return g"
   ]
  },
  {
   "cell_type": "code",
   "execution_count": 22,
   "metadata": {},
   "outputs": [
    {
     "name": "stderr",
     "output_type": "stream",
     "text": [
      "100%|██████████| 5000/5000 [00:04<00:00, 1090.97it/s]"
     ]
    },
    {
     "name": "stdout",
     "output_type": "stream",
     "text": [
      "4.585525751113892\n"
     ]
    },
    {
     "name": "stderr",
     "output_type": "stream",
     "text": [
      "\n"
     ]
    }
   ],
   "source": [
    "st=time.time()\n",
    "for image,label in tqdm(STL10_train):\n",
    "    n_feat=image_patch(image,8)\n",
    "print(time.time()-st)"
   ]
  },
  {
   "cell_type": "code",
   "execution_count": 24,
   "metadata": {},
   "outputs": [
    {
     "name": "stdout",
     "output_type": "stream",
     "text": [
      "64\n",
      "<class 'torch.Tensor'>\n"
     ]
    }
   ],
   "source": [
    "print(len(n_feat))\n",
    "print(type(n_feat[0]))"
   ]
  },
  {
   "cell_type": "code",
   "execution_count": 32,
   "metadata": {},
   "outputs": [
    {
     "name": "stdout",
     "output_type": "stream",
     "text": [
      "tensor([[ 0.5888, -0.8675,  0.4436],\n",
      "        [ 2.4353, -2.4259, -0.3092],\n",
      "        [ 0.2220, -2.3916,  1.8348]])\n",
      "tensor([[-0.4855,  0.0899, -1.2415],\n",
      "        [ 1.0146, -0.0956,  0.1709],\n",
      "        [ 0.9142,  0.9067, -0.5644],\n",
      "        [-0.8427,  1.1041,  1.7460]])\n",
      "tensor([[ 1.0899, -1.3193],\n",
      "        [ 0.1359, -1.3522],\n",
      "        [ 0.6151, -1.8083]], grad_fn=<AddmmBackward0>)\n"
     ]
    }
   ],
   "source": [
    "print(n_feat)\n",
    "print(e_feat)\n",
    "conv=GINEConv(nn.Linear(in_feat,out_feat))\n",
    "res=conv(g,n_feat,e_feat)\n",
    "print(res)"
   ]
  },
  {
   "cell_type": "code",
   "execution_count": 79,
   "metadata": {},
   "outputs": [],
   "source": [
    "a=torch.randn((10,10,3))\n",
    "b=torch.randn((10,10,3))\n",
    "c=a.detach()"
   ]
  },
  {
   "cell_type": "code",
   "execution_count": 81,
   "metadata": {},
   "outputs": [
    {
     "name": "stdout",
     "output_type": "stream",
     "text": [
      "-0.09277930855751038\n"
     ]
    }
   ],
   "source": [
    "cos=nn.CosineSimilarity(0)\n",
    "output=torch.cosine_similarity(a.flatten(),b.flatten(),dim=0)\n",
    "print(output.item())"
   ]
  },
  {
   "cell_type": "code",
   "execution_count": null,
   "metadata": {},
   "outputs": [],
   "source": [
    "g=dgl.graph(([0,1,2,1],\n",
    "             [1,2,1,0]))\n",
    "in_feat=2\n",
    "out_feat=2\n",
    "n_feat=torch.randn(g.num_nodes(),in_feat)\n",
    "e_feat=torch.randn(g.num_edges(),in_feat)"
   ]
  },
  {
   "cell_type": "code",
   "execution_count": 67,
   "metadata": {},
   "outputs": [],
   "source": [
    "gat1=GATConv(in_feat,10,2)\n",
    "pred=gat1(g,n_feat,e_feat,get_attention=True)"
   ]
  }
 ],
 "metadata": {
  "kernelspec": {
   "display_name": "Python 3.9.16 ('DGL3')",
   "language": "python",
   "name": "python3"
  },
  "language_info": {
   "codemirror_mode": {
    "name": "ipython",
    "version": 3
   },
   "file_extension": ".py",
   "mimetype": "text/x-python",
   "name": "python",
   "nbconvert_exporter": "python",
   "pygments_lexer": "ipython3",
   "version": "3.9.16"
  },
  "orig_nbformat": 4,
  "vscode": {
   "interpreter": {
    "hash": "5147baa6738c8601c86f10f91ce21f0cfb5115546dfcd9c150f74f2ab136cb30"
   }
  }
 },
 "nbformat": 4,
 "nbformat_minor": 2
}
