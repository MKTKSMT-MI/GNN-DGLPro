{
 "cells": [
  {
   "cell_type": "code",
   "execution_count": 1,
   "metadata": {},
   "outputs": [],
   "source": [
    "#Fiftyoneによるデータセットのダウンロード＆検証用ファイル"
   ]
  },
  {
   "cell_type": "code",
   "execution_count": 1,
   "metadata": {},
   "outputs": [],
   "source": [
    "import fiftyone.zoo as foz\n",
    "import fiftyone as fo\n",
    "import matplotlib.pyplot as plt"
   ]
  },
  {
   "cell_type": "code",
   "execution_count": 2,
   "metadata": {},
   "outputs": [],
   "source": [
    "classes=['Airplane','Bird','Car','Cat','Deer','Dog','Horse','Monkey','Boat','Truck']\n",
    "datasets=[]"
   ]
  },
  {
   "cell_type": "code",
   "execution_count": 3,
   "metadata": {},
   "outputs": [
    {
     "name": "stdout",
     "output_type": "stream",
     "text": [
      "Downloading split 'train' to 'C:\\Users\\kisim\\fiftyone\\open-images-v6\\train' if necessary\n"
     ]
    },
    {
     "name": "stdout",
     "output_type": "stream",
     "text": [
      "Necessary images already downloaded\n",
      "Existing download of split 'train' is sufficient\n",
      "Loading existing dataset 'OIV6Airplane'. To reload from disk, either delete the existing dataset or provide a custom `dataset_name` to use\n",
      "Downloading split 'train' to 'C:\\Users\\kisim\\fiftyone\\open-images-v6\\train' if necessary\n",
      "Necessary images already downloaded\n",
      "Existing download of split 'train' is sufficient\n",
      "Loading existing dataset 'OIV6Bird'. To reload from disk, either delete the existing dataset or provide a custom `dataset_name` to use\n",
      "Downloading split 'train' to 'C:\\Users\\kisim\\fiftyone\\open-images-v6\\train' if necessary\n",
      "Necessary images already downloaded\n",
      "Existing download of split 'train' is sufficient\n",
      "Loading existing dataset 'OIV6Car'. To reload from disk, either delete the existing dataset or provide a custom `dataset_name` to use\n",
      "Downloading split 'train' to 'C:\\Users\\kisim\\fiftyone\\open-images-v6\\train' if necessary\n",
      "Necessary images already downloaded\n",
      "Existing download of split 'train' is sufficient\n",
      "Loading existing dataset 'OIV6Cat'. To reload from disk, either delete the existing dataset or provide a custom `dataset_name` to use\n",
      "Downloading split 'train' to 'C:\\Users\\kisim\\fiftyone\\open-images-v6\\train' if necessary\n",
      "No segmentations exist for classes ['Deer']\n",
      "You can view the available segmentation classes via `get_segmentation_classes()`\n",
      "Only found 0 (<10) samples matching your requirements\n",
      "Necessary images already downloaded\n",
      "Existing download of split 'train' is sufficient\n",
      "Loading existing dataset 'OIV6Deer'. To reload from disk, either delete the existing dataset or provide a custom `dataset_name` to use\n",
      "Downloading split 'train' to 'C:\\Users\\kisim\\fiftyone\\open-images-v6\\train' if necessary\n",
      "Necessary images already downloaded\n",
      "Existing download of split 'train' is sufficient\n",
      "Loading existing dataset 'OIV6Dog'. To reload from disk, either delete the existing dataset or provide a custom `dataset_name` to use\n",
      "Downloading split 'train' to 'C:\\Users\\kisim\\fiftyone\\open-images-v6\\train' if necessary\n",
      "Necessary images already downloaded\n",
      "Existing download of split 'train' is sufficient\n",
      "Loading existing dataset 'OIV6Horse'. To reload from disk, either delete the existing dataset or provide a custom `dataset_name` to use\n",
      "Downloading split 'train' to 'C:\\Users\\kisim\\fiftyone\\open-images-v6\\train' if necessary\n",
      "Necessary images already downloaded\n",
      "Existing download of split 'train' is sufficient\n",
      "Loading existing dataset 'OIV6Monkey'. To reload from disk, either delete the existing dataset or provide a custom `dataset_name` to use\n",
      "Downloading split 'train' to 'C:\\Users\\kisim\\fiftyone\\open-images-v6\\train' if necessary\n",
      "No segmentations exist for classes ['Boat']\n",
      "You can view the available segmentation classes via `get_segmentation_classes()`\n",
      "Only found 0 (<10) samples matching your requirements\n",
      "Necessary images already downloaded\n",
      "Existing download of split 'train' is sufficient\n",
      "Loading existing dataset 'OIV6Boat'. To reload from disk, either delete the existing dataset or provide a custom `dataset_name` to use\n",
      "Downloading split 'train' to 'C:\\Users\\kisim\\fiftyone\\open-images-v6\\train' if necessary\n",
      "Necessary images already downloaded\n",
      "Existing download of split 'train' is sufficient\n",
      "Loading existing dataset 'OIV6Truck'. To reload from disk, either delete the existing dataset or provide a custom `dataset_name` to use\n"
     ]
    }
   ],
   "source": [
    "for cls in classes:\n",
    "    dataset=foz.load_zoo_dataset(\n",
    "        \"open-images-v6\",\n",
    "        split='train',\n",
    "        label_types=['segmentations'],\n",
    "        classes=[cls],\n",
    "        max_samples=10,\n",
    "        only_matching=True,\n",
    "        dataset_name=f'OIV6{cls}'\n",
    "    )\n",
    "    dataset.persistent=True\n",
    "    datasets.append(dataset)"
   ]
  },
  {
   "cell_type": "code",
   "execution_count": 24,
   "metadata": {},
   "outputs": [
    {
     "name": "stdout",
     "output_type": "stream",
     "text": [
      "Name:        OIV6Deer\n",
      "Media type:  None\n",
      "Num samples: 0\n",
      "Persistent:  True\n",
      "Tags:        []\n",
      "Sample fields:\n",
      "    id:           fiftyone.core.fields.ObjectIdField\n",
      "    filepath:     fiftyone.core.fields.StringField\n",
      "    tags:         fiftyone.core.fields.ListField(fiftyone.core.fields.StringField)\n",
      "    metadata:     fiftyone.core.fields.EmbeddedDocumentField(fiftyone.core.metadata.Metadata)\n",
      "    ground_truth: fiftyone.core.fields.EmbeddedDocumentField(fiftyone.core.labels.Detections)\n"
     ]
    }
   ],
   "source": [
    "print(datasets[4])"
   ]
  },
  {
   "cell_type": "code",
   "execution_count": 2,
   "metadata": {},
   "outputs": [
    {
     "name": "stdout",
     "output_type": "stream",
     "text": [
      "Downloading split 'train' to 'C:\\Users\\kisim\\fiftyone\\open-images-v6\\train' if necessary\n",
      "Necessary images already downloaded\n",
      "Existing download of split 'train' is sufficient\n",
      "Loading 'open-images-v6' split 'train'\n",
      " 100% |█████████████████████| 5/5 [193.4ms elapsed, 0s remaining, 26.1 samples/s]     \n",
      "Dataset 'OIV6-cat-dog' created\n",
      "Downloading split 'train' to 'C:\\Users\\kisim\\fiftyone\\open-images-v6\\train' if necessary\n",
      "Downloading 5 images\n",
      " 100% |███████████████████████| 5/5 [3.5s elapsed, 0s remaining, 1.4 files/s]      \n",
      "Dataset info written to 'C:\\Users\\kisim\\fiftyone\\open-images-v6\\info.json'\n",
      "Loading 'open-images-v6' split 'train'\n",
      " 100% |█████████████████████| 5/5 [285.1ms elapsed, 0s remaining, 17.5 samples/s]      \n",
      "Dataset 'dog-subset' created\n"
     ]
    }
   ],
   "source": [
    "dataset=foz.load_zoo_dataset(\n",
    "    \"open-images-v6\",\n",
    "    split='train',\n",
    "    label_types=['segmentations'],\n",
    "    classes=['Cat'],\n",
    "    max_samples=5,\n",
    "    only_matching=True,\n",
    "    dataset_name='OIV6-cat-dog'\n",
    ")\n",
    "\n",
    "sub_dataset=foz.load_zoo_dataset(\n",
    "    'open-images-v6',\n",
    "    split='train',\n",
    "    label_types=['segmentations'],\n",
    "    classes=['Dog'],\n",
    "    max_samples=5,\n",
    "    only_matching=True,\n",
    "    dataset_name='dog-subset'\n",
    ")"
   ]
  },
  {
   "cell_type": "code",
   "execution_count": 3,
   "metadata": {},
   "outputs": [],
   "source": [
    "dataset.merge_samples(sub_dataset)"
   ]
  },
  {
   "cell_type": "code",
   "execution_count": 4,
   "metadata": {},
   "outputs": [],
   "source": [
    "#dataset.name='OIDV6-CatDogs'\n",
    "dataset.persistent=True"
   ]
  },
  {
   "cell_type": "code",
   "execution_count": 25,
   "metadata": {},
   "outputs": [
    {
     "name": "stdout",
     "output_type": "stream",
     "text": [
      " 100% |███████████████████| 10/10 [116.3ms elapsed, 0s remaining, 86.0 samples/s]     \n",
      " 100% |███████████████████| 10/10 [98.0ms elapsed, 0s remaining, 102.0 samples/s] \n",
      " 100% |███████████████████| 10/10 [112.6ms elapsed, 0s remaining, 88.8 samples/s] \n",
      " 100% |█████████████████████| 5/5 [41.3ms elapsed, 0s remaining, 121.0 samples/s] \n",
      " 100% |█████████████████████| 0/0 [1.4ms elapsed, ? remaining, ? samples/s] \n",
      " 100% |█████████████████████| 5/5 [36.9ms elapsed, 0s remaining, 135.6 samples/s] \n",
      " 100% |███████████████████| 10/10 [117.0ms elapsed, 0s remaining, 85.5 samples/s]     \n",
      " 100% |███████████████████| 10/10 [105.8ms elapsed, 0s remaining, 94.5 samples/s] \n",
      " 100% |█████████████████████| 0/0 [1.4ms elapsed, ? remaining, ? samples/s] \n",
      " 100% |███████████████████| 10/10 [110.9ms elapsed, 0s remaining, 90.2 samples/s] \n"
     ]
    }
   ],
   "source": [
    "for i,dataset in enumerate(datasets):\n",
    "    dataset.export(export_dir=f'../data/OIV6/{classes[i]}',dataset_type=fo.types.ImageSegmentationDirectory,label_field='ground_truth')"
   ]
  },
  {
   "cell_type": "code",
   "execution_count": 7,
   "metadata": {},
   "outputs": [
    {
     "ename": "TypeError",
     "evalue": "Dataset type 'fiftyone.types.dataset_types.ImageSegmentationDataset' does not support exports",
     "output_type": "error",
     "traceback": [
      "\u001b[1;31m---------------------------------------------------------------------------\u001b[0m",
      "\u001b[1;31mTypeError\u001b[0m                                 Traceback (most recent call last)",
      "\u001b[1;32m~\\AppData\\Local\\Temp/ipykernel_4652/3644199023.py\u001b[0m in \u001b[0;36m<module>\u001b[1;34m\u001b[0m\n\u001b[1;32m----> 1\u001b[1;33m \u001b[0mdataset\u001b[0m\u001b[1;33m.\u001b[0m\u001b[0mexport\u001b[0m\u001b[1;33m(\u001b[0m\u001b[0mexport_dir\u001b[0m\u001b[1;33m=\u001b[0m\u001b[1;34m'../data/OIDV6-catdogs'\u001b[0m\u001b[1;33m,\u001b[0m\u001b[0mdataset_type\u001b[0m\u001b[1;33m=\u001b[0m\u001b[0mfo\u001b[0m\u001b[1;33m.\u001b[0m\u001b[0mtypes\u001b[0m\u001b[1;33m.\u001b[0m\u001b[0mImageSegmentationDataset\u001b[0m\u001b[1;33m,\u001b[0m\u001b[0mlabel_field\u001b[0m\u001b[1;33m=\u001b[0m\u001b[1;34m'ground_truth'\u001b[0m\u001b[1;33m)\u001b[0m\u001b[1;33m\u001b[0m\u001b[1;33m\u001b[0m\u001b[0m\n\u001b[0m",
      "\u001b[1;32mc:\\Users\\kisim\\anaconda3\\envs\\GNN_DGL\\lib\\site-packages\\fiftyone\\core\\collections.py\u001b[0m in \u001b[0;36mexport\u001b[1;34m(self, export_dir, dataset_type, data_path, labels_path, export_media, rel_dir, dataset_exporter, label_field, frame_labels_field, overwrite, **kwargs)\u001b[0m\n\u001b[0;32m   8112\u001b[0m \u001b[1;33m\u001b[0m\u001b[0m\n\u001b[0;32m   8113\u001b[0m         \u001b[1;31m# Perform the export\u001b[0m\u001b[1;33m\u001b[0m\u001b[1;33m\u001b[0m\u001b[1;33m\u001b[0m\u001b[0m\n\u001b[1;32m-> 8114\u001b[1;33m         _export(\n\u001b[0m\u001b[0;32m   8115\u001b[0m             \u001b[0mself\u001b[0m\u001b[1;33m,\u001b[0m\u001b[1;33m\u001b[0m\u001b[1;33m\u001b[0m\u001b[0m\n\u001b[0;32m   8116\u001b[0m             \u001b[0mexport_dir\u001b[0m\u001b[1;33m=\u001b[0m\u001b[0mexport_dir\u001b[0m\u001b[1;33m,\u001b[0m\u001b[1;33m\u001b[0m\u001b[1;33m\u001b[0m\u001b[0m\n",
      "\u001b[1;32mc:\\Users\\kisim\\anaconda3\\envs\\GNN_DGL\\lib\\site-packages\\fiftyone\\core\\collections.py\u001b[0m in \u001b[0;36m_export\u001b[1;34m(sample_collection, export_dir, dataset_type, data_path, labels_path, export_media, rel_dir, dataset_exporter, label_field, frame_labels_field, overwrite, **kwargs)\u001b[0m\n\u001b[0;32m  10612\u001b[0m     \u001b[1;31m# If no dataset exporter was provided, construct one\u001b[0m\u001b[1;33m\u001b[0m\u001b[1;33m\u001b[0m\u001b[1;33m\u001b[0m\u001b[0m\n\u001b[0;32m  10613\u001b[0m     \u001b[1;32mif\u001b[0m \u001b[0mdataset_exporter\u001b[0m \u001b[1;32mis\u001b[0m \u001b[1;32mNone\u001b[0m\u001b[1;33m:\u001b[0m\u001b[1;33m\u001b[0m\u001b[1;33m\u001b[0m\u001b[0m\n\u001b[1;32m> 10614\u001b[1;33m         dataset_exporter, kwargs = foud.build_dataset_exporter(\n\u001b[0m\u001b[0;32m  10615\u001b[0m             \u001b[0mdataset_type\u001b[0m\u001b[1;33m,\u001b[0m\u001b[1;33m\u001b[0m\u001b[1;33m\u001b[0m\u001b[0m\n\u001b[0;32m  10616\u001b[0m             \u001b[0mwarn_unused\u001b[0m\u001b[1;33m=\u001b[0m\u001b[1;32mFalse\u001b[0m\u001b[1;33m,\u001b[0m  \u001b[1;31m# don't warn yet, might be patches kwargs\u001b[0m\u001b[1;33m\u001b[0m\u001b[1;33m\u001b[0m\u001b[0m\n",
      "\u001b[1;32mc:\\Users\\kisim\\anaconda3\\envs\\GNN_DGL\\lib\\site-packages\\fiftyone\\utils\\data\\exporters.py\u001b[0m in \u001b[0;36mbuild_dataset_exporter\u001b[1;34m(dataset_type, strip_none, warn_unused, **kwargs)\u001b[0m\n\u001b[0;32m    474\u001b[0m         \u001b[0mdataset_type\u001b[0m \u001b[1;33m=\u001b[0m \u001b[0mdataset_type\u001b[0m\u001b[1;33m(\u001b[0m\u001b[1;33m)\u001b[0m\u001b[1;33m\u001b[0m\u001b[1;33m\u001b[0m\u001b[0m\n\u001b[0;32m    475\u001b[0m \u001b[1;33m\u001b[0m\u001b[0m\n\u001b[1;32m--> 476\u001b[1;33m     \u001b[0mdataset_exporter_cls\u001b[0m \u001b[1;33m=\u001b[0m \u001b[0mdataset_type\u001b[0m\u001b[1;33m.\u001b[0m\u001b[0mget_dataset_exporter_cls\u001b[0m\u001b[1;33m(\u001b[0m\u001b[1;33m)\u001b[0m\u001b[1;33m\u001b[0m\u001b[1;33m\u001b[0m\u001b[0m\n\u001b[0m\u001b[0;32m    477\u001b[0m \u001b[1;33m\u001b[0m\u001b[0m\n\u001b[0;32m    478\u001b[0m     \u001b[1;32mif\u001b[0m \u001b[0mstrip_none\u001b[0m\u001b[1;33m:\u001b[0m\u001b[1;33m\u001b[0m\u001b[1;33m\u001b[0m\u001b[0m\n",
      "\u001b[1;32mc:\\Users\\kisim\\anaconda3\\envs\\GNN_DGL\\lib\\site-packages\\fiftyone\\types\\dataset_types.py\u001b[0m in \u001b[0;36mget_dataset_exporter_cls\u001b[1;34m(self)\u001b[0m\n\u001b[0;32m    130\u001b[0m             \u001b[1;32mclass\u001b[0m\u001b[1;33m\u001b[0m\u001b[1;33m\u001b[0m\u001b[0m\n\u001b[0;32m    131\u001b[0m         \"\"\"\n\u001b[1;32m--> 132\u001b[1;33m         \u001b[1;32mreturn\u001b[0m \u001b[0msuper\u001b[0m\u001b[1;33m(\u001b[0m\u001b[1;33m)\u001b[0m\u001b[1;33m.\u001b[0m\u001b[0mget_dataset_exporter_cls\u001b[0m\u001b[1;33m(\u001b[0m\u001b[1;33m)\u001b[0m\u001b[1;33m\u001b[0m\u001b[1;33m\u001b[0m\u001b[0m\n\u001b[0m\u001b[0;32m    133\u001b[0m \u001b[1;33m\u001b[0m\u001b[0m\n\u001b[0;32m    134\u001b[0m \u001b[1;33m\u001b[0m\u001b[0m\n",
      "\u001b[1;32mc:\\Users\\kisim\\anaconda3\\envs\\GNN_DGL\\lib\\site-packages\\fiftyone\\types\\dataset_types.py\u001b[0m in \u001b[0;36mget_dataset_exporter_cls\u001b[1;34m(self)\u001b[0m\n\u001b[0;32m     31\u001b[0m             \u001b[0ma\u001b[0m \u001b[1;33m:\u001b[0m\u001b[1;32mclass\u001b[0m\u001b[1;33m:\u001b[0m\u001b[0;31m`\u001b[0m\u001b[0mfiftyone\u001b[0m\u001b[1;33m.\u001b[0m\u001b[0mutils\u001b[0m\u001b[1;33m.\u001b[0m\u001b[0mdata\u001b[0m\u001b[1;33m.\u001b[0m\u001b[0mexporters\u001b[0m\u001b[1;33m.\u001b[0m\u001b[0mDatasetExporter\u001b[0m\u001b[0;31m`\u001b[0m \u001b[1;32mclass\u001b[0m\u001b[1;33m\u001b[0m\u001b[1;33m\u001b[0m\u001b[0m\n\u001b[0;32m     32\u001b[0m         \"\"\"\n\u001b[1;32m---> 33\u001b[1;33m         raise TypeError(\n\u001b[0m\u001b[0;32m     34\u001b[0m             \u001b[1;34m\"Dataset type '%s' does not support exports\"\u001b[0m\u001b[1;33m\u001b[0m\u001b[1;33m\u001b[0m\u001b[0m\n\u001b[0;32m     35\u001b[0m             \u001b[1;33m%\u001b[0m \u001b[0metau\u001b[0m\u001b[1;33m.\u001b[0m\u001b[0mget_class_name\u001b[0m\u001b[1;33m(\u001b[0m\u001b[0mself\u001b[0m\u001b[1;33m)\u001b[0m\u001b[1;33m\u001b[0m\u001b[1;33m\u001b[0m\u001b[0m\n",
      "\u001b[1;31mTypeError\u001b[0m: Dataset type 'fiftyone.types.dataset_types.ImageSegmentationDataset' does not support exports"
     ]
    }
   ],
   "source": [
    "dataset.export(export_dir='../data/OIDV6-catdogs',dataset_type=fo.types.ImageSegmentationDataset,label_field='ground_truth')"
   ]
  },
  {
   "cell_type": "code",
   "execution_count": 5,
   "metadata": {},
   "outputs": [
    {
     "data": {
      "text/html": [
       "\n",
       "        <iframe\n",
       "            width=\"100%\"\n",
       "            height=\"800\"\n",
       "            src=\"http://localhost:5151/?notebook=True&subscription=01048120-7583-4520-867a-211fac4b5973\"\n",
       "            frameborder=\"0\"\n",
       "            allowfullscreen\n",
       "            \n",
       "        ></iframe>\n",
       "        "
      ],
      "text/plain": [
       "<IPython.lib.display.IFrame at 0x1b2c266fdf0>"
      ]
     },
     "metadata": {},
     "output_type": "display_data"
    }
   ],
   "source": [
    "session=fo.launch_app(dataset.view())"
   ]
  }
 ],
 "metadata": {
  "kernelspec": {
   "display_name": "GNN_DGL2",
   "language": "python",
   "name": "python3"
  },
  "language_info": {
   "codemirror_mode": {
    "name": "ipython",
    "version": 3
   },
   "file_extension": ".py",
   "mimetype": "text/x-python",
   "name": "python",
   "nbconvert_exporter": "python",
   "pygments_lexer": "ipython3",
   "version": "3.8.12"
  },
  "orig_nbformat": 4
 },
 "nbformat": 4,
 "nbformat_minor": 2
}
