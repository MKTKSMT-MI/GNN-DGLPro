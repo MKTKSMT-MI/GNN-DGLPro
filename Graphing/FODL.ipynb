{
 "cells": [
  {
   "cell_type": "code",
   "execution_count": 1,
   "metadata": {},
   "outputs": [],
   "source": [
    "#Fiftyoneによるデータセットのダウンロード＆検証用ファイル"
   ]
  },
  {
   "cell_type": "code",
   "execution_count": 1,
   "metadata": {},
   "outputs": [],
   "source": [
    "import fiftyone.zoo as foz\n",
    "import fiftyone as fo\n",
    "import matplotlib.pyplot as plt"
   ]
  },
  {
   "cell_type": "code",
   "execution_count": 21,
   "metadata": {},
   "outputs": [
    {
     "name": "stdout",
     "output_type": "stream",
     "text": [
      "Downloading split 'train' to 'C:\\Users\\kisim\\fiftyone\\open-images-v6\\train' if necessary\n",
      "Downloading 'https://storage.googleapis.com/openimages/v5/train-masks/train-masks-1.zip' to 'C:\\Users\\kisim\\fiftyone\\open-images-v6\\train\\labels\\masks\\1.zip'\n",
      "Found 30 images, downloading the remaining 470\n",
      " 100% |███████████████████| 470/470 [39.2s elapsed, 0s remaining, 2.8 files/s]       \n",
      "Dataset info written to 'C:\\Users\\kisim\\fiftyone\\open-images-v6\\info.json'\n",
      "Deleting existing dataset 'OIV6Cat'\n",
      "Loading 'open-images-v6' split 'train'\n",
      " 100% |█████████████████| 500/500 [11.4s elapsed, 0s remaining, 42.4 samples/s]      \n",
      "Dataset 'OIV6Cat' created\n",
      "Downloading split 'train' to 'C:\\Users\\kisim\\fiftyone\\open-images-v6\\train' if necessary\n",
      "Found 31 images, downloading the remaining 469\n",
      " 100% |███████████████████| 469/469 [41.8s elapsed, 0s remaining, 4.9 files/s]       \n",
      "Dataset info written to 'C:\\Users\\kisim\\fiftyone\\open-images-v6\\info.json'\n",
      "Deleting existing dataset 'OIV6Dog'\n",
      "Loading 'open-images-v6' split 'train'\n",
      " 100% |█████████████████| 500/500 [11.3s elapsed, 0s remaining, 45.7 samples/s]      \n",
      "Dataset 'OIV6Dog' created\n",
      "Downloading split 'train' to 'C:\\Users\\kisim\\fiftyone\\open-images-v6\\train' if necessary\n",
      "Found 38 images, downloading the remaining 462\n",
      " 100% |███████████████████| 462/462 [41.4s elapsed, 0s remaining, 4.9 files/s]       \n",
      "Dataset info written to 'C:\\Users\\kisim\\fiftyone\\open-images-v6\\info.json'\n",
      "Deleting existing dataset 'OIV6Car'\n",
      "Loading 'open-images-v6' split 'train'\n",
      " 100% |█████████████████| 500/500 [13.6s elapsed, 0s remaining, 35.8 samples/s]      \n",
      "Dataset 'OIV6Car' created\n",
      "Downloading split 'train' to 'C:\\Users\\kisim\\fiftyone\\open-images-v6\\train' if necessary\n",
      "Downloading 'https://storage.googleapis.com/openimages/v5/train-masks/train-masks-2.zip' to 'C:\\Users\\kisim\\fiftyone\\open-images-v6\\train\\labels\\masks\\2.zip'\n",
      "Downloading 'https://storage.googleapis.com/openimages/v5/train-masks/train-masks-3.zip' to 'C:\\Users\\kisim\\fiftyone\\open-images-v6\\train\\labels\\masks\\3.zip'\n",
      "Found 30 images, downloading the remaining 470\n",
      " 100% |███████████████████| 470/470 [47.6s elapsed, 0s remaining, 4.2 files/s]      \n",
      "Dataset info written to 'C:\\Users\\kisim\\fiftyone\\open-images-v6\\info.json'\n",
      "Deleting existing dataset 'OIV6Cattle'\n",
      "Loading 'open-images-v6' split 'train'\n",
      " 100% |█████████████████| 500/500 [19.3s elapsed, 0s remaining, 28.3 samples/s]      \n",
      "Dataset 'OIV6Cattle' created\n",
      "Downloading split 'train' to 'C:\\Users\\kisim\\fiftyone\\open-images-v6\\train' if necessary\n",
      "Found 30 images, downloading the remaining 470\n",
      " 100% |███████████████████| 470/470 [36.5s elapsed, 0s remaining, 4.1 files/s]       \n",
      "Dataset info written to 'C:\\Users\\kisim\\fiftyone\\open-images-v6\\info.json'\n",
      "Deleting existing dataset 'OIV6Airplane'\n",
      "Loading 'open-images-v6' split 'train'\n",
      " 100% |█████████████████| 500/500 [13.7s elapsed, 0s remaining, 38.9 samples/s]      \n",
      "Dataset 'OIV6Airplane' created\n",
      "Downloading split 'train' to 'C:\\Users\\kisim\\fiftyone\\open-images-v6\\train' if necessary\n",
      "Found 31 images, downloading the remaining 469\n",
      " 100% |███████████████████| 469/469 [38.9s elapsed, 0s remaining, 3.6 files/s]       \n",
      "Dataset info written to 'C:\\Users\\kisim\\fiftyone\\open-images-v6\\info.json'\n",
      "Deleting existing dataset 'OIV6Bus'\n",
      "Loading 'open-images-v6' split 'train'\n",
      " 100% |█████████████████| 500/500 [12.2s elapsed, 0s remaining, 38.9 samples/s]      \n",
      "Dataset 'OIV6Bus' created\n",
      "Downloading split 'train' to 'C:\\Users\\kisim\\fiftyone\\open-images-v6\\train' if necessary\n",
      "Downloading 'https://storage.googleapis.com/openimages/v5/train-masks/train-masks-7.zip' to 'C:\\Users\\kisim\\fiftyone\\open-images-v6\\train\\labels\\masks\\7.zip'\n",
      "Downloading 'https://storage.googleapis.com/openimages/v5/train-masks/train-masks-6.zip' to 'C:\\Users\\kisim\\fiftyone\\open-images-v6\\train\\labels\\masks\\6.zip'\n",
      "Downloading 'https://storage.googleapis.com/openimages/v5/train-masks/train-masks-4.zip' to 'C:\\Users\\kisim\\fiftyone\\open-images-v6\\train\\labels\\masks\\4.zip'\n",
      "Downloading 'https://storage.googleapis.com/openimages/v5/train-masks/train-masks-5.zip' to 'C:\\Users\\kisim\\fiftyone\\open-images-v6\\train\\labels\\masks\\5.zip'\n",
      "Found 30 images, downloading the remaining 470\n",
      " 100% |███████████████████| 470/470 [40.0s elapsed, 0s remaining, 7.3 files/s]       \n",
      "Dataset info written to 'C:\\Users\\kisim\\fiftyone\\open-images-v6\\info.json'\n",
      "Deleting existing dataset 'OIV6Monkey'\n",
      "Loading 'open-images-v6' split 'train'\n",
      " 100% |█████████████████| 500/500 [12.6s elapsed, 0s remaining, 42.9 samples/s]      \n",
      "Dataset 'OIV6Monkey' created\n",
      "Downloading split 'train' to 'C:\\Users\\kisim\\fiftyone\\open-images-v6\\train' if necessary\n",
      "Found 31 images, downloading the remaining 469\n",
      " 100% |███████████████████| 469/469 [40.2s elapsed, 0s remaining, 2.7 files/s]       \n",
      "Dataset info written to 'C:\\Users\\kisim\\fiftyone\\open-images-v6\\info.json'\n",
      "Deleting existing dataset 'OIV6Train'\n",
      "Loading 'open-images-v6' split 'train'\n",
      " 100% |█████████████████| 500/500 [11.8s elapsed, 0s remaining, 42.1 samples/s]      \n",
      "Dataset 'OIV6Train' created\n",
      "Downloading split 'train' to 'C:\\Users\\kisim\\fiftyone\\open-images-v6\\train' if necessary\n",
      "Found 31 images, downloading the remaining 469\n",
      " 100% |███████████████████| 469/469 [40.8s elapsed, 0s remaining, 4.9 files/s]       \n",
      "Dataset info written to 'C:\\Users\\kisim\\fiftyone\\open-images-v6\\info.json'\n",
      "Deleting existing dataset 'OIV6Bird'\n",
      "Loading 'open-images-v6' split 'train'\n",
      " 100% |█████████████████| 500/500 [13.1s elapsed, 0s remaining, 34.4 samples/s]      \n",
      "Dataset 'OIV6Bird' created\n",
      "Downloading split 'train' to 'C:\\Users\\kisim\\fiftyone\\open-images-v6\\train' if necessary\n",
      "Only found 489 (<500) samples matching your requirements\n",
      "Downloading 'https://storage.googleapis.com/openimages/v5/train-masks/train-masks-c.zip' to 'C:\\Users\\kisim\\fiftyone\\open-images-v6\\train\\labels\\masks\\C.zip'\n",
      "Downloading 'https://storage.googleapis.com/openimages/v5/train-masks/train-masks-d.zip' to 'C:\\Users\\kisim\\fiftyone\\open-images-v6\\train\\labels\\masks\\D.zip'\n",
      "Downloading 'https://storage.googleapis.com/openimages/v5/train-masks/train-masks-a.zip' to 'C:\\Users\\kisim\\fiftyone\\open-images-v6\\train\\labels\\masks\\A.zip'\n",
      "Downloading 'https://storage.googleapis.com/openimages/v5/train-masks/train-masks-e.zip' to 'C:\\Users\\kisim\\fiftyone\\open-images-v6\\train\\labels\\masks\\E.zip'\n",
      "Downloading 'https://storage.googleapis.com/openimages/v5/train-masks/train-masks-b.zip' to 'C:\\Users\\kisim\\fiftyone\\open-images-v6\\train\\labels\\masks\\B.zip'\n",
      "Downloading 'https://storage.googleapis.com/openimages/v5/train-masks/train-masks-9.zip' to 'C:\\Users\\kisim\\fiftyone\\open-images-v6\\train\\labels\\masks\\9.zip'\n",
      "Downloading 'https://storage.googleapis.com/openimages/v5/train-masks/train-masks-f.zip' to 'C:\\Users\\kisim\\fiftyone\\open-images-v6\\train\\labels\\masks\\F.zip'\n",
      "Downloading 'https://storage.googleapis.com/openimages/v5/train-masks/train-masks-8.zip' to 'C:\\Users\\kisim\\fiftyone\\open-images-v6\\train\\labels\\masks\\8.zip'\n",
      "Found 30 images, downloading the remaining 459\n",
      " 100% |███████████████████| 459/459 [38.9s elapsed, 0s remaining, 3.6 files/s]      \n",
      "Dataset info written to 'C:\\Users\\kisim\\fiftyone\\open-images-v6\\info.json'\n",
      "Deleting existing dataset 'OIV6Frog'\n",
      "Loading 'open-images-v6' split 'train'\n",
      " 100% |█████████████████| 489/489 [11.1s elapsed, 0s remaining, 43.7 samples/s]      \n",
      "Dataset 'OIV6Frog' created\n"
     ]
    }
   ],
   "source": [
    "classes=['Cat','Dog','Car','Cattle','Airplane','Bus','Monkey','Train','Bird','Frog']\n",
    "datasets=[]\n",
    "for cls in classes:\n",
    "    dataset=foz.load_zoo_dataset(\n",
    "        \"open-images-v6\",\n",
    "        split='train',\n",
    "        label_types=['segmentations'],\n",
    "        classes=[cls],\n",
    "        max_samples=500,\n",
    "        only_matching=True,\n",
    "        dataset_name=f'OIV6{cls}',\n",
    "        drop_existing_dataset=True\n",
    "    )\n",
    "    dataset.persistent=True\n",
    "    datasets.append(dataset)"
   ]
  },
  {
   "cell_type": "code",
   "execution_count": 23,
   "metadata": {},
   "outputs": [
    {
     "name": "stdout",
     "output_type": "stream",
     "text": [
      "Name:        OIV6Frog\n",
      "Media type:  image\n",
      "Num samples: 489\n",
      "Persistent:  True\n",
      "Tags:        []\n",
      "Sample fields:\n",
      "    id:           fiftyone.core.fields.ObjectIdField\n",
      "    filepath:     fiftyone.core.fields.StringField\n",
      "    tags:         fiftyone.core.fields.ListField(fiftyone.core.fields.StringField)\n",
      "    metadata:     fiftyone.core.fields.EmbeddedDocumentField(fiftyone.core.metadata.ImageMetadata)\n",
      "    ground_truth: fiftyone.core.fields.EmbeddedDocumentField(fiftyone.core.labels.Detections)\n"
     ]
    }
   ],
   "source": [
    "print(datasets[9])"
   ]
  },
  {
   "cell_type": "code",
   "execution_count": 2,
   "metadata": {},
   "outputs": [
    {
     "name": "stdout",
     "output_type": "stream",
     "text": [
      "Downloading split 'train' to 'C:\\Users\\kisim\\fiftyone\\open-images-v6\\train' if necessary\n",
      "Necessary images already downloaded\n",
      "Existing download of split 'train' is sufficient\n",
      "Loading 'open-images-v6' split 'train'\n",
      " 100% |█████████████████████| 5/5 [193.4ms elapsed, 0s remaining, 26.1 samples/s]     \n",
      "Dataset 'OIV6-cat-dog' created\n",
      "Downloading split 'train' to 'C:\\Users\\kisim\\fiftyone\\open-images-v6\\train' if necessary\n",
      "Downloading 5 images\n",
      " 100% |███████████████████████| 5/5 [3.5s elapsed, 0s remaining, 1.4 files/s]      \n",
      "Dataset info written to 'C:\\Users\\kisim\\fiftyone\\open-images-v6\\info.json'\n",
      "Loading 'open-images-v6' split 'train'\n",
      " 100% |█████████████████████| 5/5 [285.1ms elapsed, 0s remaining, 17.5 samples/s]      \n",
      "Dataset 'dog-subset' created\n"
     ]
    }
   ],
   "source": [
    "dataset=foz.load_zoo_dataset(\n",
    "    \"open-images-v6\",\n",
    "    split='train',\n",
    "    label_types=['segmentations'],\n",
    "    classes=['Cat'],\n",
    "    max_samples=5,\n",
    "    only_matching=True,\n",
    "    dataset_name='OIV6-cat-dog'\n",
    ")\n",
    "\n",
    "sub_dataset=foz.load_zoo_dataset(\n",
    "    'open-images-v6',\n",
    "    split='train',\n",
    "    label_types=['segmentations'],\n",
    "    classes=['Dog'],\n",
    "    max_samples=5,\n",
    "    only_matching=True,\n",
    "    dataset_name='dog-subset'\n",
    ")"
   ]
  },
  {
   "cell_type": "code",
   "execution_count": 3,
   "metadata": {},
   "outputs": [],
   "source": [
    "dataset.merge_samples(sub_dataset)"
   ]
  },
  {
   "cell_type": "code",
   "execution_count": 4,
   "metadata": {},
   "outputs": [],
   "source": [
    "#dataset.name='OIDV6-CatDogs'\n",
    "dataset.persistent=True"
   ]
  },
  {
   "cell_type": "code",
   "execution_count": 22,
   "metadata": {},
   "outputs": [
    {
     "name": "stdout",
     "output_type": "stream",
     "text": [
      "Directory '../data/OIV6/Cat' already exists; export will be merged with existing files\n"
     ]
    },
    {
     "name": "stdout",
     "output_type": "stream",
     "text": [
      " 100% |█████████████████| 500/500 [5.5s elapsed, 0s remaining, 96.5 samples/s]       \n",
      "Directory '../data/OIV6/Dog' already exists; export will be merged with existing files\n",
      " 100% |█████████████████| 500/500 [4.8s elapsed, 0s remaining, 97.8 samples/s]       \n",
      "Directory '../data/OIV6/Car' already exists; export will be merged with existing files\n",
      " 100% |█████████████████| 500/500 [4.9s elapsed, 0s remaining, 110.9 samples/s]      \n",
      "Directory '../data/OIV6/Cattle' already exists; export will be merged with existing files\n",
      " 100% |█████████████████| 500/500 [4.4s elapsed, 0s remaining, 116.1 samples/s]      \n",
      "Directory '../data/OIV6/Airplane' already exists; export will be merged with existing files\n",
      " 100% |█████████████████| 500/500 [5.5s elapsed, 0s remaining, 113.6 samples/s]      \n",
      "Directory '../data/OIV6/Bus' already exists; export will be merged with existing files\n",
      " 100% |█████████████████| 500/500 [4.8s elapsed, 0s remaining, 105.4 samples/s]      \n",
      "Directory '../data/OIV6/Monkey' already exists; export will be merged with existing files\n",
      " 100% |█████████████████| 500/500 [5.6s elapsed, 0s remaining, 108.3 samples/s]      \n",
      "Directory '../data/OIV6/Train' already exists; export will be merged with existing files\n",
      " 100% |█████████████████| 500/500 [4.6s elapsed, 0s remaining, 102.7 samples/s]      \n",
      "Directory '../data/OIV6/Bird' already exists; export will be merged with existing files\n",
      " 100% |█████████████████| 500/500 [5.8s elapsed, 0s remaining, 93.4 samples/s]       \n",
      "Directory '../data/OIV6/Frog' already exists; export will be merged with existing files\n",
      " 100% |█████████████████| 489/489 [4.3s elapsed, 0s remaining, 124.6 samples/s]      \n"
     ]
    }
   ],
   "source": [
    "for i,dataset in enumerate(datasets):\n",
    "    dataset.persistent=True\n",
    "    dataset.export(export_dir=f'../data/OIV6/{classes[i]}',dataset_type=fo.types.ImageSegmentationDirectory,label_field='ground_truth')"
   ]
  },
  {
   "cell_type": "code",
   "execution_count": 5,
   "metadata": {},
   "outputs": [
    {
     "data": {
      "text/html": [
       "\n",
       "        <iframe\n",
       "            width=\"100%\"\n",
       "            height=\"800\"\n",
       "            src=\"http://localhost:5151/?notebook=True&subscription=01048120-7583-4520-867a-211fac4b5973\"\n",
       "            frameborder=\"0\"\n",
       "            allowfullscreen\n",
       "            \n",
       "        ></iframe>\n",
       "        "
      ],
      "text/plain": [
       "<IPython.lib.display.IFrame at 0x1b2c266fdf0>"
      ]
     },
     "metadata": {},
     "output_type": "display_data"
    }
   ],
   "source": [
    "session=fo.launch_app(dataset.view())"
   ]
  }
 ],
 "metadata": {
  "kernelspec": {
   "display_name": "GNN_DGL2",
   "language": "python",
   "name": "python3"
  },
  "language_info": {
   "codemirror_mode": {
    "name": "ipython",
    "version": 3
   },
   "file_extension": ".py",
   "mimetype": "text/x-python",
   "name": "python",
   "nbconvert_exporter": "python",
   "pygments_lexer": "ipython3",
   "version": "3.8.12"
  },
  "orig_nbformat": 4
 },
 "nbformat": 4,
 "nbformat_minor": 2
}
