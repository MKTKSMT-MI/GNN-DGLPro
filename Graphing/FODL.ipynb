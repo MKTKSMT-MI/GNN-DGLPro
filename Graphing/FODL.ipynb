{
 "cells": [
  {
   "cell_type": "code",
   "execution_count": 1,
   "metadata": {},
   "outputs": [],
   "source": [
    "#Fiftyoneによるデータセットのダウンロード＆検証用ファイル"
   ]
  },
  {
   "cell_type": "code",
   "execution_count": 2,
   "metadata": {},
   "outputs": [],
   "source": [
    "import fiftyone.zoo as foz\n",
    "import fiftyone as fo\n",
    "import matplotlib.pyplot as plt"
   ]
  },
  {
   "cell_type": "code",
   "execution_count": 4,
   "metadata": {},
   "outputs": [
    {
     "name": "stdout",
     "output_type": "stream",
     "text": [
      "Downloading split 'train' to 'C:\\Users\\kisim\\fiftyone\\open-images-v6\\train' if necessary\n",
      "Downloading 'https://storage.googleapis.com/openimages/2018_04/train/train-images-boxable-with-rotation.csv' to 'C:\\Users\\kisim\\fiftyone\\open-images-v6\\train\\metadata\\image_ids.csv'\n",
      " 100% |██████|    4.8Gb/4.8Gb [45.5s elapsed, 0s remaining, 110.6Mb/s]      \n",
      "Downloading 'https://storage.googleapis.com/openimages/v5/class-descriptions-boxable.csv' to 'C:\\Users\\kisim\\fiftyone\\open-images-v6\\train\\metadata\\classes.csv'\n",
      "Downloading 'https://storage.googleapis.com/openimages/v5/classes-segmentation.txt' to 'C:\\Users\\kisim\\fiftyone\\open-images-v6\\train\\metadata\\segmentation_classes.csv'\n",
      "Downloading 'https://storage.googleapis.com/openimages/2018_04/bbox_labels_600_hierarchy.json' to 'C:\\Users\\kisim\\AppData\\Local\\Temp\\tmpm01ouny5\\metadata\\hierarchy.json'\n",
      "Downloading 'https://storage.googleapis.com/openimages/v5/train-annotations-object-segmentation.csv' to 'C:\\Users\\kisim\\fiftyone\\open-images-v6\\train\\labels\\segmentations.csv'\n",
      "Downloading 'https://storage.googleapis.com/openimages/v5/train-masks/train-masks-0.zip' to 'C:\\Users\\kisim\\fiftyone\\open-images-v6\\train\\labels\\masks\\0.zip'\n",
      "Downloading 5 images\n",
      " 100% |███████████████████████| 5/5 [5.4s elapsed, 0s remaining, 0.9 files/s]      \n",
      "Dataset info written to 'C:\\Users\\kisim\\fiftyone\\open-images-v6\\info.json'\n",
      "Loading 'open-images-v6' split 'train'\n",
      " 100% |█████████████████████| 5/5 [343.0ms elapsed, 0s remaining, 14.6 samples/s]      \n",
      "Dataset 'open-images-v6-train-5' created\n"
     ]
    }
   ],
   "source": [
    "dataset=foz.load_zoo_dataset(\n",
    "    \"open-images-v6\",\n",
    "    split='train',\n",
    "    label_types=['segmentations'],\n",
    "    classes=['Cat'],\n",
    "    max_samples=5,\n",
    "    only_matching=True\n",
    ")"
   ]
  },
  {
   "cell_type": "code",
   "execution_count": 5,
   "metadata": {},
   "outputs": [],
   "source": [
    "dataset.name='OIDV6-Cat'\n",
    "dataset.persistent=True"
   ]
  },
  {
   "cell_type": "code",
   "execution_count": 10,
   "metadata": {},
   "outputs": [
    {
     "name": "stdout",
     "output_type": "stream",
     "text": [
      "Directory '../data/OIDV6-cat' already exists; export will be merged with existing files\n",
      " 100% |█████████████████████| 5/5 [85.5ms elapsed, 0s remaining, 58.5 samples/s] \n"
     ]
    }
   ],
   "source": [
    "dataset.export(export_dir='../data/OIDV6-cat',dataset_type=fo.types.ImageSegmentationDirectory,label_field='ground_truth')"
   ]
  },
  {
   "cell_type": "code",
   "execution_count": 8,
   "metadata": {},
   "outputs": [
    {
     "data": {
      "text/html": [
       "\n",
       "        <iframe\n",
       "            width=\"100%\"\n",
       "            height=\"800\"\n",
       "            src=\"http://localhost:5151/?notebook=True&subscription=312e06c4-3d41-4855-adce-a31cccf3fbcf\"\n",
       "            frameborder=\"0\"\n",
       "            allowfullscreen\n",
       "            \n",
       "        ></iframe>\n",
       "        "
      ],
      "text/plain": [
       "<IPython.lib.display.IFrame at 0x2b6c3562c10>"
      ]
     },
     "metadata": {},
     "output_type": "display_data"
    },
    {
     "name": "stdout",
     "output_type": "stream",
     "text": [
      "\n",
      "Welcome to\n",
      "\n",
      "███████╗██╗███████╗████████╗██╗   ██╗ ██████╗ ███╗   ██╗███████╗\n",
      "██╔════╝██║██╔════╝╚══██╔══╝╚██╗ ██╔╝██╔═══██╗████╗  ██║██╔════╝\n",
      "█████╗  ██║█████╗     ██║    ╚████╔╝ ██║   ██║██╔██╗ ██║█████╗\n",
      "██╔══╝  ██║██╔══╝     ██║     ╚██╔╝  ██║   ██║██║╚██╗██║██╔══╝\n",
      "██║     ██║██║        ██║      ██║   ╚██████╔╝██║ ╚████║███████╗\n",
      "╚═╝     ╚═╝╚═╝        ╚═╝      ╚═╝    ╚═════╝ ╚═╝  ╚═══╝╚══════╝ v0.21.4\n",
      "\n",
      "If you're finding FiftyOne helpful, here's how you can get involved:\n",
      "\n",
      "|\n",
      "|  ⭐⭐⭐ Give the project a star on GitHub ⭐⭐⭐\n",
      "|  https://github.com/voxel51/fiftyone\n",
      "|\n",
      "|  🚀🚀🚀 Join the FiftyOne Slack community 🚀🚀🚀\n",
      "|  https://slack.voxel51.com\n",
      "|\n",
      "\n"
     ]
    }
   ],
   "source": [
    "session=fo.launch_app(dataset.view())"
   ]
  }
 ],
 "metadata": {
  "kernelspec": {
   "display_name": "GNN_DGL2",
   "language": "python",
   "name": "python3"
  },
  "language_info": {
   "codemirror_mode": {
    "name": "ipython",
    "version": 3
   },
   "file_extension": ".py",
   "mimetype": "text/x-python",
   "name": "python",
   "nbconvert_exporter": "python",
   "pygments_lexer": "ipython3",
   "version": "3.8.12"
  },
  "orig_nbformat": 4
 },
 "nbformat": 4,
 "nbformat_minor": 2
}
