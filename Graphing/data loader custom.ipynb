{
 "cells": [
  {
   "cell_type": "code",
   "execution_count": 1,
   "metadata": {},
   "outputs": [
    {
     "name": "stderr",
     "output_type": "stream",
     "text": [
      "Using backend: pytorch\n"
     ]
    }
   ],
   "source": [
    "import numpy as np\n",
    "import matplotlib.pyplot as plt\n",
    "import torch\n",
    "import time\n",
    "import random\n",
    "import cv2\n",
    "from tqdm import tqdm\n",
    "import dgl\n",
    "import networkx as nx\n",
    "from torch.utils.data import DataLoader\n",
    "from torchvision.datasets import STL10\n",
    "from torchvision import transforms\n",
    "import torchvision.transforms.functional as F"
   ]
  },
  {
   "cell_type": "code",
   "execution_count": 2,
   "metadata": {},
   "outputs": [
    {
     "name": "stdout",
     "output_type": "stream",
     "text": [
      "Files already downloaded and verified\n",
      "Files already downloaded and verified\n"
     ]
    }
   ],
   "source": [
    "target_size=(224,224)\n",
    "transform=transforms.Compose([\n",
    "    transforms.ToTensor(),\n",
    "    transforms.Grayscale(1)\n",
    "])\n",
    "\n",
    "STL10_train = STL10(\"STL10\", split='train', download=True, transform=transform)\n",
    " \n",
    "STL10_test = STL10(\"STL10\", split='test', download=True, transform=transform)\n"
   ]
  },
  {
   "cell_type": "code",
   "execution_count": 8,
   "metadata": {},
   "outputs": [],
   "source": [
    "traindataloader = DataLoader(dataset=STL10_train,batch_size=512,shuffle=True)"
   ]
  },
  {
   "cell_type": "code",
   "execution_count": 6,
   "metadata": {},
   "outputs": [],
   "source": [
    "def img2graph(images):\n",
    "    G_nx=nx.complete_graph(64)\n",
    "    num_graphs=images.shape[0]\n",
    "    graphs=[]\n",
    "    for _ in range(num_graphs):\n",
    "        node_feat=torch.randn(64,20)\n",
    "        g=dgl.from_networkx(G_nx.copy())\n",
    "        g.ndata['f']=node_feat\n",
    "        graphs.append(g)\n",
    "    bg=dgl.batch(graphs)\n",
    "    return bg"
   ]
  },
  {
   "cell_type": "code",
   "execution_count": 10,
   "metadata": {},
   "outputs": [
    {
     "name": "stdout",
     "output_type": "stream",
     "text": [
      "Graph(num_nodes=32768, num_edges=2064384,\n",
      "      ndata_schemes={'f': Scheme(shape=(20,), dtype=torch.float32)}\n",
      "      edata_schemes={})\n",
      "Graph(num_nodes=32768, num_edges=2064384,\n",
      "      ndata_schemes={'f': Scheme(shape=(20,), dtype=torch.float32)}\n",
      "      edata_schemes={})\n",
      "Graph(num_nodes=32768, num_edges=2064384,\n",
      "      ndata_schemes={'f': Scheme(shape=(20,), dtype=torch.float32)}\n",
      "      edata_schemes={})\n",
      "Graph(num_nodes=32768, num_edges=2064384,\n",
      "      ndata_schemes={'f': Scheme(shape=(20,), dtype=torch.float32)}\n",
      "      edata_schemes={})\n",
      "Graph(num_nodes=32768, num_edges=2064384,\n",
      "      ndata_schemes={'f': Scheme(shape=(20,), dtype=torch.float32)}\n",
      "      edata_schemes={})\n",
      "Graph(num_nodes=32768, num_edges=2064384,\n",
      "      ndata_schemes={'f': Scheme(shape=(20,), dtype=torch.float32)}\n",
      "      edata_schemes={})\n",
      "Graph(num_nodes=32768, num_edges=2064384,\n",
      "      ndata_schemes={'f': Scheme(shape=(20,), dtype=torch.float32)}\n",
      "      edata_schemes={})\n",
      "Graph(num_nodes=32768, num_edges=2064384,\n",
      "      ndata_schemes={'f': Scheme(shape=(20,), dtype=torch.float32)}\n",
      "      edata_schemes={})\n",
      "Graph(num_nodes=32768, num_edges=2064384,\n",
      "      ndata_schemes={'f': Scheme(shape=(20,), dtype=torch.float32)}\n",
      "      edata_schemes={})\n",
      "Graph(num_nodes=25088, num_edges=1580544,\n",
      "      ndata_schemes={'f': Scheme(shape=(20,), dtype=torch.float32)}\n",
      "      edata_schemes={})\n"
     ]
    }
   ],
   "source": [
    "i=0\n",
    "for image,label in traindataloader:\n",
    "    batched_graph=img2graph(image)\n",
    "    print(batched_graph)\n",
    "    if i >10:\n",
    "        break\n",
    "    else:\n",
    "        i+=1"
   ]
  }
 ],
 "metadata": {
  "kernelspec": {
   "display_name": "Python 3.8.13 ('GDW')",
   "language": "python",
   "name": "python3"
  },
  "language_info": {
   "codemirror_mode": {
    "name": "ipython",
    "version": 3
   },
   "file_extension": ".py",
   "mimetype": "text/x-python",
   "name": "python",
   "nbconvert_exporter": "python",
   "pygments_lexer": "ipython3",
   "version": "3.8.10"
  },
  "orig_nbformat": 4,
  "vscode": {
   "interpreter": {
    "hash": "9512f24219e729098bc0f30caa9285407db90c80b780d5e3a7fd78ad6fa2427c"
   }
  }
 },
 "nbformat": 4,
 "nbformat_minor": 2
}
