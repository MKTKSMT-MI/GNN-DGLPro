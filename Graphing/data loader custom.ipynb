{
 "cells": [
  {
   "cell_type": "code",
   "execution_count": 1,
   "metadata": {},
   "outputs": [],
   "source": [
    "import numpy as np\n",
    "import matplotlib.pyplot as plt\n",
    "import torch\n",
    "import time\n",
    "import random\n",
    "import cv2\n",
    "from tqdm import tqdm\n",
    "import dgl\n",
    "import networkx as nx\n",
    "from torch.utils.data import DataLoader\n",
    "from torchvision.datasets import STL10\n",
    "from torchvision import transforms\n",
    "import torchvision.transforms.functional as F"
   ]
  },
  {
   "cell_type": "code",
   "execution_count": 2,
   "metadata": {},
   "outputs": [
    {
     "name": "stdout",
     "output_type": "stream",
     "text": [
      "Files already downloaded and verified\n",
      "Files already downloaded and verified\n"
     ]
    }
   ],
   "source": [
    "target_size=(224,224)\n",
    "transform=transforms.Compose([\n",
    "    transforms.ToTensor(),\n",
    "    transforms.Grayscale(1)\n",
    "])\n",
    "\n",
    "STL10_train = STL10(\"STL10\", split='train', download=True, transform=transform)\n",
    " \n",
    "STL10_test = STL10(\"STL10\", split='test', download=True, transform=transform)\n"
   ]
  },
  {
   "cell_type": "code",
   "execution_count": 3,
   "metadata": {},
   "outputs": [],
   "source": [
    "traindataloader = DataLoader(dataset=STL10_train,batch_size=512,shuffle=True)"
   ]
  },
  {
   "cell_type": "code",
   "execution_count": 12,
   "metadata": {},
   "outputs": [],
   "source": [
    "def img2graph(images,src,dst):\n",
    "    batch_size=images.shape[0]\n",
    "    feat=torch.randn(64*batch_size,20)\n",
    "    batched_graph=dgl.batch([dgl.graph((src,dst)) for _ in range(batch_size)])\n",
    "    batched_graph.ndata['f']=feat\n",
    "    return batched_graph"
   ]
  },
  {
   "cell_type": "code",
   "execution_count": 23,
   "metadata": {},
   "outputs": [
    {
     "name": "stderr",
     "output_type": "stream",
     "text": [
      " 10%|█         | 1/10 [00:00<00:04,  1.82it/s]"
     ]
    },
    {
     "name": "stdout",
     "output_type": "stream",
     "text": [
      "Graph(num_nodes=32768, num_edges=1032192,\n",
      "      ndata_schemes={'f': Scheme(shape=(20,), dtype=torch.float32)}\n",
      "      edata_schemes={})\n"
     ]
    },
    {
     "name": "stderr",
     "output_type": "stream",
     "text": [
      " 20%|██        | 2/10 [00:01<00:04,  1.97it/s]"
     ]
    },
    {
     "name": "stdout",
     "output_type": "stream",
     "text": [
      "Graph(num_nodes=32768, num_edges=1032192,\n",
      "      ndata_schemes={'f': Scheme(shape=(20,), dtype=torch.float32)}\n",
      "      edata_schemes={})\n"
     ]
    },
    {
     "name": "stderr",
     "output_type": "stream",
     "text": [
      " 30%|███       | 3/10 [00:01<00:03,  2.07it/s]"
     ]
    },
    {
     "name": "stdout",
     "output_type": "stream",
     "text": [
      "Graph(num_nodes=32768, num_edges=1032192,\n",
      "      ndata_schemes={'f': Scheme(shape=(20,), dtype=torch.float32)}\n",
      "      edata_schemes={})\n"
     ]
    },
    {
     "name": "stderr",
     "output_type": "stream",
     "text": [
      " 40%|████      | 4/10 [00:01<00:02,  2.10it/s]"
     ]
    },
    {
     "name": "stdout",
     "output_type": "stream",
     "text": [
      "Graph(num_nodes=32768, num_edges=1032192,\n",
      "      ndata_schemes={'f': Scheme(shape=(20,), dtype=torch.float32)}\n",
      "      edata_schemes={})\n"
     ]
    },
    {
     "name": "stderr",
     "output_type": "stream",
     "text": [
      " 50%|█████     | 5/10 [00:02<00:02,  2.11it/s]"
     ]
    },
    {
     "name": "stdout",
     "output_type": "stream",
     "text": [
      "Graph(num_nodes=32768, num_edges=1032192,\n",
      "      ndata_schemes={'f': Scheme(shape=(20,), dtype=torch.float32)}\n",
      "      edata_schemes={})\n"
     ]
    },
    {
     "name": "stderr",
     "output_type": "stream",
     "text": [
      " 60%|██████    | 6/10 [00:02<00:01,  2.09it/s]"
     ]
    },
    {
     "name": "stdout",
     "output_type": "stream",
     "text": [
      "Graph(num_nodes=32768, num_edges=1032192,\n",
      "      ndata_schemes={'f': Scheme(shape=(20,), dtype=torch.float32)}\n",
      "      edata_schemes={})\n"
     ]
    },
    {
     "name": "stderr",
     "output_type": "stream",
     "text": [
      " 70%|███████   | 7/10 [00:03<00:01,  2.12it/s]"
     ]
    },
    {
     "name": "stdout",
     "output_type": "stream",
     "text": [
      "Graph(num_nodes=32768, num_edges=1032192,\n",
      "      ndata_schemes={'f': Scheme(shape=(20,), dtype=torch.float32)}\n",
      "      edata_schemes={})\n"
     ]
    },
    {
     "name": "stderr",
     "output_type": "stream",
     "text": [
      " 80%|████████  | 8/10 [00:03<00:00,  2.09it/s]"
     ]
    },
    {
     "name": "stdout",
     "output_type": "stream",
     "text": [
      "Graph(num_nodes=32768, num_edges=1032192,\n",
      "      ndata_schemes={'f': Scheme(shape=(20,), dtype=torch.float32)}\n",
      "      edata_schemes={})\n"
     ]
    },
    {
     "name": "stderr",
     "output_type": "stream",
     "text": [
      " 90%|█████████ | 9/10 [00:04<00:00,  2.11it/s]"
     ]
    },
    {
     "name": "stdout",
     "output_type": "stream",
     "text": [
      "Graph(num_nodes=32768, num_edges=1032192,\n",
      "      ndata_schemes={'f': Scheme(shape=(20,), dtype=torch.float32)}\n",
      "      edata_schemes={})\n"
     ]
    },
    {
     "name": "stderr",
     "output_type": "stream",
     "text": [
      "100%|██████████| 10/10 [00:04<00:00,  2.13it/s]"
     ]
    },
    {
     "name": "stdout",
     "output_type": "stream",
     "text": [
      "Graph(num_nodes=25088, num_edges=790272,\n",
      "      ndata_schemes={'f': Scheme(shape=(20,), dtype=torch.float32)}\n",
      "      edata_schemes={})\n"
     ]
    },
    {
     "name": "stderr",
     "output_type": "stream",
     "text": [
      "\n"
     ]
    }
   ],
   "source": [
    "num_nodes=64\n",
    "edges=[]\n",
    "for i in range(num_nodes):\n",
    "    for j in range(i+1,num_nodes):\n",
    "        edges.append((i,j))\n",
    "src,dst=zip(*edges)\n",
    "i=0\n",
    "for image,label in tqdm(traindataloader):\n",
    "    batched_graph=img2graph(image,src,dst)\n",
    "    print(batched_graph)\n",
    "    if i >10:\n",
    "        break\n",
    "    else:\n",
    "        i+=1"
   ]
  },
  {
   "cell_type": "code",
   "execution_count": 22,
   "metadata": {},
   "outputs": [
    {
     "name": "stdout",
     "output_type": "stream",
     "text": [
      "tensor([[-0.2925,  0.7780, -0.7220,  ...,  0.8578,  1.5112,  1.3529],\n",
      "        [ 0.2372, -0.7503,  0.6306,  ..., -0.1219,  0.5920,  0.8099],\n",
      "        [-1.6906, -0.2938,  1.0100,  ...,  1.5666,  0.1007,  1.5992],\n",
      "        ...,\n",
      "        [ 1.7643, -0.3768,  0.1625,  ..., -0.2730,  1.4288, -0.5064],\n",
      "        [ 1.0031,  1.0597, -0.8883,  ..., -1.3622, -2.6505, -0.0920],\n",
      "        [ 0.7545, -0.5298, -1.0411,  ..., -0.8429, -1.8383, -0.0259]])\n"
     ]
    }
   ],
   "source": [
    "print(batched_graph.ndata['f'])"
   ]
  }
 ],
 "metadata": {
  "kernelspec": {
   "display_name": "Python 3.8.13 ('GDW')",
   "language": "python",
   "name": "python3"
  },
  "language_info": {
   "codemirror_mode": {
    "name": "ipython",
    "version": 3
   },
   "file_extension": ".py",
   "mimetype": "text/x-python",
   "name": "python",
   "nbconvert_exporter": "python",
   "pygments_lexer": "ipython3",
   "version": "3.8.12"
  },
  "orig_nbformat": 4,
  "vscode": {
   "interpreter": {
    "hash": "9512f24219e729098bc0f30caa9285407db90c80b780d5e3a7fd78ad6fa2427c"
   }
  }
 },
 "nbformat": 4,
 "nbformat_minor": 2
}
