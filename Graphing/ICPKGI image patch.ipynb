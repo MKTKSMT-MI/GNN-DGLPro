{
 "cells": [
  {
   "cell_type": "code",
   "execution_count": 1,
   "metadata": {},
   "outputs": [],
   "source": [
    "from torchvision.io import read_image\n",
    "import numpy as np\n",
    "import matplotlib.pyplot as plt\n",
    "import torch\n",
    "import time\n",
    "from tqdm import tqdm\n",
    "import dgl\n",
    "import networkx as nx\n",
    "from torchvision import transforms\n",
    "import torchvision.transforms.functional as F\n",
    "import os\n",
    "import glob\n",
    "from PIL import Image"
   ]
  },
  {
   "cell_type": "code",
   "execution_count": 2,
   "metadata": {},
   "outputs": [],
   "source": [
    "target_size=(256,256)\n",
    "transform=transforms.Compose([\n",
    "    transforms.ToTensor(),\n",
    "    transforms.Resize(target_size),\n",
    "    transforms.Grayscale()\n",
    "])"
   ]
  },
  {
   "cell_type": "code",
   "execution_count": 4,
   "metadata": {},
   "outputs": [
    {
     "name": "stdout",
     "output_type": "stream",
     "text": [
      "546\n",
      "[4, 4, 4, 4, 4, 4, 4, 4, 4, 4, 4, 4, 4, 4, 4, 4, 4, 4, 4, 4, 4, 4, 4, 4, 4, 4, 4, 4, 4, 4, 4, 4, 4, 4, 4, 4, 4, 4, 4, 4, 4, 4, 4, 4, 4, 4, 4, 4, 4, 4, 4, 4, 4, 4, 4, 4, 4, 4, 4, 4, 4, 4, 4, 4, 4, 4, 4, 4, 4, 4, 4, 4, 4, 4, 4, 4, 4, 4, 4, 4, 4, 4, 4, 4, 4, 4, 4, 4, 4, 4, 4, 4, 4, 4, 4, 4, 4, 4, 4, 4, 4, 4, 4, 4, 4, 4, 4, 4, 4, 4, 4, 4, 4, 4, 4, 4, 4, 4, 4, 4, 4, 4, 4, 4, 4, 4, 4, 4, 4, 4, 4, 4, 4, 4, 4, 4, 4, 4, 4, 4, 4, 4, 4, 4, 4, 4, 4, 4, 4, 4, 4, 4, 4, 4, 4, 4, 4, 4, 4, 4, 4, 4, 4, 4, 4, 4, 4, 4, 4, 4, 4, 4, 4, 4, 4, 4, 4, 4, 4, 4, 4, 4, 4, 4, 4, 4, 4, 4, 4, 4, 4, 4, 4, 4, 4, 4, 4, 4, 4, 4, 4, 4, 4, 4, 4, 4, 4, 4, 4, 4, 4, 4, 4, 4, 4, 4, 4, 4, 4, 4, 4, 4, 4, 4, 4, 4, 4, 4, 4, 4, 4, 4, 4, 4, 4, 4, 4, 4, 4, 4, 4, 4, 4, 4, 4, 4, 4, 4, 4, 4, 4, 4, 4, 4, 4, 4, 4, 4, 4, 4, 4, 4, 4, 4, 4, 4, 4, 4, 4, 4, 4, 4, 4, 4, 4, 4, 4, 4, 4, 4, 4, 4, 4, 4, 4, 4, 4, 4, 4, 4, 4, 4, 4, 4, 4, 4, 4, 4, 4, 4, 4, 4, 4, 4, 4, 4, 4, 4, 4, 4, 4, 4, 4, 4, 4, 4, 4, 4, 4, 4, 4, 4, 4, 4, 4, 4, 4, 4, 4, 4, 4, 4, 4, 4, 4, 4, 4, 4, 4, 4, 4, 4, 4, 4, 4, 4, 4, 4, 4, 4, 4, 4, 4, 4, 4, 4, 4, 4, 4, 4, 4, 4, 4, 4, 4, 4, 4, 4, 4, 4, 4, 4, 4, 4, 4, 4, 4, 4, 4, 4, 4, 4, 4, 4, 4, 4, 4, 4, 4, 4, 4, 4, 4, 4, 4, 4, 4, 4, 4, 4, 4, 4, 4, 4, 4, 4, 4, 4, 4, 4, 4, 4, 4, 4, 4, 4, 4, 4, 4, 4, 4, 4, 4, 4, 4, 4, 4, 4, 4, 4, 4, 4, 4, 4, 4, 4, 4, 4, 4, 4, 4, 4, 4, 4, 4, 4, 4, 4, 4, 4, 4, 4, 4, 4, 4, 4, 4, 4, 4, 4, 4, 4, 4, 4, 4, 4, 4, 4, 4, 4, 4, 4, 4, 4, 4, 4, 4, 4, 4, 4, 4, 4, 4, 4, 4, 4, 4, 4, 4, 4, 4, 4, 4, 4, 4, 4, 4, 4, 4, 4, 4, 4, 4, 4, 4, 4, 4, 4, 4, 4, 4, 4, 4, 4, 4, 4, 4, 4, 4, 4, 4, 4, 4, 4, 4, 4, 4, 4, 4, 4, 4, 4, 4, 4, 4, 4, 4, 4, 4, 4, 4, 4, 4, 4, 4, 4]\n"
     ]
    }
   ],
   "source": [
    "# フォルダのパスを指定\n",
    "folder_path = '../data/sub/car/back/*'  # フォルダのパスを適切に設定してください\n",
    "\n",
    "# フォルダ内のファイル名を取得\n",
    "file_names = glob.glob(folder_path)\n",
    "print(len(file_names))\n",
    "_labels=[]\n",
    "# 取得したファイル名を表示\n",
    "for file_name in file_names:\n",
    "    _labels.append(int(file_name[-9]))\n",
    "print(_labels)"
   ]
  },
  {
   "cell_type": "code",
   "execution_count": 25,
   "metadata": {},
   "outputs": [
    {
     "name": "stdout",
     "output_type": "stream",
     "text": [
      "../data/car/**/*\n",
      "../data/bus/**/*\n",
      "../data/airplane/**/*\n",
      "1939\n",
      "1939\n",
      "693\n"
     ]
    },
    {
     "data": {
      "text/plain": [
       "\"\\n# フォルダのパスを指定\\nfolder_path = '../data/airplane/**/*'  # フォルダのパスを適切に設定してください\\n\\n# フォルダ内のファイル名を取得\\nfile_names = glob.glob(folder_path)\\nprint(file_names)\""
      ]
     },
     "execution_count": 25,
     "metadata": {},
     "output_type": "execute_result"
    }
   ],
   "source": [
    "object_names=['car','bus','airplane']\n",
    "data_file_names = []\n",
    "labels = []\n",
    "for i,object_name in enumerate(object_names):\n",
    "    folder_path = f'../data/{object_name}/**/*'\n",
    "    print(folder_path)\n",
    "    file_names = glob.glob(folder_path)\n",
    "    data_file_names.extend(file_names)\n",
    "    labels.extend([i]*len(file_names))\n",
    "\n",
    "print(len(data_file_names))\n",
    "print(len(labels))\n",
    "'''\n",
    "# フォルダのパスを指定\n",
    "folder_path = '../data/airplane/**/*'  # フォルダのパスを適切に設定してください\n",
    "\n",
    "# フォルダ内のファイル名を取得\n",
    "file_names = glob.glob(folder_path)\n",
    "print(file_names)'''"
   ]
  },
  {
   "cell_type": "code",
   "execution_count": 6,
   "metadata": {},
   "outputs": [],
   "source": [
    "def get_nearest_neighbors(image, row, col): #最近傍ノード番号の取得\n",
    "    # 画像の形状を取得\n",
    "    height, width = image.shape[:2]\n",
    "\n",
    "    # 注目画素の周囲8画素の座標を計算\n",
    "    neighbors_coords = [(row-1, col-1), (row-1, col), (row-1, col+1),\n",
    "                        (row, col-1), (row, col+1),\n",
    "                        (row+1, col-1), (row+1, col), (row+1, col+1)]\n",
    "\n",
    "    # 注目画素の最近傍画素の値を抜き出す\n",
    "    nearest_neighbors = []\n",
    "    for r, c in neighbors_coords:\n",
    "        # 座標が画像範囲内かチェック\n",
    "        if 0 <= r < height and 0 <= c < width:\n",
    "            pixel_value = image[r, c]\n",
    "            nearest_neighbors.append(pixel_value)\n",
    "        else:\n",
    "            # 画像範囲外の場合は0を追加するなど適切な処理を行う\n",
    "            #nearest_neighbors.append(0)\n",
    "            pass\n",
    "\n",
    "    return nearest_neighbors\n",
    "def make_graph(side_length): #パッチ数分のグラフを作成\n",
    "    g=dgl.DGLGraph()\n",
    "    g.add_nodes(side_length**2)\n",
    "    square_list = np.arange(side_length**2).reshape((side_length, side_length))\n",
    "    #ノード番号に対応したインデックスを取得\n",
    "    inds=np.ndindex(square_list.shape)\n",
    "    inds=[idx for idx in inds]\n",
    "    #各ノードと最近傍ノード間にエッジを張る\n",
    "    for i in range(side_length**2):\n",
    "        x,y=inds[i]\n",
    "        flatt_nh=get_nearest_neighbors(square_list,x,y)\n",
    "        for j in flatt_nh:\n",
    "            if i == j:\n",
    "                continue\n",
    "            else:\n",
    "                g.add_edges(j,i)\n",
    "    return g\n",
    "def image_patch(image,num_patch):\n",
    "    #画像サイズ\n",
    "    size=image.shape[1]\n",
    "    #1パッチ当たりの画素数\n",
    "    patch_width=int(size/num_patch)\n",
    "    #パッチ保存用配列\n",
    "    data=[]\n",
    "\n",
    "    for i in range(0,size,patch_width):\n",
    "        for j in range(0,size,patch_width):\n",
    "            data.append(image[:, i : i + patch_width, j : j + patch_width])\n",
    "    \n",
    "    return torch.stack(data,dim=0)"
   ]
  },
  {
   "cell_type": "code",
   "execution_count": 9,
   "metadata": {},
   "outputs": [
    {
     "name": "stderr",
     "output_type": "stream",
     "text": [
      "693it [01:06, 10.49it/s]\n"
     ]
    }
   ],
   "source": [
    "#パッチ数\n",
    "num_patch=8\n",
    "\n",
    "#トレーニングデータセット\n",
    "graphs=[]\n",
    "labels=[]\n",
    "test_mode=False\n",
    "complete_graph=False\n",
    "test_mumber=100\n",
    "\n",
    "\n",
    "for image,label in tqdm(zip(file_names,_labels)):\n",
    "    if test_mode == True:\n",
    "        if test_mumber < 0:\n",
    "            break\n",
    "        else:\n",
    "            test_mumber -= 1\n",
    "    image=transform(Image.open(image))\n",
    "    #画像をパッチに分割\n",
    "    n_feat=image_patch(image,num_patch)\n",
    "    #グラフ作成\n",
    "    if complete_graph:\n",
    "        g=nx.complete_graph(num_patch**2)\n",
    "        G=dgl.from_networkx(g)\n",
    "        G.ndata['f']=n_feat\n",
    "    else:\n",
    "        G=make_graph(num_patch)\n",
    "        #グラフにノード特徴 'f' としてパッチ画像を入力\n",
    "        G.ndata['f']=n_feat\n",
    "\n",
    "    #graphsにグラフ labelsにラベルを代入\n",
    "    graphs.append(G)\n",
    "    labels.append(label)\n",
    "\n",
    "#グラフの保存\n",
    "output_labels={'label':torch.tensor(labels)}\n",
    "path=f'../data/ICPKGI/{num_patch}patch_gray_airplane.dgl'\n",
    "dgl.save_graphs(path,g_list=graphs,labels=output_labels)\n",
    "\n"
   ]
  }
 ],
 "metadata": {
  "kernelspec": {
   "display_name": "DGL",
   "language": "python",
   "name": "python3"
  },
  "language_info": {
   "codemirror_mode": {
    "name": "ipython",
    "version": 3
   },
   "file_extension": ".py",
   "mimetype": "text/x-python",
   "name": "python",
   "nbconvert_exporter": "python",
   "pygments_lexer": "ipython3",
   "version": "3.10.13"
  }
 },
 "nbformat": 4,
 "nbformat_minor": 2
}
