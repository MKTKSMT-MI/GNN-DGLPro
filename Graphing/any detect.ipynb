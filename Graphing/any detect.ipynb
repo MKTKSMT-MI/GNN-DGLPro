{
 "cells": [
  {
   "cell_type": "code",
   "execution_count": 5,
   "metadata": {},
   "outputs": [
    {
     "name": "stdout",
     "output_type": "stream",
     "text": [
      "Files already downloaded and verified\n",
      "Files already downloaded and verified\n"
     ]
    }
   ],
   "source": [
    "import numpy as np\n",
    "import matplotlib.pyplot as plt\n",
    "import torch\n",
    "import time\n",
    "import random\n",
    "import cv2\n",
    "from tqdm import tqdm\n",
    "import dgl\n",
    "import networkx as nx\n",
    "from torchvision.datasets import STL10\n",
    "from torchvision import transforms\n",
    " \n",
    "STL10_train = STL10(\"STL10\", split='train', download=True)\n",
    " \n",
    "STL10_test = STL10(\"STL10\", split='test', download=True, transform=transforms.ToTensor())\n"
   ]
  },
  {
   "cell_type": "code",
   "execution_count": 2,
   "metadata": {},
   "outputs": [
    {
     "name": "stdout",
     "output_type": "stream",
     "text": [
      "cuda:0\n"
     ]
    }
   ],
   "source": [
    "device = torch.device('cuda:0' if torch.cuda.is_available() else 'cpu')\n",
    "print(device)"
   ]
  },
  {
   "cell_type": "code",
   "execution_count": 14,
   "metadata": {},
   "outputs": [],
   "source": [
    "akaze=cv2.AKAZE_create()\n",
    "sift=cv2.SIFT_create()\n",
    "detect_dict={'akaze':{'time':0,'ave':0,'max':0,'min':0},\n",
    "             'sift':{'time':0,'ave':0,'max':0,'min':0}}\n"
   ]
  },
  {
   "cell_type": "code",
   "execution_count": 27,
   "metadata": {},
   "outputs": [],
   "source": [
    "#akaze\n",
    "kps=[]\n",
    "dess=[]\n",
    "imgs=[]\n",
    "for i,j in STL10_train:\n",
    "    img = np.array(i)\n",
    "    #img=cv2.cvtColor(img,cv2.COLOR_RGB2GRAY)\n",
    "    img=cv2.resize(img,(512,512),interpolation=cv2.INTER_LANCZOS4)\n",
    "    imgs.append(img)\n"
   ]
  },
  {
   "cell_type": "code",
   "execution_count": 28,
   "metadata": {},
   "outputs": [],
   "source": [
    "\n",
    "start=time.time()\n",
    "for i in imgs:\n",
    "    img = np.array(i)\n",
    "    #img=cv2.cvtColor(img,cv2.COLOR_RGB2GRAY)\n",
    "    img=cv2.resize(img,(512,512),interpolation=cv2.INTER_LANCZOS4)\n",
    "    kp,des=akaze.detectAndCompute(img,None)\n",
    "\n",
    "    try:\n",
    "        kps.append(len(kp))\n",
    "        dess.append(len(des))\n",
    "    except:\n",
    "        kps.append(0)\n",
    "        dess.append(0)\n",
    "\n",
    "detect_dict['akaze']['time']=time.time() - start\n",
    "detect_dict['akaze']['ave']=sum(kps)/len(kps)\n",
    "detect_dict['akaze']['max']=max(kps)\n",
    "detect_dict['akaze']['min']=min(kps)"
   ]
  },
  {
   "cell_type": "code",
   "execution_count": 29,
   "metadata": {},
   "outputs": [
    {
     "name": "stdout",
     "output_type": "stream",
     "text": [
      "{'time': 82.5682635307312, 'ave': 491.8908, 'max': 2065, 'min': 1}\n",
      "{'time': 0, 'ave': 0, 'max': 0, 'min': 0}\n"
     ]
    }
   ],
   "source": [
    "print(detect_dict['akaze'])\n",
    "print(detect_dict['sift'])"
   ]
  }
 ],
 "metadata": {
  "kernelspec": {
   "display_name": "Python 3.8.10 ('DGL')",
   "language": "python",
   "name": "python3"
  },
  "language_info": {
   "codemirror_mode": {
    "name": "ipython",
    "version": 3
   },
   "file_extension": ".py",
   "mimetype": "text/x-python",
   "name": "python",
   "nbconvert_exporter": "python",
   "pygments_lexer": "ipython3",
   "version": "3.8.10"
  },
  "orig_nbformat": 4,
  "vscode": {
   "interpreter": {
    "hash": "2b3aaad6f4b476a25b1278d44df95c159668e2b4a4f54834857505f20d9767c1"
   }
  }
 },
 "nbformat": 4,
 "nbformat_minor": 2
}
