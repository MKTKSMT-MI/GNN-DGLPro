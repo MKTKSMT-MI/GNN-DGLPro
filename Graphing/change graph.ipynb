{
 "cells": [
  {
   "cell_type": "code",
   "execution_count": 15,
   "metadata": {},
   "outputs": [],
   "source": [
    "import dgl\n",
    "from dgl.data import DGLDataset\n",
    "import torch\n",
    "import torchvision\n",
    "import torch.nn as nn\n",
    "import torch.nn.functional as F\n",
    "from dgl.nn import GraphConv,MaxPooling\n",
    "import matplotlib.pyplot as plt\n",
    "from tqdm import tqdm\n",
    "import numpy as np\n",
    "import time\n",
    "from dgl.dataloading import GraphDataLoader\n",
    "from torch.utils.data.sampler import SubsetRandomSampler\n",
    "import os\n",
    "import pandas\n",
    "import networkx as nx\n",
    "%matplotlib inline"
   ]
  },
  {
   "cell_type": "code",
   "execution_count": 2,
   "metadata": {},
   "outputs": [],
   "source": [
    "class CIFAR10TrainDataset(DGLDataset):\n",
    "    def __init__(self,data_path):\n",
    "        self.data_path = data_path\n",
    "        super().__init__(name='cifar10_train__gprah')\n",
    "    \n",
    "    def process(self):\n",
    "        GRAPHS, LABELS = dgl.load_graphs(self.data_path) #保存したグラーフデータの読み込み\n",
    "        self.graphs = GRAPHS #グラフリストを代入\n",
    "        self.labels = LABELS['label'] #ラベル辞書の値のみ代入\n",
    "\n",
    "    def __getitem__(self, idx):\n",
    "        return self.graphs[idx], self.labels[idx]\n",
    "\n",
    "    def __len__(self):\n",
    "        return len(self.graphs)\n",
    "\n",
    "\n",
    "class CIFAR10TestDataset(DGLDataset):\n",
    "    def __init__(self,data_path):\n",
    "        self.data_path = data_path\n",
    "        super().__init__(name='cifar10_test_gprah')\n",
    "    \n",
    "    def process(self):\n",
    "        GRAPHS, LABELS = dgl.load_graphs(self.data_path) #保存したグラーフデータの読み込み\n",
    "        self.graphs = GRAPHS #グラフリストを代入\n",
    "        self.labels = LABELS['label'] #ラベル辞書の値のみ代入\n",
    "\n",
    "    def __getitem__(self, idx):\n",
    "        return self.graphs[idx], self.labels[idx]\n",
    "\n",
    "    def __len__(self):\n",
    "        return len(self.graphs)"
   ]
  },
  {
   "cell_type": "code",
   "execution_count": 3,
   "metadata": {},
   "outputs": [],
   "source": [
    "traindataset = CIFAR10TrainDataset(\"../data/NewMyData/train_dist_40_full.dgl\")\n",
    "testdataset = CIFAR10TestDataset(\"../data/NewMyData/test_dist_40_full.dgl\")"
   ]
  },
  {
   "cell_type": "code",
   "execution_count": 4,
   "metadata": {},
   "outputs": [],
   "source": [
    "def return_two_list(node_num):\n",
    "    taikaku = torch.full((node_num,node_num),fill_value=1.)\n",
    "    for i in range(node_num):\n",
    "        taikaku[i][i] = 0.\n",
    "    src_ids = []\n",
    "    dst_ids = []\n",
    "    for i in range(node_num):\n",
    "        for j in range(i,node_num):\n",
    "            if taikaku[i][j] != 0:\n",
    "                src_ids.append(i)\n",
    "                dst_ids.append(j)\n",
    "                src_ids.append(j)\n",
    "                dst_ids.append(i)\n",
    "    tensor_src = torch.tensor(src_ids)\n",
    "    tensor_dst = torch.tensor(dst_ids)\n",
    "    return tensor_src,tensor_dst"
   ]
  },
  {
   "cell_type": "code",
   "execution_count": 5,
   "metadata": {},
   "outputs": [
    {
     "name": "stdout",
     "output_type": "stream",
     "text": [
      "cuda:0\n"
     ]
    }
   ],
   "source": [
    "num_node_list = [5,10,15,20,25,30,35]\n",
    "#num_node_list = [5]\n",
    "graphs = []\n",
    "labels = []\n",
    "device = torch.device('cuda:0' if torch.cuda.is_available() else 'cpu')\n",
    "print(device)"
   ]
  },
  {
   "cell_type": "code",
   "execution_count": 6,
   "metadata": {},
   "outputs": [
    {
     "name": "stdout",
     "output_type": "stream",
     "text": [
      "node : 5\n"
     ]
    },
    {
     "name": "stderr",
     "output_type": "stream",
     "text": [
      "100%|██████████| 50000/50000 [00:30<00:00, 1630.33it/s]\n"
     ]
    },
    {
     "name": "stdout",
     "output_type": "stream",
     "text": [
      "node : 10\n"
     ]
    },
    {
     "name": "stderr",
     "output_type": "stream",
     "text": [
      "100%|██████████| 50000/50000 [00:34<00:00, 1458.27it/s]\n"
     ]
    },
    {
     "name": "stdout",
     "output_type": "stream",
     "text": [
      "node : 15\n"
     ]
    },
    {
     "name": "stderr",
     "output_type": "stream",
     "text": [
      "100%|██████████| 50000/50000 [00:38<00:00, 1288.01it/s]\n"
     ]
    },
    {
     "name": "stdout",
     "output_type": "stream",
     "text": [
      "node : 20\n"
     ]
    },
    {
     "name": "stderr",
     "output_type": "stream",
     "text": [
      "100%|██████████| 50000/50000 [00:42<00:00, 1183.85it/s]\n"
     ]
    },
    {
     "name": "stdout",
     "output_type": "stream",
     "text": [
      "node : 25\n"
     ]
    },
    {
     "name": "stderr",
     "output_type": "stream",
     "text": [
      "100%|██████████| 50000/50000 [00:44<00:00, 1123.60it/s]\n"
     ]
    },
    {
     "name": "stdout",
     "output_type": "stream",
     "text": [
      "node : 30\n"
     ]
    },
    {
     "name": "stderr",
     "output_type": "stream",
     "text": [
      "100%|██████████| 50000/50000 [00:47<00:00, 1045.22it/s]\n"
     ]
    },
    {
     "name": "stdout",
     "output_type": "stream",
     "text": [
      "node : 35\n"
     ]
    },
    {
     "name": "stderr",
     "output_type": "stream",
     "text": [
      "100%|██████████| 50000/50000 [00:49<00:00, 1004.46it/s]\n"
     ]
    },
    {
     "name": "stdout",
     "output_type": "stream",
     "text": [
      "node : 5\n"
     ]
    },
    {
     "name": "stderr",
     "output_type": "stream",
     "text": [
      "100%|██████████| 10000/10000 [00:06<00:00, 1574.65it/s]\n"
     ]
    },
    {
     "name": "stdout",
     "output_type": "stream",
     "text": [
      "node : 10\n"
     ]
    },
    {
     "name": "stderr",
     "output_type": "stream",
     "text": [
      "100%|██████████| 10000/10000 [00:05<00:00, 1677.26it/s]\n"
     ]
    },
    {
     "name": "stdout",
     "output_type": "stream",
     "text": [
      "node : 15\n"
     ]
    },
    {
     "name": "stderr",
     "output_type": "stream",
     "text": [
      "100%|██████████| 10000/10000 [00:07<00:00, 1390.34it/s]\n"
     ]
    },
    {
     "name": "stdout",
     "output_type": "stream",
     "text": [
      "node : 20\n"
     ]
    },
    {
     "name": "stderr",
     "output_type": "stream",
     "text": [
      "100%|██████████| 10000/10000 [00:07<00:00, 1309.01it/s]\n"
     ]
    },
    {
     "name": "stdout",
     "output_type": "stream",
     "text": [
      "node : 25\n"
     ]
    },
    {
     "name": "stderr",
     "output_type": "stream",
     "text": [
      "100%|██████████| 10000/10000 [00:09<00:00, 1096.37it/s]\n"
     ]
    },
    {
     "name": "stdout",
     "output_type": "stream",
     "text": [
      "node : 30\n"
     ]
    },
    {
     "name": "stderr",
     "output_type": "stream",
     "text": [
      "100%|██████████| 10000/10000 [00:09<00:00, 1072.10it/s]\n"
     ]
    },
    {
     "name": "stdout",
     "output_type": "stream",
     "text": [
      "node : 35\n"
     ]
    },
    {
     "name": "stderr",
     "output_type": "stream",
     "text": [
      "100%|██████████| 10000/10000 [00:10<00:00, 958.96it/s]\n"
     ]
    }
   ],
   "source": [
    "for node_num in num_node_list:\n",
    "    print(f'node : {node_num}')\n",
    "    src,dst = return_two_list(node_num)\n",
    "    graphs = []\n",
    "    labels = []\n",
    "    for graph,label in tqdm(traindataset):\n",
    "        graph = graph.to(device)\n",
    "        pool_graph = torch.zeros((node_num,node_num),device=device)\n",
    "        for p in range(node_num):\n",
    "            pool_graph[p] = graph.ndata['feat value'][-node_num + p][-node_num:]\n",
    "        g = dgl.graph((src,dst),num_nodes=node_num,device=device)\n",
    "        g.ndata['feat value'] = pool_graph\n",
    "        graphs.append(g)\n",
    "        labels.append(label)\n",
    "    output_labels = {'label':torch.tensor(labels)}\n",
    "    path = f'../data/somedata/train_dist_{node_num}_full.dgl'\n",
    "    dgl.save_graphs(path,g_list=graphs,labels=output_labels)\n",
    "\n",
    "        \n",
    "for node_num in num_node_list:\n",
    "    print(f'node : {node_num}')\n",
    "    src,dst = return_two_list(node_num)\n",
    "    graphs = []\n",
    "    labels = []\n",
    "    for graph,label in tqdm(testdataset):\n",
    "        graph = graph.to(device)\n",
    "        pool_graph = torch.zeros((node_num,node_num),device=device)\n",
    "        for p in range(node_num):\n",
    "            pool_graph[p] = graph.ndata['feat value'][-node_num + p][-node_num:]\n",
    "        g = dgl.graph((src,dst),num_nodes=node_num,device=device)\n",
    "        g.ndata['feat value'] = pool_graph\n",
    "        graphs.append(g)\n",
    "        labels.append(label)\n",
    "    output_labels = {'label':torch.tensor(labels)}\n",
    "    path = f'../data/somedata/test_dist_{node_num}_full.dgl'\n",
    "    dgl.save_graphs(path,g_list=graphs,labels=output_labels)\n"
   ]
  },
  {
   "attachments": {},
   "cell_type": "markdown",
   "metadata": {},
   "source": [
    "### 画像を複数枚に分割し各パッチをノードとし、最近傍ノードと接続するグラフを作成"
   ]
  },
  {
   "cell_type": "code",
   "execution_count": 2,
   "metadata": {},
   "outputs": [
    {
     "data": {
      "image/png": "[encoded data removed]",
      "text/plain": [
       "<Figure size 432x288 with 1 Axes>"
      ]
     },
     "metadata": {
      "needs_background": "light"
     },
     "output_type": "display_data"
    }
   ],
   "source": [
    "#テスト。6x6のカラー画像を作成。ただし2x2ごとに単一のカラーに設定。ランダムで。\n",
    "images = np.random.randint(0,255,(9,9,3))\n",
    "for i in range(0,9,3):\n",
    "    for j in range(0,9,3):\n",
    "        images[i:i+3,j:j+3,:] = np.random.randint(0,255,3,np.uint8)\n",
    "plt.imshow(images)\n",
    "plt.show()"
   ]
  },
  {
   "cell_type": "code",
   "execution_count": 4,
   "metadata": {},
   "outputs": [
    {
     "data": {
      "image/png": "[encoded data removed]",
      "text/plain": [
       "<Figure size 432x288 with 9 Axes>"
      ]
     },
     "metadata": {
      "needs_background": "light"
     },
     "output_type": "display_data"
    }
   ],
   "source": [
    "#画像をn分割。テストで3枚に分割。\n",
    "num_patch=3\n",
    "patch_width=int(9/3)\n",
    "data=[]\n",
    "\n",
    "for i in range(0,9,patch_width):\n",
    "    for j in range(0,9,patch_width):\n",
    "        data.append(images[i: i + num_patch,j: j + num_patch, :])\n",
    "\n",
    "#分割した各パッチを正方形に表示\n",
    "# 1枚の図を作成\n",
    "fig = plt.figure()\n",
    "\n",
    "# 画像を追加\n",
    "for i in range(9):\n",
    "    ax = fig.add_subplot(patch_width, patch_width, i+1)\n",
    "    ax.imshow(data[i])\n",
    "    ax.axis('off')\n",
    "\n",
    "# 画像を表示\n",
    "plt.tight_layout()\n",
    "plt.show()"
   ]
  },
  {
   "cell_type": "code",
   "execution_count": 42,
   "metadata": {},
   "outputs": [
    {
     "name": "stdout",
     "output_type": "stream",
     "text": [
      "[[0 1 2]\n",
      " [3 4 5]\n",
      " [6 7 8]]\n"
     ]
    }
   ],
   "source": [
    "# 正方形の一辺の長さ\n",
    "side_length = 3\n",
    "\n",
    "# 0から8までの整数値を持つ正方形のリストを作成\n",
    "square_list = np.arange(side_length**2).reshape((side_length, side_length))\n",
    "\n",
    "print(square_list)"
   ]
  },
  {
   "cell_type": "code",
   "execution_count": 14,
   "metadata": {},
   "outputs": [
    {
     "name": "stdout",
     "output_type": "stream",
     "text": [
      "[[0 1]\n",
      " [5 6]]\n"
     ]
    }
   ],
   "source": [
    "x=0\n",
    "y=0\n",
    "# 再近傍のサイズ（周囲の画素の数）\n",
    "neighborhood_size = 1\n",
    "\n",
    "# 再近傍の画素を取得\n",
    "neighborhood = square_list[max(0, y - neighborhood_size):min(square_list.shape[0], y + neighborhood_size + 1),\n",
    "                           max(0, x - neighborhood_size):min(square_list.shape[1], x + neighborhood_size + 1)]\n",
    "\n",
    "print(neighborhood)"
   ]
  },
  {
   "cell_type": "code",
   "execution_count": 25,
   "metadata": {},
   "outputs": [
    {
     "data": {
      "image/png": "[encoded data removed]",
      "text/plain": [
       "<Figure size 432x288 with 1 Axes>"
      ]
     },
     "metadata": {},
     "output_type": "display_data"
    }
   ],
   "source": [
    "graph=dgl.DGLGraph()\n",
    "graph.add_nodes(4)\n",
    "graph.add_edges([0, 1, 2], [1, 2, 3])\n",
    "\n",
    "nx_graph=graph.to_networkx()\n",
    "pos = {0: (0, 1), 1: (1, 1), 2: (1, 0), 3: (0, 0)}\n",
    "#pos=nx.spring_layout(nx_graph)\n",
    "nx.draw(nx_graph,pos,with_labels=True,node_color='blue')\n",
    "plt.show()"
   ]
  },
  {
   "cell_type": "code",
   "execution_count": 30,
   "metadata": {},
   "outputs": [
    {
     "name": "stdout",
     "output_type": "stream",
     "text": [
      "[[7 4 0]\n",
      " [2 0 8]\n",
      " [0 1 6]]\n",
      "[(0, 0), (0, 1), (0, 2), (1, 0), (1, 1), (1, 2), (2, 0), (2, 1), (2, 2)]\n",
      "[[[0 0]\n",
      "  [0 1]\n",
      "  [0 2]]\n",
      "\n",
      " [[1 0]\n",
      "  [1 1]\n",
      "  [1 2]]\n",
      "\n",
      " [[2 0]\n",
      "  [2 1]\n",
      "  [2 2]]]\n"
     ]
    }
   ],
   "source": [
    "arr=np.random.randint(0,9,(3,3))\n",
    "indices=np.ndindex(arr.shape)\n",
    "all_indices=[idx for idx in indices]\n",
    "rot90_indices=np.array(all_indices).reshape((3,3,2))\n",
    "print(arr)\n",
    "print(all_indices)\n",
    "print(rot90_indices)"
   ]
  },
  {
   "cell_type": "code",
   "execution_count": 45,
   "metadata": {},
   "outputs": [
    {
     "name": "stdout",
     "output_type": "stream",
     "text": [
      "[[0 2]\n",
      " [1 2]\n",
      " [2 2]\n",
      " [0 1]\n",
      " [1 1]\n",
      " [2 1]\n",
      " [0 0]\n",
      " [1 0]\n",
      " [2 0]]\n",
      "{0: array([0, 2]), 1: array([1, 2]), 2: array([2, 2]), 3: array([0, 1]), 4: array([1, 1]), 5: array([2, 1]), 6: array([0, 0]), 7: array([1, 0]), 8: array([2, 0])}\n",
      "0 0\n",
      "[0 1 3 4]\n",
      "0 1\n",
      "[0 1 3 4 6 7]\n",
      "0 2\n",
      "[3 4 6 7]\n",
      "1 0\n",
      "[0 1 2 3 4 5]\n",
      "1 1\n",
      "[0 1 2 3 4 5 6 7 8]\n",
      "1 2\n",
      "[3 4 5 6 7 8]\n",
      "2 0\n",
      "[1 2 4 5]\n",
      "2 1\n",
      "[1 2 4 5 7 8]\n",
      "2 2\n",
      "[4 5 7 8]\n"
     ]
    },
    {
     "data": {
      "image/png": "[encoded data removed]",
      "text/plain": [
       "<Figure size 432x288 with 1 Axes>"
      ]
     },
     "metadata": {},
     "output_type": "display_data"
    }
   ],
   "source": [
    "def get_rot90_index(arr):\n",
    "    indices=np.ndindex(arr.shape)#インデックス計算\n",
    "    all_indices=[idx for idx in indices]#リストに変換\n",
    "    rot90=np.array(all_indices).reshape((3,3,2))#3,3,2に変形\n",
    "    rot90=np.rot90(rot90,k=1)#90度回転\n",
    "    rot90_flatt=rot90.reshape(9,2)#フラットに変換\n",
    "    return rot90_flatt\n",
    "\n",
    "#ノード数９のグラフを作成\n",
    "g=dgl.DGLGraph()\n",
    "g.add_nodes(9)\n",
    "\n",
    "#3x3のリストのインデックスを取得し90回転させたリストを取得\n",
    "rand_array=np.zeros((3,3))\n",
    "rot90=get_rot90_index(rand_array)\n",
    "print(rot90)\n",
    "pos={}\n",
    "for i in range(9):\n",
    "    pos[i]=rot90[i]\n",
    "print(pos)\n",
    "\n",
    "# 正方形の一辺の長さ\n",
    "side_length = 3\n",
    "# 0から8までの整数値を持つ正方形のリストを作成\n",
    "square_list = np.arange(side_length**2).reshape((side_length, side_length))\n",
    "\n",
    "#ノード番号に対応したインデックスを取得\n",
    "inds=np.ndindex(square_list.shape)\n",
    "inds=[idx for idx in inds]\n",
    "#各ノードと最近傍ノード間にエッジを張る\n",
    "for i in range(9):\n",
    "    x,y=inds[i]\n",
    "    print(x,y)\n",
    "    # 再近傍のサイズ（周囲の画素の数）\n",
    "    neighborhood_size = 1\n",
    "    # 再近傍のノード番号を取得\n",
    "    neighborhood = square_list[max(0, y - neighborhood_size):min(square_list.shape[0], y + neighborhood_size + 1),\n",
    "                            max(0, x - neighborhood_size):min(square_list.shape[1], x + neighborhood_size + 1)]\n",
    "    #ノード番号をフラットに変形\n",
    "    flatt_nh=np.array(neighborhood).flatten()\n",
    "    print(flatt_nh)\n",
    "    for j in flatt_nh:\n",
    "        if i == j:\n",
    "            continue\n",
    "        else:\n",
    "            g.add_edge(j,i)\n",
    "nx_g=g.to_networkx()\n",
    "nx.draw(nx_g,pos,with_labels=True,node_color='blue')\n",
    "plt.show()"
   ]
  },
  {
   "cell_type": "code",
   "execution_count": 39,
   "metadata": {},
   "outputs": [
    {
     "name": "stdout",
     "output_type": "stream",
     "text": [
      "tensor([[0.1000],\n",
      "        [0.2000],\n",
      "        [0.3000]])\n"
     ]
    },
    {
     "name": "stderr",
     "output_type": "stream",
     "text": [
      "/home/makoto/anaconda3/envs/GDW/lib/python3.8/site-packages/dgl/heterograph.py:72: DGLWarning: Recommend creating graphs by `dgl.graph(data)` instead of `dgl.DGLGraph(data)`.\n",
      "  dgl_warning('Recommend creating graphs by `dgl.graph(data)`'\n"
     ]
    }
   ],
   "source": []
  }
 ],
 "metadata": {
  "kernelspec": {
   "display_name": "Python 3.8.12 ('GNN_DGL')",
   "language": "python",
   "name": "python3"
  },
  "language_info": {
   "codemirror_mode": {
    "name": "ipython",
    "version": 3
   },
   "file_extension": ".py",
   "mimetype": "text/x-python",
   "name": "python",
   "nbconvert_exporter": "python",
   "pygments_lexer": "ipython3",
   "version": "3.8.13"
  },
  "orig_nbformat": 4,
  "vscode": {
   "interpreter": {
    "hash": "75e17f8d3ee38eec6defc8bec53d4ec895188fbdc79a3238a84d9b54a33d5e0a"
   }
  }
 },
 "nbformat": 4,
 "nbformat_minor": 2
}
