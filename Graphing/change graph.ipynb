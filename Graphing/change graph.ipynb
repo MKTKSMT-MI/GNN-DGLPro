{
 "cells": [
  {
   "cell_type": "code",
   "execution_count": 1,
   "metadata": {},
   "outputs": [],
   "source": [
    "import dgl\n",
    "from dgl.data import DGLDataset\n",
    "import torch\n",
    "import torchvision\n",
    "import torch.nn as nn\n",
    "import torch.nn.functional as F\n",
    "from dgl.nn import GraphConv,MaxPooling\n",
    "import matplotlib.pyplot as plt\n",
    "from tqdm import tqdm\n",
    "import numpy as np\n",
    "import time\n",
    "from dgl.dataloading import GraphDataLoader\n",
    "from torch.utils.data.sampler import SubsetRandomSampler\n",
    "import os\n",
    "import pandas\n",
    "import networkx as nx\n",
    "%matplotlib inline"
   ]
  },
  {
   "cell_type": "code",
   "execution_count": 2,
   "metadata": {},
   "outputs": [],
   "source": [
    "class CIFAR10TrainDataset(DGLDataset):\n",
    "    def __init__(self,data_path):\n",
    "        self.data_path = data_path\n",
    "        super().__init__(name='cifar10_train__gprah')\n",
    "    \n",
    "    def process(self):\n",
    "        GRAPHS, LABELS = dgl.load_graphs(self.data_path) #保存したグラーフデータの読み込み\n",
    "        self.graphs = GRAPHS #グラフリストを代入\n",
    "        self.labels = LABELS['label'] #ラベル辞書の値のみ代入\n",
    "\n",
    "    def __getitem__(self, idx):\n",
    "        return self.graphs[idx], self.labels[idx]\n",
    "\n",
    "    def __len__(self):\n",
    "        return len(self.graphs)\n",
    "\n",
    "\n",
    "class CIFAR10TestDataset(DGLDataset):\n",
    "    def __init__(self,data_path):\n",
    "        self.data_path = data_path\n",
    "        super().__init__(name='cifar10_test_gprah')\n",
    "    \n",
    "    def process(self):\n",
    "        GRAPHS, LABELS = dgl.load_graphs(self.data_path) #保存したグラーフデータの読み込み\n",
    "        self.graphs = GRAPHS #グラフリストを代入\n",
    "        self.labels = LABELS['label'] #ラベル辞書の値のみ代入\n",
    "\n",
    "    def __getitem__(self, idx):\n",
    "        return self.graphs[idx], self.labels[idx]\n",
    "\n",
    "    def __len__(self):\n",
    "        return len(self.graphs)"
   ]
  },
  {
   "cell_type": "code",
   "execution_count": 3,
   "metadata": {},
   "outputs": [
    {
     "ename": "DGLError",
     "evalue": "File ../data/NewMyData/train_dist_40_full.dgl does not exist.",
     "output_type": "error",
     "traceback": [
      "\u001b[0;31m---------------------------------------------------------------------------\u001b[0m",
      "\u001b[0;31mDGLError\u001b[0m                                  Traceback (most recent call last)",
      "Cell \u001b[0;32mIn[3], line 1\u001b[0m\n\u001b[0;32m----> 1\u001b[0m traindataset \u001b[39m=\u001b[39m CIFAR10TrainDataset(\u001b[39m\"\u001b[39;49m\u001b[39m../data/NewMyData/train_dist_40_full.dgl\u001b[39;49m\u001b[39m\"\u001b[39;49m)\n\u001b[1;32m      2\u001b[0m testdataset \u001b[39m=\u001b[39m CIFAR10TestDataset(\u001b[39m\"\u001b[39m\u001b[39m../data/NewMyData/test_dist_40_full.dgl\u001b[39m\u001b[39m\"\u001b[39m)\n",
      "Cell \u001b[0;32mIn[2], line 4\u001b[0m, in \u001b[0;36mCIFAR10TrainDataset.__init__\u001b[0;34m(self, data_path)\u001b[0m\n\u001b[1;32m      2\u001b[0m \u001b[39mdef\u001b[39;00m \u001b[39m__init__\u001b[39m(\u001b[39mself\u001b[39m,data_path):\n\u001b[1;32m      3\u001b[0m     \u001b[39mself\u001b[39m\u001b[39m.\u001b[39mdata_path \u001b[39m=\u001b[39m data_path\n\u001b[0;32m----> 4\u001b[0m     \u001b[39msuper\u001b[39;49m()\u001b[39m.\u001b[39;49m\u001b[39m__init__\u001b[39;49m(name\u001b[39m=\u001b[39;49m\u001b[39m'\u001b[39;49m\u001b[39mcifar10_train__gprah\u001b[39;49m\u001b[39m'\u001b[39;49m)\n",
      "File \u001b[0;32m~/anaconda3/envs/DGL3/lib/python3.9/site-packages/dgl/data/dgl_dataset.py:112\u001b[0m, in \u001b[0;36mDGLDataset.__init__\u001b[0;34m(self, name, url, raw_dir, save_dir, hash_key, force_reload, verbose, transform)\u001b[0m\n\u001b[1;32m    109\u001b[0m \u001b[39melse\u001b[39;00m:\n\u001b[1;32m    110\u001b[0m     \u001b[39mself\u001b[39m\u001b[39m.\u001b[39m_save_dir \u001b[39m=\u001b[39m save_dir\n\u001b[0;32m--> 112\u001b[0m \u001b[39mself\u001b[39;49m\u001b[39m.\u001b[39;49m_load()\n",
      "File \u001b[0;32m~/anaconda3/envs/DGL3/lib/python3.9/site-packages/dgl/data/dgl_dataset.py:203\u001b[0m, in \u001b[0;36mDGLDataset._load\u001b[0;34m(self)\u001b[0m\n\u001b[1;32m    201\u001b[0m \u001b[39mif\u001b[39;00m \u001b[39mnot\u001b[39;00m load_flag:\n\u001b[1;32m    202\u001b[0m     \u001b[39mself\u001b[39m\u001b[39m.\u001b[39m_download()\n\u001b[0;32m--> 203\u001b[0m     \u001b[39mself\u001b[39;49m\u001b[39m.\u001b[39;49mprocess()\n\u001b[1;32m    204\u001b[0m     \u001b[39mself\u001b[39m\u001b[39m.\u001b[39msave()\n\u001b[1;32m    205\u001b[0m     \u001b[39mif\u001b[39;00m \u001b[39mself\u001b[39m\u001b[39m.\u001b[39mverbose:\n",
      "Cell \u001b[0;32mIn[2], line 7\u001b[0m, in \u001b[0;36mCIFAR10TrainDataset.process\u001b[0;34m(self)\u001b[0m\n\u001b[1;32m      6\u001b[0m \u001b[39mdef\u001b[39;00m \u001b[39mprocess\u001b[39m(\u001b[39mself\u001b[39m):\n\u001b[0;32m----> 7\u001b[0m     GRAPHS, LABELS \u001b[39m=\u001b[39m dgl\u001b[39m.\u001b[39;49mload_graphs(\u001b[39mself\u001b[39;49m\u001b[39m.\u001b[39;49mdata_path) \u001b[39m#保存したグラーフデータの読み込み\u001b[39;00m\n\u001b[1;32m      8\u001b[0m     \u001b[39mself\u001b[39m\u001b[39m.\u001b[39mgraphs \u001b[39m=\u001b[39m GRAPHS \u001b[39m#グラフリストを代入\u001b[39;00m\n\u001b[1;32m      9\u001b[0m     \u001b[39mself\u001b[39m\u001b[39m.\u001b[39mlabels \u001b[39m=\u001b[39m LABELS[\u001b[39m'\u001b[39m\u001b[39mlabel\u001b[39m\u001b[39m'\u001b[39m]\n",
      "File \u001b[0;32m~/anaconda3/envs/DGL3/lib/python3.9/site-packages/dgl/data/graph_serialize.py:186\u001b[0m, in \u001b[0;36mload_graphs\u001b[0;34m(filename, idx_list)\u001b[0m\n\u001b[1;32m    150\u001b[0m \u001b[39m\u001b[39m\u001b[39m\"\"\"Load graphs and optionally their labels from file saved by :func:`save_graphs`.\u001b[39;00m\n\u001b[1;32m    151\u001b[0m \n\u001b[1;32m    152\u001b[0m \u001b[39mBesides loading from local files, DGL supports loading the graphs directly\u001b[39;00m\n\u001b[0;32m   (...)\u001b[0m\n\u001b[1;32m    183\u001b[0m \u001b[39msave_graphs\u001b[39;00m\n\u001b[1;32m    184\u001b[0m \u001b[39m\"\"\"\u001b[39;00m\n\u001b[1;32m    185\u001b[0m \u001b[39m# if it is local file, do some sanity check\u001b[39;00m\n\u001b[0;32m--> 186\u001b[0m check_local_file_exists(filename)\n\u001b[1;32m    187\u001b[0m version \u001b[39m=\u001b[39m _CAPI_GetFileVersion(filename)\n\u001b[1;32m    188\u001b[0m \u001b[39mif\u001b[39;00m version \u001b[39m==\u001b[39m \u001b[39m1\u001b[39m:\n",
      "File \u001b[0;32m~/anaconda3/envs/DGL3/lib/python3.9/site-packages/dgl/data/graph_serialize.py:40\u001b[0m, in \u001b[0;36mcheck_local_file_exists\u001b[0;34m(filename)\u001b[0m\n\u001b[1;32m     38\u001b[0m \u001b[39mdef\u001b[39;00m \u001b[39mcheck_local_file_exists\u001b[39m(filename):\n\u001b[1;32m     39\u001b[0m     \u001b[39mif\u001b[39;00m is_local_path(filename) \u001b[39mand\u001b[39;00m \u001b[39mnot\u001b[39;00m os\u001b[39m.\u001b[39mpath\u001b[39m.\u001b[39mexists(filename):\n\u001b[0;32m---> 40\u001b[0m         \u001b[39mraise\u001b[39;00m DGLError(\u001b[39m\"\u001b[39m\u001b[39mFile \u001b[39m\u001b[39m{}\u001b[39;00m\u001b[39m does not exist.\u001b[39m\u001b[39m\"\u001b[39m\u001b[39m.\u001b[39mformat(filename))\n",
      "\u001b[0;31mDGLError\u001b[0m: File ../data/NewMyData/train_dist_40_full.dgl does not exist."
     ]
    }
   ],
   "source": [
    "traindataset = CIFAR10TrainDataset(\"../data/NewMyData/train_dist_40_full.dgl\")\n",
    "testdataset = CIFAR10TestDataset(\"../data/NewMyData/test_dist_40_full.dgl\")"
   ]
  },
  {
   "cell_type": "code",
   "execution_count": 3,
   "metadata": {},
   "outputs": [],
   "source": [
    "def return_two_list(node_num):\n",
    "    taikaku = torch.full((node_num,node_num),fill_value=1.)\n",
    "    for i in range(node_num):\n",
    "        taikaku[i][i] = 0.\n",
    "    src_ids = []\n",
    "    dst_ids = []\n",
    "    for i in range(node_num):\n",
    "        for j in range(i,node_num):\n",
    "            if taikaku[i][j] != 0:\n",
    "                src_ids.append(i)\n",
    "                dst_ids.append(j)\n",
    "                src_ids.append(j)\n",
    "                dst_ids.append(i)\n",
    "    tensor_src = torch.tensor(src_ids)\n",
    "    tensor_dst = torch.tensor(dst_ids)\n",
    "    return tensor_src,tensor_dst"
   ]
  },
  {
   "cell_type": "code",
   "execution_count": 5,
   "metadata": {},
   "outputs": [
    {
     "name": "stdout",
     "output_type": "stream",
     "text": [
      "cuda:0\n"
     ]
    }
   ],
   "source": [
    "num_node_list = [5,10,15,20,25,30,35]\n",
    "#num_node_list = [5]\n",
    "graphs = []\n",
    "labels = []\n",
    "device = torch.device('cuda:0' if torch.cuda.is_available() else 'cpu')\n",
    "print(device)"
   ]
  },
  {
   "cell_type": "code",
   "execution_count": 6,
   "metadata": {},
   "outputs": [
    {
     "name": "stdout",
     "output_type": "stream",
     "text": [
      "node : 5\n"
     ]
    },
    {
     "name": "stderr",
     "output_type": "stream",
     "text": [
      "100%|██████████| 50000/50000 [00:30<00:00, 1630.33it/s]\n"
     ]
    },
    {
     "name": "stdout",
     "output_type": "stream",
     "text": [
      "node : 10\n"
     ]
    },
    {
     "name": "stderr",
     "output_type": "stream",
     "text": [
      "100%|██████████| 50000/50000 [00:34<00:00, 1458.27it/s]\n"
     ]
    },
    {
     "name": "stdout",
     "output_type": "stream",
     "text": [
      "node : 15\n"
     ]
    },
    {
     "name": "stderr",
     "output_type": "stream",
     "text": [
      "100%|██████████| 50000/50000 [00:38<00:00, 1288.01it/s]\n"
     ]
    },
    {
     "name": "stdout",
     "output_type": "stream",
     "text": [
      "node : 20\n"
     ]
    },
    {
     "name": "stderr",
     "output_type": "stream",
     "text": [
      "100%|██████████| 50000/50000 [00:42<00:00, 1183.85it/s]\n"
     ]
    },
    {
     "name": "stdout",
     "output_type": "stream",
     "text": [
      "node : 25\n"
     ]
    },
    {
     "name": "stderr",
     "output_type": "stream",
     "text": [
      "100%|██████████| 50000/50000 [00:44<00:00, 1123.60it/s]\n"
     ]
    },
    {
     "name": "stdout",
     "output_type": "stream",
     "text": [
      "node : 30\n"
     ]
    },
    {
     "name": "stderr",
     "output_type": "stream",
     "text": [
      "100%|██████████| 50000/50000 [00:47<00:00, 1045.22it/s]\n"
     ]
    },
    {
     "name": "stdout",
     "output_type": "stream",
     "text": [
      "node : 35\n"
     ]
    },
    {
     "name": "stderr",
     "output_type": "stream",
     "text": [
      "100%|██████████| 50000/50000 [00:49<00:00, 1004.46it/s]\n"
     ]
    },
    {
     "name": "stdout",
     "output_type": "stream",
     "text": [
      "node : 5\n"
     ]
    },
    {
     "name": "stderr",
     "output_type": "stream",
     "text": [
      "100%|██████████| 10000/10000 [00:06<00:00, 1574.65it/s]\n"
     ]
    },
    {
     "name": "stdout",
     "output_type": "stream",
     "text": [
      "node : 10\n"
     ]
    },
    {
     "name": "stderr",
     "output_type": "stream",
     "text": [
      "100%|██████████| 10000/10000 [00:05<00:00, 1677.26it/s]\n"
     ]
    },
    {
     "name": "stdout",
     "output_type": "stream",
     "text": [
      "node : 15\n"
     ]
    },
    {
     "name": "stderr",
     "output_type": "stream",
     "text": [
      "100%|██████████| 10000/10000 [00:07<00:00, 1390.34it/s]\n"
     ]
    },
    {
     "name": "stdout",
     "output_type": "stream",
     "text": [
      "node : 20\n"
     ]
    },
    {
     "name": "stderr",
     "output_type": "stream",
     "text": [
      "100%|██████████| 10000/10000 [00:07<00:00, 1309.01it/s]\n"
     ]
    },
    {
     "name": "stdout",
     "output_type": "stream",
     "text": [
      "node : 25\n"
     ]
    },
    {
     "name": "stderr",
     "output_type": "stream",
     "text": [
      "100%|██████████| 10000/10000 [00:09<00:00, 1096.37it/s]\n"
     ]
    },
    {
     "name": "stdout",
     "output_type": "stream",
     "text": [
      "node : 30\n"
     ]
    },
    {
     "name": "stderr",
     "output_type": "stream",
     "text": [
      "100%|██████████| 10000/10000 [00:09<00:00, 1072.10it/s]\n"
     ]
    },
    {
     "name": "stdout",
     "output_type": "stream",
     "text": [
      "node : 35\n"
     ]
    },
    {
     "name": "stderr",
     "output_type": "stream",
     "text": [
      "100%|██████████| 10000/10000 [00:10<00:00, 958.96it/s]\n"
     ]
    }
   ],
   "source": [
    "for node_num in num_node_list:\n",
    "    print(f'node : {node_num}')\n",
    "    src,dst = return_two_list(node_num)\n",
    "    graphs = []\n",
    "    labels = []\n",
    "    for graph,label in tqdm(traindataset):\n",
    "        graph = graph.to(device)\n",
    "        pool_graph = torch.zeros((node_num,node_num),device=device)\n",
    "        for p in range(node_num):\n",
    "            pool_graph[p] = graph.ndata['feat value'][-node_num + p][-node_num:]\n",
    "        g = dgl.graph((src,dst),num_nodes=node_num,device=device)\n",
    "        g.ndata['feat value'] = pool_graph\n",
    "        graphs.append(g)\n",
    "        labels.append(label)\n",
    "    output_labels = {'label':torch.tensor(labels)}\n",
    "    path = f'../data/somedata/train_dist_{node_num}_full.dgl'\n",
    "    dgl.save_graphs(path,g_list=graphs,labels=output_labels)\n",
    "\n",
    "        \n",
    "for node_num in num_node_list:\n",
    "    print(f'node : {node_num}')\n",
    "    src,dst = return_two_list(node_num)\n",
    "    graphs = []\n",
    "    labels = []\n",
    "    for graph,label in tqdm(testdataset):\n",
    "        graph = graph.to(device)\n",
    "        pool_graph = torch.zeros((node_num,node_num),device=device)\n",
    "        for p in range(node_num):\n",
    "            pool_graph[p] = graph.ndata['feat value'][-node_num + p][-node_num:]\n",
    "        g = dgl.graph((src,dst),num_nodes=node_num,device=device)\n",
    "        g.ndata['feat value'] = pool_graph\n",
    "        graphs.append(g)\n",
    "        labels.append(label)\n",
    "    output_labels = {'label':torch.tensor(labels)}\n",
    "    path = f'../data/somedata/test_dist_{node_num}_full.dgl'\n",
    "    dgl.save_graphs(path,g_list=graphs,labels=output_labels)\n"
   ]
  },
  {
   "attachments": {},
   "cell_type": "markdown",
   "metadata": {},
   "source": [
    "### 画像を複数枚に分割し各パッチをノードとし、最近傍ノードと接続するグラフを作成"
   ]
  },
  {
   "cell_type": "code",
   "execution_count": 2,
   "metadata": {},
   "outputs": [
    {
     "data": {
      "image/png": "[encoded data removed]",
      "text/plain": [
       "<Figure size 432x288 with 1 Axes>"
      ]
     },
     "metadata": {
      "needs_background": "light"
     },
     "output_type": "display_data"
    }
   ],
   "source": [
    "#テスト。6x6のカラー画像を作成。ただし2x2ごとに単一のカラーに設定。ランダムで。\n",
    "images = np.random.randint(0,255,(9,9,3))\n",
    "for i in range(0,9,3):\n",
    "    for j in range(0,9,3):\n",
    "        images[i:i+3,j:j+3,:] = np.random.randint(0,255,3,np.uint8)\n",
    "plt.imshow(images)\n",
    "plt.show()"
   ]
  },
  {
   "cell_type": "code",
   "execution_count": 4,
   "metadata": {},
   "outputs": [
    {
     "data": {
      "image/png": "[encoded data removed]",
      "text/plain": [
       "<Figure size 432x288 with 9 Axes>"
      ]
     },
     "metadata": {
      "needs_background": "light"
     },
     "output_type": "display_data"
    }
   ],
   "source": [
    "#画像をn分割。テストで3枚に分割。\n",
    "num_patch=3\n",
    "patch_width=int(9/3)\n",
    "data=[]\n",
    "\n",
    "for i in range(0,9,patch_width):\n",
    "    for j in range(0,9,patch_width):\n",
    "        data.append(images[i: i + num_patch,j: j + num_patch, :])\n",
    "\n",
    "#分割した各パッチを正方形に表示\n",
    "# 1枚の図を作成\n",
    "fig = plt.figure()\n",
    "\n",
    "# 画像を追加\n",
    "for i in range(9):\n",
    "    ax = fig.add_subplot(patch_width, patch_width, i+1)\n",
    "    ax.imshow(data[i])\n",
    "    ax.axis('off')\n",
    "\n",
    "# 画像を表示\n",
    "plt.tight_layout()\n",
    "plt.show()"
   ]
  },
  {
   "cell_type": "code",
   "execution_count": 42,
   "metadata": {},
   "outputs": [
    {
     "name": "stdout",
     "output_type": "stream",
     "text": [
      "[[0 1 2]\n",
      " [3 4 5]\n",
      " [6 7 8]]\n"
     ]
    }
   ],
   "source": [
    "# 正方形の一辺の長さ\n",
    "side_length = 3\n",
    "\n",
    "# 0から8までの整数値を持つ正方形のリストを作成\n",
    "square_list = np.arange(side_length**2).reshape((side_length, side_length))\n",
    "\n",
    "print(square_list)"
   ]
  },
  {
   "cell_type": "code",
   "execution_count": 4,
   "metadata": {},
   "outputs": [],
   "source": [
    "def get_nearest_neighbors(image, row, col):\n",
    "    # 画像の形状を取得\n",
    "    height, width = image.shape[:2]\n",
    "\n",
    "    # 注目画素の周囲8画素の座標を計算\n",
    "    neighbors_coords = [(row-1, col-1), (row-1, col), (row-1, col+1),\n",
    "                        (row, col-1), (row, col+1),\n",
    "                        (row+1, col-1), (row+1, col), (row+1, col+1)]\n",
    "\n",
    "    # 注目画素の最近傍画素の値を抜き出す\n",
    "    nearest_neighbors = []\n",
    "    for r, c in neighbors_coords:\n",
    "        # 座標が画像範囲内かチェック\n",
    "        if 0 <= r < height and 0 <= c < width:\n",
    "            pixel_value = image[r, c]\n",
    "            nearest_neighbors.append(pixel_value)\n",
    "        else:\n",
    "            # 画像範囲外の場合は0を追加するなど適切な処理を行う\n",
    "            #nearest_neighbors.append(0)\n",
    "            pass\n",
    "\n",
    "    return nearest_neighbors"
   ]
  },
  {
   "cell_type": "code",
   "execution_count": 25,
   "metadata": {},
   "outputs": [
    {
     "data": {
      "image/png": "[encoded data removed]",
      "text/plain": [
       "<Figure size 432x288 with 1 Axes>"
      ]
     },
     "metadata": {},
     "output_type": "display_data"
    }
   ],
   "source": [
    "graph=dgl.DGLGraph()\n",
    "graph.add_nodes(4)\n",
    "graph.add_edges([0, 1, 2], [1, 2, 3])\n",
    "\n",
    "nx_graph=graph.to_networkx()\n",
    "pos = {0: (0, 1), 1: (1, 1), 2: (1, 0), 3: (0, 0)}\n",
    "#pos=nx.spring_layout(nx_graph)\n",
    "nx.draw(nx_graph,pos,with_labels=True,node_color='blue')\n",
    "plt.show()"
   ]
  },
  {
   "cell_type": "code",
   "execution_count": 30,
   "metadata": {},
   "outputs": [
    {
     "name": "stdout",
     "output_type": "stream",
     "text": [
      "[[7 4 0]\n",
      " [2 0 8]\n",
      " [0 1 6]]\n",
      "[(0, 0), (0, 1), (0, 2), (1, 0), (1, 1), (1, 2), (2, 0), (2, 1), (2, 2)]\n",
      "[[[0 0]\n",
      "  [0 1]\n",
      "  [0 2]]\n",
      "\n",
      " [[1 0]\n",
      "  [1 1]\n",
      "  [1 2]]\n",
      "\n",
      " [[2 0]\n",
      "  [2 1]\n",
      "  [2 2]]]\n"
     ]
    }
   ],
   "source": [
    "arr=np.random.randint(0,9,(3,3))\n",
    "indices=np.ndindex(arr.shape)\n",
    "all_indices=[idx for idx in indices]\n",
    "rot90_indices=np.array(all_indices).reshape((3,3,2))\n",
    "print(arr)\n",
    "print(all_indices)\n",
    "print(rot90_indices)"
   ]
  },
  {
   "cell_type": "code",
   "execution_count": 7,
   "metadata": {},
   "outputs": [
    {
     "name": "stdout",
     "output_type": "stream",
     "text": [
      "[[0 7]\n",
      " [1 7]\n",
      " [2 7]\n",
      " [3 7]\n",
      " [4 7]\n",
      " [5 7]\n",
      " [6 7]\n",
      " [7 7]\n",
      " [0 6]\n",
      " [1 6]\n",
      " [2 6]\n",
      " [3 6]\n",
      " [4 6]\n",
      " [5 6]\n",
      " [6 6]\n",
      " [7 6]\n",
      " [0 5]\n",
      " [1 5]\n",
      " [2 5]\n",
      " [3 5]\n",
      " [4 5]\n",
      " [5 5]\n",
      " [6 5]\n",
      " [7 5]\n",
      " [0 4]\n",
      " [1 4]\n",
      " [2 4]\n",
      " [3 4]\n",
      " [4 4]\n",
      " [5 4]\n",
      " [6 4]\n",
      " [7 4]\n",
      " [0 3]\n",
      " [1 3]\n",
      " [2 3]\n",
      " [3 3]\n",
      " [4 3]\n",
      " [5 3]\n",
      " [6 3]\n",
      " [7 3]\n",
      " [0 2]\n",
      " [1 2]\n",
      " [2 2]\n",
      " [3 2]\n",
      " [4 2]\n",
      " [5 2]\n",
      " [6 2]\n",
      " [7 2]\n",
      " [0 1]\n",
      " [1 1]\n",
      " [2 1]\n",
      " [3 1]\n",
      " [4 1]\n",
      " [5 1]\n",
      " [6 1]\n",
      " [7 1]\n",
      " [0 0]\n",
      " [1 0]\n",
      " [2 0]\n",
      " [3 0]\n",
      " [4 0]\n",
      " [5 0]\n",
      " [6 0]\n",
      " [7 0]]\n",
      "{0: array([0, 7]), 1: array([1, 7]), 2: array([2, 7]), 3: array([3, 7]), 4: array([4, 7]), 5: array([5, 7]), 6: array([6, 7]), 7: array([7, 7]), 8: array([0, 6]), 9: array([1, 6]), 10: array([2, 6]), 11: array([3, 6]), 12: array([4, 6]), 13: array([5, 6]), 14: array([6, 6]), 15: array([7, 6]), 16: array([0, 5]), 17: array([1, 5]), 18: array([2, 5]), 19: array([3, 5]), 20: array([4, 5]), 21: array([5, 5]), 22: array([6, 5]), 23: array([7, 5]), 24: array([0, 4]), 25: array([1, 4]), 26: array([2, 4]), 27: array([3, 4]), 28: array([4, 4]), 29: array([5, 4]), 30: array([6, 4]), 31: array([7, 4]), 32: array([0, 3]), 33: array([1, 3]), 34: array([2, 3]), 35: array([3, 3]), 36: array([4, 3]), 37: array([5, 3]), 38: array([6, 3]), 39: array([7, 3]), 40: array([0, 2]), 41: array([1, 2]), 42: array([2, 2]), 43: array([3, 2]), 44: array([4, 2]), 45: array([5, 2]), 46: array([6, 2]), 47: array([7, 2]), 48: array([0, 1]), 49: array([1, 1]), 50: array([2, 1]), 51: array([3, 1]), 52: array([4, 1]), 53: array([5, 1]), 54: array([6, 1]), 55: array([7, 1]), 56: array([0, 0]), 57: array([1, 0]), 58: array([2, 0]), 59: array([3, 0]), 60: array([4, 0]), 61: array([5, 0]), 62: array([6, 0]), 63: array([7, 0])}\n"
     ]
    },
    {
     "name": "stderr",
     "output_type": "stream",
     "text": [
      "c:\\Users\\kisim\\anaconda3\\envs\\GNN_DGL\\lib\\site-packages\\dgl\\heterograph.py:92: DGLWarning: Recommend creating graphs by `dgl.graph(data)` instead of `dgl.DGLGraph(data)`.\n",
      "  dgl_warning(\n"
     ]
    },
    {
     "data": {
      "image/png": "[encoded data removed]",
      "text/plain": [
       "<Figure size 432x288 with 1 Axes>"
      ]
     },
     "metadata": {},
     "output_type": "display_data"
    }
   ],
   "source": [
    "def get_rot90_index(arr):\n",
    "    row,col=arr.shape\n",
    "    indices=np.ndindex(arr.shape)#インデックス計算\n",
    "    all_indices=[idx for idx in indices]#リストに変換\n",
    "    rot90=np.array(all_indices).reshape((row,col,2))#3,3,2に変形\n",
    "    rot90=np.rot90(rot90,k=1)#90度回転\n",
    "    rot90_flatt=rot90.reshape(row*col,2)#フラットに変換\n",
    "    return rot90_flatt\n",
    "\n",
    "side_length = 8\n",
    "#ノード数９のグラフを作成\n",
    "G=nx.complete_graph(side_length**2)\n",
    "g=dgl.DGLGraph()\n",
    "g.add_nodes(side_length**2)\n",
    "\n",
    "#3x3のリストのインデックスを取得し90回転させたリストを取得\n",
    "rand_array=np.zeros((side_length,side_length))\n",
    "rot90=get_rot90_index(rand_array)\n",
    "print(rot90)\n",
    "pos={}\n",
    "for i in range(side_length**2):\n",
    "    pos[i]=rot90[i]\n",
    "print(pos)\n",
    "\n",
    "# 正方形の一辺の長さ\n",
    "#side_length = 3\n",
    "# 0から8までの整数値を持つ正方形のリストを作成\n",
    "square_list = np.arange(side_length**2).reshape((side_length, side_length))\n",
    "\n",
    "#ノード番号に対応したインデックスを取得\n",
    "inds=np.ndindex(square_list.shape)\n",
    "inds=[idx for idx in inds]\n",
    "#各ノードと最近傍ノード間にエッジを張る\n",
    "'''for i in range(side_length**2):\n",
    "    x,y=inds[i]\n",
    "    #print(x,y)\n",
    "    flatt_nh=get_nearest_neighbors(square_list,x,y)\n",
    "    #print(flatt_nh)\n",
    "    for j in flatt_nh:\n",
    "        if i == j:\n",
    "            continue\n",
    "        else:\n",
    "            g.add_edges(j,i)'''\n",
    "nx_g=g.to_networkx()\n",
    "nx.draw(G,pos,with_labels=True,node_color='blue')\n",
    "plt.show()"
   ]
  },
  {
   "cell_type": "code",
   "execution_count": 39,
   "metadata": {},
   "outputs": [
    {
     "name": "stdout",
     "output_type": "stream",
     "text": [
      "tensor([[0.1000],\n",
      "        [0.2000],\n",
      "        [0.3000]])\n"
     ]
    },
    {
     "name": "stderr",
     "output_type": "stream",
     "text": [
      "/home/makoto/anaconda3/envs/GDW/lib/python3.8/site-packages/dgl/heterograph.py:72: DGLWarning: Recommend creating graphs by `dgl.graph(data)` instead of `dgl.DGLGraph(data)`.\n",
      "  dgl_warning('Recommend creating graphs by `dgl.graph(data)`'\n"
     ]
    }
   ],
   "source": []
  }
 ],
 "metadata": {
  "kernelspec": {
   "display_name": "Python 3.8.12 ('GNN_DGL')",
   "language": "python",
   "name": "python3"
  },
  "language_info": {
   "codemirror_mode": {
    "name": "ipython",
    "version": 3
   },
   "file_extension": ".py",
   "mimetype": "text/x-python",
   "name": "python",
   "nbconvert_exporter": "python",
   "pygments_lexer": "ipython3",
   "version": "3.8.12"
  },
  "orig_nbformat": 4,
  "vscode": {
   "interpreter": {
    "hash": "75e17f8d3ee38eec6defc8bec53d4ec895188fbdc79a3238a84d9b54a33d5e0a"
   }
  }
 },
 "nbformat": 4,
 "nbformat_minor": 2
}
