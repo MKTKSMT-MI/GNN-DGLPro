{
 "cells": [
  {
   "cell_type": "code",
   "execution_count": 19,
   "metadata": {},
   "outputs": [],
   "source": [
    "import dgl\n",
    "import torch\n",
    "import numpy as np\n",
    "import networkx as nx\n",
    "from dgl.nn import GraphConv"
   ]
  },
  {
   "cell_type": "code",
   "execution_count": 3,
   "metadata": {},
   "outputs": [],
   "source": [
    "g=nx.complete_graph(5)\n",
    "g=dgl.from_networkx(g)"
   ]
  },
  {
   "cell_type": "code",
   "execution_count": 5,
   "metadata": {},
   "outputs": [],
   "source": [
    "feat=torch.randn((5,10))"
   ]
  },
  {
   "cell_type": "code",
   "execution_count": 15,
   "metadata": {},
   "outputs": [],
   "source": [
    "g.ndata['f']=feat\n",
    "obj=torch.randint(2,size=(5,))\n",
    "g.ndata['obj']=obj"
   ]
  },
  {
   "cell_type": "code",
   "execution_count": 12,
   "metadata": {},
   "outputs": [
    {
     "name": "stdout",
     "output_type": "stream",
     "text": [
      "tensor([[-0.0359,  0.3321,  0.2561, -1.3504, -0.7434,  0.3317, -1.4431, -0.8261,\n",
      "          0.0092,  0.9999],\n",
      "        [-0.7560, -0.5649,  0.3543, -1.0330, -0.5975,  1.8829,  0.0560, -0.9059,\n",
      "          0.4356, -0.1094],\n",
      "        [-0.6200, -0.3877, -0.3335,  1.3879,  0.0655,  0.4008, -1.0524,  1.9360,\n",
      "         -0.8590,  0.0442],\n",
      "        [ 0.4674,  0.9094, -0.9535,  1.4495, -0.1925,  0.8344, -1.0422,  0.3841,\n",
      "          1.5234,  1.2190],\n",
      "        [-1.0471, -0.4344, -1.5509,  2.2143, -0.7519, -1.7530,  0.6610,  0.8409,\n",
      "          0.5515, -0.6521]])\n"
     ]
    }
   ],
   "source": [
    "print(g.ndata['f'])"
   ]
  },
  {
   "cell_type": "code",
   "execution_count": 16,
   "metadata": {},
   "outputs": [
    {
     "name": "stdout",
     "output_type": "stream",
     "text": [
      "tensor([0, 1, 1, 0, 1])\n"
     ]
    }
   ],
   "source": [
    "print(g.ndata['obj'])"
   ]
  },
  {
   "cell_type": "code",
   "execution_count": 18,
   "metadata": {},
   "outputs": [
    {
     "name": "stdout",
     "output_type": "stream",
     "text": [
      "tensor([1, 2, 4])\n"
     ]
    }
   ],
   "source": [
    "print(torch.nonzero(g.ndata['obj']).squeeze())"
   ]
  },
  {
   "cell_type": "code",
   "execution_count": 24,
   "metadata": {},
   "outputs": [],
   "source": [
    "conv=GraphConv(10,20)"
   ]
  },
  {
   "cell_type": "code",
   "execution_count": 27,
   "metadata": {},
   "outputs": [],
   "source": [
    "sg=dgl.node_subgraph(g,torch.nonzero(g.ndata['obj']).squeeze())\n",
    "pred=conv(sg,sg.ndata['f'])"
   ]
  },
  {
   "cell_type": "code",
   "execution_count": 28,
   "metadata": {},
   "outputs": [
    {
     "name": "stdout",
     "output_type": "stream",
     "text": [
      "torch.Size([3, 20])\n"
     ]
    }
   ],
   "source": [
    "print(pred.shape)"
   ]
  }
 ],
 "metadata": {
  "kernelspec": {
   "display_name": "GNN_DGL",
   "language": "python",
   "name": "python3"
  },
  "language_info": {
   "codemirror_mode": {
    "name": "ipython",
    "version": 3
   },
   "file_extension": ".py",
   "mimetype": "text/x-python",
   "name": "python",
   "nbconvert_exporter": "python",
   "pygments_lexer": "ipython3",
   "version": "3.8.12"
  },
  "orig_nbformat": 4
 },
 "nbformat": 4,
 "nbformat_minor": 2
}
