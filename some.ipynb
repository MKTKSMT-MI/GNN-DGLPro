{
 "cells": [
  {
   "cell_type": "code",
   "execution_count": 1,
   "metadata": {},
   "outputs": [],
   "source": [
    "import xml.etree.ElementTree as ET\n",
    "import os"
   ]
  },
  {
   "cell_type": "code",
   "execution_count": 2,
   "metadata": {},
   "outputs": [
    {
     "name": "stdout",
     "output_type": "stream",
     "text": [
      "True\n"
     ]
    }
   ],
   "source": [
    "file_path='2007_000256.xml'\n",
    "print(os.path.isfile(file_path))"
   ]
  },
  {
   "cell_type": "code",
   "execution_count": 36,
   "metadata": {},
   "outputs": [],
   "source": [
    "tree=ET.parse(file_path)\n",
    "root=tree.getroot()"
   ]
  },
  {
   "cell_type": "code",
   "execution_count": 17,
   "metadata": {},
   "outputs": [
    {
     "name": "stdout",
     "output_type": "stream",
     "text": [
      "annotation\n",
      "{}\n"
     ]
    }
   ],
   "source": [
    "print(root.tag)\n",
    "print(root.attrib)"
   ]
  },
  {
   "cell_type": "code",
   "execution_count": 18,
   "metadata": {},
   "outputs": [
    {
     "name": "stdout",
     "output_type": "stream",
     "text": [
      "folder\n",
      "{}\n",
      "filename\n",
      "{}\n",
      "source\n",
      "{}\n",
      "size\n",
      "{}\n",
      "segmented\n",
      "{}\n",
      "object\n",
      "{}\n",
      "object\n",
      "{}\n",
      "object\n",
      "{}\n",
      "object\n",
      "{}\n"
     ]
    }
   ],
   "source": [
    "for child in root:\n",
    "    print(child.tag)\n",
    "    print(child.attrib)"
   ]
  },
  {
   "cell_type": "code",
   "execution_count": 21,
   "metadata": {},
   "outputs": [
    {
     "name": "stdout",
     "output_type": "stream",
     "text": [
      "aeroplane\n"
     ]
    }
   ],
   "source": [
    "print(root.find('object/name').text)"
   ]
  },
  {
   "cell_type": "code",
   "execution_count": 37,
   "metadata": {},
   "outputs": [
    {
     "name": "stdout",
     "output_type": "stream",
     "text": [
      "aeroplane\n"
     ]
    }
   ],
   "source": [
    "plants=root.findall('object/name')\n",
    "for plant in plants:\n",
    "    print(plant.text)"
   ]
  },
  {
   "cell_type": "code",
   "execution_count": 38,
   "metadata": {},
   "outputs": [
    {
     "name": "stdout",
     "output_type": "stream",
     "text": [
      "1\n"
     ]
    }
   ],
   "source": [
    "count=0\n",
    "for element in root.iter('object'):\n",
    "    count+=1\n",
    "print(count)"
   ]
  },
  {
   "cell_type": "code",
   "execution_count": 39,
   "metadata": {},
   "outputs": [
    {
     "name": "stdout",
     "output_type": "stream",
     "text": [
      "共通の'name'要素のテキスト: aeroplane\n"
     ]
    }
   ],
   "source": [
    "name_texts=set()\n",
    "\n",
    "for obj_element in root.iter('object'):\n",
    "    name_element=obj_element.find('name')\n",
    "    if name_element is not None:\n",
    "        name_texts.add(name_element.text)\n",
    "\n",
    "if len(name_texts)==1:\n",
    "    common_name_text = name_texts.pop()\n",
    "    print(f\"共通の'name'要素のテキスト: {common_name_text}\")\n",
    "else:\n",
    "    print(\"共通の'name'要素のテキストはありません\")"
   ]
  },
  {
   "cell_type": "code",
   "execution_count": 34,
   "metadata": {},
   "outputs": [
    {
     "name": "stdout",
     "output_type": "stream",
     "text": [
      "{'aeroplane', 'person'}\n"
     ]
    }
   ],
   "source": [
    "print(name_texts)"
   ]
  },
  {
   "cell_type": "code",
   "execution_count": 40,
   "metadata": {},
   "outputs": [],
   "source": [
    "new_dir='Graphing/VOC/VOCdevkit/make graph info'\n",
    "os.mkdir(new_dir)"
   ]
  },
  {
   "cell_type": "code",
   "execution_count": 41,
   "metadata": {},
   "outputs": [
    {
     "name": "stdout",
     "output_type": "stream",
     "text": [
      "画像ファイル名をテキストファイルに書き込みました。\n"
     ]
    }
   ],
   "source": [
    "# 画像ファイルがあるフォルダのパス\n",
    "image_folder_path = 'Graphing/VOC/VOCdevkit/VOC2012/SegmentationClass'\n",
    "\n",
    "# 画像ファイル名を取得してテキストファイルに書き込む\n",
    "image_names = [os.path.splitext(filename)[0] for filename in os.listdir(image_folder_path) if filename.lower().endswith(('.png', '.jpg', '.jpeg'))]\n",
    "\n",
    "with open('Graphing/VOC/VOCdevkit/make graph info/image_names.txt', 'w') as file:\n",
    "    for name in image_names:\n",
    "        file.write(name + '\\n')\n",
    "\n",
    "print(\"画像ファイル名をテキストファイルに書き込みました。\")"
   ]
  },
  {
   "cell_type": "code",
   "execution_count": 43,
   "metadata": {},
   "outputs": [
    {
     "name": "stdout",
     "output_type": "stream",
     "text": [
      "2913\n"
     ]
    }
   ],
   "source": [
    "text_file_path='Graphing/VOC/VOCdevkit/make graph info/image_names.txt'\n",
    "with open(text_file_path,'r') as file:\n",
    "    image_names=[line.strip() for line in file]\n",
    "\n",
    "print(len(image_names))"
   ]
  },
  {
   "cell_type": "code",
   "execution_count": 46,
   "metadata": {},
   "outputs": [
    {
     "name": "stdout",
     "output_type": "stream",
     "text": [
      "1種類のみの'name'要素:\n",
      "chair\n",
      "boat\n",
      "train\n",
      "cow\n",
      "sofa\n",
      "motorbike\n",
      "diningtable\n",
      "bus\n",
      "horse\n",
      "cat\n",
      "bicycle\n",
      "bottle\n",
      "tvmonitor\n",
      "aeroplane\n",
      "person\n",
      "dog\n",
      "pottedplant\n",
      "car\n",
      "bird\n",
      "sheep\n"
     ]
    }
   ],
   "source": [
    "# テキストファイルのパス\n",
    "text_file_path = 'Graphing/VOC/VOCdevkit/make graph info/image_names.txt'\n",
    "\n",
    "# テキストファイルから画像ファイル名を読み込む\n",
    "with open(text_file_path, 'r') as file:\n",
    "    image_names = [line.strip() for line in file]\n",
    "\n",
    "# XMLファイルのフォルダパス\n",
    "xml_folder_path = 'Graphing/VOC/VOCdevkit/VOC2012/Annotations'\n",
    "\n",
    "# 1種類のみのname要素を記録するリスト\n",
    "single_name_elements = set()\n",
    "\n",
    "# 各画像ファイル名に対応するXMLファイルを解析\n",
    "for image_name in image_names:\n",
    "    xml_file_path = os.path.join(xml_folder_path, image_name + '.xml')\n",
    "    \n",
    "    if os.path.exists(xml_file_path):\n",
    "        tree = ET.parse(xml_file_path)\n",
    "        root = tree.getroot()\n",
    "        \n",
    "        name_elements = set()\n",
    "        for object_element in root.iter('object'):\n",
    "            name_element = object_element.find('name')\n",
    "            if name_element is not None:\n",
    "                name_elements.add(name_element.text)\n",
    "        \n",
    "        if len(name_elements) == 1:\n",
    "            single_name_elements.add(name_elements.pop())\n",
    "\n",
    "# 1種類のみのname要素を表示\n",
    "print(\"1種類のみの'name'要素:\")\n",
    "for name in single_name_elements:\n",
    "    print(name)"
   ]
  },
  {
   "cell_type": "code",
   "execution_count": 49,
   "metadata": {},
   "outputs": [
    {
     "name": "stdout",
     "output_type": "stream",
     "text": [
      "{'chair': [], 'boat': [], 'train': [], 'cow': [], 'sofa': [], 'motorbike': [], 'diningtable': [], 'bus': [], 'horse': [], 'cat': [], 'bicycle': [], 'bottle': [], 'tvmonitor': [], 'aeroplane': [], 'person': [], 'dog': [], 'pottedplant': [], 'car': [], 'bird': [], 'sheep': []}\n"
     ]
    }
   ],
   "source": [
    "class_name_dict={string: [] for string in single_name_elements}\n",
    "print(class_name_dict)"
   ]
  },
  {
   "cell_type": "code",
   "execution_count": 51,
   "metadata": {},
   "outputs": [],
   "source": [
    "# テキストファイルのパス\n",
    "text_file_path = 'Graphing/VOC/VOCdevkit/make graph info/image_names.txt'\n",
    "\n",
    "# テキストファイルから画像ファイル名を読み込む\n",
    "with open(text_file_path, 'r') as file:\n",
    "    image_names = [line.strip() for line in file]\n",
    "\n",
    "# XMLファイルのフォルダパス\n",
    "xml_folder_path = 'Graphing/VOC/VOCdevkit/VOC2012/Annotations'\n",
    "\n",
    "# 1種類のみのname要素を記録するリスト\n",
    "single_name_elements = set()\n",
    "\n",
    "# 各画像ファイル名に対応するXMLファイルを解析\n",
    "for image_name in image_names:\n",
    "    xml_file_path = os.path.join(xml_folder_path, image_name + '.xml')\n",
    "    \n",
    "    if os.path.exists(xml_file_path):\n",
    "        tree = ET.parse(xml_file_path)\n",
    "        root = tree.getroot()\n",
    "        \n",
    "        name_elements = set()\n",
    "        for object_element in root.iter('object'):\n",
    "            name_element = object_element.find('name')\n",
    "            if name_element is not None:\n",
    "                name_elements.add(name_element.text)\n",
    "        \n",
    "        if len(name_elements) == 1:\n",
    "            class_name_dict[name_elements.pop()].append(image_name)"
   ]
  },
  {
   "cell_type": "code",
   "execution_count": 54,
   "metadata": {},
   "outputs": [
    {
     "name": "stdout",
     "output_type": "stream",
     "text": [
      "chair : 33\n",
      "boat : 103\n",
      "train : 134\n",
      "cow : 101\n",
      "sofa : 39\n",
      "motorbike : 58\n",
      "diningtable : 9\n",
      "bus : 72\n",
      "horse : 80\n",
      "cat : 186\n",
      "bicycle : 44\n",
      "bottle : 61\n",
      "tvmonitor : 57\n",
      "aeroplane : 153\n",
      "person : 136\n",
      "dog : 156\n",
      "pottedplant : 54\n",
      "car : 94\n",
      "bird : 187\n",
      "sheep : 103\n"
     ]
    }
   ],
   "source": [
    "for key,value in class_name_dict.items():\n",
    "    print(f'{key} : {len(value)}')"
   ]
  },
  {
   "cell_type": "code",
   "execution_count": 55,
   "metadata": {},
   "outputs": [
    {
     "name": "stdout",
     "output_type": "stream",
     "text": [
      "Complete\n"
     ]
    }
   ],
   "source": [
    "for key,value in class_name_dict.items():\n",
    "    filename=key+'_image.txt'\n",
    "    with open(f'Graphing/VOC/VOCdevkit/make graph info/{filename}','w') as file:\n",
    "        for item in value:\n",
    "            file.write(item+'\\n')\n",
    "print('Complete')"
   ]
  }
 ],
 "metadata": {
  "kernelspec": {
   "display_name": "GNN_DGL",
   "language": "python",
   "name": "python3"
  },
  "language_info": {
   "codemirror_mode": {
    "name": "ipython",
    "version": 3
   },
   "file_extension": ".py",
   "mimetype": "text/x-python",
   "name": "python",
   "nbconvert_exporter": "python",
   "pygments_lexer": "ipython3",
   "version": "3.10.12"
  },
  "orig_nbformat": 4
 },
 "nbformat": 4,
 "nbformat_minor": 2
}
