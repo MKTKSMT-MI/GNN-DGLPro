{
 "cells": [
  {
   "cell_type": "code",
   "execution_count": 2,
   "metadata": {},
   "outputs": [],
   "source": [
    "import torch"
   ]
  },
  {
   "cell_type": "code",
   "execution_count": 3,
   "metadata": {},
   "outputs": [],
   "source": [
    "a = torch.tensor([[1,2,3],[4,5,6],[7,8,9]])"
   ]
  },
  {
   "cell_type": "code",
   "execution_count": 4,
   "metadata": {},
   "outputs": [
    {
     "name": "stdout",
     "output_type": "stream",
     "text": [
      "tensor([[1, 2, 3],\n",
      "        [4, 5, 6],\n",
      "        [7, 8, 9]])\n"
     ]
    }
   ],
   "source": [
    "print(a)"
   ]
  },
  {
   "cell_type": "code",
   "execution_count": 13,
   "metadata": {},
   "outputs": [
    {
     "name": "stdout",
     "output_type": "stream",
     "text": [
      "tensor([5, 6])\n",
      "tensor([8, 9])\n",
      "tensor([[0., 0.],\n",
      "        [0., 0.]])\n"
     ]
    }
   ],
   "source": [
    "print(a[1][1:])\n",
    "print(a[2][1:])\n",
    "b = torch.zeros(2,2)\n",
    "print(b)"
   ]
  },
  {
   "cell_type": "code",
   "execution_count": 14,
   "metadata": {},
   "outputs": [
    {
     "name": "stdout",
     "output_type": "stream",
     "text": [
      "tensor([[5., 6.],\n",
      "        [8., 9.]])\n"
     ]
    }
   ],
   "source": [
    "b[0] = a[1][1:]\n",
    "b[1] = a[2][1:]\n",
    "print(b)"
   ]
  },
  {
   "cell_type": "code",
   "execution_count": 3,
   "metadata": {},
   "outputs": [],
   "source": [
    "c = torch.zeros(10,10)\n",
    "for i in range(10):\n",
    "    for j in range(10):\n",
    "        c[i][j] = i * 10 + j"
   ]
  },
  {
   "cell_type": "code",
   "execution_count": 4,
   "metadata": {},
   "outputs": [
    {
     "name": "stdout",
     "output_type": "stream",
     "text": [
      "tensor([[ 0.,  1.,  2.,  3.,  4.,  5.,  6.,  7.,  8.,  9.],\n",
      "        [10., 11., 12., 13., 14., 15., 16., 17., 18., 19.],\n",
      "        [20., 21., 22., 23., 24., 25., 26., 27., 28., 29.],\n",
      "        [30., 31., 32., 33., 34., 35., 36., 37., 38., 39.],\n",
      "        [40., 41., 42., 43., 44., 45., 46., 47., 48., 49.],\n",
      "        [50., 51., 52., 53., 54., 55., 56., 57., 58., 59.],\n",
      "        [60., 61., 62., 63., 64., 65., 66., 67., 68., 69.],\n",
      "        [70., 71., 72., 73., 74., 75., 76., 77., 78., 79.],\n",
      "        [80., 81., 82., 83., 84., 85., 86., 87., 88., 89.],\n",
      "        [90., 91., 92., 93., 94., 95., 96., 97., 98., 99.]])\n"
     ]
    }
   ],
   "source": [
    "print(c)"
   ]
  },
  {
   "cell_type": "code",
   "execution_count": 7,
   "metadata": {},
   "outputs": [
    {
     "name": "stdout",
     "output_type": "stream",
     "text": [
      "tensor([[22., 23., 24., 25., 26., 27., 28., 29.],\n",
      "        [32., 33., 34., 35., 36., 37., 38., 39.],\n",
      "        [42., 43., 44., 45., 46., 47., 48., 49.],\n",
      "        [52., 53., 54., 55., 56., 57., 58., 59.],\n",
      "        [62., 63., 64., 65., 66., 67., 68., 69.],\n",
      "        [72., 73., 74., 75., 76., 77., 78., 79.],\n",
      "        [82., 83., 84., 85., 86., 87., 88., 89.],\n",
      "        [92., 93., 94., 95., 96., 97., 98., 99.]])\n"
     ]
    }
   ],
   "source": [
    "m5 = torch.zeros(8,8)\n",
    "num_nodes = 8\n",
    "for p in range(num_nodes):\n",
    "    m5[p] = c[-num_nodes + p][-num_nodes:]\n",
    "print(m5)"
   ]
  },
  {
   "cell_type": "code",
   "execution_count": 8,
   "metadata": {},
   "outputs": [
    {
     "name": "stdout",
     "output_type": "stream",
     "text": [
      "tensor([22., 23., 24., 25., 26., 27., 28., 29.])\n"
     ]
    }
   ],
   "source": [
    "print(c[-8][-8:])\n"
   ]
  }
 ],
 "metadata": {
  "kernelspec": {
   "display_name": "Python 3.8.12 ('GNN_DGL')",
   "language": "python",
   "name": "python3"
  },
  "language_info": {
   "codemirror_mode": {
    "name": "ipython",
    "version": 3
   },
   "file_extension": ".py",
   "mimetype": "text/x-python",
   "name": "python",
   "nbconvert_exporter": "python",
   "pygments_lexer": "ipython3",
   "version": "3.8.12"
  },
  "orig_nbformat": 4,
  "vscode": {
   "interpreter": {
    "hash": "75e17f8d3ee38eec6defc8bec53d4ec895188fbdc79a3238a84d9b54a33d5e0a"
   }
  }
 },
 "nbformat": 4,
 "nbformat_minor": 2
}
