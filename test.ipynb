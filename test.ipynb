{
 "cells": [
  {
   "cell_type": "code",
   "execution_count": 2,
   "metadata": {},
   "outputs": [],
   "source": [
    "import numpy as np\n",
    "import torch\n",
    "import itertools"
   ]
  },
  {
   "cell_type": "code",
   "execution_count": 4,
   "metadata": {},
   "outputs": [],
   "source": [
    "b=200\n",
    "baggage = {\"A\":[100,60],\"B\":[80,30],\"C\":[50,10],\"D\":[220,160],\"E\":[70,20],\"F\":[50,100],\"G\":[80,20],\n",
    "            \"H\":[60,30],\"I\":[40,40],\"J\":[90,30],\"K\":[100,30],\"L\":[50,50],\"M\":[80,160],\"N\":[80,50]}"
   ]
  },
  {
   "cell_type": "code",
   "execution_count": 3,
   "metadata": {},
   "outputs": [],
   "source": [
    "sample_data = [\"A\",\"B\",\"C\"]"
   ]
  },
  {
   "cell_type": "code",
   "execution_count": 9,
   "metadata": {},
   "outputs": [
    {
     "name": "stdout",
     "output_type": "stream",
     "text": [
      "[('A', 'B'), ('A', 'C'), ('A', 'D'), ('A', 'E'), ('A', 'F'), ('A', 'G'), ('A', 'H'), ('A', 'I'), ('A', 'J'), ('A', 'K'), ('A', 'L'), ('A', 'M'), ('A', 'N'), ('B', 'C'), ('B', 'D'), ('B', 'E'), ('B', 'F'), ('B', 'G'), ('B', 'H'), ('B', 'I'), ('B', 'J'), ('B', 'K'), ('B', 'L'), ('B', 'M'), ('B', 'N'), ('C', 'D'), ('C', 'E'), ('C', 'F'), ('C', 'G'), ('C', 'H'), ('C', 'I'), ('C', 'J'), ('C', 'K'), ('C', 'L'), ('C', 'M'), ('C', 'N'), ('D', 'E'), ('D', 'F'), ('D', 'G'), ('D', 'H'), ('D', 'I'), ('D', 'J'), ('D', 'K'), ('D', 'L'), ('D', 'M'), ('D', 'N'), ('E', 'F'), ('E', 'G'), ('E', 'H'), ('E', 'I'), ('E', 'J'), ('E', 'K'), ('E', 'L'), ('E', 'M'), ('E', 'N'), ('F', 'G'), ('F', 'H'), ('F', 'I'), ('F', 'J'), ('F', 'K'), ('F', 'L'), ('F', 'M'), ('F', 'N'), ('G', 'H'), ('G', 'I'), ('G', 'J'), ('G', 'K'), ('G', 'L'), ('G', 'M'), ('G', 'N'), ('H', 'I'), ('H', 'J'), ('H', 'K'), ('H', 'L'), ('H', 'M'), ('H', 'N'), ('I', 'J'), ('I', 'K'), ('I', 'L'), ('I', 'M'), ('I', 'N'), ('J', 'K'), ('J', 'L'), ('J', 'M'), ('J', 'N'), ('K', 'L'), ('K', 'M'), ('K', 'N'), ('L', 'M'), ('L', 'N'), ('M', 'N')]\n",
      "91\n"
     ]
    }
   ],
   "source": [
    "print(list(itertools.combinations(baggage,2)))\n",
    "print(len(list(itertools.combinations(baggage,2))))"
   ]
  },
  {
   "cell_type": "code",
   "execution_count": 23,
   "metadata": {},
   "outputs": [
    {
     "name": "stdout",
     "output_type": "stream",
     "text": [
      "[6, 5, 4, 3, 2, 1] 30 2 15.0\n"
     ]
    }
   ],
   "source": [
    "def comb_num(n,r):\n",
    "    n_list=[i for i in range(n,0,-1)]\n",
    "    cnum=0\n",
    "    up=1\n",
    "    down=1\n",
    "    up_list=n_list[:r]\n",
    "    down_list=n_list[-r:]\n",
    "    for i in up_list:\n",
    "        up *= i\n",
    "    for j in down_list:\n",
    "        down *= j\n",
    "    cnum=up/down\n",
    "    print(n_list,up,down,cnum)\n",
    "comb_num(6,2)\n"
   ]
  },
  {
   "cell_type": "code",
   "execution_count": 13,
   "metadata": {},
   "outputs": [
    {
     "data": {
      "text/plain": [
       "[6, 5, 4, 3, 2, 1]"
      ]
     },
     "execution_count": 13,
     "metadata": {},
     "output_type": "execute_result"
    }
   ],
   "source": [
    "[i for i in range(6,0,-1)]"
   ]
  }
 ],
 "metadata": {
  "kernelspec": {
   "display_name": "Python 3.8.13 ('GDW')",
   "language": "python",
   "name": "python3"
  },
  "language_info": {
   "codemirror_mode": {
    "name": "ipython",
    "version": 3
   },
   "file_extension": ".py",
   "mimetype": "text/x-python",
   "name": "python",
   "nbconvert_exporter": "python",
   "pygments_lexer": "ipython3",
   "version": "3.8.13"
  },
  "orig_nbformat": 4,
  "vscode": {
   "interpreter": {
    "hash": "9512f24219e729098bc0f30caa9285407db90c80b780d5e3a7fd78ad6fa2427c"
   }
  }
 },
 "nbformat": 4,
 "nbformat_minor": 2
}
