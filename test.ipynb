{
 "cells": [
  {
   "cell_type": "code",
   "execution_count": 1,
   "metadata": {},
   "outputs": [],
   "source": [
    "a = 10"
   ]
  },
  {
   "cell_type": "code",
   "execution_count": 2,
   "metadata": {},
   "outputs": [
    {
     "name": "stdout",
     "output_type": "stream",
     "text": [
      "1010\n"
     ]
    }
   ],
   "source": [
    "print(f'{a:b}')"
   ]
  },
  {
   "cell_type": "code",
   "execution_count": 3,
   "metadata": {},
   "outputs": [
    {
     "name": "stdout",
     "output_type": "stream",
     "text": [
      "a\n"
     ]
    }
   ],
   "source": [
    "print(f'{a:x}')"
   ]
  },
  {
   "cell_type": "code",
   "execution_count": 4,
   "metadata": {},
   "outputs": [
    {
     "name": "stdout",
     "output_type": "stream",
     "text": [
      "00001010\n"
     ]
    }
   ],
   "source": [
    "print(f'{a:08b}')"
   ]
  },
  {
   "cell_type": "code",
   "execution_count": 21,
   "metadata": {},
   "outputs": [],
   "source": [
    "#addi x1 x0 1\n",
    "immediate = 1\n",
    "rs1 = 9\n",
    "funct3 = 0\n",
    "rd = 8\n",
    "opecode = 19\n",
    "order = [immediate,rs1,funct3,rd,opecode]\n",
    "bit = [12,5,3,5,7]\n",
    "bit_order = ''\n",
    "for i,j in enumerate(order):\n",
    "    bit_order+=format(j,f'0{bit[i]}b')\n",
    "\n"
   ]
  },
  {
   "cell_type": "code",
   "execution_count": 22,
   "metadata": {},
   "outputs": [
    {
     "name": "stdout",
     "output_type": "stream",
     "text": [
      "00000000000101001000010000010011\n"
     ]
    }
   ],
   "source": [
    "print(bit_order)\n",
    "true_order = '00000000000101001000010000010011'\n",
    "#00000000000101001000010000010011"
   ]
  },
  {
   "cell_type": "code",
   "execution_count": 23,
   "metadata": {},
   "outputs": [
    {
     "name": "stdout",
     "output_type": "stream",
     "text": [
      "True\n"
     ]
    }
   ],
   "source": [
    "print(bit_order == true_order)"
   ]
  },
  {
   "cell_type": "code",
   "execution_count": 40,
   "metadata": {},
   "outputs": [
    {
     "name": "stdout",
     "output_type": "stream",
     "text": [
      "00148413\n"
     ]
    }
   ],
   "source": [
    "int_order = int(bit_order,2)\n",
    "hex_order = format(int_order,'08x')\n",
    "print(hex_order)"
   ]
  },
  {
   "cell_type": "code",
   "execution_count": 28,
   "metadata": {},
   "outputs": [],
   "source": [
    "a =0b0001"
   ]
  },
  {
   "cell_type": "code",
   "execution_count": 29,
   "metadata": {},
   "outputs": [
    {
     "name": "stdout",
     "output_type": "stream",
     "text": [
      "1\n"
     ]
    }
   ],
   "source": [
    "print(a & 0b1111)"
   ]
  },
  {
   "cell_type": "code",
   "execution_count": 35,
   "metadata": {},
   "outputs": [
    {
     "name": "stdout",
     "output_type": "stream",
     "text": [
      "0b11111000\n"
     ]
    }
   ],
   "source": [
    "print(bin(-8 & 0b11111111))"
   ]
  },
  {
   "cell_type": "code",
   "execution_count": 37,
   "metadata": {},
   "outputs": [
    {
     "name": "stdout",
     "output_type": "stream",
     "text": [
      "11111000\n"
     ]
    }
   ],
   "source": [
    "print(format(-8 & 0b11111111,'08b'))"
   ]
  }
 ],
 "metadata": {
  "interpreter": {
   "hash": "bae489d056b3b2fb3da90055ea9058b18f6663cd5fc5b4a870a71c1d277c079c"
  },
  "kernelspec": {
   "display_name": "Python 3.8.0 ('DGL2')",
   "language": "python",
   "name": "python3"
  },
  "language_info": {
   "codemirror_mode": {
    "name": "ipython",
    "version": 3
   },
   "file_extension": ".py",
   "mimetype": "text/x-python",
   "name": "python",
   "nbconvert_exporter": "python",
   "pygments_lexer": "ipython3",
   "version": "3.8.0"
  },
  "orig_nbformat": 4,
  "vscode": {
   "interpreter": {
    "hash": "75e17f8d3ee38eec6defc8bec53d4ec895188fbdc79a3238a84d9b54a33d5e0a"
   }
  }
 },
 "nbformat": 4,
 "nbformat_minor": 2
}
