{
 "cells": [
  {
   "cell_type": "code",
   "execution_count": 7,
   "metadata": {},
   "outputs": [],
   "source": [
    "class sample:\n",
    "    def set_status(self,name,age,sex):\n",
    "        self.name = name\n",
    "        self.age = age\n",
    "        self.sex = sex\n",
    "\n",
    "    def print_data(self):\n",
    "        print(f'わたしは{self.name}です。{self.age}歳の{self.sex}です。')"
   ]
  },
  {
   "cell_type": "code",
   "execution_count": 8,
   "metadata": {},
   "outputs": [],
   "source": [
    "s1 = sample()"
   ]
  },
  {
   "cell_type": "code",
   "execution_count": 9,
   "metadata": {},
   "outputs": [],
   "source": [
    "s1.set_status('Kishimoto',22,'men')"
   ]
  },
  {
   "cell_type": "code",
   "execution_count": 10,
   "metadata": {},
   "outputs": [
    {
     "name": "stdout",
     "output_type": "stream",
     "text": [
      "わたしはKishimotoです。22歳のmenです。\n"
     ]
    }
   ],
   "source": [
    "s1.print_data()"
   ]
  },
  {
   "cell_type": "markdown",
   "metadata": {},
   "source": [
    "trainとtestで処理がほぼ一緒。データが違うだけ。作るグラフの種類は現在のところ2種類。  \n",
    "それぞれの種類ごとのクラスを作成。作るときにインスタンスを作成する。"
   ]
  }
 ],
 "metadata": {
  "interpreter": {
   "hash": "bae489d056b3b2fb3da90055ea9058b18f6663cd5fc5b4a870a71c1d277c079c"
  },
  "kernelspec": {
   "display_name": "Python 3.8.0 ('DGL2')",
   "language": "python",
   "name": "python3"
  },
  "language_info": {
   "codemirror_mode": {
    "name": "ipython",
    "version": 3
   },
   "file_extension": ".py",
   "mimetype": "text/x-python",
   "name": "python",
   "nbconvert_exporter": "python",
   "pygments_lexer": "ipython3",
   "version": "3.8.0"
  },
  "orig_nbformat": 4
 },
 "nbformat": 4,
 "nbformat_minor": 2
}
