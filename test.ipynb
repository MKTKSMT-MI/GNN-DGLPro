{
 "cells": [
  {
   "attachments": {},
   "cell_type": "markdown",
   "metadata": {},
   "source": [
    "動的にネットワークを構築する書き方。複数種類のネットワークを構築するために構造をyaml形式の設定ファイル(config.yaml)に書き、読み込みインスタンスを作成する。"
   ]
  },
  {
   "cell_type": "code",
   "execution_count": 1,
   "metadata": {},
   "outputs": [],
   "source": [
    "import dgl\n",
    "from dgl.data import DGLDataset\n",
    "import torch\n",
    "import torchvision\n",
    "import torchvision.transforms as transforms\n",
    "import torch.nn as nn\n",
    "import torch.nn.functional as F\n",
    "import dgl.data\n",
    "from dgl.nn import GraphConv,MaxPooling\n",
    "import matplotlib.pyplot as plt\n",
    "from tqdm import tqdm\n",
    "import torch.optim as optim\n",
    "import numpy as np\n",
    "import time\n",
    "from dgl.dataloading import GraphDataLoader\n",
    "from torch.utils.data.sampler import SubsetRandomSampler\n",
    "import os\n",
    "import yaml\n",
    "\n",
    "\n",
    "%matplotlib inline"
   ]
  },
  {
   "cell_type": "code",
   "execution_count": 5,
   "metadata": {},
   "outputs": [],
   "source": [
    "#動的にネットワークを構築。nn.ModuleListで中間層をリスト形式で構築。\n",
    "class DynamicNet(nn.Module):\n",
    "    def __init__(self, input_size, hidden_sizes, output_size):\n",
    "        super(DynamicNet, self).__init__()\n",
    "        # ネットワーク内のパラメータを定義します。\n",
    "        self.input_layer = nn.Linear(input_size, hidden_sizes[0])\n",
    "        self.middle_layers = nn.ModuleList([nn.Linear(hidden_sizes[i], hidden_sizes[i+1]) for i in range(len(hidden_sizes)-1)])\n",
    "        self.output_layer = nn.Linear(hidden_sizes[-1], output_size)\n",
    "\n",
    "    def forward(self, x):\n",
    "        # forward関数を定義します。この関数は、xを入力として受け取り、出力yを返します。\n",
    "        h_relu = self.input_layer(x).clamp(min=0)\n",
    "        for layer in self.middle_layers:\n",
    "            h_relu = layer(h_relu).clamp(min=0)\n",
    "        y_pred = self.output_layer(h_relu)\n",
    "        return y_pred\n"
   ]
  },
  {
   "cell_type": "code",
   "execution_count": 6,
   "metadata": {},
   "outputs": [
    {
     "data": {
      "text/plain": [
       "[DynamicNet(\n",
       "   (input_layer): Linear(in_features=81, out_features=60, bias=True)\n",
       "   (middle_layers): ModuleList(\n",
       "     (0): Linear(in_features=60, out_features=40, bias=True)\n",
       "     (1): Linear(in_features=40, out_features=30, bias=True)\n",
       "   )\n",
       "   (output_layer): Linear(in_features=30, out_features=10, bias=True)\n",
       " ),\n",
       " DynamicNet(\n",
       "   (input_layer): Linear(in_features=81, out_features=200, bias=True)\n",
       "   (middle_layers): ModuleList(\n",
       "     (0): Linear(in_features=200, out_features=100, bias=True)\n",
       "     (1): Linear(in_features=100, out_features=50, bias=True)\n",
       "   )\n",
       "   (output_layer): Linear(in_features=50, out_features=10, bias=True)\n",
       " )]"
      ]
     },
     "execution_count": 6,
     "metadata": {},
     "output_type": "execute_result"
    }
   ],
   "source": [
    "#設定ファイル(config.yaml)を読み込む\n",
    "with open('./garbage/config.yaml','r') as f:\n",
    "    config=yaml.safe_load(f)\n",
    "\n",
    "nets=[]\n",
    "#configから設定ごとに各数値を読み込み、ネットワークを構築し、netsに格納する。\n",
    "for model in config:\n",
    "    input_size=config[model]['input_size']\n",
    "    hidden_size = config[model]['hidden_size']\n",
    "    output_size = config[model]['output_size']\n",
    "\n",
    "    net=DynamicNet(input_size,hidden_size,output_size)\n",
    "    nets.append(net)\n",
    "\n",
    "nets"
   ]
  },
  {
   "cell_type": "code",
   "execution_count": 7,
   "metadata": {},
   "outputs": [
    {
     "name": "stdout",
     "output_type": "stream",
     "text": [
      "[200, 100, 50]\n"
     ]
    }
   ],
   "source": [
    "print(hidden_size)"
   ]
  },
  {
   "cell_type": "code",
   "execution_count": 6,
   "metadata": {},
   "outputs": [],
   "source": [
    "input_size, hidden_sizes, output_size = 10, [20, 30, 40], 5\n",
    "net = DynamicNet(input_size, hidden_sizes, output_size)"
   ]
  },
  {
   "cell_type": "code",
   "execution_count": 9,
   "metadata": {},
   "outputs": [],
   "source": [
    "#ダミーの結果をyaml形式で保存するコード\n",
    "log={\"loss\":[0.5,0.4,0.3,0.2,0.1],\n",
    "     \"acc\":[0.8,0.85,0.9,0.95,0.98]}\n",
    "filename='test_log.yaml'\n",
    "with open(filename,\"w\") as f:\n",
    "    yaml.dump(log,f,default_flow_style=False)"
   ]
  }
 ],
 "metadata": {
  "kernelspec": {
   "display_name": "GDW",
   "language": "python",
   "name": "python3"
  },
  "language_info": {
   "codemirror_mode": {
    "name": "ipython",
    "version": 3
   },
   "file_extension": ".py",
   "mimetype": "text/x-python",
   "name": "python",
   "nbconvert_exporter": "python",
   "pygments_lexer": "ipython3",
   "version": "3.8.13"
  },
  "orig_nbformat": 4,
  "vscode": {
   "interpreter": {
    "hash": "9512f24219e729098bc0f30caa9285407db90c80b780d5e3a7fd78ad6fa2427c"
   }
  }
 },
 "nbformat": 4,
 "nbformat_minor": 2
}
