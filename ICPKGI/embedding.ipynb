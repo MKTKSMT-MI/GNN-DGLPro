{
 "cells": [
  {
   "cell_type": "code",
   "execution_count": 1,
   "metadata": {},
   "outputs": [],
   "source": [
    "import torch\n",
    "from sklearn.cluster import KMeans\n",
    "from sklearn.manifold import TSNE\n",
    "import matplotlib.pyplot as plt\n",
    "import japanize_matplotlib\n",
    "import numpy as np\n",
    "import torch\n",
    "import torch.nn as nn\n",
    "import torch.optim as optim\n",
    "from torch.utils.data import DataLoader, TensorDataset\n",
    "from dgl.nn import GraphConv,SAGEConv\n",
    "import dgl\n",
    "from dgl.data import DGLDataset\n",
    "import seaborn as sns\n",
    "import random\n",
    "from tqdm import tqdm"
   ]
  },
  {
   "cell_type": "code",
   "execution_count": null,
   "metadata": {},
   "outputs": [],
   "source": [
    "#データセットのグラフをクラス別のグラフごとに分割する\n",
    "#train用とtest用に分割する\n",
    "#各クラス別のグラフをそれぞれバッチグラフにする\n",
    "#クラス順にembeddingネットワークに入力し埋め込み表現を取得しクラス別に保持\n",
    "#各埋め込み表現のベクトルを同構造のグラフにノード特徴として代入\n",
    "#各埋め込みグラフを一つのグラフに統合\n",
    "#テスト用グラフをembeddingネットワークに入力\n",
    "#得られた埋め込み表現ベクトルと統合グラフと類似度を計算し最も高いクラスを予測クラスとする\n"
   ]
  },
  {
   "cell_type": "code",
   "execution_count": 2,
   "metadata": {},
   "outputs": [],
   "source": [
    "class ICPKGIDataset(DGLDataset):\n",
    "    def __init__(self,data_path,transforms=None):\n",
    "        self.data_path = data_path\n",
    "        self.transforms = transforms\n",
    "        super().__init__(name='ICPKGI_gprah')\n",
    "    \n",
    "    def process(self):\n",
    "        GRAPHS, LABELS = dgl.load_graphs(self.data_path) #保存したグラーフデータの読み込み\n",
    "        self.graphs = GRAPHS #グラフリストを代入\n",
    "        self.labels = LABELS['label'] #ラベル辞書の値のみ代入\n",
    "        self.dim_nfeats=len(self.graphs[0].ndata['f'][0])\n",
    "\n",
    "    def __getitem__(self, idx):\n",
    "        if self.transforms == None:\n",
    "            return self.graphs[idx], self.labels[idx]\n",
    "        else:\n",
    "            data=self.transforms(self.graphs[idx])\n",
    "            return data,self.labels[idx]\n",
    "    def __len__(self):\n",
    "        return len(self.graphs)\n",
    "    \n",
    "\n",
    "class EmbeddingNetwork(nn.Module):\n",
    "    def __init__(self, in_feats, hidden_feats, out_feats):\n",
    "        super(EmbeddingNetwork, self).__init__()\n",
    "        self.conv1 = SAGEConv(in_feats, hidden_feats, aggregator_type='mean')\n",
    "        self.conv2 = SAGEConv(hidden_feats, hidden_feats, aggregator_type='mean')\n",
    "        self.conv3 = SAGEConv(hidden_feats, out_feats, aggregator_type='mean')\n",
    "        '''self.conv1 = GraphConv(in_feats, hidden_feats)\n",
    "        self.conv2 = GraphConv(hidden_feats, hidden_feats)'''\n",
    "        self.flatt=nn.Flatten()\n",
    "\n",
    "    def forward(self, g, features):\n",
    "        '''x=self.flatt(features)\n",
    "        x = torch.relu(self.conv1(g, x))\n",
    "        x = self.conv2(g, x)\n",
    "        #x = self.conv3(g,x)'''\n",
    "        \n",
    "        x = self.flatt(features)\n",
    "        x = torch.relu(self.conv1(g,x))\n",
    "        x = torch.relu(self.conv2(g,x))\n",
    "        x = self.conv3(g,x)\n",
    "\n",
    "        g.ndata['h'] = x\n",
    "        return g\n",
    "    \n",
    "\n",
    "def train_test_split(data,data_num):\n",
    "    shuffle_data=random.sample(data,len(data))\n",
    "    return shuffle_data[:-data_num], shuffle_data[-data_num:]\n"
   ]
  },
  {
   "cell_type": "code",
   "execution_count": 3,
   "metadata": {},
   "outputs": [],
   "source": [
    "graphs=[[] for _ in range(5)]\n",
    "dataset=ICPKGIDataset('../data/ICPKGI/8patch_gray.dgl')\n"
   ]
  },
  {
   "cell_type": "code",
   "execution_count": 4,
   "metadata": {},
   "outputs": [],
   "source": [
    "for graph,label in dataset:\n",
    "    graphs[label].append(graph)"
   ]
  },
  {
   "cell_type": "code",
   "execution_count": 5,
   "metadata": {},
   "outputs": [
    {
     "name": "stdout",
     "output_type": "stream",
     "text": [
      "45\n",
      "377\n",
      "97\n",
      "212\n",
      "26\n"
     ]
    }
   ],
   "source": [
    "for i in graphs:\n",
    "    print(len(i))"
   ]
  },
  {
   "cell_type": "code",
   "execution_count": 5,
   "metadata": {},
   "outputs": [
    {
     "name": "stderr",
     "output_type": "stream",
     "text": [
      "100%|██████████| 100/100 [01:10<00:00,  1.42it/s]"
     ]
    },
    {
     "name": "stdout",
     "output_type": "stream",
     "text": [
      "class 0 ----- min:0.1  max:0.8  average:0.4359999999999999\n",
      "class 1 ----- min:0.0  max:0.8  average:0.266\n",
      "class 2 ----- min:0.0  max:0.7  average:0.38799999999999985\n",
      "class 3 ----- min:0.2  max:0.9  average:0.46999999999999986\n",
      "class 4 ----- min:0.0  max:0.4  average:0.185\n"
     ]
    },
    {
     "name": "stderr",
     "output_type": "stream",
     "text": [
      "\n"
     ]
    }
   ],
   "source": [
    "#device = torch.device('cuda:1' if torch.cuda.is_available() else 'cpu')\n",
    "\n",
    "attempts_number=100\n",
    "cos=nn.CosineSimilarity(2)\n",
    "data_log={f'{i}':[] for i in range(5)}\n",
    "for att in tqdm(range(attempts_number)):\n",
    "    car_embedding=[]\n",
    "    test_graphs=[]\n",
    "    test_data_num=10\n",
    "    model=EmbeddingNetwork(in_feats=1024,hidden_feats=512,out_feats=128)\n",
    "    #model.to(device)\n",
    "\n",
    "    #埋め込み\n",
    "    for i in range(5):\n",
    "        train,test=train_test_split(graphs[i],test_data_num)\n",
    "        #train,test=train.to(device),test.to(device)\n",
    "        test_graphs.append(test)\n",
    "        #graphs_batched=dgl.batch(train).to(device)\n",
    "        graphs_batched=dgl.batch(train)\n",
    "        with torch.no_grad():\n",
    "            embedding_graph=model(graphs_batched,graphs_batched.ndata['f'])\n",
    "        unbatch_embedd_graphs=dgl.unbatch(embedding_graph)\n",
    "        stack_feat=torch.stack([g.ndata['h'] for g in unbatch_embedd_graphs],dim=0)\n",
    "        embedding_feat=torch.mean(stack_feat,dim=0)\n",
    "        car_embedding.append(embedding_feat)\n",
    "    car_embedding=torch.stack([d for d in car_embedding],0)\n",
    "\n",
    "    #テスト\n",
    "    for j in range(5):\n",
    "        #graphs_batched=dgl.batch(test_graphs[j]).to(device)\n",
    "        graphs_batched=dgl.batch(test_graphs[j])\n",
    "        with torch.no_grad():\n",
    "            embedding_graph=model(graphs_batched,graphs_batched.ndata['f'])\n",
    "        unbatch_embedd_graphs=dgl.unbatch(embedding_graph)\n",
    "        test_embedds=torch.stack([g.ndata['h'] for g in unbatch_embedd_graphs],dim=0)\n",
    "        \n",
    "        pred=[]\n",
    "        labels=torch.tensor([j for _ in range(test_data_num)])\n",
    "        for te in test_embedds:\n",
    "            #cos_simi=torch.mean(cos(te,car_embedding),1)\n",
    "            cos_simi=torch.mean(torch.abs(cos(te,car_embedding)),1)\n",
    "            pred.append(cos_simi.argmax().item())\n",
    "        num_correct = (torch.tensor(pred) == labels).sum().item()\n",
    "        data_log[f'{j}'].append(num_correct/test_data_num)\n",
    "for k in range(5):\n",
    "    log=data_log[f'{k}']\n",
    "    print(f'class {k} ----- min:{min(log)}  max:{max(log)}  average:{sum(log)/len(log)}')"
   ]
  },
  {
   "cell_type": "code",
   "execution_count": 8,
   "metadata": {},
   "outputs": [
    {
     "name": "stdout",
     "output_type": "stream",
     "text": [
      "[0 0 0 0 0 0 0 0 0 0 0]\n"
     ]
    }
   ],
   "source": [
    "plot_data=np.zeros((5,11),dtype=np.int8)\n",
    "print(plot_data[0])\n",
    "for d in data_log:\n",
    "    for e in data_log[d]:\n",
    "        #print(int(e*10))\n",
    "        val=int(e*10)\n",
    "        plot_data[int(d)][val]+=1"
   ]
  },
  {
   "cell_type": "code",
   "execution_count": 11,
   "metadata": {},
   "outputs": [
    {
     "data": {
      "image/png": "[encoded data removed]",
      "text/plain": [
       "<Figure size 2200x200 with 5 Axes>"
      ]
     },
     "metadata": {},
     "output_type": "display_data"
    }
   ],
   "source": [
    "plt.figure(figsize=(22,2))\n",
    "for p in range(5):\n",
    "    plt.subplot(1,5,p+1)\n",
    "    plt.title(f'class {p}')\n",
    "    plt.ylim(0,100)\n",
    "    plt.ylabel('回数')\n",
    "    plt.xlabel('accuracy')\n",
    "    plt.plot(np.arange(11)/10,plot_data[p])\n",
    "plt.show()"
   ]
  },
  {
   "cell_type": "code",
   "execution_count": null,
   "metadata": {},
   "outputs": [],
   "source": [
    "plt.figure(figsize=(20,2))\n",
    "for p in range(5):\n",
    "    plt.subplot(1,5,p+1)\n",
    "    plt.title(f'class {p}')\n",
    "    plt.ylim(0,100)\n",
    "    plt.xlabel('accuracy')\n",
    "    plt.plot(np.arange(11)/10,plot_data[p])\n",
    "plt.show()"
   ]
  },
  {
   "cell_type": "code",
   "execution_count": null,
   "metadata": {},
   "outputs": [],
   "source": [
    "'''# 共通の埋め込みを学習するモデルの定義\n",
    "class CommonEmbeddingModel(nn.Module):\n",
    "    def __init__(self, g,input_dim, embedding_dim):\n",
    "        super(CommonEmbeddingModel, self).__init__()\n",
    "        self.embedding_layer = GraphConv(input_dim,embedding_dim)\n",
    "\n",
    "    def forward(self, x):\n",
    "        return self.embedding_layer(g,x)\n",
    "'''\n",
    "class CommonEmbeddingModel(nn.Module):\n",
    "    def __init__(self, input_dim, embedding_dim):\n",
    "        super(CommonEmbeddingModel, self).__init__()\n",
    "        self.embedding_layer = nn.Linear(input_dim, embedding_dim)\n",
    "\n",
    "    def forward(self, x):\n",
    "        return self.embedding_layer(x)\n",
    "    \n",
    "input_dim=10\n",
    "# G1のダミーデータ（例）\n",
    "G1_data = torch.randn((5, input_dim))\n",
    "\n",
    "# G1の各ノードの埋め込みを取得\n",
    "with torch.no_grad():\n",
    "    embeddings_G1 = CommonEmbeddingModel(10,50)\n",
    "    embeddings_G1 = embeddings_G1(G1_data)\n",
    "\n",
    "# t-SNEを使用して埋め込みを2次元に削減\n",
    "tsne = TSNE(n_components=2, random_state=42, perplexity=3)\n",
    "embedded_G1 = tsne.fit_transform(embeddings_G1.numpy())\n",
    "\n",
    "# k-meansクラスタリングを実行\n",
    "num_clusters = 3  # クラスタ数\n",
    "kmeans = KMeans(n_clusters=num_clusters, random_state=42)\n",
    "cluster_labels = kmeans.fit_predict(embeddings_G1)\n",
    "\n",
    "# クラスタリング結果を可視化\n",
    "plt.figure(figsize=(8, 8))\n",
    "for i in range(len(embedded_G1)):\n",
    "    color = 'blue' if cluster_labels[i] == 0 else 'red' if cluster_labels[i] == 1 else 'green'\n",
    "    plt.scatter(embedded_G1[i, 0], embedded_G1[i, 1], c=color)\n",
    "\n",
    "plt.title('k-means Clustering of G1 Embeddings')\n",
    "plt.show()\n"
   ]
  },
  {
   "cell_type": "code",
   "execution_count": null,
   "metadata": {},
   "outputs": [],
   "source": [
    "import numpy as np\n",
    "from sklearn.manifold import TSNE\n",
    "X = np.array([[0, 0, 0], [0, 1, 1], [1, 0, 1], [1, 1, 1]])\n",
    "X_embedded = TSNE(n_components=2, learning_rate='auto',\n",
    "                  init='random', perplexity=3).fit_transform(X)\n"
   ]
  },
  {
   "cell_type": "code",
   "execution_count": null,
   "metadata": {},
   "outputs": [],
   "source": [
    "print(X_embedded)"
   ]
  },
  {
   "cell_type": "code",
   "execution_count": null,
   "metadata": {},
   "outputs": [],
   "source": [
    "# グラフの初期化\n",
    "g = dgl.DGLGraph()\n",
    "g.add_nodes(5)  # 5つのノードを追加\n",
    "\n",
    "# エッジの追加（例：0から1、1から2、2から3、3から4、4から0へのエッジを追加）\n",
    "src = [0, 1, 2, 3, 4,0,0]\n",
    "dst = [1, 2, 3, 4, 0,2,4]\n",
    "g.add_edges(src, dst)\n",
    "g.ndata['f']=torch.randn((5,10))"
   ]
  },
  {
   "cell_type": "code",
   "execution_count": null,
   "metadata": {},
   "outputs": [],
   "source": [
    "dgl.sampling.node2vec_random_walk(g,[0,1,2],1,1,4)"
   ]
  },
  {
   "cell_type": "code",
   "execution_count": null,
   "metadata": {},
   "outputs": [],
   "source": [
    "import dgl\n",
    "import torch\n",
    "import dgl.nn as dglnn\n",
    "from sklearn.cluster import KMeans\n",
    "\n",
    "# Coraデータセットの読み込み\n",
    "data = dgl.data.CoraGraphDataset()\n",
    "g = data[0]\n"
   ]
  },
  {
   "cell_type": "code",
   "execution_count": null,
   "metadata": {},
   "outputs": [],
   "source": [
    "print(g.ndata['feat'].shape)"
   ]
  },
  {
   "cell_type": "code",
   "execution_count": null,
   "metadata": {},
   "outputs": [],
   "source": [
    "class GraphSAGE(nn.Module):\n",
    "    def __init__(self, in_feats, hidden_feats, out_feats):\n",
    "        super(GraphSAGE, self).__init__()\n",
    "        self.sage1 = dglnn.SAGEConv(in_feats=in_feats, out_feats=hidden_feats, aggregator_type='mean')\n",
    "        self.sage2 = dglnn.SAGEConv(in_feats=hidden_feats, out_feats=out_feats, aggregator_type='mean')\n",
    "\n",
    "    def forward(self, g, features):\n",
    "        x = self.sage1(g, features)\n",
    "        x = torch.relu(x)\n",
    "        x = self.sage2(g, x)\n",
    "        x = torch.relu(x)\n",
    "        return x\n",
    "    \n",
    "\n",
    "model = GraphSAGE(in_feats=1433, hidden_feats=128, out_feats=128)\n",
    "# ノードの特徴量の取得\n",
    "node_features = g.ndata['feat']\n",
    "\n",
    "# グラフに特徴量を適用して埋め込みを学習\n",
    "with torch.no_grad():\n",
    "    emb = model(g, node_features)\n",
    "\n",
    "# 学習された埋め込みを使用してクラスタリング\n",
    "num_clusters = 10  # クラスタ数を指定\n",
    "kmeans = KMeans(n_clusters=num_clusters)\n",
    "kmeans.fit(emb.cpu().numpy())\n",
    "\n",
    "# 各ノードの所属クラスタを取得\n",
    "cluster_labels = kmeans.labels_\n",
    "\n",
    "# 結果の表示\n",
    "for node, label in enumerate(cluster_labels):\n",
    "    print(f\"Node {node} belongs to cluster {label}\")\n"
   ]
  },
  {
   "cell_type": "code",
   "execution_count": null,
   "metadata": {},
   "outputs": [],
   "source": [
    "import dgl\n",
    "import torch\n",
    "import dgl.nn as dglnn\n",
    "from dgl.dataloading import GraphDataLoader\n",
    "import torch.nn as nn\n",
    "\n",
    "'''# ダミーデータとしてラベル0のグラフ5つを作成\n",
    "graphs = [dgl.graph(([0, 1, 1, 2], [1, 2, 3, 3])) for _ in range(5)]\n",
    "# ランダムな特徴量をノードに割り当てる\n",
    "for graph in graphs:\n",
    "    graph = dgl.add_self_loop(graph)\n",
    "    graph.ndata['feat'] = torch.randn(graph.num_nodes(), 1)\n",
    "print(graphs)'''\n",
    "graphs=[]\n",
    "for _ in range(720):\n",
    "    graph = dgl.graph(([0, 1, 1, 2], [1, 2, 3, 3]))\n",
    "    graph = dgl.add_self_loop(graph)\n",
    "    graph.ndata['feat'] = torch.randn(graph.num_nodes(), 1)\n",
    "    graphs.append(graph)\n",
    "# GCNモデルの定義\n",
    "class GCN(nn.Module):\n",
    "    def __init__(self, in_feats, hidden_feats, out_feats):\n",
    "        super(GCN, self).__init__()\n",
    "        self.conv1 = dglnn.GraphConv(in_feats, hidden_feats)\n",
    "        self.conv2 = dglnn.GraphConv(hidden_feats, out_feats)\n",
    "\n",
    "    def forward(self, g, features):\n",
    "        x = torch.relu(self.conv1(g, features))\n",
    "        x = self.conv2(g, x)\n",
    "        g.ndata['h'] = x\n",
    "        return dgl.mean_nodes(g,'h')\n",
    "\n",
    "# モデルの初期化\n",
    "model = GCN(in_feats=1, hidden_feats=16, out_feats=3)  # 仮の次元とクラス数\n",
    "\n",
    "# グラフをバッチ化し、GCNにかけて埋め込みを取得\n",
    "graphs_batched = dgl.batch(graphs)\n",
    "#print(graphs_batched.ndata['feat'])\n",
    "with torch.no_grad():\n",
    "    embeddings = model(graphs_batched, graphs_batched.ndata['feat'])\n",
    "\n",
    "\n",
    "'''# 生成した新しいグラフの構造を取得\n",
    "new_graph = dgl.to_bidirected(graphs[0].clone())  # 新しいグラフの構造を学習したい場合、最初のグラフをクローンする\n",
    "\n",
    "# 新しいグラフの埋め込みを取得\n",
    "with torch.no_grad():\n",
    "    new_embeddings = model(new_graph, new_graph.ndata['feat'])'''\n",
    "# ラベル0の埋め込み表現\n",
    "print(\"Label 0 Embedding:\", embeddings.shape)\n"
   ]
  },
  {
   "cell_type": "code",
   "execution_count": null,
   "metadata": {},
   "outputs": [],
   "source": [
    "cos=nn.CosineSimilarity(1)\n",
    "p0=torch.randn(5,10)\n",
    "p1=torch.randn(10,10)\n",
    "\n",
    "print(cos(p0,p1))"
   ]
  }
 ],
 "metadata": {
  "kernelspec": {
   "display_name": "DGL",
   "language": "python",
   "name": "python3"
  },
  "language_info": {
   "codemirror_mode": {
    "name": "ipython",
    "version": 3
   },
   "file_extension": ".py",
   "mimetype": "text/x-python",
   "name": "python",
   "nbconvert_exporter": "python",
   "pygments_lexer": "ipython3",
   "version": "3.10.13"
  }
 },
 "nbformat": 4,
 "nbformat_minor": 2
}
