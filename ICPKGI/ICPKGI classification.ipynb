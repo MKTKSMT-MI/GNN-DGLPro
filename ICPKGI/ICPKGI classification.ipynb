{
 "cells": [
  {
   "cell_type": "code",
   "execution_count": 32,
   "metadata": {},
   "outputs": [],
   "source": [
    "import torch\n",
    "from sklearn.cluster import KMeans\n",
    "from sklearn.manifold import TSNE\n",
    "import matplotlib.pyplot as plt\n",
    "import japanize_matplotlib\n",
    "import numpy as np\n",
    "import torch\n",
    "import torch.nn as nn\n",
    "import torch.nn.functional as F\n",
    "import torch.optim as optim\n",
    "from torch.utils.data import DataLoader, TensorDataset\n",
    "from dgl.nn import GraphConv,SAGEConv\n",
    "import dgl\n",
    "from dgl.data import DGLDataset\n",
    "from dgl.dataloading import GraphDataLoader\n",
    "import seaborn as sns\n",
    "import random\n",
    "from tqdm import tqdm\n",
    "import sklearn\n",
    "from sklearn.model_selection import train_test_split\n",
    "import os\n",
    "import yaml\n",
    "import time\n",
    "import datetime\n",
    "from modules import ICPKGIDataset\n",
    "from models import PatchGCN"
   ]
  },
  {
   "cell_type": "code",
   "execution_count": 3,
   "metadata": {},
   "outputs": [
    {
     "data": {
      "text/plain": [
       "'\\nデータセットを読み込む\\nデータローダーをシャッフルで作成\\nモデルにデータを入力\\n1epoch終了後各物体の視線方向ごとのデータを入力し中間層の出力を得る\\n出力の特徴マップを同じ位置のノードごとの平均をとってその方向の特徴グラフとする\\nテストデータを同様の手順で処理し特徴グラフを取得する。ただしそれぞれのデータで行う\\n学習における分類精度と特徴グラフによる分類精度を計算し保存する\\n分類学習における予測と正解を用いて損失を計算しネットワークを更新する\\nすべてのテストデータに対して行ったのち全epochについて行う\\nこのファイルは1種類の物体について分類を行うファイルとする\\n'"
      ]
     },
     "execution_count": 3,
     "metadata": {},
     "output_type": "execute_result"
    }
   ],
   "source": [
    "'''\n",
    "データセットを読み込む\n",
    "データローダーをシャッフルで作成\n",
    "モデルにデータを入力\n",
    "1epoch終了後各物体の視線方向ごとのデータを入力し中間層の出力を得る\n",
    "出力の特徴マップを同じ位置のノードごとの平均をとってその方向の特徴グラフとする\n",
    "テストデータを同様の手順で処理し特徴グラフを取得する。ただしそれぞれのデータで行う\n",
    "学習における分類精度と特徴グラフによる分類精度を計算し保存する\n",
    "分類学習における予測と正解を用いて損失を計算しネットワークを更新する\n",
    "すべてのテストデータに対して行ったのち全epochについて行う\n",
    "このファイルは1種類の物体について分類を行うファイルとする\n",
    "'''"
   ]
  },
  {
   "cell_type": "code",
   "execution_count": 29,
   "metadata": {},
   "outputs": [],
   "source": [
    "device = torch.device('cuda:1' if torch.cuda.is_available() else 'cpu')\n",
    "object_name = 'airplane'  #car bus airplane\n",
    "setting_file = \"config2.yaml\"\n",
    "\n",
    "#データ読み込み\n",
    "dataset=ICPKGIDataset(f'../data/ICPKGI/8patch_gray_{object_name}.dgl')\n",
    "\n",
    "#各クラスから均等に10個ずつテスト用として抜き出しtrainデータセットとtestデータセットを作成\n",
    "labels=[i.item() for _,i in dataset]\n",
    "traindataset, testdataset, trainlabels, testlabels=train_test_split(dataset,labels,test_size=0.2,shuffle=True,stratify=labels)\n",
    "\n",
    "#データローダー作成\n",
    "traindataloader=GraphDataLoader(traindataset,batch_size=16,shuffle=True,num_workers = 0,pin_memory = True)\n",
    "testdataloader=GraphDataLoader(testdataset,batch_size=10,shuffle=True,num_workers = 0,pin_memory = True)\n"
   ]
  },
  {
   "cell_type": "code",
   "execution_count": 31,
   "metadata": {},
   "outputs": [
    {
     "name": "stdout",
     "output_type": "stream",
     "text": [
      "Graph(num_nodes=1024, num_edges=6720,\n",
      "      ndata_schemes={'f': Scheme(shape=(1, 32, 32), dtype=torch.float32)}\n",
      "      edata_schemes={}) tensor([0, 0, 0, 3, 3, 2, 3, 4, 3, 0, 0, 4, 1, 1, 1, 1])\n"
     ]
    }
   ],
   "source": [
    "for i,(g,d) in enumerate(traindataloader):\n",
    "    break\n",
    "print(g,d)"
   ]
  },
  {
   "cell_type": "code",
   "execution_count": 43,
   "metadata": {},
   "outputs": [
    {
     "data": {
      "text/plain": [
       "PatchGCN(\n",
       "  (input_layer): SAGEConv(\n",
       "    (feat_drop): Dropout(p=0.0, inplace=False)\n",
       "    (fc_neigh): Linear(in_features=1024, out_features=8, bias=False)\n",
       "    (fc_self): Linear(in_features=1024, out_features=8, bias=True)\n",
       "  )\n",
       "  (middle_layers): ModuleList()\n",
       "  (output_layer): GraphConv(in=8, out=5, normalization=both, activation=None)\n",
       "  (m): LeakyReLU(negative_slope=0.01)\n",
       "  (flatt): Flatten(start_dim=1, end_dim=-1)\n",
       ")"
      ]
     },
     "execution_count": 43,
     "metadata": {},
     "output_type": "execute_result"
    }
   ],
   "source": [
    "#設定ファイル読み込み\n",
    "with open(f'./configs/{setting_file}','r') as f:\n",
    "    config = yaml.safe_load(f)\n",
    "\n",
    "#モデルの初期化\n",
    "model=PatchGCN(1024,[8],5,embedding=True)\n",
    "model.to(device)"
   ]
  },
  {
   "cell_type": "code",
   "execution_count": 44,
   "metadata": {},
   "outputs": [
    {
     "name": "stdout",
     "output_type": "stream",
     "text": [
      "0\n"
     ]
    }
   ],
   "source": [
    "for i,(batched_graph,labels) in enumerate(traindataloader):\n",
    "    batched_graph = batched_graph.to(device)\n",
    "    labels = labels.to(device)\n",
    "\n",
    "    pred,emb = model(batched_graph,batched_graph.ndata['f'])\n",
    "\n",
    "    break\n",
    "print(i)"
   ]
  },
  {
   "cell_type": "code",
   "execution_count": 46,
   "metadata": {},
   "outputs": [
    {
     "name": "stdout",
     "output_type": "stream",
     "text": [
      "torch.Size([16, 8])\n"
     ]
    }
   ],
   "source": [
    "print(emb.shape)"
   ]
  }
 ],
 "metadata": {
  "kernelspec": {
   "display_name": "DGL",
   "language": "python",
   "name": "python3"
  },
  "language_info": {
   "codemirror_mode": {
    "name": "ipython",
    "version": 3
   },
   "file_extension": ".py",
   "mimetype": "text/x-python",
   "name": "python",
   "nbconvert_exporter": "python",
   "pygments_lexer": "ipython3",
   "version": "3.10.13"
  }
 },
 "nbformat": 4,
 "nbformat_minor": 2
}
