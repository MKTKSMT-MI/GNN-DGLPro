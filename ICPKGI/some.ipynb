{
 "cells": [
  {
   "cell_type": "code",
   "execution_count": 1,
   "metadata": {},
   "outputs": [],
   "source": [
    "import torch\n",
    "from sklearn.metrics import precision_score, recall_score, f1_score, accuracy_score, hamming_loss\n",
    "import numpy as np"
   ]
  },
  {
   "cell_type": "code",
   "execution_count": 15,
   "metadata": {},
   "outputs": [
    {
     "name": "stdout",
     "output_type": "stream",
     "text": [
      "tensor([[1, 1, 0, 1, 2],\n",
      "        [2, 0, 1, 2, 1],\n",
      "        [2, 1, 1, 0, 2],\n",
      "        [2, 2, 0, 1, 2]])\n",
      "tensor([[2, 2, 2, 0, 0],\n",
      "        [0, 1, 0, 1, 2],\n",
      "        [1, 1, 1, 0, 2],\n",
      "        [2, 1, 1, 2, 2]])\n"
     ]
    }
   ],
   "source": [
    "pred = torch.randint(0,3,(4,5))\n",
    "label = torch.randint(0,3,(4,5))\n",
    "print(pred)\n",
    "print(label)"
   ]
  },
  {
   "cell_type": "code",
   "execution_count": 17,
   "metadata": {},
   "outputs": [
    {
     "name": "stdout",
     "output_type": "stream",
     "text": [
      "tensor([2, 2, 2, 0, 0, 0, 1, 0, 1, 2, 1, 1, 1, 0, 2, 2, 1, 1, 2, 2])\n",
      "tensor([1, 1, 0, 1, 2, 2, 0, 1, 2, 1, 2, 1, 1, 0, 2, 2, 2, 0, 1, 2])\n",
      "0.3\n"
     ]
    }
   ],
   "source": [
    "print(torch.flatten(label))\n",
    "print(torch.flatten(pred))\n",
    "print(accuracy_score(torch.flatten(label),torch.flatten(pred)))"
   ]
  },
  {
   "cell_type": "code",
   "execution_count": 2,
   "metadata": {},
   "outputs": [],
   "source": [
    "def return_two(a):\n",
    "    return a,a+1"
   ]
  },
  {
   "cell_type": "code",
   "execution_count": 4,
   "metadata": {},
   "outputs": [
    {
     "name": "stdout",
     "output_type": "stream",
     "text": [
      "3\n"
     ]
    }
   ],
   "source": [
    "a,b = return_two(3)\n",
    "print(a)"
   ]
  }
 ],
 "metadata": {
  "kernelspec": {
   "display_name": "DGL",
   "language": "python",
   "name": "python3"
  },
  "language_info": {
   "codemirror_mode": {
    "name": "ipython",
    "version": 3
   },
   "file_extension": ".py",
   "mimetype": "text/x-python",
   "name": "python",
   "nbconvert_exporter": "python",
   "pygments_lexer": "ipython3",
   "version": "3.10.13"
  }
 },
 "nbformat": 4,
 "nbformat_minor": 2
}
