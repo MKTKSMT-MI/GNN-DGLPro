{
 "cells": [
  {
   "cell_type": "code",
   "execution_count": 5,
   "metadata": {},
   "outputs": [
    {
     "name": "stdout",
     "output_type": "stream",
     "text": [
      "[5, 6, 8]\n"
     ]
    }
   ],
   "source": [
    "import numpy as np\n",
    "\n",
    "def get_nearest_neighbors(image, row, col):\n",
    "    # 画像の形状を取得\n",
    "    height, width = image.shape[:2]\n",
    "\n",
    "    # 注目画素の周囲8画素の座標を計算\n",
    "    neighbors_coords = [(row-1, col-1), (row-1, col), (row-1, col+1),\n",
    "                        (row, col-1), (row, col+1),\n",
    "                        (row+1, col-1), (row+1, col), (row+1, col+1)]\n",
    "\n",
    "    # 注目画素の最近傍画素の値を抜き出す\n",
    "    nearest_neighbors = []\n",
    "    for r, c in neighbors_coords:\n",
    "        # 座標が画像範囲内かチェック\n",
    "        if 0 <= r < height and 0 <= c < width:\n",
    "            pixel_value = image[r, c]\n",
    "            nearest_neighbors.append(pixel_value)\n",
    "        else:\n",
    "            # 画像範囲外の場合は0を追加するなど適切な処理を行う\n",
    "            #nearest_neighbors.append(0)\n",
    "            pass\n",
    "\n",
    "    return nearest_neighbors\n",
    "\n",
    "# テスト用の画像データ（3x3のグレースケール画像）\n",
    "image = np.array([[1, 2, 3],\n",
    "                  [4, 5, 6],\n",
    "                  [7, 8, 9]])\n",
    "\n",
    "# 注目画素の座標\n",
    "row = 2\n",
    "col = 2\n",
    "\n",
    "neighbors = get_nearest_neighbors(image, row, col)\n",
    "print(neighbors)\n"
   ]
  }
 ],
 "metadata": {
  "kernelspec": {
   "display_name": "Python 3.8.10 ('DGL')",
   "language": "python",
   "name": "python3"
  },
  "language_info": {
   "codemirror_mode": {
    "name": "ipython",
    "version": 3
   },
   "file_extension": ".py",
   "mimetype": "text/x-python",
   "name": "python",
   "nbconvert_exporter": "python",
   "pygments_lexer": "ipython3",
   "version": "3.8.13"
  },
  "orig_nbformat": 4,
  "vscode": {
   "interpreter": {
    "hash": "2b3aaad6f4b476a25b1278d44df95c159668e2b4a4f54834857505f20d9767c1"
   }
  }
 },
 "nbformat": 4,
 "nbformat_minor": 2
}
