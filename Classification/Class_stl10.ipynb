{
 "cells": [
  {
   "cell_type": "code",
   "execution_count": 19,
   "metadata": {},
   "outputs": [],
   "source": [
    "import dgl\n",
    "from dgl.data import DGLDataset\n",
    "import torch\n",
    "import torchvision\n",
    "import torchvision.transforms as transforms\n",
    "import torch.nn as nn\n",
    "import torch.nn.functional as F\n",
    "import dgl.data\n",
    "from dgl.nn import GraphConv,MaxPooling\n",
    "import matplotlib.pyplot as plt\n",
    "from tqdm import tqdm\n",
    "import torch.optim as optim\n",
    "import numpy as np\n",
    "import time\n",
    "from dgl.dataloading import GraphDataLoader\n",
    "from torch.utils.data.sampler import SubsetRandomSampler\n",
    "import os\n",
    "\n",
    "from torchviz import make_dot\n",
    "from IPython.display import display\n",
    "%matplotlib inline"
   ]
  },
  {
   "cell_type": "code",
   "execution_count": 2,
   "metadata": {},
   "outputs": [],
   "source": [
    "class STL10TrainDataset(DGLDataset):\n",
    "    def __init__(self,data_path,transforms=None):\n",
    "        self.data_path = data_path\n",
    "        self.transforms = transforms\n",
    "        super().__init__(name='stl10_train_gprah')\n",
    "    \n",
    "    def process(self):\n",
    "        GRAPHS, LABELS = dgl.load_graphs(self.data_path) #保存したグラーフデータの読み込み\n",
    "        self.graphs = GRAPHS #グラフリストを代入\n",
    "        self.labels = LABELS['label'] #ラベル辞書の値のみ代入\n",
    "        self.dim_nfeats=len(self.graphs[0].ndata['feat'][0])\n",
    "\n",
    "    def __getitem__(self, idx):\n",
    "        if self.transforms == None:\n",
    "            return self.graphs[idx], self.labels[idx]\n",
    "        else:\n",
    "            data=self.transforms(self.graphs[idx])\n",
    "            return data,self.labels[idx]\n",
    "    def __len__(self):\n",
    "        return len(self.graphs)\n",
    "\n",
    "\n",
    "class STL10TestDataset(DGLDataset):\n",
    "    def __init__(self,data_path,transforms=None):\n",
    "        self.data_path = data_path\n",
    "        self.transforms = transforms\n",
    "        super().__init__(name='stl10_test_gprah')\n",
    "    \n",
    "    def process(self):\n",
    "        GRAPHS, LABELS = dgl.load_graphs(self.data_path) #保存したグラーフデータの読み込み\n",
    "        self.graphs = GRAPHS #グラフリストを代入\n",
    "        self.labels = LABELS['label'] #ラベル辞書の値のみ代入\n",
    "        self.dim_nfeats=len(self.graphs[0].ndata['feat'][0])\n",
    "\n",
    "    def __getitem__(self, idx):\n",
    "        if self.transforms == None:\n",
    "            return self.graphs[idx], self.labels[idx]\n",
    "        else:\n",
    "            data=self.transforms(self.graphs[idx])\n",
    "            return data,self.labels[idx]\n",
    "        \n",
    "    def __len__(self):\n",
    "        return len(self.graphs)"
   ]
  },
  {
   "cell_type": "code",
   "execution_count": 3,
   "metadata": {},
   "outputs": [],
   "source": [
    "#transform = transforms.Compose([transforms.Normalize(0,1)])\n",
    "traindataset=STL10TrainDataset('../data/STL10 Datasets/train/nnum100_ndatades_enone.dgl')\n",
    "testdataset=STL10TestDataset('../data/STL10 Datasets/test/nnum100_ndatades_enone.dgl')"
   ]
  },
  {
   "cell_type": "code",
   "execution_count": 4,
   "metadata": {},
   "outputs": [
    {
     "name": "stdout",
     "output_type": "stream",
     "text": [
      "num_wokers = 0\n",
      "posix\n"
     ]
    }
   ],
   "source": [
    "if os.name =='posix':\n",
    "    num_workers = 2\n",
    "else:\n",
    "    num_workers = 0\n",
    "num_workers = 0\n",
    "traindataloader = GraphDataLoader(traindataset,batch_size = 50,shuffle = True,num_workers = num_workers,pin_memory = True)\n",
    "testdataloader = GraphDataLoader(testdataset,batch_size = 1000,shuffle = True,num_workers = num_workers,pin_memory = True)\n",
    "print(f'num_wokers = {num_workers}')\n",
    "print(os.name)"
   ]
  },
  {
   "cell_type": "code",
   "execution_count": 5,
   "metadata": {},
   "outputs": [],
   "source": [
    "class GCN(nn.Module):\n",
    "    def __init__(self,in_feat,h_feat,num_classes):\n",
    "        super(GCN,self).__init__()\n",
    "        self.gconv1=GraphConv(in_feat,h_feat)\n",
    "        self.gconv2=GraphConv(h_feat,h_feat)\n",
    "\n",
    "        self.gconv3=GraphConv(h_feat,num_classes)\n",
    "        self.gconv4=GraphConv(h_feat,num_classes)\n",
    "\n",
    "        self.dropout=nn.Dropout(0.2)\n",
    "\n",
    "    def forward(self,g,in_feat):\n",
    "        #x=in_feat.detach()\n",
    "\n",
    "        h=F.relu(self.gconv1(g,in_feat))\n",
    "        h=F.relu(self.gconv2(g,h))\n",
    "        h=self.dropout(h)\n",
    "    \n",
    "        #h=h+x\n",
    "\n",
    "        h=self.gconv3(g,h)\n",
    "        #h=F.relu(self.gconv4(g,h))\n",
    "        \n",
    "        g.ndata['h'] = h\n",
    "        return dgl.mean_nodes(g,'h')"
   ]
  },
  {
   "cell_type": "code",
   "execution_count": 95,
   "metadata": {},
   "outputs": [],
   "source": [
    "class ligcn_block(nn.Module):\n",
    "    def __init__(self,in_feat,h_feat):\n",
    "        super(ligcn_block,self).__init__()\n",
    "        self.liner1=nn.Linear(in_feat,h_feat)\n",
    "        self.gcn=GraphConv(h_feat,h_feat)\n",
    "        self.liner2=nn.Linear(h_feat,h_feat)\n",
    "    \n",
    "    def forward(self,g,in_feat):\n",
    "        x=F.relu(self.liner1(in_feat))\n",
    "        x=F.relu(self.gcn(g,x))\n",
    "        x=F.relu(self.liner2(x))\n",
    "\n",
    "        return x\n",
    "\n",
    "\n",
    "class GCN_rc(nn.Module):\n",
    "    def __init__(self,in_feat,h_feat,num_classes):\n",
    "        super(GCN_rc,self).__init__()\n",
    "        self.b1=ligcn_block(in_feat,in_feat)\n",
    "        self.b2=ligcn_block(in_feat,h_feat)\n",
    "        self.b3=ligcn_block(h_feat,h_feat)\n",
    "        self.b4=ligcn_block(h_feat,num_classes)\n",
    "\n",
    "    def forward(self,g,in_feat):\n",
    "        x=in_feat\n",
    "\n",
    "        h=F.relu(self.b1(g,in_feat))\n",
    "        h=h+x\n",
    "        \n",
    "        h=F.relu(self.b2(g,h))\n",
    "        y=h\n",
    "\n",
    "        h=F.relu(self.b3(g,h))\n",
    "        h=h+y\n",
    "        h=F.relu(self.b4(g,h))\n",
    "\n",
    "        g.ndata['h'] = h\n",
    "\n",
    "        return dgl.mean_nodes(g,'h')\n"
   ]
  },
  {
   "cell_type": "code",
   "execution_count": 96,
   "metadata": {},
   "outputs": [
    {
     "name": "stdout",
     "output_type": "stream",
     "text": [
      "61\n"
     ]
    }
   ],
   "source": [
    "print(traindataset.dim_nfeats)\n",
    "model=GCN_rc(traindataset.dim_nfeats,300,10)\n",
    "optimizer=optim.Adam(model.parameters(),lr=0.0001)\n",
    "device=torch.device('cuda:0' if torch.cuda.is_available() else 'cpu')\n",
    "model.to(device)\n",
    "epochs=500"
   ]
  },
  {
   "cell_type": "code",
   "execution_count": 88,
   "metadata": {},
   "outputs": [],
   "source": [
    "save_train_acc = []\n",
    "save_test_acc = []"
   ]
  },
  {
   "cell_type": "code",
   "execution_count": 97,
   "metadata": {},
   "outputs": [
    {
     "name": "stderr",
     "output_type": "stream",
     "text": [
      "100%|██████████| 500/500 [26:30<00:00,  3.18s/it]\n"
     ]
    }
   ],
   "source": [
    "loss_list = []\n",
    "acc_list = []\n",
    "test_acc_list = []\n",
    "\n",
    "\n",
    "num_correct = 0\n",
    "num_tests = 0\n",
    "test_num_correct = 0\n",
    "test_num_tests = 0\n",
    "lossF = nn.CrossEntropyLoss()\n",
    "#,batched_graph.edata['distance'].float()\n",
    "BP = 0\n",
    "for epoch in tqdm(range(epochs)):\n",
    "    if BP != 0:\n",
    "        break\n",
    "    model.train()\n",
    "    for batched_graph, labels in traindataloader:\n",
    "        batched_graph = batched_graph.to(device)\n",
    "        labels = labels.to(device)\n",
    "        pred = model(batched_graph, batched_graph.ndata['feat'].float()/255)\n",
    "        loss = lossF(pred,labels)\n",
    "        if loss.item() < 0.05:\n",
    "            BP = 0\n",
    "            break\n",
    "        optimizer.zero_grad()\n",
    "        loss.backward()\n",
    "        optimizer.step()\n",
    "        num_correct += (pred.argmax(1) == labels).sum().item()\n",
    "        num_tests += len(labels)\n",
    "    loss_list.append(loss.item())\n",
    "    acc_list.append(num_correct / num_tests) #学習中トレーニングacc\n",
    "    \n",
    "    model.eval()\n",
    "    for tbatched_graph, tlabels in testdataloader:\n",
    "        tbatched_graph = tbatched_graph.to(device)\n",
    "        tlabels = tlabels.to(device)\n",
    "        tpred = model(tbatched_graph, tbatched_graph.ndata['feat'].float()/255)\n",
    "        test_num_correct += (tpred.argmax(1) == tlabels).sum().item()\n",
    "        test_num_tests += len(tlabels)\n",
    "\n",
    "    Tacc = test_num_correct / test_num_tests\n",
    "    #print('Training accuracy:', Tacc)\n",
    "    test_acc_list.append(Tacc) #学習中テストacc\n"
   ]
  },
  {
   "cell_type": "code",
   "execution_count": 98,
   "metadata": {},
   "outputs": [
    {
     "name": "stdout",
     "output_type": "stream",
     "text": [
      "Training accuracy: 0.8948\n",
      "Test accuracy: 0.29744936234058517\n"
     ]
    }
   ],
   "source": [
    "num_correct = 0\n",
    "num_tests = 0\n",
    "\n",
    "\n",
    "\n",
    "with torch.no_grad():\n",
    "    model.train()\n",
    "    for batched_graph, labels in traindataloader:\n",
    "        batched_graph = batched_graph.to(device)\n",
    "        labels = labels.to(device)\n",
    "        pred = model(batched_graph, batched_graph.ndata['feat'].float()/255)\n",
    "        num_correct += (pred.argmax(1) == labels).sum().item()\n",
    "        num_tests += len(labels)\n",
    "    print('Training accuracy:', num_correct / num_tests)\n",
    "    save_train_acc.append(num_correct / num_tests)\n",
    "    num_correct = 0\n",
    "    num_tests = 0\n",
    "    model.eval()\n",
    "    for batched_graph, labels in testdataloader:\n",
    "        batched_graph = batched_graph.to(device)\n",
    "        labels = labels.to(device)\n",
    "        pred = model(batched_graph, batched_graph.ndata['feat'].float()/255)\n",
    "        num_correct += (pred.argmax(1) == labels).sum().item()\n",
    "        num_tests += len(labels)\n",
    "    print('Test accuracy:', num_correct / num_tests)\n",
    "    save_test_acc.append(num_correct / num_tests)"
   ]
  },
  {
   "cell_type": "code",
   "execution_count": 99,
   "metadata": {},
   "outputs": [
    {
     "data": {
      "image/png": "[encoded data removed]",
      "text/plain": [
       "<Figure size 432x288 with 1 Axes>"
      ]
     },
     "metadata": {
      "needs_background": "light"
     },
     "output_type": "display_data"
    }
   ],
   "source": [
    "x=[i for i in range(len(acc_list))]\n",
    "y_train=acc_list\n",
    "y_test=test_acc_list\n",
    "plt.plot(x,y_train)\n",
    "plt.plot(x,y_test)\n",
    "\n",
    "plt.show()"
   ]
  },
  {
   "cell_type": "code",
   "execution_count": 100,
   "metadata": {},
   "outputs": [
    {
     "data": {
      "image/png": "[encoded data removed]",
      "text/plain": [
       "<Figure size 432x288 with 1 Axes>"
      ]
     },
     "metadata": {
      "needs_background": "light"
     },
     "output_type": "display_data"
    }
   ],
   "source": [
    "x=[i for i in range(len(acc_list))]\n",
    "y_train=acc_list\n",
    "y_test=test_acc_list\n",
    "plt.plot(x,y_train)\n",
    "plt.plot(x,y_test)\n",
    "\n",
    "plt.show()"
   ]
  },
  {
   "cell_type": "code",
   "execution_count": 93,
   "metadata": {},
   "outputs": [
    {
     "data": {
      "image/png": "[encoded data removed]",
      "text/plain": [
       "<Figure size 432x288 with 1 Axes>"
      ]
     },
     "metadata": {
      "needs_background": "light"
     },
     "output_type": "display_data"
    }
   ],
   "source": [
    "plt.plot(x,test_acc_list)\n",
    "\n",
    "plt.show()"
   ]
  },
  {
   "cell_type": "code",
   "execution_count": 101,
   "metadata": {},
   "outputs": [
    {
     "data": {
      "image/png": "[encoded data removed]",
      "text/plain": [
       "<Figure size 432x288 with 1 Axes>"
      ]
     },
     "metadata": {
      "needs_background": "light"
     },
     "output_type": "display_data"
    }
   ],
   "source": [
    "plt.plot(x,loss_list)\n",
    "plt.show()"
   ]
  },
  {
   "cell_type": "code",
   "execution_count": 50,
   "metadata": {},
   "outputs": [
    {
     "data": {
      "image/svg+xml": "<?xml version=\"1.0\" encoding=\"UTF-8\" standalone=\"no\"?>\n<!DOCTYPE svg PUBLIC \"-//W3C//DTD SVG 1.1//EN\"\n \"http://www.w3.org/Graphics/SVG/1.1/DTD/svg11.dtd\">\n<!-- Generated by graphviz version 2.40.1 (20161225.0304)\n -->\n<!-- Title: %3 Pages: 1 -->\n<svg width=\"85pt\" height=\"39pt\"\n viewBox=\"0.00 0.00 85.00 39.00\" xmlns=\"http://www.w3.org/2000/svg\" xmlns:xlink=\"http://www.w3.org/1999/xlink\">\n<g id=\"graph0\" class=\"graph\" transform=\"scale(1 1) rotate(0) translate(4 35)\">\n<title>%3</title>\n<polygon fill=\"#ffffff\" stroke=\"transparent\" points=\"-4,4 -4,-35 81,-35 81,4 -4,4\"/>\n<!-- 140355717329040 -->\n<g id=\"node1\" class=\"node\">\n<title>140355717329040</title>\n<polygon fill=\"#caff70\" stroke=\"#000000\" points=\"77,-31 0,-31 0,0 77,0 77,-31\"/>\n<text text-anchor=\"middle\" x=\"38.5\" y=\"-7\" font-family=\"monospace\" font-size=\"10.00\" fill=\"#000000\"> (998, 10)</text>\n</g>\n</g>\n</svg>\n",
      "text/plain": [
       "<graphviz.graphs.Digraph at 0x7fa71cb08490>"
      ]
     },
     "metadata": {},
     "output_type": "display_data"
    }
   ],
   "source": [
    "img=make_dot(pred,params=dict(model.named_parameters()))\n",
    "display(img)"
   ]
  },
  {
   "cell_type": "code",
   "execution_count": 27,
   "metadata": {},
   "outputs": [
    {
     "data": {
      "text/plain": [
       "GCN_rc(\n",
       "  (b1): ligcn_block(\n",
       "    (liner1): Linear(in_features=61, out_features=61, bias=True)\n",
       "    (gcn): GraphConv(in=61, out=61, normalization=both, activation=None)\n",
       "    (liner2): Linear(in_features=61, out_features=61, bias=True)\n",
       "  )\n",
       "  (b2): ligcn_block(\n",
       "    (liner1): Linear(in_features=61, out_features=30, bias=True)\n",
       "    (gcn): GraphConv(in=30, out=30, normalization=both, activation=None)\n",
       "    (liner2): Linear(in_features=30, out_features=30, bias=True)\n",
       "  )\n",
       "  (b3): ligcn_block(\n",
       "    (liner1): Linear(in_features=30, out_features=10, bias=True)\n",
       "    (gcn): GraphConv(in=10, out=10, normalization=both, activation=None)\n",
       "    (liner2): Linear(in_features=10, out_features=10, bias=True)\n",
       "  )\n",
       ")"
      ]
     },
     "execution_count": 27,
     "metadata": {},
     "output_type": "execute_result"
    }
   ],
   "source": [
    "model"
   ]
  },
  {
   "cell_type": "code",
   "execution_count": 6,
   "metadata": {},
   "outputs": [
    {
     "name": "stderr",
     "output_type": "stream",
     "text": [
      "100%|██████████| 500/500 [18:13<00:00,  2.19s/it]\n"
     ]
    },
    {
     "name": "stdout",
     "output_type": "stream",
     "text": [
      "Training accuracy: 0.3372\n",
      "Train h_node:20 class acc\n",
      "class 0 : 47.2\n",
      "class 1 : 9.0\n",
      "class 2 : 26.6\n",
      "class 3 : 32.4\n",
      "class 4 : 53.0\n",
      "class 5 : 30.8\n",
      "class 6 : 34.8\n",
      "class 7 : 16.2\n",
      "class 8 : 58.8\n",
      "class 9 : 28.4\n",
      "Test accuracy: 0.30120030007501875\n",
      "Test h_node:20 class acc\n",
      "class 0 : 39.75\n",
      "class 1 : 8.125\n",
      "class 2 : 23.5\n",
      "class 3 : 27.53441802252816\n",
      "class 4 : 49.75\n",
      "class 5 : 24.75\n",
      "class 6 : 33.75\n",
      "class 7 : 13.875\n",
      "class 8 : 52.19023779724656\n",
      "class 9 : 28.0\n"
     ]
    },
    {
     "name": "stderr",
     "output_type": "stream",
     "text": [
      "100%|██████████| 500/500 [18:14<00:00,  2.19s/it]\n"
     ]
    },
    {
     "name": "stdout",
     "output_type": "stream",
     "text": [
      "Training accuracy: 0.338\n",
      "Train h_node:30 class acc\n",
      "class 0 : 41.6\n",
      "class 1 : 12.2\n",
      "class 2 : 57.6\n",
      "class 3 : 41.0\n",
      "class 4 : 29.4\n",
      "class 5 : 26.2\n",
      "class 6 : 27.6\n",
      "class 7 : 22.2\n",
      "class 8 : 45.6\n",
      "class 9 : 34.6\n",
      "Test accuracy: 0.2989497374343586\n",
      "Test h_node:30 class acc\n",
      "class 0 : 36.625\n",
      "class 1 : 9.875\n",
      "class 2 : 48.75\n",
      "class 3 : 36.67083854818523\n",
      "class 4 : 25.75\n",
      "class 5 : 24.25\n",
      "class 6 : 25.125\n",
      "class 7 : 19.25\n",
      "class 8 : 38.54818523153943\n",
      "class 9 : 34.125\n"
     ]
    },
    {
     "name": "stderr",
     "output_type": "stream",
     "text": [
      "100%|██████████| 500/500 [18:21<00:00,  2.20s/it]\n"
     ]
    },
    {
     "name": "stdout",
     "output_type": "stream",
     "text": [
      "Training accuracy: 0.3836\n",
      "Train h_node:40 class acc\n",
      "class 0 : 58.0\n",
      "class 1 : 25.2\n",
      "class 2 : 43.4\n",
      "class 3 : 36.6\n",
      "class 4 : 44.2\n",
      "class 5 : 29.4\n",
      "class 6 : 30.6\n",
      "class 7 : 27.4\n",
      "class 8 : 53.6\n",
      "class 9 : 35.2\n",
      "Test accuracy: 0.3010752688172043\n",
      "Test h_node:40 class acc\n",
      "class 0 : 46.0\n",
      "class 1 : 17.875\n",
      "class 2 : 35.0\n",
      "class 3 : 30.037546933667084\n",
      "class 4 : 36.375\n",
      "class 5 : 20.75\n",
      "class 6 : 24.5\n",
      "class 7 : 17.75\n",
      "class 8 : 42.67834793491865\n",
      "class 9 : 30.125\n"
     ]
    },
    {
     "name": "stderr",
     "output_type": "stream",
     "text": [
      "100%|██████████| 500/500 [17:48<00:00,  2.14s/it]\n"
     ]
    },
    {
     "name": "stdout",
     "output_type": "stream",
     "text": [
      "Training accuracy: 0.505\n",
      "Train h_node:80 class acc\n",
      "class 0 : 70.2\n",
      "class 1 : 31.0\n",
      "class 2 : 64.4\n",
      "class 3 : 57.0\n",
      "class 4 : 51.2\n",
      "class 5 : 54.4\n",
      "class 6 : 51.2\n",
      "class 7 : 39.0\n",
      "class 8 : 50.4\n",
      "class 9 : 36.2\n",
      "Test accuracy: 0.2754438609652413\n",
      "Test h_node:80 class acc\n",
      "class 0 : 38.25\n",
      "class 1 : 9.5\n",
      "class 2 : 39.875\n",
      "class 3 : 33.917396745932415\n",
      "class 4 : 30.875\n",
      "class 5 : 22.625\n",
      "class 6 : 29.5\n",
      "class 7 : 17.125\n",
      "class 8 : 31.1639549436796\n",
      "class 9 : 22.625\n"
     ]
    },
    {
     "name": "stderr",
     "output_type": "stream",
     "text": [
      "100%|██████████| 500/500 [18:24<00:00,  2.21s/it]\n"
     ]
    },
    {
     "name": "stdout",
     "output_type": "stream",
     "text": [
      "Training accuracy: 0.724\n",
      "Train h_node:180 class acc\n",
      "class 0 : 85.4\n",
      "class 1 : 66.6\n",
      "class 2 : 68.8\n",
      "class 3 : 64.0\n",
      "class 4 : 68.2\n",
      "class 5 : 77.2\n",
      "class 6 : 67.6\n",
      "class 7 : 61.6\n",
      "class 8 : 79.2\n",
      "class 9 : 85.4\n",
      "Test accuracy: 0.2571892973243311\n",
      "Test h_node:180 class acc\n",
      "class 0 : 33.625\n",
      "class 1 : 13.375\n",
      "class 2 : 27.75\n",
      "class 3 : 24.780976220275345\n",
      "class 4 : 19.875\n",
      "class 5 : 24.375\n",
      "class 6 : 22.0\n",
      "class 7 : 14.875\n",
      "class 8 : 38.54818523153943\n",
      "class 9 : 38.0\n"
     ]
    },
    {
     "name": "stderr",
     "output_type": "stream",
     "text": [
      "100%|██████████| 500/500 [19:00<00:00,  2.28s/it]\n"
     ]
    },
    {
     "name": "stdout",
     "output_type": "stream",
     "text": [
      "Training accuracy: 0.943\n",
      "Train h_node:320 class acc\n",
      "class 0 : 98.0\n",
      "class 1 : 89.0\n",
      "class 2 : 92.2\n",
      "class 3 : 94.0\n",
      "class 4 : 91.2\n",
      "class 5 : 92.8\n",
      "class 6 : 95.8\n",
      "class 7 : 97.8\n",
      "class 8 : 97.2\n",
      "class 9 : 95.0\n",
      "Test accuracy: 0.24856214053513379\n",
      "Test h_node:320 class acc\n",
      "class 0 : 33.0\n",
      "class 1 : 12.0\n",
      "class 2 : 25.0\n",
      "class 3 : 26.408010012515646\n",
      "class 4 : 22.375\n",
      "class 5 : 18.25\n",
      "class 6 : 24.125\n",
      "class 7 : 22.0\n",
      "class 8 : 37.6720901126408\n",
      "class 9 : 27.75\n"
     ]
    }
   ],
   "source": [
    "clay=[20,30,40,80,180,320]\n",
    "epochs=500\n",
    "save_train_acc = []\n",
    "save_test_acc = []\n",
    "save_train_acc_list=[]\n",
    "save_test_acc_list=[]\n",
    "for i in clay:\n",
    "    model=GCN(traindataset.dim_nfeats,i,10)\n",
    "    optimizer=optim.Adam(model.parameters(),lr=0.001)\n",
    "    device=torch.device('cuda:0' if torch.cuda.is_available() else 'cpu')\n",
    "    model.to(device)\n",
    "\n",
    "\n",
    "    loss_list = []\n",
    "    acc_list = []\n",
    "    test_acc_list = []\n",
    "\n",
    "\n",
    "    num_correct = 0\n",
    "    num_tests = 0\n",
    "    test_num_correct = 0\n",
    "    test_num_tests = 0\n",
    "    lossF = nn.CrossEntropyLoss()\n",
    "    #,batched_graph.edata['distance'].float()\n",
    "    BP = 0\n",
    "    for epoch in tqdm(range(epochs)):\n",
    "        if BP != 0:\n",
    "            break\n",
    "        model.train()\n",
    "        for batched_graph, labels in traindataloader:\n",
    "            batched_graph = batched_graph.to(device)\n",
    "            labels = labels.to(device)\n",
    "            pred = model(batched_graph, batched_graph.ndata['feat'].float()/255)\n",
    "            loss = lossF(pred,labels)\n",
    "            if loss.item() < 0.05:\n",
    "                BP = 0\n",
    "                break\n",
    "            optimizer.zero_grad()\n",
    "            loss.backward()\n",
    "            optimizer.step()\n",
    "            num_correct += (pred.argmax(1) == labels).sum().item()\n",
    "            num_tests += len(labels)\n",
    "        loss_list.append(loss.item())\n",
    "        acc_list.append(num_correct / num_tests) #学習中トレーニングacc\n",
    "    \n",
    "        model.eval()\n",
    "        for tbatched_graph, tlabels in testdataloader:\n",
    "            tbatched_graph = tbatched_graph.to(device)\n",
    "            tlabels = tlabels.to(device)\n",
    "            tpred = model(tbatched_graph, tbatched_graph.ndata['feat'].float()/255)\n",
    "            test_num_correct += (tpred.argmax(1) == tlabels).sum().item()\n",
    "            test_num_tests += len(tlabels)\n",
    "\n",
    "        Tacc = test_num_correct / test_num_tests\n",
    "        #print('Training accuracy:', Tacc)\n",
    "        test_acc_list.append(Tacc) #学習中テストacc\n",
    "\n",
    "    save_train_acc_list.append(acc_list)\n",
    "    save_test_acc_list.append(test_acc_list)\n",
    "    num_correct = 0\n",
    "    num_tests = 0\n",
    "\n",
    "    class_corrent=np.zeros(10)\n",
    "    class_total=np.zeros(10)\n",
    "\n",
    "\n",
    "\n",
    "    with torch.no_grad():\n",
    "        model.train()\n",
    "        for batched_graph, labels in traindataloader:\n",
    "            batched_graph = batched_graph.to(device)\n",
    "            labels = labels.to(device)\n",
    "            pred = model(batched_graph, batched_graph.ndata['feat'].float()/255)\n",
    "            num_correct += (pred.argmax(1) == labels).sum().item()\n",
    "\n",
    "            _,predicted=torch.max(pred,1)\n",
    "            c=(predicted == labels).squeeze()\n",
    "            for j in range(50):\n",
    "                label=labels[j]\n",
    "                class_corrent[label] += c[j].item()\n",
    "                class_total[label] +=1\n",
    "\n",
    "            \n",
    "            num_tests += len(labels)\n",
    "        print('Training accuracy:', num_correct / num_tests)\n",
    "        save_train_acc.append(num_correct / num_tests)\n",
    "        print(f'Train h_node:{i} class acc')\n",
    "        for k in range(10):\n",
    "            print(f'class {k} : {100*class_corrent[k]/class_total[k]}')\n",
    "        np.save(f'train{i}class_corrent',class_corrent)\n",
    "        np.save(f'train{i}class_total',class_total)\n",
    "\n",
    "        num_correct = 0\n",
    "        num_tests = 0\n",
    "        class_corrent=np.zeros(10)\n",
    "        class_total=np.zeros(10)\n",
    "        \n",
    "        model.eval()\n",
    "        for batched_graph, labels in testdataloader:\n",
    "            batched_graph = batched_graph.to(device)\n",
    "            labels = labels.to(device)\n",
    "            pred = model(batched_graph, batched_graph.ndata['feat'].float()/255)\n",
    "            num_correct += (pred.argmax(1) == labels).sum().item()\n",
    "\n",
    "            _,predicted=torch.max(pred,1)\n",
    "            c=(predicted == labels).squeeze()\n",
    "            for j in range(labels.shape[0]):\n",
    "                label=labels[j]\n",
    "                class_corrent[label] += c[j].item()\n",
    "                class_total[label] +=1\n",
    "\n",
    "            num_tests += len(labels)\n",
    "        print('Test accuracy:', num_correct / num_tests)\n",
    "        save_test_acc.append(num_correct / num_tests)\n",
    "        print(f'Test h_node:{i} class acc')\n",
    "        for k in range(10):\n",
    "            print(f'class {k} : {100*class_corrent[k]/class_total[k]}')\n",
    "        np.save(f'test{i}class_corrent',class_corrent)\n",
    "        np.save(f'test{i}class_total',class_total)"
   ]
  },
  {
   "cell_type": "code",
   "execution_count": 14,
   "metadata": {},
   "outputs": [
    {
     "name": "stdout",
     "output_type": "stream",
     "text": [
      "[0.1672, 0.1838]\n",
      "[0.16616654163540887, 0.17641910477619405]\n"
     ]
    }
   ],
   "source": [
    "print(save_train_acc)\n",
    "print(save_test_acc)"
   ]
  },
  {
   "cell_type": "code",
   "execution_count": 18,
   "metadata": {},
   "outputs": [
    {
     "data": {
      "text/plain": [
       "<function matplotlib.pyplot.plot(*args, scalex=True, scaley=True, data=None, **kwargs)>"
      ]
     },
     "execution_count": 18,
     "metadata": {},
     "output_type": "execute_result"
    },
    {
     "data": {
      "image/png": "[encoded data removed]",
      "text/plain": [
       "<Figure size 432x288 with 1 Axes>"
      ]
     },
     "metadata": {
      "needs_background": "light"
     },
     "output_type": "display_data"
    }
   ],
   "source": [
    "plt.plot(range(epochs),save_train_acc_list[3])\n",
    "plt.plot"
   ]
  },
  {
   "cell_type": "code",
   "execution_count": 19,
   "metadata": {},
   "outputs": [
    {
     "data": {
      "text/plain": [
       "<function matplotlib.pyplot.plot(*args, scalex=True, scaley=True, data=None, **kwargs)>"
      ]
     },
     "execution_count": 19,
     "metadata": {},
     "output_type": "execute_result"
    },
    {
     "data": {
      "image/png": "[encoded data removed]",
      "text/plain": [
       "<Figure size 432x288 with 1 Axes>"
      ]
     },
     "metadata": {
      "needs_background": "light"
     },
     "output_type": "display_data"
    }
   ],
   "source": [
    "plt.plot(range(epochs),save_test_acc_list[3])\n",
    "plt.plot"
   ]
  },
  {
   "cell_type": "code",
   "execution_count": 8,
   "metadata": {},
   "outputs": [
    {
     "name": "stdout",
     "output_type": "stream",
     "text": [
      "500\n"
     ]
    }
   ],
   "source": [
    "print(len(save_train_acc_list[0]))"
   ]
  },
  {
   "cell_type": "code",
   "execution_count": 8,
   "metadata": {},
   "outputs": [],
   "source": [
    "np.save('trainacc_2lay_20304080180320',save_train_acc_list)"
   ]
  },
  {
   "cell_type": "code",
   "execution_count": 9,
   "metadata": {},
   "outputs": [],
   "source": [
    "np.save('testacc_2lay_20304080180320',save_test_acc_list)"
   ]
  }
 ],
 "metadata": {
  "kernelspec": {
   "display_name": "Python 3.8.13 ('GDW')",
   "language": "python",
   "name": "python3"
  },
  "language_info": {
   "codemirror_mode": {
    "name": "ipython",
    "version": 3
   },
   "file_extension": ".py",
   "mimetype": "text/x-python",
   "name": "python",
   "nbconvert_exporter": "python",
   "pygments_lexer": "ipython3",
   "version": "3.8.13"
  },
  "orig_nbformat": 4,
  "vscode": {
   "interpreter": {
    "hash": "9512f24219e729098bc0f30caa9285407db90c80b780d5e3a7fd78ad6fa2427c"
   }
  }
 },
 "nbformat": 4,
 "nbformat_minor": 2
}
