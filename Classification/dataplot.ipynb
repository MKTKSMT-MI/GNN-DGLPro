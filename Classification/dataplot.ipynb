{
 "cells": [
  {
   "cell_type": "code",
   "execution_count": 1,
   "metadata": {},
   "outputs": [
    {
     "name": "stderr",
     "output_type": "stream",
     "text": [
      "Using backend: pytorch\n"
     ]
    }
   ],
   "source": [
    "import dgl\n",
    "from dgl.data import DGLDataset\n",
    "import torch\n",
    "import torchvision\n",
    "import torchvision.transforms as transforms\n",
    "import torch.nn as nn\n",
    "import torch.nn.functional as F\n",
    "import dgl.data\n",
    "from dgl.nn import GraphConv,MaxPooling\n",
    "import matplotlib.pyplot as plt\n",
    "from tqdm import tqdm\n",
    "import torch.optim as optim\n",
    "import numpy as np\n",
    "import time\n",
    "from dgl.dataloading import GraphDataLoader\n",
    "from torch.utils.data.sampler import SubsetRandomSampler\n",
    "import os\n",
    "import yaml\n",
    "\n",
    "#from torchviz import make_dot\n",
    "from IPython.display import display\n",
    "%matplotlib inline"
   ]
  },
  {
   "cell_type": "code",
   "execution_count": 2,
   "metadata": {},
   "outputs": [],
   "source": [
    "data=np.load('save/ndata_8patch.dgl/config11.yaml/model3/train_loss_list.npy')"
   ]
  },
  {
   "cell_type": "code",
   "execution_count": 3,
   "metadata": {},
   "outputs": [
    {
     "name": "stdout",
     "output_type": "stream",
     "text": [
      "10\n"
     ]
    },
    {
     "data": {
      "image/png": "[encoded data removed]",
      "text/plain": [
       "<Figure size 432x288 with 1 Axes>"
      ]
     },
     "metadata": {
      "needs_background": "light"
     },
     "output_type": "display_data"
    }
   ],
   "source": [
    "print(data.shape[0])\n",
    "x=[i for i in range(data.shape[0])]\n",
    "y=data\n",
    "plt.plot(x,y)\n",
    "plt.show()"
   ]
  },
  {
   "cell_type": "code",
   "execution_count": 2,
   "metadata": {},
   "outputs": [],
   "source": [
    "root_path='save/ndata_8patch.dgl/config2.yaml/'\n",
    "data_num=5\n",
    "#Test acc plot\n",
    "for i in range(data_num):\n",
    "    data=np.load(f'{root_path}model{i+1}/test_acc_list.npy')\n",
    "    x=[i for i in range(data.shape[0])]\n",
    "    y=data\n",
    "\n",
    "    fig=plt.figure()\n",
    "    ax=fig.add_subplot()\n",
    "    ax.plot(x,y)\n",
    "    ax.set_title('Test acc')\n",
    "    ax.set_xlabel('epochs')\n",
    "    ax.set_ylabel('acc')\n",
    "    ax.set_xlim(0,data.shape[0])\n",
    "    ax.set_ylim(0,1)\n",
    "    fig.savefig(f'{root_path}model{i+1}/test_acc.jpg',dpi=300)\n",
    "    plt.close()\n",
    "\n",
    "#Train acc plot\n",
    "for i in range(data_num):\n",
    "    data=np.load(f'{root_path}model{i+1}/train_acc_list.npy')\n",
    "    x=[i for i in range(data.shape[0])]\n",
    "    y=data\n",
    "\n",
    "    fig=plt.figure()\n",
    "    ax=fig.add_subplot()\n",
    "    ax.plot(x,y)\n",
    "    ax.set_title('Train acc')\n",
    "    ax.set_xlabel('epochs')\n",
    "    ax.set_ylabel('acc')\n",
    "    ax.set_xlim(0,data.shape[0])\n",
    "    ax.set_ylim(0,1)\n",
    "    fig.savefig(f'{root_path}model{i+1}/train_acc.jpg',dpi=300)\n",
    "    plt.close()\n",
    "\n",
    "#Train loss plot\n",
    "for i in range(data_num):\n",
    "    data=np.load(f'{root_path}model{i+1}/train_loss_list.npy')\n",
    "    x=[i for i in range(data.shape[0])]\n",
    "    y=data\n",
    "\n",
    "    fig=plt.figure()\n",
    "    ax=fig.add_subplot()\n",
    "    ax.plot(x,y)\n",
    "    ax.set_title('Train loss')\n",
    "    ax.set_xlabel('epochs')\n",
    "    ax.set_ylabel('loss')\n",
    "    ax.set_xlim(0,data.shape[0])\n",
    "    fig.savefig(f'{root_path}model{i+1}/train_loss.jpg',dpi=300)\n",
    "    plt.close()\n",
    "\n",
    "#Train and Test acc plot\n",
    "for i in range(data_num):\n",
    "    testdata=np.load(f'{root_path}model{i+1}/test_acc_list.npy')\n",
    "    traindata=np.load(f'{root_path}model{i+1}/train_acc_list.npy')\n",
    "    x=[i for i in range(data.shape[0])]\n",
    "\n",
    "    fig=plt.figure()\n",
    "    ax=fig.add_subplot()\n",
    "    ax.plot(x,traindata,label='Train acc')\n",
    "    ax.plot(x,testdata,label='Test acc')\n",
    "    ax.legend()\n",
    "\n",
    "    ax.set_title('Test acc')\n",
    "    ax.set_xlabel('epochs')\n",
    "    ax.set_ylabel('acc')\n",
    "    ax.set_xlim(0,data.shape[0])\n",
    "    ax.set_ylim(0,1)\n",
    "    fig.savefig(f'{root_path}model{i+1}/train_test_acc.jpg',dpi=300)\n",
    "    plt.close()"
   ]
  },
  {
   "cell_type": "code",
   "execution_count": 2,
   "metadata": {},
   "outputs": [],
   "source": [
    "root_path='save/ndata_8patch.dgl/config2.yaml/'\n",
    "data_num=5\n",
    "#Test acc plot\n",
    "for i in range(data_num):\n",
    "    data=np.load(f'{root_path}model{i+1}_linear_skip/test_acc_list.npy')\n",
    "    x=[i for i in range(data.shape[0])]\n",
    "    y=data\n",
    "\n",
    "    fig=plt.figure()\n",
    "    ax=fig.add_subplot()\n",
    "    ax.plot(x,y)\n",
    "    ax.set_title('Test acc')\n",
    "    ax.set_xlabel('epochs')\n",
    "    ax.set_ylabel('acc')\n",
    "    ax.set_xlim(0,data.shape[0])\n",
    "    ax.set_ylim(0,1)\n",
    "    fig.savefig(f'{root_path}model{i+1}_linear_skip/test_acc.jpg',dpi=300)\n",
    "    plt.close()\n",
    "\n",
    "#Train acc plot\n",
    "for i in range(data_num):\n",
    "    data=np.load(f'{root_path}model{i+1}_linear_skip/train_acc_list.npy')\n",
    "    x=[i for i in range(data.shape[0])]\n",
    "    y=data\n",
    "\n",
    "    fig=plt.figure()\n",
    "    ax=fig.add_subplot()\n",
    "    ax.plot(x,y)\n",
    "    ax.set_title('Train acc')\n",
    "    ax.set_xlabel('epochs')\n",
    "    ax.set_ylabel('acc')\n",
    "    ax.set_xlim(0,data.shape[0])\n",
    "    ax.set_ylim(0,1)\n",
    "    fig.savefig(f'{root_path}model{i+1}_linear_skip/train_acc.jpg',dpi=300)\n",
    "    plt.close()\n",
    "\n",
    "#Train loss plot\n",
    "for i in range(data_num):\n",
    "    data=np.load(f'{root_path}model{i+1}_linear_skip/train_loss_list.npy')\n",
    "    x=[i for i in range(data.shape[0])]\n",
    "    y=data\n",
    "\n",
    "    fig=plt.figure()\n",
    "    ax=fig.add_subplot()\n",
    "    ax.plot(x,y)\n",
    "    ax.set_title('Train loss')\n",
    "    ax.set_xlabel('epochs')\n",
    "    ax.set_ylabel('loss')\n",
    "    ax.set_xlim(0,data.shape[0])\n",
    "    fig.savefig(f'{root_path}model{i+1}_linear_skip/train_loss.jpg',dpi=300)\n",
    "    plt.close()\n",
    "\n",
    "#Train and Test acc plot\n",
    "for i in range(data_num):\n",
    "    testdata=np.load(f'{root_path}model{i+1}_linear_skip/test_acc_list.npy')\n",
    "    traindata=np.load(f'{root_path}model{i+1}_linear_skip/train_acc_list.npy')\n",
    "    x=[i for i in range(data.shape[0])]\n",
    "\n",
    "    fig=plt.figure()\n",
    "    ax=fig.add_subplot()\n",
    "    ax.plot(x,traindata,label='Train acc')\n",
    "    ax.plot(x,testdata,label='Test acc')\n",
    "    ax.legend()\n",
    "\n",
    "    ax.set_title('Test acc')\n",
    "    ax.set_xlabel('epochs')\n",
    "    ax.set_ylabel('acc')\n",
    "    ax.set_xlim(0,data.shape[0])\n",
    "    ax.set_ylim(0,1)\n",
    "    fig.savefig(f'{root_path}model{i+1}_linear_skip/train_test_acc.jpg',dpi=300)\n",
    "    plt.close()"
   ]
  },
  {
   "cell_type": "code",
   "execution_count": null,
   "metadata": {},
   "outputs": [],
   "source": []
  }
 ],
 "metadata": {
  "kernelspec": {
   "display_name": "Python 3.8.10 ('DGL')",
   "language": "python",
   "name": "python3"
  },
  "language_info": {
   "codemirror_mode": {
    "name": "ipython",
    "version": 3
   },
   "file_extension": ".py",
   "mimetype": "text/x-python",
   "name": "python",
   "nbconvert_exporter": "python",
   "pygments_lexer": "ipython3",
   "version": "3.8.10"
  },
  "orig_nbformat": 4,
  "vscode": {
   "interpreter": {
    "hash": "2b3aaad6f4b476a25b1278d44df95c159668e2b4a4f54834857505f20d9767c1"
   }
  }
 },
 "nbformat": 4,
 "nbformat_minor": 2
}
