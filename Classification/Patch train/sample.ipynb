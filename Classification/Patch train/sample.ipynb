{
 "cells": [
  {
   "cell_type": "code",
   "execution_count": 1,
   "metadata": {},
   "outputs": [
    {
     "name": "stderr",
     "output_type": "stream",
     "text": [
      "Using backend: pytorch\n"
     ]
    }
   ],
   "source": [
    "import dgl\n",
    "from dgl.data import DGLDataset\n",
    "import torch\n",
    "import torchvision\n",
    "import torchvision.transforms as transforms\n",
    "import torch.nn as nn\n",
    "import torch.nn.functional as F\n",
    "import dgl.data\n",
    "from dgl.nn import GraphConv,MaxPooling\n",
    "import matplotlib.pyplot as plt\n",
    "from tqdm import tqdm\n",
    "import torch.optim as optim\n",
    "import numpy as np\n",
    "import time\n",
    "from dgl.dataloading import GraphDataLoader\n",
    "from torch.utils.data.sampler import SubsetRandomSampler\n",
    "import os\n",
    "import yaml\n",
    "import time\n",
    "import datetime"
   ]
  },
  {
   "cell_type": "code",
   "execution_count": 2,
   "metadata": {},
   "outputs": [],
   "source": [
    "class STL10TrainDataset(DGLDataset):\n",
    "    def __init__(self,data_path,transforms=None):\n",
    "        self.data_path = data_path\n",
    "        self.transforms = transforms\n",
    "        super().__init__(name='stl10_train_gprah')\n",
    "    \n",
    "    def process(self):\n",
    "        GRAPHS, LABELS = dgl.load_graphs(self.data_path) #保存したグラーフデータの読み込み\n",
    "        self.graphs = GRAPHS #グラフリストを代入\n",
    "        self.labels = LABELS['label'] #ラベル辞書の値のみ代入\n",
    "        self.dim_nfeats=len(self.graphs[0].ndata['f'][0])\n",
    "\n",
    "    def __getitem__(self, idx):\n",
    "        if self.transforms == None:\n",
    "            return self.graphs[idx], self.labels[idx]\n",
    "        else:\n",
    "            data=self.transforms(self.graphs[idx])\n",
    "            return data,self.labels[idx]\n",
    "    def __len__(self):\n",
    "        return len(self.graphs)\n",
    "\n",
    "\n",
    "class STL10TestDataset(DGLDataset):\n",
    "    def __init__(self,data_path,transforms=None):\n",
    "        self.data_path = data_path\n",
    "        self.transforms = transforms\n",
    "        super().__init__(name='stl10_test_gprah')\n",
    "    \n",
    "    def process(self):\n",
    "        GRAPHS, LABELS = dgl.load_graphs(self.data_path) #保存したグラーフデータの読み込み\n",
    "        self.graphs = GRAPHS #グラフリストを代入\n",
    "        self.labels = LABELS['label'] #ラベル辞書の値のみ代入\n",
    "        self.dim_nfeats=len(self.graphs[0].ndata['f'][0])\n",
    "\n",
    "    def __getitem__(self, idx):\n",
    "        if self.transforms == None:\n",
    "            return self.graphs[idx], self.labels[idx]\n",
    "        else:\n",
    "            data=self.transforms(self.graphs[idx])\n",
    "            return data,self.labels[idx]\n",
    "        \n",
    "    def __len__(self):\n",
    "        return len(self.graphs)"
   ]
  },
  {
   "cell_type": "code",
   "execution_count": 3,
   "metadata": {},
   "outputs": [],
   "source": [
    "class PatchGCN(nn.Module):\n",
    "    def __init__(self,input_size,hidden_size,output_size,linear=False):\n",
    "        super(PatchGCN,self).__init__()\n",
    "        self.linear_on = True\n",
    "        self.input_layer=GraphConv(input_size,hidden_size[0])\n",
    "        self.middle_layers=nn.ModuleList([GraphConv(hidden_size[i],hidden_size[i+1]) for i in range(len(hidden_size)-1)])\n",
    "        self.output_layer=GraphConv(hidden_size[-1],output_size)\n",
    "        if self.linear_on:\n",
    "            self.linear_layers=nn.ModuleList([nn.Linear(hidden_size[i],hidden_size[i]) for i in range(len(hidden_size))])\n",
    "        self.m=nn.LeakyReLU()\n",
    "\n",
    "        self.flatt=nn.Flatten()\n",
    "\n",
    "    \n",
    "    def forward(self,g,n_feat,e_feat=None):\n",
    "        n_feat=self.flatt(n_feat)\n",
    "        h=self.input_layer(g,n_feat,None,e_feat).clamp(0)\n",
    "        for i,layer in enumerate(self.middle_layers):\n",
    "            if self.linear_on:\n",
    "                h=self.linear_layers[i](h)\n",
    "            h=layer(g,h)\n",
    "            h=self.m(h)\n",
    "        h=self.output_layer(g,h).clamp(0)\n",
    "        g.ndata['h'] = h\n",
    "\n",
    "        return dgl.mean_nodes(g,'h')"
   ]
  },
  {
   "cell_type": "code",
   "execution_count": 4,
   "metadata": {},
   "outputs": [
    {
     "name": "stdout",
     "output_type": "stream",
     "text": [
      "cuda:0\n"
     ]
    }
   ],
   "source": [
    "data_path=['ndata_8patch.dgl']\n",
    "config_files=['config1.yaml']\n",
    "device = torch.device('cuda:0' if torch.cuda.is_available() else 'cpu')\n",
    "print(device)"
   ]
  },
  {
   "cell_type": "code",
   "execution_count": 6,
   "metadata": {},
   "outputs": [
    {
     "name": "stdout",
     "output_type": "stream",
     "text": [
      "data_number: 0\n"
     ]
    },
    {
     "name": "stderr",
     "output_type": "stream",
     "text": [
      "100%|██████████| 750/750 [58:25<00:00,  4.67s/it]\n"
     ]
    },
    {
     "name": "stdout",
     "output_type": "stream",
     "text": [
      "Training accuracy: 0.8764\n",
      "Test accuracy: 0.403625\n"
     ]
    },
    {
     "name": "stderr",
     "output_type": "stream",
     "text": [
      "100%|██████████| 750/750 [1:07:39<00:00,  5.41s/it]\n"
     ]
    },
    {
     "name": "stdout",
     "output_type": "stream",
     "text": [
      "Training accuracy: 0.8502\n",
      "Test accuracy: 0.375375\n"
     ]
    },
    {
     "name": "stderr",
     "output_type": "stream",
     "text": [
      "100%|██████████| 750/750 [59:20<00:00,  4.75s/it]\n"
     ]
    },
    {
     "name": "stdout",
     "output_type": "stream",
     "text": [
      "Training accuracy: 0.6714\n",
      "Test accuracy: 0.330875\n"
     ]
    },
    {
     "name": "stderr",
     "output_type": "stream",
     "text": [
      "100%|██████████| 750/750 [1:11:01<00:00,  5.68s/it]\n"
     ]
    },
    {
     "name": "stdout",
     "output_type": "stream",
     "text": [
      "Training accuracy: 0.8626\n",
      "Test accuracy: 0.385\n"
     ]
    },
    {
     "name": "stderr",
     "output_type": "stream",
     "text": [
      "100%|██████████| 750/750 [53:31<00:00,  4.28s/it]\n"
     ]
    },
    {
     "name": "stdout",
     "output_type": "stream",
     "text": [
      "Training accuracy: 0.771\n",
      "Test accuracy: 0.369375\n"
     ]
    }
   ],
   "source": [
    "for data_number in range(len(data_path)):\n",
    "    print(f'data_number: {data_number}')\n",
    "    #データ読み込み\n",
    "    traindataset=STL10TrainDataset(f'../../data/STL10 Datasets/train/{data_path[data_number]}')\n",
    "    testdataset=STL10TestDataset(f'../../data/STL10 Datasets/test/{data_path[data_number]}')\n",
    "\n",
    "    #データローダー作成\n",
    "    num_workers=4\n",
    "    traindataloader = GraphDataLoader(traindataset,batch_size = 512,shuffle = True,num_workers = num_workers,pin_memory = True)\n",
    "    testdataloader = GraphDataLoader(testdataset,batch_size = 1000,shuffle = True,num_workers = num_workers,pin_memory = True)\n",
    "\n",
    "    #設定ファイル読み込み\n",
    "    with open(f'config/config2.yaml','r') as f:\n",
    "        config=yaml.safe_load(f)\n",
    "\n",
    "    #パラメータ設定\n",
    "    lr=0.0001\n",
    "    epochs=750\n",
    "\n",
    "    #モデルの学習\n",
    "    for model_name, model_config in config.items():\n",
    "        #時間計測\n",
    "        start=time.time()\n",
    "        #結果を保存するディレクトリを作成\n",
    "        #Classification/save\n",
    "        #save_dir=f'../Classification/save/{data_path[data_number]}/config1.yaml/{model_name}'\n",
    "        save_dir=f'../../Classification/save/{data_path[data_number]}/config2.yaml/{model_name}_linear'\n",
    "        os.makedirs(save_dir,exist_ok=True)\n",
    "\n",
    "\n",
    "        #モデルの初期化\n",
    "        linear_on=True\n",
    "        model=PatchGCN(model_config['input_size'],model_config['hidden_size'],model_config['output_size'],linear_on)\n",
    "        model.to(device)\n",
    "        lossF=nn.CrossEntropyLoss()\n",
    "        optimizer=optim.AdamW(model.parameters(),lr=lr)\n",
    "\n",
    "        #情報保存用の変数の初期化\n",
    "        #トレーニング用\n",
    "        num_correct=0\n",
    "        num_tests=0\n",
    "        train_loss_list = []\n",
    "        train_acc_list = []\n",
    "        #テスト用\n",
    "        test_num_correct = 0\n",
    "        test_num_tests = 0\n",
    "        best_acc=0\n",
    "        test_acc_list = []\n",
    "\n",
    "        for epoch in tqdm(range(epochs)):\n",
    "            #トレーニング\n",
    "            model.train()\n",
    "            for batched_grapg, labels in traindataloader:\n",
    "                batched_grapg = batched_grapg.to(device)\n",
    "                labels = labels.to(device)\n",
    "                pred = model(batched_grapg,batched_grapg.ndata['f'])\n",
    "                loss=lossF(pred,labels)\n",
    "\n",
    "                optimizer.zero_grad()\n",
    "                loss.backward()\n",
    "                optimizer.step()\n",
    "\n",
    "                num_correct += (pred.argmax(1) == labels).sum().item()\n",
    "                num_tests += len(labels)\n",
    "            train_loss_list.append(loss.item())\n",
    "            train_acc_list.append(num_correct / num_tests)\n",
    "            #カウントリセット\n",
    "            num_correct=num_tests=0\n",
    "\n",
    "            #テスト\n",
    "            model.eval()\n",
    "            for tbatched_graph, tlabels in testdataloader:\n",
    "                tbatched_graph = tbatched_graph.to(device)\n",
    "                tlabels = tlabels.to(device)\n",
    "                tpred = model(tbatched_graph, tbatched_graph.ndata['f'])\n",
    "                test_num_correct += (tpred.argmax(1) == tlabels).sum().item()\n",
    "                test_num_tests += len(tlabels)\n",
    "\n",
    "            test_acc_list.append(test_num_correct/test_num_tests)\n",
    "            if best_acc < test_num_correct/test_num_tests:\n",
    "                best_acc = test_num_correct/test_num_tests\n",
    "                best_weight = model\n",
    "            #カウントリセット\n",
    "            test_num_correct=test_num_tests=0\n",
    "\n",
    "        #完全学習後の正答率の計算(推論)\n",
    "        with torch.no_grad():\n",
    "            #情報保存用の変数の初期化\n",
    "            #トレーニング用\n",
    "            num_correct=0\n",
    "            num_tests=0\n",
    "            save_train_acc=0\n",
    "            #テスト用\n",
    "            test_num_correct = 0\n",
    "            test_num_tests = 0\n",
    "            save_test_acc=0\n",
    "\n",
    "            #全トレーニングデータでの正答率計算\n",
    "            model.train()\n",
    "            for batched_graph, labels in traindataloader:\n",
    "                batched_graph = batched_graph.to(device)\n",
    "                labels = labels.to(device)\n",
    "                pred = model(batched_graph, batched_graph.ndata['f'])\n",
    "                num_correct += (pred.argmax(1) == labels).sum().item()\n",
    "                num_tests += len(labels)\n",
    "            print('Training accuracy:', num_correct / num_tests)\n",
    "            save_train_acc=(num_correct / num_tests)\n",
    "\n",
    "            #全テストデータでの正答率\n",
    "            model.eval()\n",
    "            for batched_graph, labels in testdataloader:\n",
    "                batched_graph = batched_graph.to(device)\n",
    "                labels = labels.to(device)\n",
    "                pred = model(batched_graph, batched_graph.ndata['f'])\n",
    "                test_num_correct += (pred.argmax(1) == labels).sum().item()\n",
    "                test_num_tests += len(labels)\n",
    "            print('Test accuracy:', test_num_correct / test_num_tests)\n",
    "            save_test_acc=(test_num_correct / test_num_tests)\n",
    "\n",
    "        #各エポックごとの損失・正答率の記録をモデルごとに.npy形式で保存\n",
    "        np.save(f'{save_dir}/train_loss_list',train_loss_list)\n",
    "        np.save(f'{save_dir}/train_acc_list',train_acc_list)\n",
    "        np.save(f'{save_dir}/test_acc_list',test_acc_list)\n",
    "        torch.save(model,f'{save_dir}/model_weight.pth')\n",
    "        torch.save(best_weight,f'{save_dir}/best_model_weight.pth')\n",
    "        #完全学習後のトレーニング・テストデータそれぞれの正答率を.yaml形式で保存\n",
    "        log={'train acc':save_train_acc,\n",
    "            'test acc':save_test_acc,\n",
    "            'epochs':epochs,\n",
    "            'config':model_config,\n",
    "            'best test acc':best_acc,\n",
    "            'linear_on':str(linear_on),\n",
    "            'date time':datetime.datetime.now(),\n",
    "            'run time':time.time() - start}\n",
    "            \n",
    "        with open(f'{save_dir}/acc_result.yaml',\"w\") as f:\n",
    "            yaml.dump(log,f)\n",
    "\n",
    "        torch.cuda.empty_cache()"
   ]
  }
 ],
 "metadata": {
  "kernelspec": {
   "display_name": "GNN_DGL",
   "language": "python",
   "name": "python3"
  },
  "language_info": {
   "codemirror_mode": {
    "name": "ipython",
    "version": 3
   },
   "file_extension": ".py",
   "mimetype": "text/x-python",
   "name": "python",
   "nbconvert_exporter": "python",
   "pygments_lexer": "ipython3",
   "version": "3.8.10"
  },
  "orig_nbformat": 4
 },
 "nbformat": 4,
 "nbformat_minor": 2
}
