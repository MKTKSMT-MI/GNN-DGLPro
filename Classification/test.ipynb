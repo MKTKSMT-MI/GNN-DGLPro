{
 "cells": [
  {
   "cell_type": "code",
   "execution_count": 1,
   "metadata": {},
   "outputs": [],
   "source": [
    "import dgl\n",
    "import numpy as np\n",
    "import torch\n",
    "import torch.nn as nn\n",
    "from dgl.nn import GATConv,GATv2Conv,SumPooling"
   ]
  },
  {
   "cell_type": "code",
   "execution_count": 4,
   "metadata": {},
   "outputs": [],
   "source": [
    "g1 = dgl.rand_graph(3, 4)  # g1 is a random graph with 3 nodes and 4 edges\n",
    "g1_node_feats = torch.rand(3, 5,5)  # feature size is 5\n",
    "\n",
    "sumpool=SumPooling()"
   ]
  },
  {
   "cell_type": "code",
   "execution_count": 5,
   "metadata": {},
   "outputs": [
    {
     "name": "stdout",
     "output_type": "stream",
     "text": [
      "tensor([[[1.2451, 1.6525, 0.7659, 0.7619, 1.4810],\n",
      "         [0.9338, 1.7687, 2.6904, 1.4146, 2.0473],\n",
      "         [0.9916, 1.0966, 1.0933, 1.3354, 1.2276],\n",
      "         [0.9484, 1.5294, 1.8744, 2.1996, 1.5637],\n",
      "         [1.6590, 1.3769, 1.8713, 1.6403, 1.6256]]])\n"
     ]
    }
   ],
   "source": [
    "print(sumpool(g1,g1_node_feats))"
   ]
  }
 ],
 "metadata": {
  "kernelspec": {
   "display_name": "GNN_DGL2",
   "language": "python",
   "name": "python3"
  },
  "language_info": {
   "codemirror_mode": {
    "name": "ipython",
    "version": 3
   },
   "file_extension": ".py",
   "mimetype": "text/x-python",
   "name": "python",
   "nbconvert_exporter": "python",
   "pygments_lexer": "ipython3",
   "version": "3.10.13"
  },
  "orig_nbformat": 4
 },
 "nbformat": 4,
 "nbformat_minor": 2
}
