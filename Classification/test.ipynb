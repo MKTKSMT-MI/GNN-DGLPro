{
 "cells": [
  {
   "cell_type": "code",
   "execution_count": 1,
   "metadata": {},
   "outputs": [],
   "source": [
    "import dgl\n",
    "import numpy as np\n",
    "import torch\n",
    "import torch.nn as nn\n",
    "from dgl.nn import GATConv,GATv2Conv"
   ]
  },
  {
   "cell_type": "code",
   "execution_count": 4,
   "metadata": {},
   "outputs": [],
   "source": [
    "g = dgl.graph(([0,1,2,3,2,5], [1,2,3,4,0,3]))\n",
    "g = dgl.add_self_loop(g)\n",
    "feat = torch.ones(6, 10)\n",
    "gatconv = GATv2Conv(10, 2, num_heads=4)\n",
    "res = gatconv(g, feat)"
   ]
  },
  {
   "cell_type": "code",
   "execution_count": 5,
   "metadata": {},
   "outputs": [
    {
     "name": "stdout",
     "output_type": "stream",
     "text": [
      "torch.Size([6, 10])\n",
      "torch.Size([6, 4, 2])\n",
      "torch.Size([6, 8])\n"
     ]
    }
   ],
   "source": [
    "print(feat.shape)\n",
    "print(res.shape)\n",
    "ff=nn.Flatten()\n",
    "out=ff(res)\n",
    "print(out.shape)"
   ]
  },
  {
   "cell_type": "code",
   "execution_count": 7,
   "metadata": {},
   "outputs": [],
   "source": [
    "linear=nn.Linear(8,2)\n",
    "conv2=GATv2Conv(2,8,num_heads=4)\n",
    "out2=linear(out)\n",
    "res2=conv2(g,out2)"
   ]
  },
  {
   "cell_type": "code",
   "execution_count": 12,
   "metadata": {},
   "outputs": [
    {
     "name": "stdout",
     "output_type": "stream",
     "text": [
      "tensor([[[ 0.2766, -3.4287],\n",
      "         [ 1.4510, -1.2515],\n",
      "         [ 0.2058, -1.9625],\n",
      "         [ 1.6113,  0.1215]],\n",
      "\n",
      "        [[ 0.2766, -3.4287],\n",
      "         [ 1.4510, -1.2515],\n",
      "         [ 0.2058, -1.9625],\n",
      "         [ 1.6113,  0.1215]],\n",
      "\n",
      "        [[ 0.2766, -3.4287],\n",
      "         [ 1.4510, -1.2515],\n",
      "         [ 0.2058, -1.9625],\n",
      "         [ 1.6113,  0.1215]],\n",
      "\n",
      "        [[ 0.2766, -3.4287],\n",
      "         [ 1.4510, -1.2515],\n",
      "         [ 0.2058, -1.9625],\n",
      "         [ 1.6113,  0.1215]],\n",
      "\n",
      "        [[ 0.2766, -3.4287],\n",
      "         [ 1.4510, -1.2515],\n",
      "         [ 0.2058, -1.9625],\n",
      "         [ 1.6113,  0.1215]],\n",
      "\n",
      "        [[ 0.2766, -3.4287],\n",
      "         [ 1.4510, -1.2515],\n",
      "         [ 0.2058, -1.9625],\n",
      "         [ 1.6113,  0.1215]]], grad_fn=<GSpMMBackward>)\n"
     ]
    }
   ],
   "source": [
    "print(res)"
   ]
  },
  {
   "cell_type": "code",
   "execution_count": 13,
   "metadata": {},
   "outputs": [
    {
     "name": "stdout",
     "output_type": "stream",
     "text": [
      "torch.Size([6, 2])\n"
     ]
    }
   ],
   "source": [
    "a=res.mean(1)\n",
    "print(a.shape)"
   ]
  }
 ],
 "metadata": {
  "kernelspec": {
   "display_name": "GNN_DGL2",
   "language": "python",
   "name": "python3"
  },
  "language_info": {
   "codemirror_mode": {
    "name": "ipython",
    "version": 3
   },
   "file_extension": ".py",
   "mimetype": "text/x-python",
   "name": "python",
   "nbconvert_exporter": "python",
   "pygments_lexer": "ipython3",
   "version": "3.10.13"
  },
  "orig_nbformat": 4
 },
 "nbformat": 4,
 "nbformat_minor": 2
}
