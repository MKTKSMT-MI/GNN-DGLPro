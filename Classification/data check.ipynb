{
 "cells": [
  {
   "cell_type": "code",
   "execution_count": 1,
   "metadata": {},
   "outputs": [
    {
     "name": "stderr",
     "output_type": "stream",
     "text": [
      "Using backend: pytorch\n"
     ]
    }
   ],
   "source": [
    "import dgl\n",
    "from dgl.data import DGLDataset\n",
    "import torch\n",
    "import torchvision\n",
    "import torchvision.transforms as transforms\n",
    "import torch.nn as nn\n",
    "import torch.nn.functional as F\n",
    "import dgl.data\n",
    "from dgl.nn import GraphConv,MaxPooling\n",
    "import matplotlib.pyplot as plt\n",
    "from tqdm import tqdm\n",
    "import torch.optim as optim\n",
    "import numpy as np\n",
    "import time\n",
    "from dgl.dataloading import GraphDataLoader\n",
    "from torch.utils.data.sampler import SubsetRandomSampler\n",
    "import os\n",
    "import yaml\n",
    "\n",
    "#from torchviz import make_dot\n",
    "from IPython.display import display\n",
    "%matplotlib inline"
   ]
  },
  {
   "cell_type": "code",
   "execution_count": null,
   "metadata": {},
   "outputs": [],
   "source": [
    "root_path='save/ndata_8patch.dgl/config2.yaml/'\n",
    "data_num=5\n",
    "#Test acc plot\n",
    "for i in range(data_num):\n",
    "    data=np.load(f'{root_path}model{i+1}_linear_skip/test_acc_list.npy')\n",
    "    x=[i for i in range(data.shape[0])]\n",
    "    y=data\n",
    "\n",
    "    fig=plt.figure()\n",
    "    ax=fig.add_subplot()\n",
    "    ax.plot(x,y)\n",
    "    ax.set_title('Test acc')\n",
    "    ax.set_xlabel('epochs')\n",
    "    ax.set_ylabel('acc')\n",
    "    ax.set_xlim(0,data.shape[0])\n",
    "    ax.set_ylim(0,1)\n",
    "    fig.savefig(f'{root_path}model{i+1}_linear_skip/test_acc.jpg',dpi=300)\n",
    "    plt.close()\n"
   ]
  },
  {
   "cell_type": "code",
   "execution_count": 3,
   "metadata": {},
   "outputs": [
    {
     "data": {
      "image/png": "[encoded data removed]",
      "text/plain": [
       "<Figure size 432x288 with 1 Axes>"
      ]
     },
     "metadata": {
      "needs_background": "light"
     },
     "output_type": "display_data"
    }
   ],
   "source": [
    "root_path='save/ndata_8patch.dgl/config2.yaml/'\n",
    "data=np.load(f'{root_path}model2_linear_skip/train_loss_list.npy')\n",
    "x=[i for i in range(data.shape[0])]\n",
    "y=data\n",
    "plt.plot(x,y)\n",
    "plt.show()"
   ]
  },
  {
   "cell_type": "code",
   "execution_count": 5,
   "metadata": {},
   "outputs": [
    {
     "name": "stdout",
     "output_type": "stream",
     "text": [
      "2.3025858402252197\n",
      "2.3025858402252197\n",
      "2.3025858402252197\n",
      "2.3025858402252197\n",
      "2.3025858402252197\n",
      "2.3025858402252197\n",
      "2.3025858402252197\n",
      "2.3025858402252197\n",
      "2.3025858402252197\n",
      "2.3025858402252197\n"
     ]
    }
   ],
   "source": [
    "for i in range(10):\n",
    "    print(y[i])"
   ]
  },
  {
   "cell_type": "code",
   "execution_count": 8,
   "metadata": {},
   "outputs": [
    {
     "name": "stdout",
     "output_type": "stream",
     "text": [
      "8000\n"
     ]
    }
   ],
   "source": [
    "def count_different_elements(lst, value):\n",
    "    count = 0\n",
    "    for element in lst:\n",
    "        if element == value:\n",
    "            count += 1\n",
    "    return count\n",
    "tv=y[0]\n",
    "print(count_different_elements(y,tv))"
   ]
  },
  {
   "cell_type": "code",
   "execution_count": 16,
   "metadata": {},
   "outputs": [
    {
     "name": "stdout",
     "output_type": "stream",
     "text": [
      "start while\n"
     ]
    }
   ],
   "source": [
    "comp=True\n",
    "while comp:\n",
    "    print('start while')\n",
    "    for i in range(5000):\n",
    "        a=torch.randn(1)\n",
    "        if a<0:\n",
    "            break\n",
    "        comp=False"
   ]
  }
 ],
 "metadata": {
  "kernelspec": {
   "display_name": "DGL",
   "language": "python",
   "name": "python3"
  },
  "language_info": {
   "codemirror_mode": {
    "name": "ipython",
    "version": 3
   },
   "file_extension": ".py",
   "mimetype": "text/x-python",
   "name": "python",
   "nbconvert_exporter": "python",
   "pygments_lexer": "ipython3",
   "version": "3.8.10"
  },
  "orig_nbformat": 4
 },
 "nbformat": 4,
 "nbformat_minor": 2
}
