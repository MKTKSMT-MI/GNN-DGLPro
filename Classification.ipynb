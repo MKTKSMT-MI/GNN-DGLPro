{
 "cells": [
  {
   "cell_type": "code",
   "execution_count": 1,
   "metadata": {},
   "outputs": [],
   "source": [
    "import dgl\n",
    "from dgl.data import DGLDataset\n",
    "import torch\n",
    "import torchvision\n",
    "import torch.nn as nn\n",
    "import torch.nn.functional as F\n",
    "import dgl.data\n",
    "from dgl.nn import GraphConv\n",
    "import matplotlib.pyplot as plt\n",
    "from tqdm import tqdm\n",
    "import torch.optim as optim\n",
    "import numpy as np\n",
    "import time\n",
    "from dgl.dataloading import GraphDataLoader\n",
    "from torch.utils.data.sampler import SubsetRandomSampler\n",
    "import os\n",
    "\n",
    "%matplotlib inline"
   ]
  },
  {
   "cell_type": "code",
   "execution_count": 2,
   "metadata": {},
   "outputs": [],
   "source": [
    "#トレーニング用データセットクラス\n",
    "class CIFAR10TrainDataset(DGLDataset):\n",
    "    def __init__(self,data_path):\n",
    "        self.data_path = data_path\n",
    "        super().__init__(name='cifar10_train__gprah')\n",
    "    \n",
    "    def process(self):\n",
    "        GRAPHS, LABELS = dgl.load_graphs(self.data_path) #保存したグラーフデータの読み込み\n",
    "        self.graphs = GRAPHS #グラフリストを代入\n",
    "        self.labels = LABELS['label'] #ラベル辞書の値のみ代入\n",
    "\n",
    "    def __getitem__(self, idx):\n",
    "        return self.graphs[idx], self.labels[idx]\n",
    "\n",
    "    def __len__(self):\n",
    "        return len(self.graphs)\n",
    "\n",
    "\n",
    "class CIFAR10TestDataset(DGLDataset):\n",
    "    def __init__(self,data_path):\n",
    "        self.data_path = data_path\n",
    "        super().__init__(name='cifar10_test_gprah')\n",
    "    \n",
    "    def process(self):\n",
    "        GRAPHS, LABELS = dgl.load_graphs(self.data_path) #保存したグラーフデータの読み込み\n",
    "        self.graphs = GRAPHS #グラフリストを代入\n",
    "        self.labels = LABELS['label'] #ラベル辞書の値のみ代入\n",
    "\n",
    "    def __getitem__(self, idx):\n",
    "        return self.graphs[idx], self.labels[idx]\n",
    "\n",
    "    def __len__(self):\n",
    "        return len(self.graphs)"
   ]
  },
  {
   "cell_type": "code",
   "execution_count": 3,
   "metadata": {},
   "outputs": [],
   "source": [
    "path = \"./data/MyDataset/train_graphs_six_f_in_pos_50_std.dgl\"\n",
    "traindataset = CIFAR10TrainDataset(\"./data/MyDataset/train_graphs_six_f_in_pos_40_std.dgl\")\n",
    "testdataset = CIFAR10TestDataset(\"./data/MyDataset/test_graphs_six_f_in_pos_40_std.dgl\")"
   ]
  },
  {
   "cell_type": "code",
   "execution_count": 4,
   "metadata": {},
   "outputs": [
    {
     "name": "stdout",
     "output_type": "stream",
     "text": [
      "num_wokers = 0\n",
      "posix\n"
     ]
    }
   ],
   "source": [
    "if os.name =='posix':\n",
    "    num_workers = 2\n",
    "else:\n",
    "    num_workers = 0\n",
    "num_workers = 0\n",
    "traindataloader = GraphDataLoader(traindataset,batch_size = 2500,shuffle = True,num_workers = num_workers,pin_memory = True)\n",
    "testdataloader = GraphDataLoader(testdataset,batch_size = 5000,shuffle = True,num_workers = num_workers,pin_memory = True)\n",
    "print(f'num_wokers = {num_workers}')\n",
    "print(os.name)"
   ]
  },
  {
   "cell_type": "code",
   "execution_count": null,
   "metadata": {},
   "outputs": [],
   "source": [
    "print(traindataset[0][0].ndata['feat value'].shape)\n",
    "for i in range(10,20):\n",
    "    print(traindataset[3][0].ndata['feat value'][i])\n",
    "print(traindataset)"
   ]
  },
  {
   "cell_type": "code",
   "execution_count": null,
   "metadata": {},
   "outputs": [],
   "source": [
    "print(traindataset)\n",
    "print(traindataset[0][0].ndata['feat value'].shape)\n",
    "for i in range(10,20):\n",
    "    print(traindataset[3][0].ndata['feat value'][i])"
   ]
  },
  {
   "cell_type": "code",
   "execution_count": 5,
   "metadata": {},
   "outputs": [],
   "source": [
    "#ネットワーク設定\n",
    "class GCN(nn.Module):\n",
    "    def __init__(self):\n",
    "        super(GCN,self).__init__()\n",
    "        self.conv1 = GraphConv(8,16)\n",
    "        self.conv2 = GraphConv(16,32)\n",
    "        self.conv3 = GraphConv(32,128)\n",
    "        self.conv4 = GraphConv(64,128)\n",
    "        self.dropout =nn.Dropout(0.4)\n",
    "        self.meanpooling = nn.AvgPool1d(2)\n",
    "        self.maxpooling = nn.MaxPool1d(2)\n",
    "        self.flatten = nn.Flatten()\n",
    "        self.fc1 = nn.Linear(64,128)\n",
    "        self.fc2 = nn.Linear(128,64)\n",
    "        self.fc3 = nn.Linear(64,32)\n",
    "        self.fc4 = nn.Linear(32,10)\n",
    "\n",
    "\n",
    "    def forward(self,g,n_feat,e_feat = None):\n",
    "        h = F.relu(self.conv1(g,n_feat,None,e_feat))\n",
    "        h = F.relu(self.conv2(g,h,None,e_feat))\n",
    "        h = self.dropout(h)\n",
    "        h = self.conv3(g,h,None,e_feat)\n",
    "\n",
    "        #h = self.meanpooling(h)\n",
    "        h = self.maxpooling(h)\n",
    "\n",
    "        h = self.flatten(h)\n",
    "\n",
    "        h = F.relu(self.fc1(h))\n",
    "        h = self.dropout(h)\n",
    "        h = F.relu(self.fc2(h))\n",
    "        h = self.dropout(h)\n",
    "        h = F.relu(self.fc3(h))\n",
    "        h = self.fc4(h)\n",
    "        \n",
    "\n",
    "\n",
    "\n",
    "        g.ndata['h'] = h\n",
    "\n",
    "        return dgl.mean_nodes(g,'h')"
   ]
  },
  {
   "cell_type": "code",
   "execution_count": null,
   "metadata": {},
   "outputs": [],
   "source": [
    "# 16 32 64 128 x4 '''"
   ]
  },
  {
   "cell_type": "code",
   "execution_count": 6,
   "metadata": {},
   "outputs": [],
   "source": [
    "model = GCN()\n",
    "device = torch.device('cuda:0' if torch.cuda.is_available() else 'cpu')\n",
    "model.to(device)\n",
    "optimizer = optim.Adam(model.parameters(),lr = 0.02)\n",
    "#optimizer = optim.SGD(params=model.parameters(),lr=0.03,momentum=0.9)\n",
    "epochs = 600"
   ]
  },
  {
   "cell_type": "code",
   "execution_count": 7,
   "metadata": {},
   "outputs": [],
   "source": [
    "save_train_acc = []\n",
    "save_test_acc = []"
   ]
  },
  {
   "cell_type": "code",
   "execution_count": null,
   "metadata": {},
   "outputs": [],
   "source": [
    "conv1 = GraphConv(8,16)\n",
    "conv2 = GraphConv(16,32)\n",
    "conv3 = GraphConv(32,10)\n",
    "conv4 = GraphConv(64,128)\n",
    "dropout =nn.Dropout(0.2)\n",
    "meanpooling = nn.AvgPool1d(32)\n",
    "flatten = nn.Flatten()\n",
    "fc1 = nn.Linear(1,60)\n",
    "fc2 = nn.Linear(60,10)\n",
    "for i,p in traindataloader:\n",
    "    h = i.ndata['feat value'].float()\n",
    "    print(i.ndata['feat value'].float().shape)\n",
    "    h = conv1(i,h)\n",
    "    print(f'conv1:{h.shape}')\n",
    "    h = conv2(i,h)\n",
    "    print(f'conv2:{h.shape}')\n",
    "    h = meanpooling(h)\n",
    "    print(f'meanpooling:{h.shape}')\n",
    "    h = flatten(h)\n",
    "    print(f'flatten:{h.shape}')\n",
    "    h = fc1(h)\n",
    "    print(f'fc1:{h.shape}')\n",
    "    h = fc2(h)\n",
    "    print(f'fc2:{h.shape}')\n",
    "    i.ndata['h'] = h\n",
    "    q = dgl.mean_nodes(i,'h')\n",
    "    break\n",
    "loss = F.cross_entropy(q,p)\n",
    "print(loss)\n",
    "print(loss.shape)"
   ]
  },
  {
   "cell_type": "code",
   "execution_count": 8,
   "metadata": {},
   "outputs": [
    {
     "name": "stderr",
     "output_type": "stream",
     "text": [
      "100%|██████████| 600/600 [11:25<00:00,  1.14s/it]\n"
     ]
    },
    {
     "name": "stdout",
     "output_type": "stream",
     "text": [
      "Training accuracy: 0.527\n",
      "Test accuracy: 0.3201\n"
     ]
    }
   ],
   "source": [
    "loss_list = []\n",
    "acc_list = []\n",
    "test_acc_list = []\n",
    "\n",
    "\n",
    "num_correct = 0\n",
    "num_tests = 0\n",
    "test_num_correct = 0\n",
    "test_num_tests = 0\n",
    "#,batched_graph.edata['distance'].float()\n",
    "BP = 0\n",
    "for epoch in tqdm(range(epochs)):\n",
    "    if BP != 0:\n",
    "        break\n",
    "    model.train()\n",
    "    for batched_graph, labels in traindataloader:\n",
    "        batched_graph = batched_graph.to(device)\n",
    "        labels = labels.to(device)\n",
    "        pred = model(batched_graph, batched_graph.ndata['feat value'].float(),batched_graph.edata['distance'].float())\n",
    "        loss = F.cross_entropy(pred,labels)\n",
    "        if loss.item() < 0.05:\n",
    "            BP = 0\n",
    "            break\n",
    "        optimizer.zero_grad()\n",
    "        loss.backward()\n",
    "        optimizer.step()\n",
    "        num_correct += (pred.argmax(1) == labels).sum().item()\n",
    "        num_tests += len(labels)\n",
    "    loss_list.append(loss.item())\n",
    "    acc_list.append(num_correct / num_tests)\n",
    "    \n",
    "    model.eval()\n",
    "    for tbatched_graph, tlabels in testdataloader:\n",
    "        tbatched_graph = tbatched_graph.to(device)\n",
    "        tlabels = tlabels.to(device)\n",
    "        tpred = model(tbatched_graph, tbatched_graph.ndata['feat value'],tbatched_graph.edata['distance'].float())\n",
    "        test_num_correct += (tpred.argmax(1) == tlabels).sum().item()\n",
    "        test_num_tests += len(tlabels)\n",
    "\n",
    "    Tacc = test_num_correct / test_num_tests\n",
    "    #print('Training accuracy:', Tacc)\n",
    "    #test_acc_list.append(Tacc)\n",
    "\n",
    "num_correct = 0\n",
    "num_tests = 0\n",
    "\n",
    "\n",
    "with torch.no_grad():\n",
    "\n",
    "    model.train()\n",
    "    for batched_graph, labels in traindataloader:\n",
    "        batched_graph = batched_graph.to(device)\n",
    "        labels = labels.to(device)\n",
    "        pred = model(batched_graph, batched_graph.ndata['feat value'],batched_graph.edata['distance'].float())\n",
    "        num_correct += (pred.argmax(1) == labels).sum().item()\n",
    "        num_tests += len(labels)\n",
    "\n",
    "    print('Training accuracy:', num_correct / num_tests)\n",
    "    save_train_acc.append(num_correct / num_tests)\n",
    "\n",
    "    num_correct = 0\n",
    "    num_tests = 0\n",
    "\n",
    "\n",
    "    model.eval()\n",
    "    for batched_graph, labels in testdataloader:\n",
    "        batched_graph = batched_graph.to(device)\n",
    "        labels = labels.to(device)\n",
    "        pred = model(batched_graph, batched_graph.ndata['feat value'].float(),batched_graph.edata['distance'].float())\n",
    "        num_correct += (pred.argmax(1) == labels).sum().item()\n",
    "        num_tests += len(labels)\n",
    "\n",
    "    print('Test accuracy:', num_correct / num_tests)\n",
    "    save_test_acc.append(num_correct / num_tests)"
   ]
  },
  {
   "cell_type": "code",
   "execution_count": 9,
   "metadata": {},
   "outputs": [
    {
     "name": "stdout",
     "output_type": "stream",
     "text": [
      "1\n",
      "tensor(1.3339, device='cuda:0', grad_fn=<NllLossBackward0>)\n"
     ]
    }
   ],
   "source": [
    "#5:40\n",
    "#3:15\n",
    "print(torch.cuda.device_count())\n",
    "print(loss)"
   ]
  },
  {
   "cell_type": "code",
   "execution_count": 10,
   "metadata": {},
   "outputs": [
    {
     "data": {
      "image/png": "[encoded data removed]",
      "text/plain": [
       "<Figure size 432x288 with 1 Axes>"
      ]
     },
     "metadata": {
      "needs_background": "light"
     },
     "output_type": "display_data"
    }
   ],
   "source": [
    "x = [p for p in range(1,len(loss_list)+1)]\n",
    "y = loss_list\n",
    "plt.plot(x,y)\n",
    "plt.title('Train loss')\n",
    "plt.show()"
   ]
  },
  {
   "cell_type": "code",
   "execution_count": null,
   "metadata": {},
   "outputs": [],
   "source": [
    "x = [p for p in range(1,len(loss_list)+1)]\n",
    "y1 = acc_list\n",
    "y2 = test_acc_list\n",
    "plt.ylim(0,1)\n",
    "'''\n",
    "#20\n",
    "plt.plot(x,train_acc_lists[0],label = '20 Train acc', color = \"crimson\")\n",
    "plt.plot(x,test_acc_lists[0],label = '20 Test acc', color = \"crimson\",linestyle = 'dashed')\n",
    "\n",
    "#30\n",
    "plt.plot(x,train_acc_lists[1],label = '30 Train acc', color = \"darkblue\")\n",
    "plt.plot(x,test_acc_lists[1],label = '30 Test acc', color = \"darkblue\",linestyle = 'dashed')\n",
    "\n",
    "#40\n",
    "plt.plot(x,train_acc_lists[2],label = '40 Train acc', color = \"green\")\n",
    "plt.plot(x,test_acc_lists[2],label = '40 Test acc', color = \"green\",linestyle = 'dashed')\n",
    "'''\n",
    "plt.plot(x,y1,label='train acc')\n",
    "plt.plot(x,y2,label='test acc')\n",
    "plt.ylabel('accuracy')\n",
    "plt.xlabel('epoch')\n",
    "plt.title('Training and Test accuracy')\n",
    "plt.legend()\n",
    "plt.show()"
   ]
  },
  {
   "cell_type": "code",
   "execution_count": null,
   "metadata": {},
   "outputs": [],
   "source": [
    "print(save_train_acc)\n",
    "print(save_test_acc)"
   ]
  },
  {
   "cell_type": "code",
   "execution_count": null,
   "metadata": {},
   "outputs": [],
   "source": [
    "def f(x):\n",
    "    return x*x-2"
   ]
  },
  {
   "cell_type": "code",
   "execution_count": null,
   "metadata": {},
   "outputs": [],
   "source": [
    "from torch.autograd import Variable"
   ]
  },
  {
   "cell_type": "code",
   "execution_count": null,
   "metadata": {},
   "outputs": [],
   "source": [
    "ini_x_value = 5\n",
    "ini_x_tensor = ini_x_value*torch.ones(1, 1, dtype = torch.float64)\n",
    "x = Variable(ini_x_tensor, requires_grad=True)\n",
    "print(f'roop {0:<4d} x = {x.item()}')\n",
    "\n",
    "roop = 0\n",
    "while roop < 10:\n",
    "    roop += 1\n",
    "    # 勾配の計算\n",
    "    f(x).backward()\n",
    "    # xの更新\n",
    "    x.data -= (f(x)/x.grad).data\n",
    "    # 勾配を0に設定\n",
    "    x.grad.zero_()\n",
    "    print(f'roop {roop:<4d} x = {x.item()}')"
   ]
  },
  {
   "cell_type": "markdown",
   "metadata": {},
   "source": [
    "### 必要なもの\n",
    "lossの履歴  \n",
    "trainのacc  \n",
    "testのacc  \n",
    "実行時間"
   ]
  },
  {
   "cell_type": "code",
   "execution_count": null,
   "metadata": {},
   "outputs": [],
   "source": [
    "loss_logs = []\n",
    "train_acc_logs = []\n",
    "test_acc_logs = []\n",
    "run_time_logs = []"
   ]
  },
  {
   "cell_type": "code",
   "execution_count": null,
   "metadata": {},
   "outputs": [],
   "source": [
    "#8-16-32-64-128-128-64-32-16-10\n",
    "#8-64-512-512-64-10\n",
    "#8-96-1152-1152-500-150-20-10\n"
   ]
  },
  {
   "cell_type": "code",
   "execution_count": null,
   "metadata": {},
   "outputs": [],
   "source": [
    "#ネットワーク設定\n",
    "class GCN1(nn.Module):\n",
    "    def __init__(self):\n",
    "        super(GCN1,self).__init__()\n",
    "        self.conv1 = GraphConv(8,64)\n",
    "        self.conv2 = GraphConv(64,512)\n",
    "    \n",
    "        self.flatten = nn.Flatten()\n",
    "\n",
    "        self.liner1 = torch.nn.Linear(512,64)\n",
    "        self.liner2 = torch.nn.Linear(64,10)\n",
    "\n",
    "        self.dropout = torch.nn.Dropout(p = 0.2)\n",
    "\n",
    "    def forward(self,g,n_feat,e_feat = None):\n",
    "        h = F.relu(self.conv1(g,n_feat,None,e_feat))\n",
    "        h = self.dropout(h)\n",
    "        h = self.conv2(g,h,None,e_feat)\n",
    "        \n",
    "        h = self.flatten(h)\n",
    "\n",
    "        h = F.relu(self.liner1(h))\n",
    "        h = self.dropout(h)\n",
    "        h = self.liner2(h)\n",
    "        \n",
    "        g.ndata['h'] = h\n",
    "\n",
    "        return dgl.mean_nodes(g,'h')"
   ]
  },
  {
   "cell_type": "code",
   "execution_count": null,
   "metadata": {},
   "outputs": [],
   "source": [
    "#ネットワーク設定\n",
    "class GCN2(nn.Module):\n",
    "    def __init__(self):\n",
    "        super(GCN2,self).__init__()\n",
    "        self.conv1 = GraphConv(8,96)\n",
    "        self.conv2 = GraphConv(96,1152)\n",
    "        \n",
    "        self.flatten = nn.Flatten()\n",
    "        \n",
    "        self.liner1 = torch.nn.Linear(1152,500)\n",
    "        self.liner2 = torch.nn.Linear(500,150)\n",
    "        self.liner3 = torch.nn.Linear(150,20)\n",
    "        self.liner4 = torch.nn.Linear(20,10)\n",
    "        self.dropout = torch.nn.Dropout(p = 0.2)\n",
    "\n",
    "    def forward(self,g,n_feat,e_feat = None):\n",
    "        h = F.relu(self.conv1(g,n_feat,None,e_feat))\n",
    "        h = self.dropout(h)\n",
    "        h = self.conv2(g,h,None,e_feat)\n",
    "        \n",
    "        h = self.flatten(h)\n",
    "\n",
    "        h = F.relu(self.liner1(h))\n",
    "        h = self.dropout(h)\n",
    "        h = F.relu(self.liner2(h))\n",
    "        h = self.dropout(h)\n",
    "        h = self.liner3(h)\n",
    "        \n",
    "        g.ndata['h'] = h\n",
    "\n",
    "        return dgl.mean_nodes(g,'h')"
   ]
  },
  {
   "cell_type": "code",
   "execution_count": null,
   "metadata": {},
   "outputs": [],
   "source": [
    "device = torch.device('cuda:0' if torch.cuda.is_available() else 'cpu')\n",
    "model_list = []\n",
    "opt_list = []\n",
    "model1 = GCN1()\n",
    "model_list.append(model1)\n",
    "model2 = GCN2()\n",
    "model_list.append(model2)\n",
    "model1.to(device)\n",
    "model2.to(device)\n",
    "optimizer1 = optim.Adam(model1.parameters(),lr = 0.01)\n",
    "opt_list.append(optimizer1)\n",
    "optimizer2 = optim.Adam(model2.parameters(),lr = 0.01)\n",
    "opt_list.append(optimizer2)\n",
    "epochs = 10"
   ]
  },
  {
   "cell_type": "code",
   "execution_count": null,
   "metadata": {},
   "outputs": [],
   "source": [
    "for i in range(len(model_list)):\n",
    "    loss_list = []\n",
    "    acc_list = []\n",
    "\n",
    "    num_correct = 0\n",
    "    num_tests = 0\n",
    "    start = time.time()\n",
    "    runmodel = model_list[i]\n",
    "    opt = opt_list[i]\n",
    "    runmodel.train()\n",
    "    for epoch in tqdm(range(epochs)):\n",
    "        for batched_graph,labels in traindataloader:\n",
    "            batched_graph = batched_graph.to(device)\n",
    "            labels = labels.to(device)\n",
    "            pred = runmodel(batched_graph, batched_graph.ndata['feat value'].float(),batched_graph.edata['distance'].float())\n",
    "            loss = F.cross_entropy(pred,labels)\n",
    "            opt.zero_grad()\n",
    "            loss.backward()\n",
    "            opt.step()\n",
    "            num_correct += (pred.argmax(1) == labels).sum().item()\n",
    "            num_tests += len(labels)\n",
    "        loss_list.append(loss.item())\n",
    "        acc_list.append(num_correct / num_tests)\n",
    "    loss_logs.append(loss_list)\n",
    "    run_time_logs.append(time.time() - start)\n",
    "\n",
    "    num_correct = 0\n",
    "    num_tests = 0\n",
    "    runmodel.eval()\n",
    "    for batched_graph,labels in traindataloader:\n",
    "        batched_graph = batched_graph.to(device)\n",
    "        labels = labels.to(device)\n",
    "        pred = runmodel(batched_graph, batched_graph.ndata['feat value'].float(),batched_graph.edata['distance'].float())\n",
    "        num_correct += (pred.argmax(1) == labels).sum().item()\n",
    "        num_tests += len(labels)\n",
    "    train_acc_logs.append(num_correct / num_tests)\n",
    "\n",
    "    num_correct = 0\n",
    "    num_tests = 0\n",
    "    for batched_graph,labels in testdataloader:\n",
    "        batched_graph = batched_graph.to(device)\n",
    "        labels = labels.to(device)\n",
    "        pred = runmodel(batched_graph, batched_graph.ndata['feat value'].float(),batched_graph.edata['distance'].float())\n",
    "        num_correct += (pred.argmax(1) == labels).sum().item()\n",
    "        num_tests += len(labels)\n",
    "    test_acc_logs.append(num_correct / num_tests)\n"
   ]
  },
  {
   "cell_type": "code",
   "execution_count": null,
   "metadata": {},
   "outputs": [],
   "source": [
    "print(loss_logs)\n",
    "print(train_acc_logs)\n",
    "print(test_acc_logs)\n",
    "print(run_time_logs)"
   ]
  },
  {
   "cell_type": "code",
   "execution_count": null,
   "metadata": {},
   "outputs": [],
   "source": [
    "mlog = model_list[0].state_dict()"
   ]
  },
  {
   "cell_type": "code",
   "execution_count": null,
   "metadata": {},
   "outputs": [],
   "source": [
    "print(mlog.__sizeof__())"
   ]
  },
  {
   "cell_type": "code",
   "execution_count": null,
   "metadata": {},
   "outputs": [],
   "source": [
    "model = GCN()\n",
    "device = torch.device('cuda:0' if torch.cuda.is_available() else 'cpu')\n",
    "model.to(device)\n",
    "optimizer = optim.Adam(model.parameters(),lr = 0.01)\n",
    "#optimizer = optim.SGD(params=model.parameters(),lr=0.001,momentum=0.9)\n",
    "epochs = 300"
   ]
  },
  {
   "cell_type": "code",
   "execution_count": null,
   "metadata": {},
   "outputs": [],
   "source": [
    "model = GCN()\n",
    "device = torch.device('cuda:0' if torch.cuda.is_available() else 'cpu')\n",
    "model.to(device)\n",
    "optimizer = optim.Adam(model.parameters(),lr = 0.01)\n",
    "#optimizer = optim.SGD(params=model.parameters(),lr=0.001,momentum=0.9)\n",
    "epochs = 300"
   ]
  },
  {
   "cell_type": "code",
   "execution_count": null,
   "metadata": {},
   "outputs": [],
   "source": [
    "x = np.array([1,2,3,4,5,6])\n",
    "x_label = ['5','10','20','30','40','50']\n",
    "normal_Train_acc = [0.4089,0.3904,0.4532,0.4585,0.459,0.]\n",
    "normal_Test_acc = [0.2325,0.281,0.285,0.3005,0.302,0.]\n",
    "incpos_Train_acc = [0.4575,0.48,0.4853,0.4418,0.4774,0.]\n",
    "incpos_Test_acc = [0.2375,0.294,0.3035,0.34,0.3345,0.]\n",
    "std_Train_acc = [0.5268,0.5211,0.5501,0.5672,0.5776,0.5802]\n",
    "std_Test_acc = [0.2125,0.244,0.313,0.3255,0.364,0.3715]\n",
    "Train_data = [normal_Train_acc,incpos_Train_acc,std_Train_acc]\n",
    "Test_data = [normal_Test_acc,incpos_Test_acc,std_Test_acc]\n",
    "margin = 0.2\n",
    "totoal_width = 1 - margin\n",
    "\n",
    "for i,h in enumerate(Train_data):\n",
    "    pos = x - totoal_width *( 1- (2*i+1)/len(Train_data) )/2\n",
    "    plt.bar(pos, h, width = totoal_width/len(Train_data))\n",
    "plt.xticks(x,x_label)\n",
    "plt.title('Training acc')\n",
    "plt.show()"
   ]
  },
  {
   "cell_type": "code",
   "execution_count": null,
   "metadata": {},
   "outputs": [],
   "source": [
    "for i,h in enumerate(Train_data):\n",
    "    pos = x - totoal_width *( 1- (2*i+1)/len(Test_data) )/2\n",
    "    plt.bar(pos, h, width = totoal_width/len(Test_data))\n",
    "plt.xticks(x,x_label)\n",
    "plt.title('Test acc')\n",
    "plt.show()"
   ]
  },
  {
   "cell_type": "code",
   "execution_count": null,
   "metadata": {},
   "outputs": [],
   "source": [
    "torchmodel = GCN()\n",
    "device = torch.device('cuda:0' if torch.cuda.is_available() else 'cpu')\n",
    "torchmodel.to(device)\n",
    "optimizer = optim.Adam(torchmodel.parameters(),lr = 0.001)\n",
    "epochs = 15\n",
    "\n",
    "history = {'train_loss':[],'train_acc':[],'test_acc':[]}\n",
    "criterion = nn.CrossEntropyLoss()\n",
    "for e in range(epochs):\n",
    "    torchmodel.train()\n",
    "    loss = None\n",
    "\n",
    "    for i,(batched_graph, labels) in enumerate(traindataloader):\n",
    "        batched_graph = batched_graph.to(device)\n",
    "        labels = labels.to(device)\n",
    "        optimizer.zero_grad()\n",
    "        pred = torchmodel(batched_graph, batched_graph.ndata['feat value'].float())\n",
    "        loss = F.cross_entropy(pred,labels)\n",
    "        loss.backward()\n",
    "        optimizer.step()\n",
    "\n",
    "        #if (i+1) % 10 == 0:\n",
    "        #    print(f'Training log: {e+1} epoch ({(i+1)*200} / 10000 train. data). Loss: {loss.item()}')\n",
    "\n",
    "    history['train_loss'].append(loss.item())\n",
    "\n",
    "    torchmodel.eval()\n",
    "    correct = 0\n",
    "    with torch.no_grad():\n",
    "        for i,(batched_graph, labels) in enumerate(tqdm(traindataloader)):\n",
    "            batched_graph = batched_graph.to(device)\n",
    "            labels = labels.to(device)\n",
    "            pred = torchmodel(batched_graph, batched_graph.ndata['feat value'].float())\n",
    "            correct += (pred.argmax(1) == labels).sum().item()\n",
    "            num_tests += len(labels)\n",
    "\n",
    "    acc = float(correct/num_tests)\n",
    "    history['train_acc'].append(acc)\n",
    "\n",
    "    correct = 0\n",
    "    with torch.no_grad():\n",
    "        for i,(batched_graph, labels) in enumerate(tqdm(testdataloader)):\n",
    "            batched_graph = batched_graph.to(device)\n",
    "            labels = labels.to(device)\n",
    "            pred = torchmodel(batched_graph, batched_graph.ndata['feat value'].float())\n",
    "            correct += (pred.argmax(1) == labels).sum().item()\n",
    "            num_tests += len(labels)\n",
    "\n",
    "    acc = float(correct/num_tests)\n",
    "    history['test_acc'].append(acc)\n",
    "\n",
    "max_train_acc = max(history['train_acc'])\n",
    "min_train_loss = min(history['train_loss'])\n",
    "max_test_acc = max(history['test_acc'])\n",
    "\n",
    "print(f'Max train accuracy: {max_train_acc}')\n",
    "print(f'Min train loss: {min_train_loss}')\n",
    "print(f'Max test acc: {max_test_acc}')"
   ]
  }
 ],
 "metadata": {
  "interpreter": {
   "hash": "d52d0d992e63df6173dda17786029bd856ebae9589c544f4ff518307d39631f3"
  },
  "kernelspec": {
   "display_name": "Python 3.8.8 64-bit ('GNN_DGL': conda)",
   "language": "python",
   "name": "python3"
  },
  "language_info": {
   "codemirror_mode": {
    "name": "ipython",
    "version": 3
   },
   "file_extension": ".py",
   "mimetype": "text/x-python",
   "name": "python",
   "nbconvert_exporter": "python",
   "pygments_lexer": "ipython3",
   "version": "3.8.13"
  },
  "orig_nbformat": 4
 },
 "nbformat": 4,
 "nbformat_minor": 2
}
