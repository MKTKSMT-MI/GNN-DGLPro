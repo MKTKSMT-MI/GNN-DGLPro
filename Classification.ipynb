{
 "cells": [
  {
   "cell_type": "code",
   "execution_count": 1,
   "metadata": {},
   "outputs": [
    {
     "name": "stderr",
     "output_type": "stream",
     "text": [
      "c:\\Users\\kisim\\anaconda3\\envs\\GNN_DGL\\lib\\site-packages\\tqdm\\auto.py:22: TqdmWarning: IProgress not found. Please update jupyter and ipywidgets. See https://ipywidgets.readthedocs.io/en/stable/user_install.html\n",
      "  from .autonotebook import tqdm as notebook_tqdm\n"
     ]
    }
   ],
   "source": [
    "import dgl\n",
    "from dgl.data import DGLDataset\n",
    "import torch\n",
    "import torchvision\n",
    "import torch.nn as nn\n",
    "import torch.nn.functional as F\n",
    "import dgl.data\n",
    "from dgl.nn import GraphConv\n",
    "import matplotlib.pyplot as plt\n",
    "from tqdm import tqdm\n",
    "import torch.optim as optim\n",
    "import numpy as np\n",
    "import time\n",
    "from dgl.dataloading import GraphDataLoader\n",
    "from torch.utils.data.sampler import SubsetRandomSampler\n",
    "import os\n",
    "\n",
    "%matplotlib inline"
   ]
  },
  {
   "cell_type": "code",
   "execution_count": 2,
   "metadata": {},
   "outputs": [],
   "source": [
    "#トレーニング用データセットクラス\n",
    "class CIFAR10TrainDataset(DGLDataset):\n",
    "    def __init__(self,data_path):\n",
    "        self.data_path = data_path\n",
    "        super().__init__(name='cifar10_train__gprah')\n",
    "    \n",
    "    def process(self):\n",
    "        GRAPHS, LABELS = dgl.load_graphs(self.data_path) #保存したグラーフデータの読み込み\n",
    "        self.graphs = GRAPHS #グラフリストを代入\n",
    "        self.labels = LABELS['label'] #ラベル辞書の値のみ代入\n",
    "\n",
    "    def __getitem__(self, idx):\n",
    "        return self.graphs[idx], self.labels[idx]\n",
    "\n",
    "    def __len__(self):\n",
    "        return len(self.graphs)\n",
    "\n",
    "\n",
    "class CIFAR10TestDataset(DGLDataset):\n",
    "    def __init__(self,data_path):\n",
    "        self.data_path = data_path\n",
    "        super().__init__(name='cifar10_test_gprah')\n",
    "    \n",
    "    def process(self):\n",
    "        GRAPHS, LABELS = dgl.load_graphs(self.data_path) #保存したグラーフデータの読み込み\n",
    "        self.graphs = GRAPHS #グラフリストを代入\n",
    "        self.labels = LABELS['label'] #ラベル辞書の値のみ代入\n",
    "\n",
    "    def __getitem__(self, idx):\n",
    "        return self.graphs[idx], self.labels[idx]\n",
    "\n",
    "    def __len__(self):\n",
    "        return len(self.graphs)"
   ]
  },
  {
   "cell_type": "code",
   "execution_count": 3,
   "metadata": {},
   "outputs": [
    {
     "ename": "DGLError",
     "evalue": "File ./data/NewMyData/test_dist_40_std.dgl does not exist.",
     "output_type": "error",
     "traceback": [
      "\u001b[1;31m---------------------------------------------------------------------------\u001b[0m",
      "\u001b[1;31mDGLError\u001b[0m                                  Traceback (most recent call last)",
      "\u001b[1;32md:\\Document\\Anaconda\\GNN-DGLPro\\Classification.ipynb Cell 3'\u001b[0m in \u001b[0;36m<cell line: 3>\u001b[1;34m()\u001b[0m\n\u001b[0;32m      <a href='vscode-notebook-cell:/d%3A/Document/Anaconda/GNN-DGLPro/Classification.ipynb#ch0000002?line=0'>1</a>\u001b[0m path \u001b[39m=\u001b[39m \u001b[39m\"\u001b[39m\u001b[39m./data/MyDataset/train_graphs_six_f_in_pos_50_std.dgl\u001b[39m\u001b[39m\"\u001b[39m\n\u001b[0;32m      <a href='vscode-notebook-cell:/d%3A/Document/Anaconda/GNN-DGLPro/Classification.ipynb#ch0000002?line=1'>2</a>\u001b[0m traindataset \u001b[39m=\u001b[39m CIFAR10TrainDataset(\u001b[39m\"\u001b[39m\u001b[39m./data/NewMyData/train_dist_40_std.dgl\u001b[39m\u001b[39m\"\u001b[39m)\n\u001b[1;32m----> <a href='vscode-notebook-cell:/d%3A/Document/Anaconda/GNN-DGLPro/Classification.ipynb#ch0000002?line=2'>3</a>\u001b[0m testdataset \u001b[39m=\u001b[39m CIFAR10TestDataset(\u001b[39m\"\u001b[39;49m\u001b[39m./data/NewMyData/test_dist_40_std.dgl\u001b[39;49m\u001b[39m\"\u001b[39;49m)\n",
      "\u001b[1;32md:\\Document\\Anaconda\\GNN-DGLPro\\Classification.ipynb Cell 2'\u001b[0m in \u001b[0;36mCIFAR10TestDataset.__init__\u001b[1;34m(self, data_path)\u001b[0m\n\u001b[0;32m     <a href='vscode-notebook-cell:/d%3A/Document/Anaconda/GNN-DGLPro/Classification.ipynb#ch0000001?line=19'>20</a>\u001b[0m \u001b[39mdef\u001b[39;00m \u001b[39m__init__\u001b[39m(\u001b[39mself\u001b[39m,data_path):\n\u001b[0;32m     <a href='vscode-notebook-cell:/d%3A/Document/Anaconda/GNN-DGLPro/Classification.ipynb#ch0000001?line=20'>21</a>\u001b[0m     \u001b[39mself\u001b[39m\u001b[39m.\u001b[39mdata_path \u001b[39m=\u001b[39m data_path\n\u001b[1;32m---> <a href='vscode-notebook-cell:/d%3A/Document/Anaconda/GNN-DGLPro/Classification.ipynb#ch0000001?line=21'>22</a>\u001b[0m     \u001b[39msuper\u001b[39;49m()\u001b[39m.\u001b[39;49m\u001b[39m__init__\u001b[39;49m(name\u001b[39m=\u001b[39;49m\u001b[39m'\u001b[39;49m\u001b[39mcifar10_test_gprah\u001b[39;49m\u001b[39m'\u001b[39;49m)\n",
      "File \u001b[1;32mc:\\Users\\kisim\\anaconda3\\envs\\GNN_DGL\\lib\\site-packages\\dgl\\data\\dgl_dataset.py:99\u001b[0m, in \u001b[0;36mDGLDataset.__init__\u001b[1;34m(self, name, url, raw_dir, save_dir, hash_key, force_reload, verbose, transform)\u001b[0m\n\u001b[0;32m     96\u001b[0m \u001b[39melse\u001b[39;00m:\n\u001b[0;32m     97\u001b[0m     \u001b[39mself\u001b[39m\u001b[39m.\u001b[39m_save_dir \u001b[39m=\u001b[39m save_dir\n\u001b[1;32m---> 99\u001b[0m \u001b[39mself\u001b[39;49m\u001b[39m.\u001b[39;49m_load()\n",
      "File \u001b[1;32mc:\\Users\\kisim\\anaconda3\\envs\\GNN_DGL\\lib\\site-packages\\dgl\\data\\dgl_dataset.py:191\u001b[0m, in \u001b[0;36mDGLDataset._load\u001b[1;34m(self)\u001b[0m\n\u001b[0;32m    189\u001b[0m \u001b[39mif\u001b[39;00m \u001b[39mnot\u001b[39;00m load_flag:\n\u001b[0;32m    190\u001b[0m     \u001b[39mself\u001b[39m\u001b[39m.\u001b[39m_download()\n\u001b[1;32m--> 191\u001b[0m     \u001b[39mself\u001b[39;49m\u001b[39m.\u001b[39;49mprocess()\n\u001b[0;32m    192\u001b[0m     \u001b[39mself\u001b[39m\u001b[39m.\u001b[39msave()\n\u001b[0;32m    193\u001b[0m     \u001b[39mif\u001b[39;00m \u001b[39mself\u001b[39m\u001b[39m.\u001b[39mverbose:\n",
      "\u001b[1;32md:\\Document\\Anaconda\\GNN-DGLPro\\Classification.ipynb Cell 2'\u001b[0m in \u001b[0;36mCIFAR10TestDataset.process\u001b[1;34m(self)\u001b[0m\n\u001b[0;32m     <a href='vscode-notebook-cell:/d%3A/Document/Anaconda/GNN-DGLPro/Classification.ipynb#ch0000001?line=23'>24</a>\u001b[0m \u001b[39mdef\u001b[39;00m \u001b[39mprocess\u001b[39m(\u001b[39mself\u001b[39m):\n\u001b[1;32m---> <a href='vscode-notebook-cell:/d%3A/Document/Anaconda/GNN-DGLPro/Classification.ipynb#ch0000001?line=24'>25</a>\u001b[0m     GRAPHS, LABELS \u001b[39m=\u001b[39m dgl\u001b[39m.\u001b[39;49mload_graphs(\u001b[39mself\u001b[39;49m\u001b[39m.\u001b[39;49mdata_path) \u001b[39m#保存したグラーフデータの読み込み\u001b[39;00m\n\u001b[0;32m     <a href='vscode-notebook-cell:/d%3A/Document/Anaconda/GNN-DGLPro/Classification.ipynb#ch0000001?line=25'>26</a>\u001b[0m     \u001b[39mself\u001b[39m\u001b[39m.\u001b[39mgraphs \u001b[39m=\u001b[39m GRAPHS \u001b[39m#グラフリストを代入\u001b[39;00m\n\u001b[0;32m     <a href='vscode-notebook-cell:/d%3A/Document/Anaconda/GNN-DGLPro/Classification.ipynb#ch0000001?line=26'>27</a>\u001b[0m     \u001b[39mself\u001b[39m\u001b[39m.\u001b[39mlabels \u001b[39m=\u001b[39m LABELS[\u001b[39m'\u001b[39m\u001b[39mlabel\u001b[39m\u001b[39m'\u001b[39m]\n",
      "File \u001b[1;32mc:\\Users\\kisim\\anaconda3\\envs\\GNN_DGL\\lib\\site-packages\\dgl\\data\\graph_serialize.py:174\u001b[0m, in \u001b[0;36mload_graphs\u001b[1;34m(filename, idx_list)\u001b[0m\n\u001b[0;32m    138\u001b[0m \u001b[39m\"\"\"Load graphs and optionally their labels from file saved by :func:`save_graphs`.\u001b[39;00m\n\u001b[0;32m    139\u001b[0m \n\u001b[0;32m    140\u001b[0m \u001b[39mBesides loading from local files, DGL supports loading the graphs directly\u001b[39;00m\n\u001b[1;32m   (...)\u001b[0m\n\u001b[0;32m    171\u001b[0m \u001b[39msave_graphs\u001b[39;00m\n\u001b[0;32m    172\u001b[0m \u001b[39m\"\"\"\u001b[39;00m\n\u001b[0;32m    173\u001b[0m \u001b[39m# if it is local file, do some sanity check\u001b[39;00m\n\u001b[1;32m--> 174\u001b[0m check_local_file_exists(filename)\n\u001b[0;32m    175\u001b[0m version \u001b[39m=\u001b[39m _CAPI_GetFileVersion(filename)\n\u001b[0;32m    176\u001b[0m \u001b[39mif\u001b[39;00m version \u001b[39m==\u001b[39m \u001b[39m1\u001b[39m:\n",
      "File \u001b[1;32mc:\\Users\\kisim\\anaconda3\\envs\\GNN_DGL\\lib\\site-packages\\dgl\\data\\graph_serialize.py:36\u001b[0m, in \u001b[0;36mcheck_local_file_exists\u001b[1;34m(filename)\u001b[0m\n\u001b[0;32m     34\u001b[0m \u001b[39mdef\u001b[39;00m \u001b[39mcheck_local_file_exists\u001b[39m(filename):\n\u001b[0;32m     35\u001b[0m     \u001b[39mif\u001b[39;00m is_local_path(filename) \u001b[39mand\u001b[39;00m \u001b[39mnot\u001b[39;00m os\u001b[39m.\u001b[39mpath\u001b[39m.\u001b[39mexists(filename):\n\u001b[1;32m---> 36\u001b[0m         \u001b[39mraise\u001b[39;00m DGLError(\u001b[39m\"\u001b[39m\u001b[39mFile \u001b[39m\u001b[39m{}\u001b[39;00m\u001b[39m does not exist.\u001b[39m\u001b[39m\"\u001b[39m\u001b[39m.\u001b[39mformat(filename))\n",
      "\u001b[1;31mDGLError\u001b[0m: File ./data/NewMyData/test_dist_40_std.dgl does not exist."
     ]
    }
   ],
   "source": [
    "path = \"./data/MyDataset/train_graphs_six_f_in_pos_50_std.dgl\"\n",
    "traindataset = CIFAR10TrainDataset(\"./data/NewMyData/train_dist_40_std.dgl\")\n",
    "testdataset = CIFAR10TestDataset(\"./data/NewMyData/test_dist_40_std.dgl\")"
   ]
  },
  {
   "cell_type": "code",
   "execution_count": 4,
   "metadata": {},
   "outputs": [
    {
     "name": "stdout",
     "output_type": "stream",
     "text": [
      "num_wokers = 0\n",
      "posix\n"
     ]
    }
   ],
   "source": [
    "if os.name =='posix':\n",
    "    num_workers = 2\n",
    "else:\n",
    "    num_workers = 0\n",
    "num_workers = 0\n",
    "traindataloader = GraphDataLoader(traindataset,batch_size = 1,shuffle = True,num_workers = num_workers,pin_memory = True)\n",
    "testdataloader = GraphDataLoader(testdataset,batch_size = 5000,shuffle = True,num_workers = num_workers,pin_memory = True)\n",
    "print(f'num_wokers = {num_workers}')\n",
    "print(os.name)"
   ]
  },
  {
   "cell_type": "code",
   "execution_count": 70,
   "metadata": {},
   "outputs": [
    {
     "name": "stdout",
     "output_type": "stream",
     "text": [
      "torch.Size([20, 20])\n",
      "tensor([ 0.0000,  3.6056,  6.7082, 10.0499,  9.4868,  8.2462,  9.2195,  1.4142,\n",
      "         5.8310,  4.0000, 10.1980,  4.1231,  7.6158,  8.5440,  5.0000,  3.0000,\n",
      "         1.0000,  3.1623,  2.2361,  2.0000])\n",
      "tensor([3.6056, 0.0000, 4.0000, 7.6158, 7.8102, 6.4031, 7.2111, 2.2361, 3.0000,\n",
      "        2.2361, 8.0623, 1.4142, 6.4031, 7.0711, 2.0000, 2.0000, 2.8284, 1.0000,\n",
      "        1.4142, 2.2361])\n",
      "tensor([ 6.7082,  4.0000,  0.0000,  9.8995, 10.8167,  9.4340, 10.0000,  5.3852,\n",
      "         1.0000,  6.0828, 10.6301,  5.0990,  9.8489, 10.2956,  2.0000,  6.0000,\n",
      "         6.3246,  5.0000,  5.0990,  6.0828])\n",
      "tensor([10.0499,  7.6158,  9.8995,  0.0000,  2.2361,  2.2361,  1.4142,  9.2195,\n",
      "         9.2195,  6.0828,  1.0000,  6.3246,  3.6056,  2.8284,  8.6023,  7.0711,\n",
      "         9.0554,  7.2801,  8.2462,  8.0623])\n",
      "tensor([ 9.4868,  7.8102, 10.8167,  2.2361,  0.0000,  1.4142,  1.0000,  8.9443,\n",
      "        10.0000,  5.8310,  1.4142,  6.4031,  2.0000,  1.0000,  9.2195,  6.7082,\n",
      "         8.5440,  7.2111,  8.0623,  7.6158])\n",
      "tensor([[ 0.0000,  3.1623,  4.4721,  4.2426, 19.3132,  1.4142, 10.4403, 19.6977,\n",
      "          2.2361,  1.4142,  3.1623,  3.6056,  1.0000,  2.8284,  1.4142,  4.4721,\n",
      "          3.6056,  1.0000,  2.0000,  2.2361],\n",
      "        [ 3.1623,  0.0000,  7.6158,  2.0000, 21.8403,  4.4721, 13.6015, 22.1359,\n",
      "          1.0000,  2.0000,  6.3246,  1.0000,  3.0000,  5.8310,  4.0000,  1.4142,\n",
      "          6.7082,  4.1231,  5.0990,  5.3852],\n",
      "        [ 4.4721,  7.6158,  0.0000,  8.6023, 16.6433,  3.1623,  6.0828, 17.2047,\n",
      "          6.7082,  5.8310,  1.4142,  8.0623,  5.0000,  2.0000,  4.2426,  8.9443,\n",
      "          1.0000,  3.6056,  2.8284,  2.2361],\n",
      "        [ 4.2426,  2.0000,  8.6023,  0.0000, 21.3776,  5.6569, 14.3178, 21.5870,\n",
      "          2.2361,  2.8284,  7.2111,  1.0000,  3.6056,  7.0711,  4.4721,  1.4142,\n",
      "          7.8102,  5.0000,  5.8310,  6.4031],\n",
      "        [19.3132, 21.8403, 16.6433, 21.3776,  0.0000, 18.7883, 12.8062,  1.0000,\n",
      "         20.8806, 19.9249, 17.0000, 21.5870, 18.9737, 18.3576, 18.0278, 22.5610,\n",
      "         17.4929, 18.3848, 17.4642, 17.8885],\n",
      "        [ 1.4142,  4.4721,  3.1623,  5.6569, 18.7883,  0.0000,  9.2195, 19.2354,\n",
      "          3.6056,  2.8284,  2.0000,  5.0000,  2.2361,  1.4142,  2.0000,  5.8310,\n",
      "          2.2361,  1.0000,  1.4142,  1.0000],\n",
      "        [10.4403, 13.6015,  6.0828, 14.3178, 12.8062,  9.2195,  0.0000, 13.6015,\n",
      "         12.6491, 11.7047,  7.2801, 13.9284, 10.7703,  8.0623,  9.8489, 14.8661,\n",
      "          7.0711,  9.4868,  8.5440,  8.2462],\n",
      "        [19.6977, 22.1359, 17.2047, 21.5870,  1.0000, 19.2354, 13.6015,  0.0000,\n",
      "         21.1896, 20.2485, 17.4929, 21.8403, 19.3132, 18.8680, 18.3848, 22.8035,\n",
      "         18.0278, 18.7883, 17.8885, 18.3576],\n",
      "        [ 2.2361,  1.0000,  6.7082,  2.2361, 20.8806,  3.6056, 12.6491, 21.1896,\n",
      "          0.0000,  1.0000,  5.3852,  1.4142,  2.0000,  5.0000,  3.0000,  2.2361,\n",
      "          5.8310,  3.1623,  4.1231,  4.4721],\n",
      "        [ 1.4142,  2.0000,  5.8310,  2.8284, 19.9249,  2.8284, 11.7047, 20.2485,\n",
      "          1.0000,  0.0000,  4.4721,  2.2361,  1.0000,  4.2426,  2.0000,  3.1623,\n",
      "          5.0000,  2.2361,  3.1623,  3.6056],\n",
      "        [ 3.1623,  6.3246,  1.4142,  7.2111, 17.0000,  2.0000,  7.2801, 17.4929,\n",
      "          5.3852,  4.4721,  0.0000,  6.7082,  3.6056,  1.4142,  2.8284,  7.6158,\n",
      "          1.0000,  2.2361,  1.4142,  1.0000],\n",
      "        [ 3.6056,  1.0000,  8.0623,  1.0000, 21.5870,  5.0000, 13.9284, 21.8403,\n",
      "          1.4142,  2.2361,  6.7082,  0.0000,  3.1623,  6.4031,  4.1231,  1.0000,\n",
      "          7.2111,  4.4721,  5.3852,  5.8310],\n",
      "        [ 1.0000,  3.0000,  5.0000,  3.6056, 18.9737,  2.2361, 10.7703, 19.3132,\n",
      "          2.0000,  1.0000,  3.6056,  3.1623,  0.0000,  3.6056,  1.0000,  4.1231,\n",
      "          4.2426,  1.4142,  2.2361,  2.8284],\n",
      "        [ 2.8284,  5.8310,  2.0000,  7.0711, 18.3576,  1.4142,  8.0623, 18.8680,\n",
      "          5.0000,  4.2426,  1.4142,  6.4031,  3.6056,  0.0000,  3.1623,  7.2111,\n",
      "          1.0000,  2.2361,  2.0000,  1.0000],\n",
      "        [ 1.4142,  4.0000,  4.2426,  4.4721, 18.0278,  2.0000,  9.8489, 18.3848,\n",
      "          3.0000,  2.0000,  2.8284,  4.1231,  1.0000,  3.1623,  0.0000,  5.0990,\n",
      "          3.6056,  1.0000,  1.4142,  2.2361],\n",
      "        [ 4.4721,  1.4142,  8.9443,  1.4142, 22.5610,  5.8310, 14.8661, 22.8035,\n",
      "          2.2361,  3.1623,  7.6158,  1.0000,  4.1231,  7.2111,  5.0990,  0.0000,\n",
      "          8.0623,  5.3852,  6.3246,  6.7082],\n",
      "        [ 3.6056,  6.7082,  1.0000,  7.8102, 17.4929,  2.2361,  7.0711, 18.0278,\n",
      "          5.8310,  5.0000,  1.0000,  7.2111,  4.2426,  1.0000,  3.6056,  8.0623,\n",
      "          0.0000,  2.8284,  2.2361,  1.4142],\n",
      "        [ 1.0000,  4.1231,  3.6056,  5.0000, 18.3848,  1.0000,  9.4868, 18.7883,\n",
      "          3.1623,  2.2361,  2.2361,  4.4721,  1.4142,  2.2361,  1.0000,  5.3852,\n",
      "          2.8284,  0.0000,  1.0000,  1.4142],\n",
      "        [ 2.0000,  5.0990,  2.8284,  5.8310, 17.4642,  1.4142,  8.5440, 17.8885,\n",
      "          4.1231,  3.1623,  1.4142,  5.3852,  2.2361,  2.0000,  1.4142,  6.3246,\n",
      "          2.2361,  1.0000,  0.0000,  1.0000],\n",
      "        [ 2.2361,  5.3852,  2.2361,  6.4031, 17.8885,  1.0000,  8.2462, 18.3576,\n",
      "          4.4721,  3.6056,  1.0000,  5.8310,  2.8284,  1.0000,  2.2361,  6.7082,\n",
      "          1.4142,  1.4142,  1.0000,  0.0000]])\n",
      "Dataset(\"cifar10_train__gprah\", num_graphs=20000, save_path=C:\\Users\\kisim\\.dgl\\cifar10_train__gprah)\n"
     ]
    }
   ],
   "source": [
    "print(traindataset[0][0].ndata['feat value'].shape)\n",
    "for i in range(5):\n",
    "    print(traindataset[3][0].ndata['feat value'][i])\n",
    "print(traindataset[9][0].ndata['feat value'])\n",
    "print(traindataset)"
   ]
  },
  {
   "cell_type": "code",
   "execution_count": 50,
   "metadata": {},
   "outputs": [
    {
     "name": "stdout",
     "output_type": "stream",
     "text": [
      "Dataset(\"cifar10_train__gprah\", num_graphs=20000, save_path=C:\\Users\\kisim\\.dgl\\cifar10_train__gprah)\n",
      "torch.Size([5, 5])\n",
      "tensor([0.0000, 2.0000, 1.0000, 1.4142, 1.0000])\n",
      "tensor([2.0000, 0.0000, 2.2361, 1.4142, 1.0000])\n",
      "tensor([1.0000, 2.2361, 0.0000, 1.0000, 1.4142])\n",
      "tensor([1.4142, 1.4142, 1.0000, 0.0000, 1.0000])\n",
      "tensor([1.0000, 1.0000, 1.4142, 1.0000, 0.0000])\n"
     ]
    }
   ],
   "source": [
    "print(traindataset)\n",
    "print(traindataset[0][0].ndata['feat value'].shape)\n",
    "for i in range(5):\n",
    "    print(traindataset[3][0].ndata['feat value'][i])"
   ]
  },
  {
   "cell_type": "code",
   "execution_count": 22,
   "metadata": {},
   "outputs": [],
   "source": [
    "#ネットワーク設定\n",
    "class GCN(nn.Module):\n",
    "    def __init__(self):\n",
    "        super(GCN,self).__init__()\n",
    "        self.conv1 = GraphConv(40,16)\n",
    "        self.conv2 = GraphConv(16,32)\n",
    "        self.conv3 = GraphConv(32,128)\n",
    "        self.conv4 = GraphConv(64,128)\n",
    "        self.dropout =nn.Dropout(0.4)\n",
    "        self.meanpooling = nn.AvgPool1d(2)\n",
    "        self.maxpooling = nn.MaxPool1d(2)\n",
    "        self.flatten = nn.Flatten()\n",
    "        self.fc1 = nn.Linear(64,128)\n",
    "        self.fc2 = nn.Linear(128,64)\n",
    "        self.fc3 = nn.Linear(64,32)\n",
    "        self.fc4 = nn.Linear(32,10)\n",
    "\n",
    "\n",
    "    def forward(self,g,n_feat,e_feat = None):\n",
    "        h = self.conv1(g,n_feat,None,e_feat)\n",
    "        h = self.conv2(g,h,None,e_feat)\n",
    "        #h = self.dropout(h)\n",
    "        h = self.conv3(g,h,None,e_feat)\n",
    "\n",
    "        #h = self.meanpooling(h)\n",
    "        h = self.maxpooling(h)\n",
    "\n",
    "        h = self.flatten(h)\n",
    "\n",
    "        h = F.relu(self.fc1(h))\n",
    "        h = self.dropout(h)\n",
    "        h = F.relu(self.fc2(h))\n",
    "        h = self.dropout(h)\n",
    "        h = F.relu(self.fc3(h))\n",
    "        h = self.fc4(h)\n",
    "        \n",
    "\n",
    "\n",
    "\n",
    "        g.ndata['h'] = h\n",
    "\n",
    "        return dgl.mean_nodes(g,'h')\n",
    "        #return dgl.softmax_nodes(g,'h')"
   ]
  },
  {
   "cell_type": "code",
   "execution_count": 5,
   "metadata": {},
   "outputs": [],
   "source": [
    "#ネットワーク設定\n",
    "class GCNv2(nn.Module):\n",
    "    def __init__(self):\n",
    "        super(GCNv2,self).__init__()\n",
    "        self.conv1 = GraphConv(40,80)\n",
    "        self.conv2 = GraphConv(80,120)\n",
    "        self.conv3 = GraphConv(120,256)\n",
    "        self.conv4 = GraphConv(64,128)\n",
    "        self.dropout =nn.Dropout(0.4)\n",
    "        self.meanpooling = nn.AvgPool1d(2)\n",
    "        self.maxpooling = nn.MaxPool1d(2)\n",
    "        self.flatten = nn.Flatten()\n",
    "        self.fc1 = nn.Linear(128,128)\n",
    "        self.fc2 = nn.Linear(128,64)\n",
    "        self.fc3 = nn.Linear(64,32)\n",
    "        self.fc4 = nn.Linear(32,10)\n",
    "\n",
    "\n",
    "    def forward(self,g,n_feat,e_feat = None):\n",
    "        h = self.conv1(g,n_feat,None,e_feat)\n",
    "        h = self.conv2(g,h,None,e_feat)\n",
    "        #h = self.dropout(h)\n",
    "        h = self.conv3(g,h,None,e_feat)\n",
    "\n",
    "        #h = self.meanpooling(h)\n",
    "        h = self.maxpooling(h)\n",
    "\n",
    "        h = self.flatten(h)\n",
    "\n",
    "        h = F.relu(self.fc1(h))\n",
    "        h = self.dropout(h)\n",
    "        h = F.relu(self.fc2(h))\n",
    "        h = self.dropout(h)\n",
    "        h = F.relu(self.fc3(h))\n",
    "        h = self.fc4(h)\n",
    "        \n",
    "\n",
    "\n",
    "\n",
    "        g.ndata['h'] = h\n",
    "\n",
    "        return dgl.mean_nodes(g,'h')\n",
    "        #return dgl.softmax_nodes(g,'h')"
   ]
  },
  {
   "cell_type": "code",
   "execution_count": null,
   "metadata": {},
   "outputs": [],
   "source": [
    "# 16 32 64 128 x4 '''"
   ]
  },
  {
   "cell_type": "code",
   "execution_count": 27,
   "metadata": {},
   "outputs": [],
   "source": [
    "model = GCN()\n",
    "device = torch.device('cuda:0' if torch.cuda.is_available() else 'cpu')\n",
    "model.to(device)\n",
    "optimizer = optim.Adam(model.parameters(),lr = 0.008)\n",
    "#optimizer = optim.SGD(params=model.parameters(),lr=0.03,momentum=0.9)\n",
    "epochs = 20"
   ]
  },
  {
   "cell_type": "code",
   "execution_count": 6,
   "metadata": {},
   "outputs": [],
   "source": [
    "model = GCNv2()\n",
    "device = torch.device('cuda:0' if torch.cuda.is_available() else 'cpu')\n",
    "model.to(device)\n",
    "optimizer = optim.Adam(model.parameters(),lr = 0.004)\n",
    "#optimizer = optim.SGD(params=model.parameters(),lr=0.03,momentum=0.9)\n",
    "epochs = 4000"
   ]
  },
  {
   "cell_type": "code",
   "execution_count": 7,
   "metadata": {},
   "outputs": [],
   "source": [
    "save_train_acc = []\n",
    "save_test_acc = []"
   ]
  },
  {
   "cell_type": "code",
   "execution_count": 8,
   "metadata": {},
   "outputs": [
    {
     "name": "stderr",
     "output_type": "stream",
     "text": [
      "100%|██████████| 4000/4000 [1:13:54<00:00,  1.11s/it]\n"
     ]
    },
    {
     "name": "stdout",
     "output_type": "stream",
     "text": [
      "Training accuracy: 0.86335\n",
      "Test accuracy: 0.1053\n"
     ]
    }
   ],
   "source": [
    "loss_list = []\n",
    "acc_list = []\n",
    "test_acc_list = []\n",
    "\n",
    "\n",
    "num_correct = 0\n",
    "num_tests = 0\n",
    "test_num_correct = 0\n",
    "test_num_tests = 0\n",
    "#,batched_graph.edata['distance'].float()\n",
    "BP = 0\n",
    "for epoch in tqdm(range(epochs)):\n",
    "    if BP != 0:\n",
    "        break\n",
    "    model.train()\n",
    "    for batched_graph, labels in traindataloader:\n",
    "        batched_graph = batched_graph.to(device)\n",
    "        labels = labels.to(device)\n",
    "        pred = model(batched_graph, batched_graph.ndata['feat value'].float())\n",
    "        loss = F.cross_entropy(pred,labels)\n",
    "        if loss.item() < 0.05:\n",
    "            BP = 0\n",
    "            break\n",
    "        optimizer.zero_grad()\n",
    "        loss.backward()\n",
    "        optimizer.step()\n",
    "        num_correct += (pred.argmax(1) == labels).sum().item()\n",
    "        num_tests += len(labels)\n",
    "    loss_list.append(loss.item())\n",
    "    acc_list.append(num_correct / num_tests)\n",
    "    \n",
    "    model.eval()\n",
    "    for tbatched_graph, tlabels in testdataloader:\n",
    "        tbatched_graph = tbatched_graph.to(device)\n",
    "        tlabels = tlabels.to(device)\n",
    "        tpred = model(tbatched_graph, tbatched_graph.ndata['feat value'])\n",
    "        test_num_correct += (tpred.argmax(1) == tlabels).sum().item()\n",
    "        test_num_tests += len(tlabels)\n",
    "\n",
    "    Tacc = test_num_correct / test_num_tests\n",
    "    #print('Training accuracy:', Tacc)\n",
    "    test_acc_list.append(Tacc)\n",
    "\n",
    "num_correct = 0\n",
    "num_tests = 0\n",
    "\n",
    "\n",
    "\n",
    "with torch.no_grad():\n",
    "    model.train()\n",
    "    for batched_graph, labels in traindataloader:\n",
    "        batched_graph = batched_graph.to(device)\n",
    "        labels = labels.to(device)\n",
    "        pred = model(batched_graph, batched_graph.ndata['feat value'])\n",
    "        num_correct += (pred.argmax(1) == labels).sum().item()\n",
    "        num_tests += len(labels)\n",
    "    print('Training accuracy:', num_correct / num_tests)\n",
    "    save_train_acc.append(num_correct / num_tests)\n",
    "    num_correct = 0\n",
    "    num_tests = 0\n",
    "    model.eval()\n",
    "    for batched_graph, labels in testdataloader:\n",
    "        batched_graph = batched_graph.to(device)\n",
    "        labels = labels.to(device)\n",
    "        pred = model(batched_graph, batched_graph.ndata['feat value'].float())\n",
    "        num_correct += (pred.argmax(1) == labels).sum().item()\n",
    "        num_tests += len(labels)\n",
    "    print('Test accuracy:', num_correct / num_tests)\n",
    "    save_test_acc.append(num_correct / num_tests)"
   ]
  },
  {
   "cell_type": "code",
   "execution_count": 37,
   "metadata": {},
   "outputs": [
    {
     "name": "stdout",
     "output_type": "stream",
     "text": [
      "torch.Size([12500, 10])\n"
     ]
    }
   ],
   "source": [
    "print(pred.shape)"
   ]
  },
  {
   "cell_type": "code",
   "execution_count": 9,
   "metadata": {},
   "outputs": [
    {
     "name": "stdout",
     "output_type": "stream",
     "text": [
      "True\n",
      "1\n",
      "tensor(0.3106, device='cuda:0', grad_fn=<NllLossBackward0>)\n"
     ]
    }
   ],
   "source": [
    "#5:40\n",
    "#3:15\n",
    "print(torch.cuda.is_available())\n",
    "print(torch.cuda.device_count())\n",
    "print(loss)"
   ]
  },
  {
   "cell_type": "code",
   "execution_count": 11,
   "metadata": {},
   "outputs": [
    {
     "data": {
      "image/png": "[encoded data removed]",
      "text/plain": [
       "<Figure size 432x288 with 1 Axes>"
      ]
     },
     "metadata": {
      "needs_background": "light"
     },
     "output_type": "display_data"
    },
    {
     "data": {
      "image/png": "[encoded data removed]",
      "text/plain": [
       "<Figure size 432x288 with 1 Axes>"
      ]
     },
     "metadata": {
      "needs_background": "light"
     },
     "output_type": "display_data"
    }
   ],
   "source": [
    "x = [p for p in range(1,len(loss_list)+1)]\n",
    "y = loss_list\n",
    "plt.plot(x,y)\n",
    "plt.title('Train loss')\n",
    "plt.show()\n",
    "plt.plot(x,test_acc_list)\n",
    "plt.title('test acc')\n",
    "plt.show()"
   ]
  },
  {
   "cell_type": "code",
   "execution_count": 12,
   "metadata": {},
   "outputs": [],
   "source": [
    "save_model_path = '4000epoch.pth'\n",
    "torch.save(model.state_dict(),save_model_path)"
   ]
  },
  {
   "cell_type": "code",
   "execution_count": 49,
   "metadata": {},
   "outputs": [
    {
     "name": "stdout",
     "output_type": "stream",
     "text": [
      "<class 'list'>\n"
     ]
    }
   ],
   "source": [
    "print(type(loss_list))"
   ]
  },
  {
   "cell_type": "code",
   "execution_count": 50,
   "metadata": {},
   "outputs": [],
   "source": [
    "np.save(file='10000loss_list',arr=loss_list)"
   ]
  },
  {
   "cell_type": "code",
   "execution_count": null,
   "metadata": {},
   "outputs": [],
   "source": [
    "x = [p for p in range(1,len(loss_list)+1)]\n",
    "y1 = acc_list\n",
    "y2 = test_acc_list\n",
    "plt.ylim(0,1)\n",
    "'''\n",
    "#20\n",
    "plt.plot(x,train_acc_lists[0],label = '20 Train acc', color = \"crimson\")\n",
    "plt.plot(x,test_acc_lists[0],label = '20 Test acc', color = \"crimson\",linestyle = 'dashed')\n",
    "\n",
    "#30\n",
    "plt.plot(x,train_acc_lists[1],label = '30 Train acc', color = \"darkblue\")\n",
    "plt.plot(x,test_acc_lists[1],label = '30 Test acc', color = \"darkblue\",linestyle = 'dashed')\n",
    "\n",
    "#40\n",
    "plt.plot(x,train_acc_lists[2],label = '40 Train acc', color = \"green\")\n",
    "plt.plot(x,test_acc_lists[2],label = '40 Test acc', color = \"green\",linestyle = 'dashed')\n",
    "'''\n",
    "plt.plot(x,y1,label='train acc')\n",
    "plt.plot(x,y2,label='test acc')\n",
    "plt.ylabel('accuracy')\n",
    "plt.xlabel('epoch')\n",
    "plt.title('Training and Test accuracy')\n",
    "plt.legend()\n",
    "plt.show()"
   ]
  },
  {
   "cell_type": "code",
   "execution_count": 35,
   "metadata": {},
   "outputs": [
    {
     "name": "stdout",
     "output_type": "stream",
     "text": [
      "[0.4065, 0.4174, 0.4706, 0.412, 0.4171, 0.41573333333333334, 0.41586666666666666, 0.4169333333333333, 0.4116666666666667, 0.41386666666666666, 0.4119, 0.4167, 0.4145, 0.4161666666666667, 0.4157666666666667, 0.4141]\n",
      "[0.3377, 0.3246, 0.2941, 0.3054, 0.2995, 0.298, 0.3004, 0.3012, 0.2941, 0.2941, 0.3006, 0.2993, 0.3011, 0.2949, 0.3034, 0.2941]\n"
     ]
    }
   ],
   "source": [
    "print(save_train_acc)\n",
    "print(save_test_acc)"
   ]
  },
  {
   "cell_type": "code",
   "execution_count": null,
   "metadata": {},
   "outputs": [],
   "source": [
    "def f(x):\n",
    "    return x*x-2"
   ]
  },
  {
   "cell_type": "code",
   "execution_count": null,
   "metadata": {},
   "outputs": [],
   "source": [
    "from torch.autograd import Variable"
   ]
  },
  {
   "cell_type": "code",
   "execution_count": null,
   "metadata": {},
   "outputs": [],
   "source": [
    "ini_x_value = 5\n",
    "ini_x_tensor = ini_x_value*torch.ones(1, 1, dtype = torch.float64)\n",
    "x = Variable(ini_x_tensor, requires_grad=True)\n",
    "print(f'roop {0:<4d} x = {x.item()}')\n",
    "\n",
    "roop = 0\n",
    "while roop < 10:\n",
    "    roop += 1\n",
    "    # 勾配の計算\n",
    "    f(x).backward()\n",
    "    # xの更新\n",
    "    x.data -= (f(x)/x.grad).data\n",
    "    # 勾配を0に設定\n",
    "    x.grad.zero_()\n",
    "    print(f'roop {roop:<4d} x = {x.item()}')"
   ]
  },
  {
   "cell_type": "markdown",
   "metadata": {},
   "source": [
    "### 必要なもの\n",
    "lossの履歴  \n",
    "trainのacc  \n",
    "testのacc  \n",
    "実行時間"
   ]
  },
  {
   "cell_type": "code",
   "execution_count": null,
   "metadata": {},
   "outputs": [],
   "source": [
    "loss_logs = []\n",
    "train_acc_logs = []\n",
    "test_acc_logs = []\n",
    "run_time_logs = []"
   ]
  },
  {
   "cell_type": "code",
   "execution_count": null,
   "metadata": {},
   "outputs": [],
   "source": [
    "#8-16-32-64-128-128-64-32-16-10\n",
    "#8-64-512-512-64-10\n",
    "#8-96-1152-1152-500-150-20-10\n"
   ]
  },
  {
   "cell_type": "code",
   "execution_count": null,
   "metadata": {},
   "outputs": [],
   "source": [
    "#ネットワーク設定\n",
    "class GCN1(nn.Module):\n",
    "    def __init__(self):\n",
    "        super(GCN1,self).__init__()\n",
    "        self.conv1 = GraphConv(8,64)\n",
    "        self.conv2 = GraphConv(64,512)\n",
    "    \n",
    "        self.flatten = nn.Flatten()\n",
    "\n",
    "        self.liner1 = torch.nn.Linear(512,64)\n",
    "        self.liner2 = torch.nn.Linear(64,10)\n",
    "\n",
    "        self.dropout = torch.nn.Dropout(p = 0.2)\n",
    "\n",
    "    def forward(self,g,n_feat,e_feat = None):\n",
    "        h = F.relu(self.conv1(g,n_feat,None,e_feat))\n",
    "        h = self.dropout(h)\n",
    "        h = self.conv2(g,h,None,e_feat)\n",
    "        \n",
    "        h = self.flatten(h)\n",
    "\n",
    "        h = F.relu(self.liner1(h))\n",
    "        h = self.dropout(h)\n",
    "        h = self.liner2(h)\n",
    "        \n",
    "        g.ndata['h'] = h\n",
    "\n",
    "        return dgl.mean_nodes(g,'h')"
   ]
  },
  {
   "cell_type": "code",
   "execution_count": null,
   "metadata": {},
   "outputs": [],
   "source": [
    "#ネットワーク設定\n",
    "class GCN2(nn.Module):\n",
    "    def __init__(self):\n",
    "        super(GCN2,self).__init__()\n",
    "        self.conv1 = GraphConv(8,96)\n",
    "        self.conv2 = GraphConv(96,1152)\n",
    "        \n",
    "        self.flatten = nn.Flatten()\n",
    "        \n",
    "        self.liner1 = torch.nn.Linear(1152,500)\n",
    "        self.liner2 = torch.nn.Linear(500,150)\n",
    "        self.liner3 = torch.nn.Linear(150,20)\n",
    "        self.liner4 = torch.nn.Linear(20,10)\n",
    "        self.dropout = torch.nn.Dropout(p = 0.2)\n",
    "\n",
    "    def forward(self,g,n_feat,e_feat = None):\n",
    "        h = F.relu(self.conv1(g,n_feat,None,e_feat))\n",
    "        h = self.dropout(h)\n",
    "        h = self.conv2(g,h,None,e_feat)\n",
    "        \n",
    "        h = self.flatten(h)\n",
    "\n",
    "        h = F.relu(self.liner1(h))\n",
    "        h = self.dropout(h)\n",
    "        h = F.relu(self.liner2(h))\n",
    "        h = self.dropout(h)\n",
    "        h = self.liner3(h)\n",
    "        \n",
    "        g.ndata['h'] = h\n",
    "\n",
    "        return dgl.mean_nodes(g,'h')"
   ]
  },
  {
   "cell_type": "code",
   "execution_count": null,
   "metadata": {},
   "outputs": [],
   "source": [
    "device = torch.device('cuda:0' if torch.cuda.is_available() else 'cpu')\n",
    "model_list = []\n",
    "opt_list = []\n",
    "model1 = GCN1()\n",
    "model_list.append(model1)\n",
    "model2 = GCN2()\n",
    "model_list.append(model2)\n",
    "model1.to(device)\n",
    "model2.to(device)\n",
    "optimizer1 = optim.Adam(model1.parameters(),lr = 0.01)\n",
    "opt_list.append(optimizer1)\n",
    "optimizer2 = optim.Adam(model2.parameters(),lr = 0.01)\n",
    "opt_list.append(optimizer2)\n",
    "epochs = 10"
   ]
  },
  {
   "cell_type": "code",
   "execution_count": null,
   "metadata": {},
   "outputs": [],
   "source": [
    "for i in range(len(model_list)):\n",
    "    loss_list = []\n",
    "    acc_list = []\n",
    "\n",
    "    num_correct = 0\n",
    "    num_tests = 0\n",
    "    start = time.time()\n",
    "    runmodel = model_list[i]\n",
    "    opt = opt_list[i]\n",
    "    runmodel.train()\n",
    "    for epoch in tqdm(range(epochs)):\n",
    "        for batched_graph,labels in traindataloader:\n",
    "            batched_graph = batched_graph.to(device)\n",
    "            labels = labels.to(device)\n",
    "            pred = runmodel(batched_graph, batched_graph.ndata['feat value'].float(),batched_graph.edata['distance'].float())\n",
    "            loss = F.cross_entropy(pred,labels)\n",
    "            opt.zero_grad()\n",
    "            loss.backward()\n",
    "            opt.step()\n",
    "            num_correct += (pred.argmax(1) == labels).sum().item()\n",
    "            num_tests += len(labels)\n",
    "        loss_list.append(loss.item())\n",
    "        acc_list.append(num_correct / num_tests)\n",
    "    loss_logs.append(loss_list)\n",
    "    run_time_logs.append(time.time() - start)\n",
    "\n",
    "    num_correct = 0\n",
    "    num_tests = 0\n",
    "    runmodel.eval()\n",
    "    for batched_graph,labels in traindataloader:\n",
    "        batched_graph = batched_graph.to(device)\n",
    "        labels = labels.to(device)\n",
    "        pred = runmodel(batched_graph, batched_graph.ndata['feat value'].float(),batched_graph.edata['distance'].float())\n",
    "        num_correct += (pred.argmax(1) == labels).sum().item()\n",
    "        num_tests += len(labels)\n",
    "    train_acc_logs.append(num_correct / num_tests)\n",
    "\n",
    "    num_correct = 0\n",
    "    num_tests = 0\n",
    "    for batched_graph,labels in testdataloader:\n",
    "        batched_graph = batched_graph.to(device)\n",
    "        labels = labels.to(device)\n",
    "        pred = runmodel(batched_graph, batched_graph.ndata['feat value'].float(),batched_graph.edata['distance'].float())\n",
    "        num_correct += (pred.argmax(1) == labels).sum().item()\n",
    "        num_tests += len(labels)\n",
    "    test_acc_logs.append(num_correct / num_tests)\n"
   ]
  },
  {
   "cell_type": "code",
   "execution_count": null,
   "metadata": {},
   "outputs": [],
   "source": [
    "print(loss_logs)\n",
    "print(train_acc_logs)\n",
    "print(test_acc_logs)\n",
    "print(run_time_logs)"
   ]
  },
  {
   "cell_type": "code",
   "execution_count": null,
   "metadata": {},
   "outputs": [],
   "source": [
    "mlog = model_list[0].state_dict()"
   ]
  },
  {
   "cell_type": "code",
   "execution_count": null,
   "metadata": {},
   "outputs": [],
   "source": [
    "print(mlog.__sizeof__())"
   ]
  },
  {
   "cell_type": "code",
   "execution_count": null,
   "metadata": {},
   "outputs": [],
   "source": [
    "model = GCN()\n",
    "device = torch.device('cuda:0' if torch.cuda.is_available() else 'cpu')\n",
    "model.to(device)\n",
    "optimizer = optim.Adam(model.parameters(),lr = 0.01)\n",
    "#optimizer = optim.SGD(params=model.parameters(),lr=0.001,momentum=0.9)\n",
    "epochs = 300"
   ]
  },
  {
   "cell_type": "code",
   "execution_count": null,
   "metadata": {},
   "outputs": [],
   "source": [
    "model = GCN()\n",
    "device = torch.device('cuda:0' if torch.cuda.is_available() else 'cpu')\n",
    "model.to(device)\n",
    "optimizer = optim.Adam(model.parameters(),lr = 0.01)\n",
    "#optimizer = optim.SGD(params=model.parameters(),lr=0.001,momentum=0.9)\n",
    "epochs = 300"
   ]
  },
  {
   "cell_type": "code",
   "execution_count": null,
   "metadata": {},
   "outputs": [],
   "source": [
    "x = np.array([1,2,3,4,5,6])\n",
    "x_label = ['5','10','20','30','40','50']\n",
    "normal_Train_acc = [0.4089,0.3904,0.4532,0.4585,0.459,0.]\n",
    "normal_Test_acc = [0.2325,0.281,0.285,0.3005,0.302,0.]\n",
    "incpos_Train_acc = [0.4575,0.48,0.4853,0.4418,0.4774,0.]\n",
    "incpos_Test_acc = [0.2375,0.294,0.3035,0.34,0.3345,0.]\n",
    "std_Train_acc = [0.5268,0.5211,0.5501,0.5672,0.5776,0.5802]\n",
    "std_Test_acc = [0.2125,0.244,0.313,0.3255,0.364,0.3715]\n",
    "Train_data = [normal_Train_acc,incpos_Train_acc,std_Train_acc]\n",
    "Test_data = [normal_Test_acc,incpos_Test_acc,std_Test_acc]\n",
    "margin = 0.2\n",
    "totoal_width = 1 - margin\n",
    "\n",
    "for i,h in enumerate(Train_data):\n",
    "    pos = x - totoal_width *( 1- (2*i+1)/len(Train_data) )/2\n",
    "    plt.bar(pos, h, width = totoal_width/len(Train_data))\n",
    "plt.xticks(x,x_label)\n",
    "plt.title('Training acc')\n",
    "plt.show()"
   ]
  },
  {
   "cell_type": "code",
   "execution_count": null,
   "metadata": {},
   "outputs": [],
   "source": [
    "for i,h in enumerate(Train_data):\n",
    "    pos = x - totoal_width *( 1- (2*i+1)/len(Test_data) )/2\n",
    "    plt.bar(pos, h, width = totoal_width/len(Test_data))\n",
    "plt.xticks(x,x_label)\n",
    "plt.title('Test acc')\n",
    "plt.show()"
   ]
  },
  {
   "cell_type": "code",
   "execution_count": null,
   "metadata": {},
   "outputs": [],
   "source": [
    "torchmodel = GCN()\n",
    "device = torch.device('cuda:0' if torch.cuda.is_available() else 'cpu')\n",
    "torchmodel.to(device)\n",
    "optimizer = optim.Adam(torchmodel.parameters(),lr = 0.001)\n",
    "epochs = 15\n",
    "\n",
    "history = {'train_loss':[],'train_acc':[],'test_acc':[]}\n",
    "criterion = nn.CrossEntropyLoss()\n",
    "for e in range(epochs):\n",
    "    torchmodel.train()\n",
    "    loss = None\n",
    "\n",
    "    for i,(batched_graph, labels) in enumerate(traindataloader):\n",
    "        batched_graph = batched_graph.to(device)\n",
    "        labels = labels.to(device)\n",
    "        optimizer.zero_grad()\n",
    "        pred = torchmodel(batched_graph, batched_graph.ndata['feat value'].float())\n",
    "        loss = F.cross_entropy(pred,labels)\n",
    "        loss.backward()\n",
    "        optimizer.step()\n",
    "\n",
    "        #if (i+1) % 10 == 0:\n",
    "        #    print(f'Training log: {e+1} epoch ({(i+1)*200} / 10000 train. data). Loss: {loss.item()}')\n",
    "\n",
    "    history['train_loss'].append(loss.item())\n",
    "\n",
    "    torchmodel.eval()\n",
    "    correct = 0\n",
    "    with torch.no_grad():\n",
    "        for i,(batched_graph, labels) in enumerate(tqdm(traindataloader)):\n",
    "            batched_graph = batched_graph.to(device)\n",
    "            labels = labels.to(device)\n",
    "            pred = torchmodel(batched_graph, batched_graph.ndata['feat value'].float())\n",
    "            correct += (pred.argmax(1) == labels).sum().item()\n",
    "            num_tests += len(labels)\n",
    "\n",
    "    acc = float(correct/num_tests)\n",
    "    history['train_acc'].append(acc)\n",
    "\n",
    "    correct = 0\n",
    "    with torch.no_grad():\n",
    "        for i,(batched_graph, labels) in enumerate(tqdm(testdataloader)):\n",
    "            batched_graph = batched_graph.to(device)\n",
    "            labels = labels.to(device)\n",
    "            pred = torchmodel(batched_graph, batched_graph.ndata['feat value'].float())\n",
    "            correct += (pred.argmax(1) == labels).sum().item()\n",
    "            num_tests += len(labels)\n",
    "\n",
    "    acc = float(correct/num_tests)\n",
    "    history['test_acc'].append(acc)\n",
    "\n",
    "max_train_acc = max(history['train_acc'])\n",
    "min_train_loss = min(history['train_loss'])\n",
    "max_test_acc = max(history['test_acc'])\n",
    "\n",
    "print(f'Max train accuracy: {max_train_acc}')\n",
    "print(f'Min train loss: {min_train_loss}')\n",
    "print(f'Max test acc: {max_test_acc}')"
   ]
  }
 ],
 "metadata": {
  "kernelspec": {
   "display_name": "Python 3.8.12 ('GNN_DGL')",
   "language": "python",
   "name": "python3"
  },
  "language_info": {
   "codemirror_mode": {
    "name": "ipython",
    "version": 3
   },
   "file_extension": ".py",
   "mimetype": "text/x-python",
   "name": "python",
   "nbconvert_exporter": "python",
   "pygments_lexer": "ipython3",
   "version": "3.8.12"
  },
  "orig_nbformat": 4,
  "vscode": {
   "interpreter": {
    "hash": "75e17f8d3ee38eec6defc8bec53d4ec895188fbdc79a3238a84d9b54a33d5e0a"
   }
  }
 },
 "nbformat": 4,
 "nbformat_minor": 2
}
