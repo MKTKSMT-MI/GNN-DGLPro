{
 "cells": [
  {
   "cell_type": "code",
   "execution_count": 1,
   "metadata": {},
   "outputs": [],
   "source": [
    "import numpy as np\n",
    "import math\n",
    "import matplotlib.pyplot as plt\n",
    "import cv2\n",
    "import random"
   ]
  },
  {
   "cell_type": "code",
   "execution_count": 7,
   "metadata": {},
   "outputs": [],
   "source": [
    "#画像読み込み　α処理　グレースケール化\n",
    "img=cv2.imread('../images/r_002.png',-1)\n",
    "index=np.where(img[:,:,3]==0)\n",
    "img[index]=[255,255,255,255]\n",
    "img=cv2.cvtColor(img,cv2.COLOR_BGR2GRAY)\n"
   ]
  },
  {
   "cell_type": "code",
   "execution_count": 8,
   "metadata": {},
   "outputs": [],
   "source": [
    "#識別機作成　計算\n",
    "akaze=cv2.AKAZE_create()\n",
    "kp=akaze.detect(img,None)"
   ]
  },
  {
   "cell_type": "code",
   "execution_count": 10,
   "metadata": {},
   "outputs": [],
   "source": [
    "index_num=5\n",
    "dec=np.empty([len(kp)])\n",
    "for i in range(len(kp)):\n",
    "    dec[i]=kp[i].response\n",
    "dec_sort_index=np.argsort(dec)\n",
    "top_kp=[]\n",
    "for i in range(1,index_num+1):\n",
    "    top_kp.append(kp[dec_sort_index[-i]])"
   ]
  },
  {
   "cell_type": "code",
   "execution_count": 14,
   "metadata": {},
   "outputs": [
    {
     "name": "stdout",
     "output_type": "stream",
     "text": [
      "0.029232071712613106\n",
      "0.02819390408694744\n",
      "0.028117511421442032\n",
      "0.02559533901512623\n",
      "0.024623174220323563\n"
     ]
    }
   ],
   "source": [
    "for i in top_kp:\n",
    "    print(i.response)"
   ]
  },
  {
   "cell_type": "code",
   "execution_count": 11,
   "metadata": {},
   "outputs": [
    {
     "name": "stdout",
     "output_type": "stream",
     "text": [
      "[0.001168   0.00224162 0.00143831 0.00102556 0.00222503 0.00255379\n",
      " 0.00166494 0.00128691 0.00101023 0.00224409]\n"
     ]
    }
   ],
   "source": [
    "print(dec[:10])"
   ]
  },
  {
   "cell_type": "code",
   "execution_count": 2,
   "metadata": {},
   "outputs": [],
   "source": [
    "a=np.array([3,2,7,0,9,1,7,8,10])"
   ]
  },
  {
   "cell_type": "code",
   "execution_count": 3,
   "metadata": {},
   "outputs": [
    {
     "name": "stdout",
     "output_type": "stream",
     "text": [
      "[3 5 1 0 2 6 7 4 8]\n"
     ]
    }
   ],
   "source": [
    "a_up_arg=np.argsort(a)\n",
    "print(a_up_arg)"
   ]
  },
  {
   "cell_type": "code",
   "execution_count": 4,
   "metadata": {},
   "outputs": [
    {
     "name": "stdout",
     "output_type": "stream",
     "text": [
      "10\n",
      "9\n",
      "8\n",
      "7\n"
     ]
    }
   ],
   "source": [
    "for i in range(1,5):\n",
    "    print(a[a_up_arg[-i]])"
   ]
  }
 ],
 "metadata": {
  "kernelspec": {
   "display_name": "Python 3.8.10 ('DGL')",
   "language": "python",
   "name": "python3"
  },
  "language_info": {
   "codemirror_mode": {
    "name": "ipython",
    "version": 3
   },
   "file_extension": ".py",
   "mimetype": "text/x-python",
   "name": "python",
   "nbconvert_exporter": "python",
   "pygments_lexer": "ipython3",
   "version": "3.8.10"
  },
  "orig_nbformat": 4,
  "vscode": {
   "interpreter": {
    "hash": "2b3aaad6f4b476a25b1278d44df95c159668e2b4a4f54834857505f20d9767c1"
   }
  }
 },
 "nbformat": 4,
 "nbformat_minor": 2
}
