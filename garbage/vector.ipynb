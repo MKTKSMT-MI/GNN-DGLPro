{
 "cells": [
  {
   "cell_type": "code",
   "execution_count": 12,
   "metadata": {},
   "outputs": [],
   "source": [
    "import numpy as np\n",
    "import math\n",
    "import matplotlib.pyplot as plt\n",
    "import cv2\n",
    "import random"
   ]
  },
  {
   "cell_type": "code",
   "execution_count": 4,
   "metadata": {},
   "outputs": [],
   "source": [
    "#画像読み込み　α処理　グレースケール化\n",
    "img=cv2.imread('/home/makoto/Document/Anaconda/GNN-DGLPro/images/r_002.png',-1)\n",
    "index=np.where(img[:,:,3]==0)\n",
    "img[index]=[255,255,255,255]\n",
    "img=cv2.cvtColor(img,cv2.COLOR_BGR2GRAY)\n"
   ]
  },
  {
   "cell_type": "code",
   "execution_count": 5,
   "metadata": {},
   "outputs": [],
   "source": [
    "#識別機作成　計算\n",
    "akaze=cv2.AKAZE_create()\n",
    "kp=akaze.detect(img,None)"
   ]
  },
  {
   "cell_type": "code",
   "execution_count": 21,
   "metadata": {},
   "outputs": [
    {
     "ename": "TypeError",
     "evalue": "only integer scalar arrays can be converted to a scalar index",
     "output_type": "error",
     "traceback": [
      "\u001b[0;31m---------------------------------------------------------------------------\u001b[0m",
      "\u001b[0;31mTypeError\u001b[0m                                 Traceback (most recent call last)",
      "\u001b[1;32mセル4 を /home/makoto/Document/Anaconda/GNN-DGLPro/garbage/vector.ipynb\u001b[0m in \u001b[0;36m<cell line: 5>\u001b[0;34m()\u001b[0m\n\u001b[1;32m      <a href='vscode-notebook-cell://wsl%2Bubuntu-18.04/home/makoto/Document/Anaconda/GNN-DGLPro/garbage/vector.ipynb#W3sdnNjb2RlLXJlbW90ZQ%3D%3D?line=2'>3</a>\u001b[0m     dec[i]\u001b[39m=\u001b[39mkp[i]\u001b[39m.\u001b[39mresponse\n\u001b[1;32m      <a href='vscode-notebook-cell://wsl%2Bubuntu-18.04/home/makoto/Document/Anaconda/GNN-DGLPro/garbage/vector.ipynb#W3sdnNjb2RlLXJlbW90ZQ%3D%3D?line=3'>4</a>\u001b[0m dec_sort_index\u001b[39m=\u001b[39mnp\u001b[39m.\u001b[39margsort(dec)\n\u001b[0;32m----> <a href='vscode-notebook-cell://wsl%2Bubuntu-18.04/home/makoto/Document/Anaconda/GNN-DGLPro/garbage/vector.ipynb#W3sdnNjb2RlLXJlbW90ZQ%3D%3D?line=4'>5</a>\u001b[0m sort_kp\u001b[39m=\u001b[39mkp[dec_sort_index]\n",
      "\u001b[0;31mTypeError\u001b[0m: only integer scalar arrays can be converted to a scalar index"
     ]
    }
   ],
   "source": [
    "dec=np.empty([len(kp)])\n",
    "for i in range(len(kp)):\n",
    "    dec[i]=kp[i].response\n",
    "dec_sort_index=np.argsort(dec)\n",
    "sort_kp=kp[dec_sort_index]"
   ]
  },
  {
   "cell_type": "code",
   "execution_count": 11,
   "metadata": {},
   "outputs": [
    {
     "name": "stdout",
     "output_type": "stream",
     "text": [
      "[0.001168   0.00224162 0.00143831 0.00102556 0.00222503 0.00255379\n",
      " 0.00166494 0.00128691 0.00101023 0.00224409]\n"
     ]
    }
   ],
   "source": [
    "print(dec[:10])"
   ]
  },
  {
   "cell_type": "code",
   "execution_count": 14,
   "metadata": {},
   "outputs": [],
   "source": [
    "a=np.array([3,2,7,0,9,1,7,8,10])"
   ]
  },
  {
   "cell_type": "code",
   "execution_count": 15,
   "metadata": {},
   "outputs": [
    {
     "name": "stdout",
     "output_type": "stream",
     "text": [
      "[3 5 1 0 2 6 7 4 8]\n"
     ]
    }
   ],
   "source": [
    "a_up_arg=np.argsort(a)\n",
    "print(a_up_arg)"
   ]
  },
  {
   "cell_type": "code",
   "execution_count": 20,
   "metadata": {},
   "outputs": [
    {
     "name": "stdout",
     "output_type": "stream",
     "text": [
      "[ 0  1  2  3  7  7  8  9 10]\n"
     ]
    }
   ],
   "source": [
    "sort_a=a[np.argsort(a)]\n",
    "print(sort_a)"
   ]
  }
 ],
 "metadata": {
  "kernelspec": {
   "display_name": "Python 3.8.13 ('GDW')",
   "language": "python",
   "name": "python3"
  },
  "language_info": {
   "codemirror_mode": {
    "name": "ipython",
    "version": 3
   },
   "file_extension": ".py",
   "mimetype": "text/x-python",
   "name": "python",
   "nbconvert_exporter": "python",
   "pygments_lexer": "ipython3",
   "version": "3.8.13"
  },
  "orig_nbformat": 4,
  "vscode": {
   "interpreter": {
    "hash": "9512f24219e729098bc0f30caa9285407db90c80b780d5e3a7fd78ad6fa2427c"
   }
  }
 },
 "nbformat": 4,
 "nbformat_minor": 2
}
