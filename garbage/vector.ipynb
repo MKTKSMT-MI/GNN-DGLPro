{
 "cells": [
  {
   "cell_type": "code",
   "execution_count": 1,
   "metadata": {},
   "outputs": [],
   "source": [
    "import numpy as np\n",
    "import math\n",
    "import matplotlib.pyplot as plt\n",
    "import cv2\n",
    "import random\n",
    "import networkx\n",
    "\n",
    "%matplotlib inline"
   ]
  },
  {
   "cell_type": "code",
   "execution_count": 5,
   "metadata": {},
   "outputs": [],
   "source": [
    "#画像読み込み　α処理　グレースケール化\n",
    "img=cv2.imread('../images/r_2.png',-1)\n",
    "index=np.where(img[:,:,3]==0)\n",
    "img[index]=[255,255,255,255]\n",
    "rgbimg=img.copy()\n",
    "img=cv2.cvtColor(img,cv2.COLOR_BGR2GRAY)\n"
   ]
  },
  {
   "cell_type": "code",
   "execution_count": 6,
   "metadata": {},
   "outputs": [],
   "source": [
    "#識別機作成　計算\n",
    "akaze=cv2.AKAZE_create()\n",
    "kp,des=akaze.detectAndCompute(img,None)\n",
    "rgbkp,rgbdes=akaze.detectAndCompute(rgbimg,None)"
   ]
  },
  {
   "cell_type": "code",
   "execution_count": 7,
   "metadata": {},
   "outputs": [
    {
     "name": "stdout",
     "output_type": "stream",
     "text": [
      "2104\n",
      "2104\n"
     ]
    }
   ],
   "source": [
    "print(len(kp))\n",
    "print(len(rgbkp))"
   ]
  },
  {
   "cell_type": "code",
   "execution_count": 11,
   "metadata": {},
   "outputs": [],
   "source": [
    "#ノード数\n",
    "index_num=int(len(kp)*0.3)\n",
    "\n",
    "dec=np.empty([len(kp)])\n",
    "for i in range(len(kp)):\n",
    "    dec[i]=kp[i].response\n",
    "dec_sort_index=np.argsort(dec)\n",
    "#強度が大きい順にノード数分のキーポイントを格納\n",
    "top_des=[]\n",
    "for i in range(1,index_num+1):\n",
    "    top_des.append(des[dec_sort_index[-i]])\n",
    "top_des=np.array(top_des)\n",
    "    \n"
   ]
  },
  {
   "cell_type": "code",
   "execution_count": 13,
   "metadata": {},
   "outputs": [
    {
     "name": "stdout",
     "output_type": "stream",
     "text": [
      "<class 'numpy.ndarray'>\n",
      "(631, 61)\n"
     ]
    }
   ],
   "source": [
    "print(type(top_des))\n",
    "print(top_des.shape)"
   ]
  },
  {
   "cell_type": "code",
   "execution_count": null,
   "metadata": {},
   "outputs": [],
   "source": [
    "#フルキーポイントと上位複数のみの描画\n",
    "fullimg=cv2.drawKeypoints(img,kp,None,4)\n",
    "topimg=cv2.drawKeypoints(img,top_kp,None,4)\n",
    "\n",
    "\n",
    "plt.figure(figsize=(12*2,8*2))\n",
    "\n",
    "plt.subplot(131)\n",
    "plt.imshow(img,cmap='gray')\n",
    "plt.title('original')\n",
    "\n",
    "plt.subplot(132)\n",
    "plt.imshow(fullimg)\n",
    "plt.title('full')\n",
    "\n",
    "plt.subplot(133)\n",
    "plt.imshow(topimg)\n",
    "plt.title(f'top {index_num}')\n",
    "\n",
    "plt.show()"
   ]
  }
 ],
 "metadata": {
  "kernelspec": {
   "display_name": "Python 3.8.13 ('GDW')",
   "language": "python",
   "name": "python3"
  },
  "language_info": {
   "codemirror_mode": {
    "name": "ipython",
    "version": 3
   },
   "file_extension": ".py",
   "mimetype": "text/x-python",
   "name": "python",
   "nbconvert_exporter": "python",
   "pygments_lexer": "ipython3",
   "version": "3.8.13"
  },
  "orig_nbformat": 4,
  "vscode": {
   "interpreter": {
    "hash": "9512f24219e729098bc0f30caa9285407db90c80b780d5e3a7fd78ad6fa2427c"
   }
  }
 },
 "nbformat": 4,
 "nbformat_minor": 2
}
