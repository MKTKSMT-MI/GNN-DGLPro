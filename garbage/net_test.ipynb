{
 "cells": [
  {
   "attachments": {},
   "cell_type": "markdown",
   "metadata": {},
   "source": [
    "### 新データ等を使ってネットワークの書き方等をテストするファイル"
   ]
  },
  {
   "cell_type": "code",
   "execution_count": 1,
   "metadata": {},
   "outputs": [],
   "source": [
    "import dgl\n",
    "from dgl.data import DGLDataset\n",
    "import torch\n",
    "import torchvision\n",
    "import torchvision.transforms as transforms\n",
    "import torch.nn as nn\n",
    "import torch.nn.functional as F\n",
    "import dgl.data\n",
    "from dgl.nn import GraphConv,MaxPooling\n",
    "import matplotlib.pyplot as plt\n",
    "from tqdm import tqdm\n",
    "import torch.optim as optim\n",
    "import numpy as np\n",
    "import time\n",
    "from dgl.dataloading import GraphDataLoader\n",
    "from torch.utils.data.sampler import SubsetRandomSampler\n",
    "import os\n",
    "import yaml\n",
    "\n",
    "from torchviz import make_dot\n",
    "from IPython.display import display\n",
    "%matplotlib inline"
   ]
  },
  {
   "cell_type": "code",
   "execution_count": 2,
   "metadata": {},
   "outputs": [],
   "source": [
    "class STL10TrainDataset(DGLDataset):\n",
    "    def __init__(self,data_path,transforms=None):\n",
    "        self.data_path = data_path\n",
    "        self.transforms = transforms\n",
    "        super().__init__(name='stl10_train_gprah')\n",
    "    \n",
    "    def process(self):\n",
    "        GRAPHS, LABELS = dgl.load_graphs(self.data_path) #保存したグラーフデータの読み込み\n",
    "        self.graphs = GRAPHS #グラフリストを代入\n",
    "        self.labels = LABELS['label'] #ラベル辞書の値のみ代入\n",
    "        self.dim_nfeats=len(self.graphs[0].ndata['feat'][0])\n",
    "\n",
    "    def __getitem__(self, idx):\n",
    "        if self.transforms == None:\n",
    "            return self.graphs[idx], self.labels[idx]\n",
    "        else:\n",
    "            data=self.transforms(self.graphs[idx])\n",
    "            return data,self.labels[idx]\n",
    "    def __len__(self):\n",
    "        return len(self.graphs)\n",
    "\n",
    "\n",
    "class STL10TestDataset(DGLDataset):\n",
    "    def __init__(self,data_path,transforms=None):\n",
    "        self.data_path = data_path\n",
    "        self.transforms = transforms\n",
    "        super().__init__(name='stl10_test_gprah')\n",
    "    \n",
    "    def process(self):\n",
    "        GRAPHS, LABELS = dgl.load_graphs(self.data_path) #保存したグラーフデータの読み込み\n",
    "        self.graphs = GRAPHS #グラフリストを代入\n",
    "        self.labels = LABELS['label'] #ラベル辞書の値のみ代入\n",
    "        self.dim_nfeats=len(self.graphs[0].ndata['feat'][0])\n",
    "\n",
    "    def __getitem__(self, idx):\n",
    "        if self.transforms == None:\n",
    "            return self.graphs[idx], self.labels[idx]\n",
    "        else:\n",
    "            data=self.transforms(self.graphs[idx])\n",
    "            return data,self.labels[idx]\n",
    "        \n",
    "    def __len__(self):\n",
    "        return len(self.graphs)"
   ]
  },
  {
   "cell_type": "code",
   "execution_count": 3,
   "metadata": {},
   "outputs": [],
   "source": [
    "#transform = transforms.Compose([transforms.Normalize(0,1)])\n",
    "traindataset=STL10TrainDataset('../data/STL10 Datasets/train/nnum20_ndatapic9_enone_akaze.dgl')\n",
    "testdataset=STL10TestDataset('../data/STL10 Datasets/test/nnum20_ndatapic9_enone_akaze.dgl')"
   ]
  },
  {
   "cell_type": "code",
   "execution_count": 4,
   "metadata": {},
   "outputs": [
    {
     "name": "stdout",
     "output_type": "stream",
     "text": [
      "num_wokers = 0\n",
      "posix\n"
     ]
    }
   ],
   "source": [
    "if os.name =='posix':\n",
    "    num_workers = 2\n",
    "else:\n",
    "    num_workers = 0\n",
    "num_workers = 0\n",
    "traindataloader = GraphDataLoader(traindataset,batch_size = 50,shuffle = True,num_workers = num_workers,pin_memory = True)\n",
    "testdataloader = GraphDataLoader(testdataset,batch_size = 1000,shuffle = True,num_workers = num_workers,pin_memory = True)\n",
    "print(f'num_wokers = {num_workers}')\n",
    "print(os.name)"
   ]
  },
  {
   "cell_type": "code",
   "execution_count": 33,
   "metadata": {},
   "outputs": [
    {
     "name": "stdout",
     "output_type": "stream",
     "text": [
      "torch.Size([20, 9, 9])\n",
      "9\n",
      "tensor([[0.3918, 0.4027, 0.4130, 0.4230, 0.4337, 0.4461, 0.4604, 0.4755, 0.4891],\n",
      "        [0.3889, 0.3991, 0.4103, 0.4225, 0.4356, 0.4496, 0.4639, 0.4774, 0.4878],\n",
      "        [0.3873, 0.3962, 0.4074, 0.4204, 0.4347, 0.4496, 0.4641, 0.4768, 0.4856],\n",
      "        [0.3881, 0.3950, 0.4048, 0.4170, 0.4308, 0.4457, 0.4602, 0.4732, 0.4825],\n",
      "        [0.3918, 0.3962, 0.4031, 0.4125, 0.4243, 0.4379, 0.4525, 0.4668, 0.4786],\n",
      "        [0.3986, 0.4000, 0.4029, 0.4080, 0.4160, 0.4274, 0.4417, 0.4580, 0.4737],\n",
      "        [0.4084, 0.4066, 0.4047, 0.4043, 0.4074, 0.4156, 0.4291, 0.4475, 0.4676],\n",
      "        [0.4211, 0.4163, 0.4093, 0.4028, 0.4001, 0.4041, 0.4162, 0.4360, 0.4602],\n",
      "        [0.4363, 0.4288, 0.4168, 0.4042, 0.3954, 0.3947, 0.4044, 0.4247, 0.4517]])\n",
      "Graph(num_nodes=20, num_edges=380,\n",
      "      ndata_schemes={'feat': Scheme(shape=(9, 9), dtype=torch.float32)}\n",
      "      edata_schemes={})\n"
     ]
    }
   ],
   "source": [
    "print(traindataset[0][0].ndata['feat'].shape)\n",
    "print(traindataset.dim_nfeats)\n",
    "print(traindataset[0][0].ndata['feat'][0])\n",
    "print(testdataset[0][0])"
   ]
  },
  {
   "cell_type": "code",
   "execution_count": 12,
   "metadata": {},
   "outputs": [
    {
     "name": "stdout",
     "output_type": "stream",
     "text": [
      "torch.Size([9, 9])\n"
     ]
    }
   ],
   "source": [
    "for g,l in traindataloader:\n",
    "    print(g.ndata['feat'][0].shape)\n",
    "    break"
   ]
  },
  {
   "cell_type": "code",
   "execution_count": 13,
   "metadata": {},
   "outputs": [
    {
     "name": "stdout",
     "output_type": "stream",
     "text": [
      "tensor([[0.5372, 0.5377, 0.5382, 0.5390, 0.5401, 0.5418, 0.5442, 0.5470, 0.5499],\n",
      "        [0.5392, 0.5393, 0.5394, 0.5396, 0.5404, 0.5417, 0.5437, 0.5462, 0.5489],\n",
      "        [0.5411, 0.5409, 0.5407, 0.5406, 0.5410, 0.5420, 0.5436, 0.5457, 0.5481],\n",
      "        [0.5427, 0.5423, 0.5419, 0.5417, 0.5418, 0.5426, 0.5438, 0.5455, 0.5474],\n",
      "        [0.5437, 0.5433, 0.5429, 0.5427, 0.5428, 0.5434, 0.5443, 0.5455, 0.5468],\n",
      "        [0.5443, 0.5441, 0.5439, 0.5438, 0.5440, 0.5444, 0.5450, 0.5457, 0.5465],\n",
      "        [0.5448, 0.5447, 0.5448, 0.5450, 0.5454, 0.5457, 0.5461, 0.5464, 0.5466],\n",
      "        [0.5453, 0.5455, 0.5459, 0.5465, 0.5470, 0.5474, 0.5475, 0.5475, 0.5473],\n",
      "        [0.5460, 0.5465, 0.5473, 0.5481, 0.5488, 0.5493, 0.5493, 0.5490, 0.5485]])\n",
      "tensor([0.5372, 0.5377, 0.5382, 0.5390, 0.5401, 0.5418, 0.5442, 0.5470, 0.5499,\n",
      "        0.5392, 0.5393, 0.5394, 0.5396, 0.5404, 0.5417, 0.5437, 0.5462, 0.5489,\n",
      "        0.5411, 0.5409, 0.5407, 0.5406, 0.5410, 0.5420, 0.5436, 0.5457, 0.5481,\n",
      "        0.5427, 0.5423, 0.5419, 0.5417, 0.5418, 0.5426, 0.5438, 0.5455, 0.5474,\n",
      "        0.5437, 0.5433, 0.5429, 0.5427, 0.5428, 0.5434, 0.5443, 0.5455, 0.5468,\n",
      "        0.5443, 0.5441, 0.5439, 0.5438, 0.5440, 0.5444, 0.5450, 0.5457, 0.5465,\n",
      "        0.5448, 0.5447, 0.5448, 0.5450, 0.5454, 0.5457, 0.5461, 0.5464, 0.5466,\n",
      "        0.5453, 0.5455, 0.5459, 0.5465, 0.5470, 0.5474, 0.5475, 0.5475, 0.5473,\n",
      "        0.5460, 0.5465, 0.5473, 0.5481, 0.5488, 0.5493, 0.5493, 0.5490, 0.5485])\n"
     ]
    }
   ],
   "source": [
    "data=g.ndata['feat'][0]\n",
    "print(data)\n",
    "flat=data.reshape(81)\n",
    "print(flat)"
   ]
  },
  {
   "cell_type": "code",
   "execution_count": 9,
   "metadata": {},
   "outputs": [],
   "source": [
    "#従来の静的ネットワーク構築\n",
    "class GCN(nn.Module):\n",
    "    def __init__(self):\n",
    "        super(GCN,self).__init__()\n",
    "        self.conv1=GraphConv(81,40,weight=True)\n",
    "        self.conv2=GraphConv(40,10,weight=True)\n",
    "        self.flatt=nn.Flatten()\n",
    "\n",
    "    \n",
    "    def forward(self,g,n_feat,e_feat=None):\n",
    "        n_feat=self.flatt(n_feat)\n",
    "        h=self.conv1(g,n_feat,None,e_feat)\n",
    "        h=self.conv2(g,h,None,e_feat)\n",
    "        g.ndata['h'] = h\n",
    "\n",
    "        return dgl.mean_nodes(g,'h')\n",
    "    \n",
    "\n",
    "#新規の動的ネットワーク構築。設定はconfig.yamlに書かれている。テストコードはtest.ipynb\n",
    "class DynamicGCN(nn.Module):\n",
    "    def __init__(self,input_size,hidden_size,output_size):\n",
    "        super(DynamicGCN,self).__init__()\n",
    "        self.input_layer=GraphConv(input_size,hidden_size[0])\n",
    "        self.middle_layers=nn.ModuleList([GraphConv(hidden_size[i],hidden_size[i+1]) for i in range(len(hidden_size)-1)])\n",
    "        self.output_layer=GraphConv(hidden_size[-1],output_size)\n",
    "\n",
    "        self.flatt=nn.Flatten()\n",
    "\n",
    "    \n",
    "    def forward(self,g,n_feat,e_feat=None):\n",
    "        n_feat=self.flatt(n_feat)\n",
    "        h=self.input_layer(g,n_feat,None,e_feat).clamp(0)\n",
    "        for layer in self.middle_layers:\n",
    "            h=layer(g,h).clamp(0)\n",
    "        h=self.output_layer(g,h).clamp(0)\n",
    "        g.ndata['h'] = h\n",
    "\n",
    "        return dgl.mean_nodes(g,'h')\n"
   ]
  },
  {
   "cell_type": "code",
   "execution_count": 48,
   "metadata": {},
   "outputs": [],
   "source": [
    "model = GCN()\n",
    "device = torch.device('cuda:0' if torch.cuda.is_available() else 'cpu')\n",
    "model.to(device)\n",
    "optimizer = optim.Adam(model.parameters(),lr = 0.008)\n",
    "#optimizer = optim.SGD(params=model.parameters(),lr=0.03,momentum=0.9)\n",
    "epochs = 200"
   ]
  },
  {
   "cell_type": "code",
   "execution_count": 30,
   "metadata": {},
   "outputs": [],
   "source": [
    "save_train_acc = []\n",
    "save_test_acc = []"
   ]
  },
  {
   "cell_type": "code",
   "execution_count": 49,
   "metadata": {},
   "outputs": [
    {
     "name": "stderr",
     "output_type": "stream",
     "text": [
      "100%|██████████| 200/200 [00:04<00:00, 40.04it/s]\n"
     ]
    }
   ],
   "source": [
    "loss_list = []\n",
    "acc_list = []\n",
    "test_acc_list = []\n",
    "\n",
    "\n",
    "num_correct = 0\n",
    "num_tests = 0\n",
    "test_num_correct = 0\n",
    "test_num_tests = 0\n",
    "lossF = nn.CrossEntropyLoss()\n",
    "#,batched_graph.edata['distance'].float()\n",
    "BP = 0\n",
    "for epoch in tqdm(range(epochs)):\n",
    "    if BP != 0:\n",
    "        break\n",
    "    model.train()\n",
    "    for batched_graph, labels in traindataloader:\n",
    "        batched_graph = batched_graph.to(device)\n",
    "        labels = labels.to(device)\n",
    "        pred = model(batched_graph, batched_graph.ndata['feat'])\n",
    "        loss = lossF(pred,labels)\n",
    "        if loss.item() < 0.05:\n",
    "            BP = 0\n",
    "            break\n",
    "        optimizer.zero_grad()\n",
    "        loss.backward()\n",
    "        optimizer.step()\n",
    "        num_correct += (pred.argmax(1) == labels).sum().item()\n",
    "        num_tests += len(labels)\n",
    "    loss_list.append(loss.item())\n",
    "    acc_list.append(num_correct / num_tests) #学習中トレーニングacc\n",
    "    \n",
    "    model.eval()\n",
    "    for tbatched_graph, tlabels in testdataloader:\n",
    "        tbatched_graph = tbatched_graph.to(device)\n",
    "        tlabels = tlabels.to(device)\n",
    "        tpred = model(tbatched_graph, tbatched_graph.ndata['feat'])\n",
    "        test_num_correct += (tpred.argmax(1) == tlabels).sum().item()\n",
    "        test_num_tests += len(tlabels)\n",
    "\n",
    "    Tacc = test_num_correct / test_num_tests\n",
    "    #print('Training accuracy:', Tacc)\n",
    "    test_acc_list.append(Tacc) #学習中テストacc\n"
   ]
  },
  {
   "cell_type": "code",
   "execution_count": 50,
   "metadata": {},
   "outputs": [
    {
     "name": "stdout",
     "output_type": "stream",
     "text": [
      "Training accuracy: 0.1782178217821782\n",
      "Test accuracy: 0.0891089108910891\n"
     ]
    }
   ],
   "source": [
    "num_correct = 0\n",
    "num_tests = 0\n",
    "\n",
    "\n",
    "\n",
    "with torch.no_grad():\n",
    "    model.train()\n",
    "    for batched_graph, labels in traindataloader:\n",
    "        batched_graph = batched_graph.to(device)\n",
    "        labels = labels.to(device)\n",
    "        pred = model(batched_graph, batched_graph.ndata['feat'])\n",
    "        num_correct += (pred.argmax(1) == labels).sum().item()\n",
    "        num_tests += len(labels)\n",
    "    print('Training accuracy:', num_correct / num_tests)\n",
    "    save_train_acc.append(num_correct / num_tests)\n",
    "    num_correct = 0\n",
    "    num_tests = 0\n",
    "    model.eval()\n",
    "    for batched_graph, labels in testdataloader:\n",
    "        batched_graph = batched_graph.to(device)\n",
    "        labels = labels.to(device)\n",
    "        pred = model(batched_graph, batched_graph.ndata['feat'])\n",
    "        num_correct += (pred.argmax(1) == labels).sum().item()\n",
    "        num_tests += len(labels)\n",
    "    print('Test accuracy:', num_correct / num_tests)\n",
    "    save_test_acc.append(num_correct / num_tests)"
   ]
  },
  {
   "cell_type": "code",
   "execution_count": 51,
   "metadata": {},
   "outputs": [
    {
     "data": {
      "image/png": "[encoded data removed]",
      "text/plain": [
       "<Figure size 432x288 with 1 Axes>"
      ]
     },
     "metadata": {
      "needs_background": "light"
     },
     "output_type": "display_data"
    }
   ],
   "source": [
    "x=[i for i in range(len(acc_list))]\n",
    "y_train=acc_list\n",
    "y_test=test_acc_list\n",
    "plt.xlim(0,epochs)\n",
    "plt.plot(x,y_train)\n",
    "plt.plot(x,y_test)\n",
    "\n",
    "plt.show()"
   ]
  },
  {
   "attachments": {},
   "cell_type": "markdown",
   "metadata": {},
   "source": [
    "以下動的ネットワークによる学習  \n",
    "設定ファイル：config.yaml  \n",
    "ネットワーク名：DynamicGCN"
   ]
  },
  {
   "cell_type": "code",
   "execution_count": 17,
   "metadata": {},
   "outputs": [
    {
     "name": "stderr",
     "output_type": "stream",
     "text": [
      "100%|██████████| 100/100 [00:03<00:00, 31.79it/s]\n"
     ]
    },
    {
     "name": "stdout",
     "output_type": "stream",
     "text": [
      "Training accuracy: 0.13861386138613863\n",
      "Test accuracy: 0.12871287128712872\n"
     ]
    },
    {
     "name": "stderr",
     "output_type": "stream",
     "text": [
      "100%|██████████| 100/100 [00:03<00:00, 32.34it/s]"
     ]
    },
    {
     "name": "stdout",
     "output_type": "stream",
     "text": [
      "Training accuracy: 0.1188118811881188\n",
      "Test accuracy: 0.13861386138613863\n"
     ]
    },
    {
     "name": "stderr",
     "output_type": "stream",
     "text": [
      "\n"
     ]
    },
    {
     "ename": "",
     "evalue": "",
     "output_type": "error",
     "traceback": [
      "\u001b[1;31m現在のセルまたは前のセルでコードを実行中に、カーネルがクラッシュしました。エラーの原因を特定するには、セル内のコードを確認してください。詳細については、<a href='https://aka.ms/vscodeJupyterKernelCrash'>こちら</a> をクリックしてください。さらなる詳細については、Jupyter [log] (command:jupyter.viewOutput) を参照してください。"
     ]
    }
   ],
   "source": [
    "device = torch.device('cuda:0' if torch.cuda.is_available() else 'cpu')\n",
    "\n",
    "#設定ファイル読み込み\n",
    "with open('config.yaml','r') as f:\n",
    "    config=yaml.safe_load(f)\n",
    "\n",
    "#パラメータ設定\n",
    "lr=0.001\n",
    "epochs=100\n",
    "\n",
    "#モデルの学習\n",
    "for model_name, model_config in config.items():\n",
    "    #結果を保存するディレクトリを作成\n",
    "    save_dir=f'save/{model_name}'\n",
    "    os.makedirs(save_dir,exist_ok=True)\n",
    "\n",
    "\n",
    "    #モデルの初期化\n",
    "    model=DynamicGCN(model_config['input_size'],model_config['hidden_size'],model_config['output_size'])\n",
    "    model.to(device)\n",
    "    lossF=nn.CrossEntropyLoss()\n",
    "    optimizer=optim.Adam(model.parameters(),lr=lr)\n",
    "\n",
    "    #情報保存用の変数の初期化\n",
    "    #トレーニング用\n",
    "    num_correct=0\n",
    "    num_tests=0\n",
    "    train_loss_list = []\n",
    "    train_acc_list = []\n",
    "    #テスト用\n",
    "    test_num_correct = 0\n",
    "    test_num_tests = 0\n",
    "    test_acc_list = []\n",
    "\n",
    "    for epoch in tqdm(range(epochs)):\n",
    "        #トレーニング\n",
    "        model.train()\n",
    "        for batched_grapg, labels in traindataloader:\n",
    "            batched_grapg = batched_grapg.to(device)\n",
    "            labels = labels.to(device)\n",
    "            pred = model(batched_grapg,batched_grapg.ndata['feat'])\n",
    "            loss=lossF(pred,labels)\n",
    "\n",
    "            optimizer.zero_grad()\n",
    "            loss.backward()\n",
    "            optimizer.step()\n",
    "\n",
    "            num_correct += (pred.argmax(1) == labels).sum().item()\n",
    "            num_tests += len(labels)\n",
    "        train_loss_list.append(loss.item())\n",
    "        train_acc_list.append(num_correct / num_tests)\n",
    "        #カウントリセット\n",
    "        num_correct=num_tests=0\n",
    "\n",
    "        #テスト\n",
    "        model.eval()\n",
    "        for tbatched_graph, tlabels in testdataloader:\n",
    "            tbatched_graph = tbatched_graph.to(device)\n",
    "            tlabels = tlabels.to(device)\n",
    "            tpred = model(tbatched_graph, tbatched_graph.ndata['feat'])\n",
    "            test_num_correct += (tpred.argmax(1) == tlabels).sum().item()\n",
    "            test_num_tests += len(tlabels)\n",
    "\n",
    "        test_acc_list.append(test_num_correct/test_num_tests)\n",
    "        #カウントリセット\n",
    "        test_num_correct=test_num_tests=0\n",
    "\n",
    "    #完全学習後の正答率の計算(推論)\n",
    "    with torch.no_grad():\n",
    "        #情報保存用の変数の初期化\n",
    "        #トレーニング用\n",
    "        num_correct=0\n",
    "        num_tests=0\n",
    "        save_train_acc=0\n",
    "        #テスト用\n",
    "        test_num_correct = 0\n",
    "        test_num_tests = 0\n",
    "        save_test_acc=0\n",
    "\n",
    "        #全トレーニングデータでの正答率計算\n",
    "        model.train()\n",
    "        for batched_graph, labels in traindataloader:\n",
    "            batched_graph = batched_graph.to(device)\n",
    "            labels = labels.to(device)\n",
    "            pred = model(batched_graph, batched_graph.ndata['feat'])\n",
    "            num_correct += (pred.argmax(1) == labels).sum().item()\n",
    "            num_tests += len(labels)\n",
    "        print('Training accuracy:', num_correct / num_tests)\n",
    "        save_train_acc=(num_correct / num_tests)\n",
    "\n",
    "        #全テストデータでの正答率\n",
    "        model.eval()\n",
    "        for batched_graph, labels in testdataloader:\n",
    "            batched_graph = batched_graph.to(device)\n",
    "            labels = labels.to(device)\n",
    "            pred = model(batched_graph, batched_graph.ndata['feat'])\n",
    "            test_num_correct += (pred.argmax(1) == labels).sum().item()\n",
    "            test_num_tests += len(labels)\n",
    "        print('Test accuracy:', test_num_correct / test_num_tests)\n",
    "        save_test_acc=(test_num_correct / test_num_tests)\n",
    "\n",
    "    #各エポックごとの損失・正答率の記録をモデルごとに.npy形式で保存\n",
    "    np.save(f'{save_dir}/train_loss_list',train_loss_list)\n",
    "    np.save(f'{save_dir}/train_acc_list',train_acc_list)\n",
    "    np.save(f'{save_dir}/test_acc_list',test_acc_list)\n",
    "    #完全学習後のトレーニング・テストデータそれぞれの正答率を.yaml形式で保存\n",
    "    log={'train acc':save_train_acc,\n",
    "         'test acc':save_test_acc}\n",
    "    with open(f'{save_dir}/acc_result.yaml',\"w\") as f:\n",
    "        yaml.dump(log,f)"
   ]
  },
  {
   "cell_type": "code",
   "execution_count": 15,
   "metadata": {},
   "outputs": [],
   "source": [
    "save_dir=f'save/{model_name}'\n",
    "os.makedirs(save_dir,exist_ok=True)"
   ]
  }
 ],
 "metadata": {
  "kernelspec": {
   "display_name": "GDW",
   "language": "python",
   "name": "python3"
  },
  "language_info": {
   "codemirror_mode": {
    "name": "ipython",
    "version": 3
   },
   "file_extension": ".py",
   "mimetype": "text/x-python",
   "name": "python",
   "nbconvert_exporter": "python",
   "pygments_lexer": "ipython3",
   "version": "3.8.13"
  },
  "orig_nbformat": 4
 },
 "nbformat": 4,
 "nbformat_minor": 2
}
